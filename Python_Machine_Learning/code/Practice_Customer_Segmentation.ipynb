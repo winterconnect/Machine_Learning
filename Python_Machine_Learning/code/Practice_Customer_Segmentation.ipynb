{
  "nbformat": 4,
  "nbformat_minor": 0,
  "metadata": {
    "colab": {
      "name": "Practice_Customer_Segmentation.ipynb",
      "provenance": [],
      "collapsed_sections": []
    },
    "kernelspec": {
      "name": "python3",
      "display_name": "Python 3"
    }
  },
  "cells": [
    {
      "cell_type": "code",
      "metadata": {
        "id": "-F5hMDeeqERt"
      },
      "source": [
        "import warnings\n",
        "warnings.filterwarnings('ignore')"
      ],
      "execution_count": 1,
      "outputs": []
    },
    {
      "cell_type": "code",
      "metadata": {
        "id": "x7iLGIOeqLZS"
      },
      "source": [
        "# import packages\n",
        "\n",
        "import matplotlib.pyplot as plt\n",
        "import numpy as np\n",
        "import pandas as pd\n",
        "import datetime as dt"
      ],
      "execution_count": 22,
      "outputs": []
    },
    {
      "cell_type": "code",
      "metadata": {
        "id": "FYuHG4DOu5ZQ"
      },
      "source": [
        "from sklearn.preprocessing import StandardScaler\n",
        "\n",
        "from sklearn.cluster import KMeans, MeanShift, estimate_bandwidth, DBSCAN\n",
        "from sklearn.mixture import GaussianMixture\n",
        "from sklearn.metrics import silhouette_samples, silhouette_score"
      ],
      "execution_count": 34,
      "outputs": []
    },
    {
      "cell_type": "markdown",
      "metadata": {
        "id": "EvNvuFfuqYuw"
      },
      "source": [
        "- Google Drive Mount"
      ]
    },
    {
      "cell_type": "code",
      "metadata": {
        "colab": {
          "base_uri": "https://localhost:8080/"
        },
        "id": "3FOCKXwvqgYy",
        "outputId": "3e205c46-2b0c-4174-f363-a2ee41cff2d2"
      },
      "source": [
        "from google.colab import drive\n",
        "\n",
        "drive.mount('/content/drive')"
      ],
      "execution_count": 4,
      "outputs": [
        {
          "output_type": "stream",
          "text": [
            "Mounted at /content/drive\n"
          ],
          "name": "stdout"
        }
      ]
    },
    {
      "cell_type": "code",
      "metadata": {
        "colab": {
          "base_uri": "https://localhost:8080/"
        },
        "id": "Q-1cYTJBqX9m",
        "outputId": "a727a585-439d-4304-b5a5-350983a42d3e"
      },
      "source": [
        "!ls -l '/content/drive/My Drive/Colab Notebooks/datasets/Online_Retail.xlsx'"
      ],
      "execution_count": 5,
      "outputs": [
        {
          "output_type": "stream",
          "text": [
            "-rw------- 1 root root 23715344 Mar  7 07:08 '/content/drive/My Drive/Colab Notebooks/datasets/Online_Retail.xlsx'\n"
          ],
          "name": "stdout"
        }
      ]
    },
    {
      "cell_type": "code",
      "metadata": {
        "id": "PF1hwdvYrlVY"
      },
      "source": [
        "DF = pd.read_excel('/content/drive/My Drive/Colab Notebooks/datasets/Online_Retail.xlsx')"
      ],
      "execution_count": 6,
      "outputs": []
    },
    {
      "cell_type": "markdown",
      "metadata": {
        "id": "rBDKMlxbpx8J"
      },
      "source": [
        "##1. 탐색적데이터분석"
      ]
    },
    {
      "cell_type": "markdown",
      "metadata": {
        "id": "wTG-_PVZtGpg"
      },
      "source": [
        "- InvoiceNo: 주문번호, 'C' 시작은 주문취소\n",
        "- StockCode: 제품코드(Item Code)\n",
        "- Description: 제품설명\n",
        "- Quantity: 주문건수\n",
        "- InvoiceDate: 주문날짜\n",
        "- UnitPrice: 제품단가\n",
        "- CustomerID: 고객번호\n",
        "- Country: 국가명(주문 고객 국적)"
      ]
    },
    {
      "cell_type": "code",
      "metadata": {
        "colab": {
          "base_uri": "https://localhost:8080/"
        },
        "id": "qOwrpsbTrs4c",
        "outputId": "4d374363-b8c2-49de-a168-592738f40d18"
      },
      "source": [
        "DF.info()"
      ],
      "execution_count": 7,
      "outputs": [
        {
          "output_type": "stream",
          "text": [
            "<class 'pandas.core.frame.DataFrame'>\n",
            "RangeIndex: 541909 entries, 0 to 541908\n",
            "Data columns (total 8 columns):\n",
            " #   Column       Non-Null Count   Dtype         \n",
            "---  ------       --------------   -----         \n",
            " 0   InvoiceNo    541909 non-null  object        \n",
            " 1   StockCode    541909 non-null  object        \n",
            " 2   Description  540455 non-null  object        \n",
            " 3   Quantity     541909 non-null  int64         \n",
            " 4   InvoiceDate  541909 non-null  datetime64[ns]\n",
            " 5   UnitPrice    541909 non-null  float64       \n",
            " 6   CustomerID   406829 non-null  float64       \n",
            " 7   Country      541909 non-null  object        \n",
            "dtypes: datetime64[ns](1), float64(2), int64(1), object(4)\n",
            "memory usage: 33.1+ MB\n"
          ],
          "name": "stdout"
        }
      ]
    },
    {
      "cell_type": "code",
      "metadata": {
        "colab": {
          "base_uri": "https://localhost:8080/",
          "height": 340
        },
        "id": "IejWUwRgtOlT",
        "outputId": "01cdc532-3cff-4f3a-eeb3-ea748700dfd9"
      },
      "source": [
        "DF.head()"
      ],
      "execution_count": 23,
      "outputs": [
        {
          "output_type": "execute_result",
          "data": {
            "text/html": [
              "<div>\n",
              "<style scoped>\n",
              "    .dataframe tbody tr th:only-of-type {\n",
              "        vertical-align: middle;\n",
              "    }\n",
              "\n",
              "    .dataframe tbody tr th {\n",
              "        vertical-align: top;\n",
              "    }\n",
              "\n",
              "    .dataframe thead th {\n",
              "        text-align: right;\n",
              "    }\n",
              "</style>\n",
              "<table border=\"1\" class=\"dataframe\">\n",
              "  <thead>\n",
              "    <tr style=\"text-align: right;\">\n",
              "      <th></th>\n",
              "      <th>InvoiceNo</th>\n",
              "      <th>StockCode</th>\n",
              "      <th>Description</th>\n",
              "      <th>Quantity</th>\n",
              "      <th>InvoiceDate</th>\n",
              "      <th>UnitPrice</th>\n",
              "      <th>CustomerID</th>\n",
              "      <th>Country</th>\n",
              "    </tr>\n",
              "  </thead>\n",
              "  <tbody>\n",
              "    <tr>\n",
              "      <th>0</th>\n",
              "      <td>536365</td>\n",
              "      <td>85123A</td>\n",
              "      <td>WHITE HANGING HEART T-LIGHT HOLDER</td>\n",
              "      <td>6</td>\n",
              "      <td>2010-12-01 08:26:00</td>\n",
              "      <td>2.55</td>\n",
              "      <td>17850.0</td>\n",
              "      <td>United Kingdom</td>\n",
              "    </tr>\n",
              "    <tr>\n",
              "      <th>1</th>\n",
              "      <td>536365</td>\n",
              "      <td>71053</td>\n",
              "      <td>WHITE METAL LANTERN</td>\n",
              "      <td>6</td>\n",
              "      <td>2010-12-01 08:26:00</td>\n",
              "      <td>3.39</td>\n",
              "      <td>17850.0</td>\n",
              "      <td>United Kingdom</td>\n",
              "    </tr>\n",
              "    <tr>\n",
              "      <th>2</th>\n",
              "      <td>536365</td>\n",
              "      <td>84406B</td>\n",
              "      <td>CREAM CUPID HEARTS COAT HANGER</td>\n",
              "      <td>8</td>\n",
              "      <td>2010-12-01 08:26:00</td>\n",
              "      <td>2.75</td>\n",
              "      <td>17850.0</td>\n",
              "      <td>United Kingdom</td>\n",
              "    </tr>\n",
              "    <tr>\n",
              "      <th>3</th>\n",
              "      <td>536365</td>\n",
              "      <td>84029G</td>\n",
              "      <td>KNITTED UNION FLAG HOT WATER BOTTLE</td>\n",
              "      <td>6</td>\n",
              "      <td>2010-12-01 08:26:00</td>\n",
              "      <td>3.39</td>\n",
              "      <td>17850.0</td>\n",
              "      <td>United Kingdom</td>\n",
              "    </tr>\n",
              "    <tr>\n",
              "      <th>4</th>\n",
              "      <td>536365</td>\n",
              "      <td>84029E</td>\n",
              "      <td>RED WOOLLY HOTTIE WHITE HEART.</td>\n",
              "      <td>6</td>\n",
              "      <td>2010-12-01 08:26:00</td>\n",
              "      <td>3.39</td>\n",
              "      <td>17850.0</td>\n",
              "      <td>United Kingdom</td>\n",
              "    </tr>\n",
              "  </tbody>\n",
              "</table>\n",
              "</div>"
            ],
            "text/plain": [
              "  InvoiceNo StockCode  ... CustomerID         Country\n",
              "0    536365    85123A  ...    17850.0  United Kingdom\n",
              "1    536365     71053  ...    17850.0  United Kingdom\n",
              "2    536365    84406B  ...    17850.0  United Kingdom\n",
              "3    536365    84029G  ...    17850.0  United Kingdom\n",
              "4    536365    84029E  ...    17850.0  United Kingdom\n",
              "\n",
              "[5 rows x 8 columns]"
            ]
          },
          "metadata": {
            "tags": []
          },
          "execution_count": 23
        }
      ]
    },
    {
      "cell_type": "markdown",
      "metadata": {
        "id": "ghofYWAEts1q"
      },
      "source": [
        "### 1) 결측치 제거\n",
        "- 'Quantity', 'UnitPrice', 'CustomerID'"
      ]
    },
    {
      "cell_type": "code",
      "metadata": {
        "colab": {
          "base_uri": "https://localhost:8080/"
        },
        "id": "ZVgbeyc2tyCh",
        "outputId": "ec494307-1773-41ea-9258-f04068692dda"
      },
      "source": [
        "DF = DF[DF['Quantity'] > 0]\n",
        "DF = DF[DF['UnitPrice'] > 0]\n",
        "DF = DF[DF['CustomerID'].notnull()]\n",
        "\n",
        "DF.shape"
      ],
      "execution_count": 8,
      "outputs": [
        {
          "output_type": "execute_result",
          "data": {
            "text/plain": [
              "(397884, 8)"
            ]
          },
          "metadata": {
            "tags": []
          },
          "execution_count": 8
        }
      ]
    },
    {
      "cell_type": "code",
      "metadata": {
        "colab": {
          "base_uri": "https://localhost:8080/"
        },
        "id": "Rt1Ezp-MuBax",
        "outputId": "e58fbfe2-43b7-438b-c840-2e058753af23"
      },
      "source": [
        "DF.isnull().sum(axis = 0)"
      ],
      "execution_count": 9,
      "outputs": [
        {
          "output_type": "execute_result",
          "data": {
            "text/plain": [
              "InvoiceNo      0\n",
              "StockCode      0\n",
              "Description    0\n",
              "Quantity       0\n",
              "InvoiceDate    0\n",
              "UnitPrice      0\n",
              "CustomerID     0\n",
              "Country        0\n",
              "dtype: int64"
            ]
          },
          "metadata": {
            "tags": []
          },
          "execution_count": 9
        }
      ]
    },
    {
      "cell_type": "markdown",
      "metadata": {
        "id": "X819pTNmuJse"
      },
      "source": [
        "### 2) 'United Kingdom'만 사용\n",
        "- 대부분의 구매자가 영국 국적"
      ]
    },
    {
      "cell_type": "code",
      "metadata": {
        "colab": {
          "base_uri": "https://localhost:8080/"
        },
        "id": "f1SK78HluPXz",
        "outputId": "51798634-ed15-468f-96c6-44a0b2e48c8e"
      },
      "source": [
        "DF['Country'].value_counts()[:10]"
      ],
      "execution_count": 10,
      "outputs": [
        {
          "output_type": "execute_result",
          "data": {
            "text/plain": [
              "United Kingdom    354321\n",
              "Germany             9040\n",
              "France              8341\n",
              "EIRE                7236\n",
              "Spain               2484\n",
              "Netherlands         2359\n",
              "Belgium             2031\n",
              "Switzerland         1841\n",
              "Portugal            1462\n",
              "Australia           1182\n",
              "Name: Country, dtype: int64"
            ]
          },
          "metadata": {
            "tags": []
          },
          "execution_count": 10
        }
      ]
    },
    {
      "cell_type": "markdown",
      "metadata": {
        "id": "XW9tk9cVuVv6"
      },
      "source": [
        "- 영국 데이터만 추출"
      ]
    },
    {
      "cell_type": "code",
      "metadata": {
        "colab": {
          "base_uri": "https://localhost:8080/"
        },
        "id": "_p3JvCqkuUZ6",
        "outputId": "8a38c2ab-a9a3-426e-d4f2-d07e6e86b162"
      },
      "source": [
        "DF = DF[DF['Country'] == 'United Kingdom']\n",
        "\n",
        "DF.shape"
      ],
      "execution_count": 11,
      "outputs": [
        {
          "output_type": "execute_result",
          "data": {
            "text/plain": [
              "(354321, 8)"
            ]
          },
          "metadata": {
            "tags": []
          },
          "execution_count": 11
        }
      ]
    },
    {
      "cell_type": "markdown",
      "metadata": {
        "id": "YR_Hs9-AI58B"
      },
      "source": [
        "## 3. RFM 기반 Data Reengineering\n",
        "- Recency: 가장 최근 상품 구매일에서 오늘까지 기간\n",
        "- Frequency: 상품 구매 횟수\n",
        "- Monetary Value: 총 구매 금액"
      ]
    },
    {
      "cell_type": "markdown",
      "metadata": {
        "id": "nYy1Pu-UJGBx"
      },
      "source": [
        "### 1) 'sale_amount' 추가\n",
        "- '주문금액' = '주문개수' * '제품가격'"
      ]
    },
    {
      "cell_type": "code",
      "metadata": {
        "id": "jb2xyblVJLam"
      },
      "source": [
        "DF['sale_amount'] = DF['Quantity'] * DF['UnitPrice']"
      ],
      "execution_count": 12,
      "outputs": []
    },
    {
      "cell_type": "code",
      "metadata": {
        "colab": {
          "base_uri": "https://localhost:8080/",
          "height": 496
        },
        "id": "Q7GAgMFUJE-E",
        "outputId": "737ee147-0b61-4649-f026-cfb88ff8aaa4"
      },
      "source": [
        "DF.head()"
      ],
      "execution_count": 13,
      "outputs": [
        {
          "output_type": "execute_result",
          "data": {
            "text/html": [
              "<div>\n",
              "<style scoped>\n",
              "    .dataframe tbody tr th:only-of-type {\n",
              "        vertical-align: middle;\n",
              "    }\n",
              "\n",
              "    .dataframe tbody tr th {\n",
              "        vertical-align: top;\n",
              "    }\n",
              "\n",
              "    .dataframe thead th {\n",
              "        text-align: right;\n",
              "    }\n",
              "</style>\n",
              "<table border=\"1\" class=\"dataframe\">\n",
              "  <thead>\n",
              "    <tr style=\"text-align: right;\">\n",
              "      <th></th>\n",
              "      <th>InvoiceNo</th>\n",
              "      <th>StockCode</th>\n",
              "      <th>Description</th>\n",
              "      <th>Quantity</th>\n",
              "      <th>InvoiceDate</th>\n",
              "      <th>UnitPrice</th>\n",
              "      <th>CustomerID</th>\n",
              "      <th>Country</th>\n",
              "      <th>sale_amount</th>\n",
              "    </tr>\n",
              "  </thead>\n",
              "  <tbody>\n",
              "    <tr>\n",
              "      <th>0</th>\n",
              "      <td>536365</td>\n",
              "      <td>85123A</td>\n",
              "      <td>WHITE HANGING HEART T-LIGHT HOLDER</td>\n",
              "      <td>6</td>\n",
              "      <td>2010-12-01 08:26:00</td>\n",
              "      <td>2.55</td>\n",
              "      <td>17850.0</td>\n",
              "      <td>United Kingdom</td>\n",
              "      <td>15.30</td>\n",
              "    </tr>\n",
              "    <tr>\n",
              "      <th>1</th>\n",
              "      <td>536365</td>\n",
              "      <td>71053</td>\n",
              "      <td>WHITE METAL LANTERN</td>\n",
              "      <td>6</td>\n",
              "      <td>2010-12-01 08:26:00</td>\n",
              "      <td>3.39</td>\n",
              "      <td>17850.0</td>\n",
              "      <td>United Kingdom</td>\n",
              "      <td>20.34</td>\n",
              "    </tr>\n",
              "    <tr>\n",
              "      <th>2</th>\n",
              "      <td>536365</td>\n",
              "      <td>84406B</td>\n",
              "      <td>CREAM CUPID HEARTS COAT HANGER</td>\n",
              "      <td>8</td>\n",
              "      <td>2010-12-01 08:26:00</td>\n",
              "      <td>2.75</td>\n",
              "      <td>17850.0</td>\n",
              "      <td>United Kingdom</td>\n",
              "      <td>22.00</td>\n",
              "    </tr>\n",
              "    <tr>\n",
              "      <th>3</th>\n",
              "      <td>536365</td>\n",
              "      <td>84029G</td>\n",
              "      <td>KNITTED UNION FLAG HOT WATER BOTTLE</td>\n",
              "      <td>6</td>\n",
              "      <td>2010-12-01 08:26:00</td>\n",
              "      <td>3.39</td>\n",
              "      <td>17850.0</td>\n",
              "      <td>United Kingdom</td>\n",
              "      <td>20.34</td>\n",
              "    </tr>\n",
              "    <tr>\n",
              "      <th>4</th>\n",
              "      <td>536365</td>\n",
              "      <td>84029E</td>\n",
              "      <td>RED WOOLLY HOTTIE WHITE HEART.</td>\n",
              "      <td>6</td>\n",
              "      <td>2010-12-01 08:26:00</td>\n",
              "      <td>3.39</td>\n",
              "      <td>17850.0</td>\n",
              "      <td>United Kingdom</td>\n",
              "      <td>20.34</td>\n",
              "    </tr>\n",
              "  </tbody>\n",
              "</table>\n",
              "</div>"
            ],
            "text/plain": [
              "  InvoiceNo StockCode  ...         Country  sale_amount\n",
              "0    536365    85123A  ...  United Kingdom        15.30\n",
              "1    536365     71053  ...  United Kingdom        20.34\n",
              "2    536365    84406B  ...  United Kingdom        22.00\n",
              "3    536365    84029G  ...  United Kingdom        20.34\n",
              "4    536365    84029E  ...  United Kingdom        20.34\n",
              "\n",
              "[5 rows x 9 columns]"
            ]
          },
          "metadata": {
            "tags": []
          },
          "execution_count": 13
        }
      ]
    },
    {
      "cell_type": "markdown",
      "metadata": {
        "id": "R57DDuXxJUJ_"
      },
      "source": [
        "- 'CustomerID' 정수변환"
      ]
    },
    {
      "cell_type": "code",
      "metadata": {
        "id": "V5ZXK_ggJXYG"
      },
      "source": [
        "DF['CustomerID'] = DF['CustomerID'].astype(int)"
      ],
      "execution_count": 14,
      "outputs": []
    },
    {
      "cell_type": "markdown",
      "metadata": {
        "id": "ZziSU-nLJdwX"
      },
      "source": [
        "### 2) 주문특성 확인\n",
        "- Top-5 주문건수 'CustomerID'"
      ]
    },
    {
      "cell_type": "code",
      "metadata": {
        "colab": {
          "base_uri": "https://localhost:8080/"
        },
        "id": "LRMXP59SJi23",
        "outputId": "bcc1e32f-4cf1-4196-a881-292609602495"
      },
      "source": [
        "DF['CustomerID'].value_counts().head()"
      ],
      "execution_count": 15,
      "outputs": [
        {
          "output_type": "execute_result",
          "data": {
            "text/plain": [
              "17841    7847\n",
              "14096    5111\n",
              "12748    4595\n",
              "14606    2700\n",
              "15311    2379\n",
              "Name: CustomerID, dtype: int64"
            ]
          },
          "metadata": {
            "tags": []
          },
          "execution_count": 15
        }
      ]
    },
    {
      "cell_type": "markdown",
      "metadata": {
        "id": "JC7WOgmyJqNw"
      },
      "source": [
        "- Top-5 주문금액 'CustomerID'"
      ]
    },
    {
      "cell_type": "code",
      "metadata": {
        "colab": {
          "base_uri": "https://localhost:8080/"
        },
        "id": "ZsXOjlbCJuMk",
        "outputId": "1c038332-5216-405b-cbb7-be3137a94be9"
      },
      "source": [
        "DF.groupby('CustomerID')['sale_amount'].sum().sort_values(ascending = False)[:10]"
      ],
      "execution_count": 16,
      "outputs": [
        {
          "output_type": "execute_result",
          "data": {
            "text/plain": [
              "CustomerID\n",
              "18102    259657.30\n",
              "17450    194550.79\n",
              "16446    168472.50\n",
              "17511     91062.38\n",
              "16029     81024.84\n",
              "12346     77183.60\n",
              "16684     66653.56\n",
              "14096     65164.79\n",
              "13694     65039.62\n",
              "15311     60767.90\n",
              "Name: sale_amount, dtype: float64"
            ]
          },
          "metadata": {
            "tags": []
          },
          "execution_count": 16
        }
      ]
    },
    {
      "cell_type": "markdown",
      "metadata": {
        "id": "JfsVk8gTKHbq"
      },
      "source": [
        "- 몇몇 특정 고객이 많은 '주문건수'와 '주문금액'을 가지고 있음"
      ]
    },
    {
      "cell_type": "markdown",
      "metadata": {
        "id": "KsNu3MJmKK4C"
      },
      "source": [
        "### 3) 'CustomerID' 기준으로 DataFrame 재구성\n",
        "- Recency: 'InvoiceDate'의 max()\n",
        "- Frequency: 'InvoiceNo'의 count()\n",
        "- Monetary Value: 'sale_amount'의 sum()"
      ]
    },
    {
      "cell_type": "code",
      "metadata": {
        "id": "Q3nNnZqRKZao"
      },
      "source": [
        "aggregation = {'InvoiceDate' : 'max' ,\n",
        "               'InvoiceNo' : 'count' ,\n",
        "               'sale_amount' : 'sum'}\n",
        "\n",
        "DF_CID = DF.groupby('CustomerID').agg(aggregation)"
      ],
      "execution_count": 17,
      "outputs": []
    },
    {
      "cell_type": "code",
      "metadata": {
        "colab": {
          "base_uri": "https://localhost:8080/",
          "height": 235
        },
        "id": "meyrGvd6Kq2R",
        "outputId": "48b98f8d-12d4-4063-e6ad-5b2662870805"
      },
      "source": [
        "DF_CID.head()"
      ],
      "execution_count": 18,
      "outputs": [
        {
          "output_type": "execute_result",
          "data": {
            "text/html": [
              "<div>\n",
              "<style scoped>\n",
              "    .dataframe tbody tr th:only-of-type {\n",
              "        vertical-align: middle;\n",
              "    }\n",
              "\n",
              "    .dataframe tbody tr th {\n",
              "        vertical-align: top;\n",
              "    }\n",
              "\n",
              "    .dataframe thead th {\n",
              "        text-align: right;\n",
              "    }\n",
              "</style>\n",
              "<table border=\"1\" class=\"dataframe\">\n",
              "  <thead>\n",
              "    <tr style=\"text-align: right;\">\n",
              "      <th></th>\n",
              "      <th>InvoiceDate</th>\n",
              "      <th>InvoiceNo</th>\n",
              "      <th>sale_amount</th>\n",
              "    </tr>\n",
              "    <tr>\n",
              "      <th>CustomerID</th>\n",
              "      <th></th>\n",
              "      <th></th>\n",
              "      <th></th>\n",
              "    </tr>\n",
              "  </thead>\n",
              "  <tbody>\n",
              "    <tr>\n",
              "      <th>12346</th>\n",
              "      <td>2011-01-18 10:01:00</td>\n",
              "      <td>1</td>\n",
              "      <td>77183.60</td>\n",
              "    </tr>\n",
              "    <tr>\n",
              "      <th>12747</th>\n",
              "      <td>2011-12-07 14:34:00</td>\n",
              "      <td>103</td>\n",
              "      <td>4196.01</td>\n",
              "    </tr>\n",
              "    <tr>\n",
              "      <th>12748</th>\n",
              "      <td>2011-12-09 12:20:00</td>\n",
              "      <td>4595</td>\n",
              "      <td>33719.73</td>\n",
              "    </tr>\n",
              "    <tr>\n",
              "      <th>12749</th>\n",
              "      <td>2011-12-06 09:56:00</td>\n",
              "      <td>199</td>\n",
              "      <td>4090.88</td>\n",
              "    </tr>\n",
              "    <tr>\n",
              "      <th>12820</th>\n",
              "      <td>2011-12-06 15:12:00</td>\n",
              "      <td>59</td>\n",
              "      <td>942.34</td>\n",
              "    </tr>\n",
              "  </tbody>\n",
              "</table>\n",
              "</div>"
            ],
            "text/plain": [
              "                   InvoiceDate  InvoiceNo  sale_amount\n",
              "CustomerID                                            \n",
              "12346      2011-01-18 10:01:00          1     77183.60\n",
              "12747      2011-12-07 14:34:00        103      4196.01\n",
              "12748      2011-12-09 12:20:00       4595     33719.73\n",
              "12749      2011-12-06 09:56:00        199      4090.88\n",
              "12820      2011-12-06 15:12:00         59       942.34"
            ]
          },
          "metadata": {
            "tags": []
          },
          "execution_count": 18
        }
      ]
    },
    {
      "cell_type": "markdown",
      "metadata": {
        "id": "T4C3xnLQK35H"
      },
      "source": [
        "- groupby() 결과 Index와 Column 이름 수정\n",
        "  - 'Recency' , 'Frequency' , 'Monetary'"
      ]
    },
    {
      "cell_type": "code",
      "metadata": {
        "id": "0FaSHIkKK_9C"
      },
      "source": [
        "DF_CID = DF_CID.rename(columns = {'InvoiceDate' : 'Recency' ,\n",
        "                                  'InvoiceNo' : 'Frequency' ,\n",
        "                                  'sale_amount' : 'Monetary'})"
      ],
      "execution_count": 19,
      "outputs": []
    },
    {
      "cell_type": "code",
      "metadata": {
        "id": "60opbt-lLQbY"
      },
      "source": [
        "DF_CID = DF_CID.reset_index()"
      ],
      "execution_count": 20,
      "outputs": []
    },
    {
      "cell_type": "markdown",
      "metadata": {
        "id": "rMmUR-brLUjw"
      },
      "source": [
        "- RFM 변경 결과"
      ]
    },
    {
      "cell_type": "code",
      "metadata": {
        "colab": {
          "base_uri": "https://localhost:8080/",
          "height": 204
        },
        "id": "Vv8PAeukLW51",
        "outputId": "4e9b964a-9a89-4982-c418-ea7ae5654132"
      },
      "source": [
        "DF_CID.head()"
      ],
      "execution_count": 21,
      "outputs": [
        {
          "output_type": "execute_result",
          "data": {
            "text/html": [
              "<div>\n",
              "<style scoped>\n",
              "    .dataframe tbody tr th:only-of-type {\n",
              "        vertical-align: middle;\n",
              "    }\n",
              "\n",
              "    .dataframe tbody tr th {\n",
              "        vertical-align: top;\n",
              "    }\n",
              "\n",
              "    .dataframe thead th {\n",
              "        text-align: right;\n",
              "    }\n",
              "</style>\n",
              "<table border=\"1\" class=\"dataframe\">\n",
              "  <thead>\n",
              "    <tr style=\"text-align: right;\">\n",
              "      <th></th>\n",
              "      <th>CustomerID</th>\n",
              "      <th>Recency</th>\n",
              "      <th>Frequency</th>\n",
              "      <th>Monetary</th>\n",
              "    </tr>\n",
              "  </thead>\n",
              "  <tbody>\n",
              "    <tr>\n",
              "      <th>0</th>\n",
              "      <td>12346</td>\n",
              "      <td>2011-01-18 10:01:00</td>\n",
              "      <td>1</td>\n",
              "      <td>77183.60</td>\n",
              "    </tr>\n",
              "    <tr>\n",
              "      <th>1</th>\n",
              "      <td>12747</td>\n",
              "      <td>2011-12-07 14:34:00</td>\n",
              "      <td>103</td>\n",
              "      <td>4196.01</td>\n",
              "    </tr>\n",
              "    <tr>\n",
              "      <th>2</th>\n",
              "      <td>12748</td>\n",
              "      <td>2011-12-09 12:20:00</td>\n",
              "      <td>4595</td>\n",
              "      <td>33719.73</td>\n",
              "    </tr>\n",
              "    <tr>\n",
              "      <th>3</th>\n",
              "      <td>12749</td>\n",
              "      <td>2011-12-06 09:56:00</td>\n",
              "      <td>199</td>\n",
              "      <td>4090.88</td>\n",
              "    </tr>\n",
              "    <tr>\n",
              "      <th>4</th>\n",
              "      <td>12820</td>\n",
              "      <td>2011-12-06 15:12:00</td>\n",
              "      <td>59</td>\n",
              "      <td>942.34</td>\n",
              "    </tr>\n",
              "  </tbody>\n",
              "</table>\n",
              "</div>"
            ],
            "text/plain": [
              "   CustomerID             Recency  Frequency  Monetary\n",
              "0       12346 2011-01-18 10:01:00          1  77183.60\n",
              "1       12747 2011-12-07 14:34:00        103   4196.01\n",
              "2       12748 2011-12-09 12:20:00       4595  33719.73\n",
              "3       12749 2011-12-06 09:56:00        199   4090.88\n",
              "4       12820 2011-12-06 15:12:00         59    942.34"
            ]
          },
          "metadata": {
            "tags": []
          },
          "execution_count": 21
        }
      ]
    },
    {
      "cell_type": "markdown",
      "metadata": {
        "id": "T8eIdIR1LphW"
      },
      "source": [
        "### 4) 최근 구매일자 Day로 변경\n",
        "- 오늘 날짜에서 최근 구매날짜('Recency')를 뺀 일자"
      ]
    },
    {
      "cell_type": "code",
      "metadata": {
        "id": "PYowomGD6HIK"
      },
      "source": [
        "DF_CID['Recency'] = dt.datetime(2011, 12, 10) - DF_CID['Recency']"
      ],
      "execution_count": 23,
      "outputs": []
    },
    {
      "cell_type": "code",
      "metadata": {
        "id": "TnWGIN4q7VlR"
      },
      "source": [
        "DF_CID['Recency'] = DF_CID['Recency'].apply(lambda x : x.days + 1)"
      ],
      "execution_count": 26,
      "outputs": []
    },
    {
      "cell_type": "code",
      "metadata": {
        "colab": {
          "base_uri": "https://localhost:8080/",
          "height": 204
        },
        "id": "RaJeAKaz7ZXg",
        "outputId": "dc8607ad-70d3-44a5-a7c1-349b7ca4ee1b"
      },
      "source": [
        "DF_CID.head()"
      ],
      "execution_count": 27,
      "outputs": [
        {
          "output_type": "execute_result",
          "data": {
            "text/html": [
              "<div>\n",
              "<style scoped>\n",
              "    .dataframe tbody tr th:only-of-type {\n",
              "        vertical-align: middle;\n",
              "    }\n",
              "\n",
              "    .dataframe tbody tr th {\n",
              "        vertical-align: top;\n",
              "    }\n",
              "\n",
              "    .dataframe thead th {\n",
              "        text-align: right;\n",
              "    }\n",
              "</style>\n",
              "<table border=\"1\" class=\"dataframe\">\n",
              "  <thead>\n",
              "    <tr style=\"text-align: right;\">\n",
              "      <th></th>\n",
              "      <th>CustomerID</th>\n",
              "      <th>Recency</th>\n",
              "      <th>Frequency</th>\n",
              "      <th>Monetary</th>\n",
              "    </tr>\n",
              "  </thead>\n",
              "  <tbody>\n",
              "    <tr>\n",
              "      <th>0</th>\n",
              "      <td>12346</td>\n",
              "      <td>326</td>\n",
              "      <td>1</td>\n",
              "      <td>77183.60</td>\n",
              "    </tr>\n",
              "    <tr>\n",
              "      <th>1</th>\n",
              "      <td>12747</td>\n",
              "      <td>3</td>\n",
              "      <td>103</td>\n",
              "      <td>4196.01</td>\n",
              "    </tr>\n",
              "    <tr>\n",
              "      <th>2</th>\n",
              "      <td>12748</td>\n",
              "      <td>1</td>\n",
              "      <td>4595</td>\n",
              "      <td>33719.73</td>\n",
              "    </tr>\n",
              "    <tr>\n",
              "      <th>3</th>\n",
              "      <td>12749</td>\n",
              "      <td>4</td>\n",
              "      <td>199</td>\n",
              "      <td>4090.88</td>\n",
              "    </tr>\n",
              "    <tr>\n",
              "      <th>4</th>\n",
              "      <td>12820</td>\n",
              "      <td>4</td>\n",
              "      <td>59</td>\n",
              "      <td>942.34</td>\n",
              "    </tr>\n",
              "  </tbody>\n",
              "</table>\n",
              "</div>"
            ],
            "text/plain": [
              "   CustomerID  Recency  Frequency  Monetary\n",
              "0       12346      326          1  77183.60\n",
              "1       12747        3        103   4196.01\n",
              "2       12748        1       4595  33719.73\n",
              "3       12749        4        199   4090.88\n",
              "4       12820        4         59    942.34"
            ]
          },
          "metadata": {
            "tags": []
          },
          "execution_count": 27
        }
      ]
    },
    {
      "cell_type": "markdown",
      "metadata": {
        "id": "84awurHy7Yn-"
      },
      "source": [
        "### 5) Visualization\n",
        "- 변수 별 분포 확인"
      ]
    },
    {
      "cell_type": "code",
      "metadata": {
        "colab": {
          "base_uri": "https://localhost:8080/",
          "height": 281
        },
        "id": "n5Z9aJsf777H",
        "outputId": "abdcf3f7-bd1c-493c-f02f-5836ba68c3e3"
      },
      "source": [
        "fig, (ax1, ax2, ax3) = plt.subplots(figsize = (12, 4) , nrows = 1, ncols = 3)\n",
        "\n",
        "ax1.set_title('Recency Histogram')\n",
        "ax1.hist(DF_CID['Recency'])\n",
        "\n",
        "ax2.set_title('Frequency Histogram')\n",
        "ax2.hist(DF_CID['Frequency'])\n",
        "\n",
        "ax3.set_title('Monetary Histogram')\n",
        "ax3.hist(DF_CID['Monetary'])\n",
        "\n",
        "plt.show()"
      ],
      "execution_count": 31,
      "outputs": [
        {
          "output_type": "display_data",
          "data": {
            "image/png": "[encoded data removed]",
            "text/plain": [
              "<Figure size 864x288 with 3 Axes>"
            ]
          },
          "metadata": {
            "tags": [],
            "needs_background": "light"
          }
        }
      ]
    },
    {
      "cell_type": "markdown",
      "metadata": {
        "id": "QzXjpJTc6BcQ"
      },
      "source": [
        "## 4. K-means Clustering"
      ]
    },
    {
      "cell_type": "markdown",
      "metadata": {
        "id": "rrRvpUW18hCi"
      },
      "source": [
        "### 1) Standardization\n",
        "- 표준화를 통한 평균과 표준편차 Scaling"
      ]
    },
    {
      "cell_type": "code",
      "metadata": {
        "colab": {
          "base_uri": "https://localhost:8080/",
          "height": 297
        },
        "id": "jlUC1qYu8ry-",
        "outputId": "a209c401-22b2-43c3-d122-6123ba8c82ea"
      },
      "source": [
        "DF_CID[['Recency' , 'Frequency' , 'Monetary']].describe()"
      ],
      "execution_count": 33,
      "outputs": [
        {
          "output_type": "execute_result",
          "data": {
            "text/html": [
              "<div>\n",
              "<style scoped>\n",
              "    .dataframe tbody tr th:only-of-type {\n",
              "        vertical-align: middle;\n",
              "    }\n",
              "\n",
              "    .dataframe tbody tr th {\n",
              "        vertical-align: top;\n",
              "    }\n",
              "\n",
              "    .dataframe thead th {\n",
              "        text-align: right;\n",
              "    }\n",
              "</style>\n",
              "<table border=\"1\" class=\"dataframe\">\n",
              "  <thead>\n",
              "    <tr style=\"text-align: right;\">\n",
              "      <th></th>\n",
              "      <th>Recency</th>\n",
              "      <th>Frequency</th>\n",
              "      <th>Monetary</th>\n",
              "    </tr>\n",
              "  </thead>\n",
              "  <tbody>\n",
              "    <tr>\n",
              "      <th>count</th>\n",
              "      <td>3920.000000</td>\n",
              "      <td>3920.000000</td>\n",
              "      <td>3920.000000</td>\n",
              "    </tr>\n",
              "    <tr>\n",
              "      <th>mean</th>\n",
              "      <td>92.742092</td>\n",
              "      <td>90.388010</td>\n",
              "      <td>1864.385601</td>\n",
              "    </tr>\n",
              "    <tr>\n",
              "      <th>std</th>\n",
              "      <td>99.533485</td>\n",
              "      <td>217.808385</td>\n",
              "      <td>7482.817477</td>\n",
              "    </tr>\n",
              "    <tr>\n",
              "      <th>min</th>\n",
              "      <td>1.000000</td>\n",
              "      <td>1.000000</td>\n",
              "      <td>3.750000</td>\n",
              "    </tr>\n",
              "    <tr>\n",
              "      <th>25%</th>\n",
              "      <td>18.000000</td>\n",
              "      <td>17.000000</td>\n",
              "      <td>300.280000</td>\n",
              "    </tr>\n",
              "    <tr>\n",
              "      <th>50%</th>\n",
              "      <td>51.000000</td>\n",
              "      <td>41.000000</td>\n",
              "      <td>652.280000</td>\n",
              "    </tr>\n",
              "    <tr>\n",
              "      <th>75%</th>\n",
              "      <td>143.000000</td>\n",
              "      <td>99.250000</td>\n",
              "      <td>1576.585000</td>\n",
              "    </tr>\n",
              "    <tr>\n",
              "      <th>max</th>\n",
              "      <td>374.000000</td>\n",
              "      <td>7847.000000</td>\n",
              "      <td>259657.300000</td>\n",
              "    </tr>\n",
              "  </tbody>\n",
              "</table>\n",
              "</div>"
            ],
            "text/plain": [
              "           Recency    Frequency       Monetary\n",
              "count  3920.000000  3920.000000    3920.000000\n",
              "mean     92.742092    90.388010    1864.385601\n",
              "std      99.533485   217.808385    7482.817477\n",
              "min       1.000000     1.000000       3.750000\n",
              "25%      18.000000    17.000000     300.280000\n",
              "50%      51.000000    41.000000     652.280000\n",
              "75%     143.000000    99.250000    1576.585000\n",
              "max     374.000000  7847.000000  259657.300000"
            ]
          },
          "metadata": {
            "tags": []
          },
          "execution_count": 33
        }
      ]
    },
    {
      "cell_type": "markdown",
      "metadata": {
        "id": "-jLv6bqI85fh"
      },
      "source": [
        "- Scaling 수행"
      ]
    },
    {
      "cell_type": "code",
      "metadata": {
        "id": "yZN4Y1rh9dl3"
      },
      "source": [
        "X_input = DF_CID[['Recency' , 'Frequency' , 'Monetary']].values\n",
        "X_input_scaled = StandardScaler().fit_transform(X_input)"
      ],
      "execution_count": 36,
      "outputs": []
    },
    {
      "cell_type": "markdown",
      "metadata": {
        "id": "Z_vU05yc9u4P"
      },
      "source": [
        "### 2) Modeling\n"
      ]
    },
    {
      "cell_type": "markdown",
      "metadata": {
        "id": "78tNrp23-9Lg"
      },
      "source": [
        "#### (1) K-means"
      ]
    },
    {
      "cell_type": "code",
      "metadata": {
        "colab": {
          "base_uri": "https://localhost:8080/"
        },
        "id": "0D0Ux-fn9mL3",
        "outputId": "f429375b-b86d-4394-c64c-6d3e9a9900dc"
      },
      "source": [
        "kmeans = KMeans(n_clusters = 5,\n",
        "                random_state = 2045)\n",
        "\n",
        "kmeans.fit_predict(X_input_scaled)"
      ],
      "execution_count": 37,
      "outputs": [
        {
          "output_type": "execute_result",
          "data": {
            "text/plain": [
              "array([1, 0, 4, ..., 0, 0, 0], dtype=int32)"
            ]
          },
          "metadata": {
            "tags": []
          },
          "execution_count": 37
        }
      ]
    },
    {
      "cell_type": "markdown",
      "metadata": {
        "id": "aFWDmGr3986U"
      },
      "source": [
        "- Silhouette Score"
      ]
    },
    {
      "cell_type": "code",
      "metadata": {
        "colab": {
          "base_uri": "https://localhost:8080/"
        },
        "id": "IMwPwbbE973M",
        "outputId": "9f6f7d28-1aaa-4b43-8b64-cdfab25475a9"
      },
      "source": [
        "silhouette_score(X_input_scaled, kmeans.fit_predict(X_input_scaled))"
      ],
      "execution_count": 38,
      "outputs": [
        {
          "output_type": "execute_result",
          "data": {
            "text/plain": [
              "0.6114742734112578"
            ]
          },
          "metadata": {
            "tags": []
          },
          "execution_count": 38
        }
      ]
    },
    {
      "cell_type": "code",
      "metadata": {
        "colab": {
          "base_uri": "https://localhost:8080/"
        },
        "id": "Ac45oHRI-LOQ",
        "outputId": "671bba27-8804-4d46-99cd-a2fd3fe8d8cc"
      },
      "source": [
        "kmeans.inertia_"
      ],
      "execution_count": 39,
      "outputs": [
        {
          "output_type": "execute_result",
          "data": {
            "text/plain": [
              "2898.825737184124"
            ]
          },
          "metadata": {
            "tags": []
          },
          "execution_count": 39
        }
      ]
    },
    {
      "cell_type": "code",
      "metadata": {
        "id": "w27T-Yb2-ahR"
      },
      "source": [
        "inertia = []\n",
        "K = range(1, 10)\n",
        "\n",
        "for k in K:\n",
        "  kmeanModel = KMeans(n_clusters = k)\n",
        "  kmeanModel.fit(X_input_scaled)\n",
        "  inertia.append(kmeanModel.inertia_)"
      ],
      "execution_count": 40,
      "outputs": []
    },
    {
      "cell_type": "code",
      "metadata": {
        "colab": {
          "base_uri": "https://localhost:8080/"
        },
        "id": "NdKWAWt9-qq8",
        "outputId": "848dfd00-420f-4d3f-f5e1-ae0cc4cbe0e6"
      },
      "source": [
        "inertia"
      ],
      "execution_count": 41,
      "outputs": [
        {
          "output_type": "execute_result",
          "data": {
            "text/plain": [
              "[11760.0,\n",
              " 8504.559256677869,\n",
              " 5461.264105443646,\n",
              " 4004.0658186122846,\n",
              " 2853.751896618272,\n",
              " 2155.1971167497154,\n",
              " 1749.733739786736,\n",
              " 1476.8825650020874,\n",
              " 1279.8324411163621]"
            ]
          },
          "metadata": {
            "tags": []
          },
          "execution_count": 41
        }
      ]
    },
    {
      "cell_type": "code",
      "metadata": {
        "colab": {
          "base_uri": "https://localhost:8080/",
          "height": 458
        },
        "id": "ouUBoS9J2IxJ",
        "outputId": "43268cc8-326c-4b83-8362-a67ef14a6406"
      },
      "source": [
        "plt.figure(figsize = (9, 7))\n",
        "plt.plot(K, inertia, 'bx-')\n",
        "plt.xlabel('k')\n",
        "plt.ylabel('inertia')\n",
        "plt.title('Scree Plot with Kink')\n",
        "plt.show()"
      ],
      "execution_count": 42,
      "outputs": [
        {
          "output_type": "display_data",
          "data": {
            "image/png": "[encoded data removed]",
            "text/plain": [
              "<Figure size 648x504 with 1 Axes>"
            ]
          },
          "metadata": {
            "tags": [],
            "needs_background": "light"
          }
        }
      ]
    },
    {
      "cell_type": "markdown",
      "metadata": {
        "id": "0po_RH6y6u7i"
      },
      "source": [
        "#### (2) Mean Shift"
      ]
    },
    {
      "cell_type": "code",
      "metadata": {
        "colab": {
          "base_uri": "https://localhost:8080/"
        },
        "id": "Q21s6n_D26Hg",
        "outputId": "30c1300b-2411-488d-a746-dcd3bde0a20a"
      },
      "source": [
        "meanshift = MeanShift(bandwidth = 1)\n",
        "meanshift.fit_predict(X_input_scaled)"
      ],
      "execution_count": 45,
      "outputs": [
        {
          "output_type": "execute_result",
          "data": {
            "text/plain": [
              "array([ 7,  0, 23, ...,  0,  1,  0])"
            ]
          },
          "metadata": {
            "tags": []
          },
          "execution_count": 45
        }
      ]
    },
    {
      "cell_type": "code",
      "metadata": {
        "colab": {
          "base_uri": "https://localhost:8080/"
        },
        "id": "vDDVrT7z_dfv",
        "outputId": "60865737-4011-4b91-bd84-82e4cbaaac11"
      },
      "source": [
        "meanshift.labels_"
      ],
      "execution_count": 46,
      "outputs": [
        {
          "output_type": "execute_result",
          "data": {
            "text/plain": [
              "array([ 7,  0, 23, ...,  0,  1,  0])"
            ]
          },
          "metadata": {
            "tags": []
          },
          "execution_count": 46
        }
      ]
    },
    {
      "cell_type": "markdown",
      "metadata": {
        "id": "oGadpcwg_bbw"
      },
      "source": [
        "- Silhouette Score"
      ]
    },
    {
      "cell_type": "code",
      "metadata": {
        "colab": {
          "base_uri": "https://localhost:8080/"
        },
        "id": "aows7K4Z_dEq",
        "outputId": "1e460021-7741-40c0-9f7d-1da4ea0fe464"
      },
      "source": [
        "silhouette_score(X_input_scaled, meanshift.fit_predict(X_input_scaled))"
      ],
      "execution_count": 47,
      "outputs": [
        {
          "output_type": "execute_result",
          "data": {
            "text/plain": [
              "0.5209251244700349"
            ]
          },
          "metadata": {
            "tags": []
          },
          "execution_count": 47
        }
      ]
    },
    {
      "cell_type": "markdown",
      "metadata": {
        "id": "3LxdbUFo9Ouv"
      },
      "source": [
        "#### (3) GMM"
      ]
    },
    {
      "cell_type": "code",
      "metadata": {
        "colab": {
          "base_uri": "https://localhost:8080/"
        },
        "id": "-3FTyz82HQH1",
        "outputId": "f5e9f539-2a61-4321-a9a4-0f86b31ba658"
      },
      "source": [
        "gmm = GaussianMixture(n_components = 6,\n",
        "                      random_state = 2045)\n",
        "gmm.fit(X_input_scaled)"
      ],
      "execution_count": 48,
      "outputs": [
        {
          "output_type": "execute_result",
          "data": {
            "text/plain": [
              "GaussianMixture(covariance_type='full', init_params='kmeans', max_iter=100,\n",
              "                means_init=None, n_components=6, n_init=1, precisions_init=None,\n",
              "                random_state=2045, reg_covar=1e-06, tol=0.001, verbose=0,\n",
              "                verbose_interval=10, warm_start=False, weights_init=None)"
            ]
          },
          "metadata": {
            "tags": []
          },
          "execution_count": 48
        }
      ]
    },
    {
      "cell_type": "code",
      "metadata": {
        "colab": {
          "base_uri": "https://localhost:8080/"
        },
        "id": "6vptNqGz9bK9",
        "outputId": "666dc087-4846-4d45-a3dc-9de0ce3604f4"
      },
      "source": [
        "gmm.predict(X_input_scaled)"
      ],
      "execution_count": 52,
      "outputs": [
        {
          "output_type": "execute_result",
          "data": {
            "text/plain": [
              "array([5, 1, 2, ..., 0, 2, 1])"
            ]
          },
          "metadata": {
            "tags": []
          },
          "execution_count": 52
        }
      ]
    },
    {
      "cell_type": "markdown",
      "metadata": {
        "id": "szFxht7P_uJX"
      },
      "source": [
        "- Silhouette Score"
      ]
    },
    {
      "cell_type": "code",
      "metadata": {
        "colab": {
          "base_uri": "https://localhost:8080/"
        },
        "id": "3kYm1_yK_vaQ",
        "outputId": "e8ad665d-04a5-4c04-a979-05c2101f19fb"
      },
      "source": [
        "silhouette_score(X_input_scaled, gmm.predict(X_input_scaled))"
      ],
      "execution_count": 53,
      "outputs": [
        {
          "output_type": "execute_result",
          "data": {
            "text/plain": [
              "0.04755631141782142"
            ]
          },
          "metadata": {
            "tags": []
          },
          "execution_count": 53
        }
      ]
    },
    {
      "cell_type": "markdown",
      "metadata": {
        "id": "29QRyLYq9gM7"
      },
      "source": [
        "#### (4) DBSCAN"
      ]
    },
    {
      "cell_type": "code",
      "metadata": {
        "colab": {
          "base_uri": "https://localhost:8080/"
        },
        "id": "2kLT6iLG9irE",
        "outputId": "21f98eef-1f7a-42ea-d2ff-55ee8dbdba6d"
      },
      "source": [
        "dbscan = DBSCAN(eps = 0.8,\n",
        "                min_samples = 8,\n",
        "                metric = 'euclidean')\n",
        "\n",
        "dbscan.fit_predict(X_input_scaled)"
      ],
      "execution_count": 54,
      "outputs": [
        {
          "output_type": "execute_result",
          "data": {
            "text/plain": [
              "array([-1,  0, -1, ...,  0,  0,  0])"
            ]
          },
          "metadata": {
            "tags": []
          },
          "execution_count": 54
        }
      ]
    },
    {
      "cell_type": "markdown",
      "metadata": {
        "id": "DsDIbv5LAE0_"
      },
      "source": [
        "- Silhouette Score"
      ]
    },
    {
      "cell_type": "code",
      "metadata": {
        "colab": {
          "base_uri": "https://localhost:8080/"
        },
        "id": "G2MpfHT1AF-z",
        "outputId": "fb70ae79-b43f-45bc-c09f-711447f466d5"
      },
      "source": [
        "silhouette_score(X_input_scaled, dbscan.fit_predict(X_input_scaled))"
      ],
      "execution_count": 55,
      "outputs": [
        {
          "output_type": "execute_result",
          "data": {
            "text/plain": [
              "0.8580550402528754"
            ]
          },
          "metadata": {
            "tags": []
          },
          "execution_count": 55
        }
      ]
    }
  ]
}