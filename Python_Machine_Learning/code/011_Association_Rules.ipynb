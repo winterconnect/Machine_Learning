{
  "nbformat": 4,
  "nbformat_minor": 0,
  "metadata": {
    "colab": {
      "name": "011_Association_Rules.ipynb",
      "provenance": []
    },
    "kernelspec": {
      "name": "python3",
      "display_name": "Python 3"
    }
  },
  "cells": [
    {
      "cell_type": "markdown",
      "metadata": {
        "id": "D12GR1ck8A2p"
      },
      "source": [
        "# Association Rules - 연관규칙"
      ]
    },
    {
      "cell_type": "code",
      "metadata": {
        "id": "CKZxKbd28FSA"
      },
      "source": [
        "import warnings\n",
        "warnings.filterwarnings('ignore')"
      ],
      "execution_count": 1,
      "outputs": []
    },
    {
      "cell_type": "code",
      "metadata": {
        "id": "D-RP_6f-8SBv"
      },
      "source": [
        "import pandas as pd\n",
        "\n",
        "from mlxtend.preprocessing import TransactionEncoder\n",
        "from mlxtend.frequent_patterns import apriori, association_rules"
      ],
      "execution_count": 19,
      "outputs": []
    },
    {
      "cell_type": "markdown",
      "metadata": {
        "id": "lLHnH-va8JiI"
      },
      "source": [
        "## 1. Read Data_set and Preprocessing"
      ]
    },
    {
      "cell_type": "markdown",
      "metadata": {
        "id": "uwRleTLs8Nfr"
      },
      "source": [
        "### 1) Read 'order.tsv'\n",
        "- DF.info()"
      ]
    },
    {
      "cell_type": "code",
      "metadata": {
        "colab": {
          "base_uri": "https://localhost:8080/"
        },
        "id": "RahptCoo8Rca",
        "outputId": "78a15cfd-04e1-447e-b5bb-3e52404d134f"
      },
      "source": [
        "url = 'https://raw.githubusercontent.com/rusita-ai/pyData/master/orders.tsv'\n",
        "DF = pd.read_table(url)\n",
        "\n",
        "DF.info()"
      ],
      "execution_count": 3,
      "outputs": [
        {
          "output_type": "stream",
          "text": [
            "<class 'pandas.core.frame.DataFrame'>\n",
            "RangeIndex: 4622 entries, 0 to 4621\n",
            "Data columns (total 5 columns):\n",
            " #   Column              Non-Null Count  Dtype \n",
            "---  ------              --------------  ----- \n",
            " 0   order_id            4622 non-null   int64 \n",
            " 1   quantity            4622 non-null   int64 \n",
            " 2   item_name           4622 non-null   object\n",
            " 3   choice_description  3376 non-null   object\n",
            " 4   item_price          4622 non-null   object\n",
            "dtypes: int64(2), object(3)\n",
            "memory usage: 180.7+ KB\n"
          ],
          "name": "stdout"
        }
      ]
    },
    {
      "cell_type": "code",
      "metadata": {
        "colab": {
          "base_uri": "https://localhost:8080/",
          "height": 142
        },
        "id": "adKOHo2n8dcx",
        "outputId": "63319a6d-de45-4d7c-bcff-3fac9d29514d"
      },
      "source": [
        "DF.head(3)"
      ],
      "execution_count": 4,
      "outputs": [
        {
          "output_type": "execute_result",
          "data": {
            "text/html": [
              "<div>\n",
              "<style scoped>\n",
              "    .dataframe tbody tr th:only-of-type {\n",
              "        vertical-align: middle;\n",
              "    }\n",
              "\n",
              "    .dataframe tbody tr th {\n",
              "        vertical-align: top;\n",
              "    }\n",
              "\n",
              "    .dataframe thead th {\n",
              "        text-align: right;\n",
              "    }\n",
              "</style>\n",
              "<table border=\"1\" class=\"dataframe\">\n",
              "  <thead>\n",
              "    <tr style=\"text-align: right;\">\n",
              "      <th></th>\n",
              "      <th>order_id</th>\n",
              "      <th>quantity</th>\n",
              "      <th>item_name</th>\n",
              "      <th>choice_description</th>\n",
              "      <th>item_price</th>\n",
              "    </tr>\n",
              "  </thead>\n",
              "  <tbody>\n",
              "    <tr>\n",
              "      <th>0</th>\n",
              "      <td>1</td>\n",
              "      <td>1</td>\n",
              "      <td>Chips and Fresh Tomato Salsa</td>\n",
              "      <td>NaN</td>\n",
              "      <td>$2.39</td>\n",
              "    </tr>\n",
              "    <tr>\n",
              "      <th>1</th>\n",
              "      <td>1</td>\n",
              "      <td>1</td>\n",
              "      <td>Izze</td>\n",
              "      <td>[Clementine]</td>\n",
              "      <td>$3.39</td>\n",
              "    </tr>\n",
              "    <tr>\n",
              "      <th>2</th>\n",
              "      <td>1</td>\n",
              "      <td>1</td>\n",
              "      <td>Nantucket Nectar</td>\n",
              "      <td>[Apple]</td>\n",
              "      <td>$3.39</td>\n",
              "    </tr>\n",
              "  </tbody>\n",
              "</table>\n",
              "</div>"
            ],
            "text/plain": [
              "   order_id  quantity  ... choice_description item_price\n",
              "0         1         1  ...                NaN     $2.39 \n",
              "1         1         1  ...       [Clementine]     $3.39 \n",
              "2         1         1  ...            [Apple]     $3.39 \n",
              "\n",
              "[3 rows x 5 columns]"
            ]
          },
          "metadata": {
            "tags": []
          },
          "execution_count": 4
        }
      ]
    },
    {
      "cell_type": "markdown",
      "metadata": {
        "id": "-gPX17388gnv"
      },
      "source": [
        "### 2) 데이터 정보 확인\n",
        "- DF_1 지정 후 'order_id' 및 'item_name' 종류 확인\n",
        "- 한 개의 'order_id'가 여러 개의 'item_name'으로 분리되어 지정"
      ]
    },
    {
      "cell_type": "code",
      "metadata": {
        "colab": {
          "base_uri": "https://localhost:8080/"
        },
        "id": "Sp2hq4I98qtx",
        "outputId": "f69c0f0b-6481-4079-baab-2773e7346566"
      },
      "source": [
        "DF_1 = DF[['order_id' , 'item_name']]\n",
        "\n",
        "DF_1['order_id'].unique().shape, DF_1['item_name'].unique().shape"
      ],
      "execution_count": 5,
      "outputs": [
        {
          "output_type": "execute_result",
          "data": {
            "text/plain": [
              "((1834,), (50,))"
            ]
          },
          "metadata": {
            "tags": []
          },
          "execution_count": 5
        }
      ]
    },
    {
      "cell_type": "code",
      "metadata": {
        "colab": {
          "base_uri": "https://localhost:8080/",
          "height": 669
        },
        "id": "jxwpku8K8f0A",
        "outputId": "834b24f5-b861-4c04-f0a4-191002d3a4bb"
      },
      "source": [
        "DF_1[:20]"
      ],
      "execution_count": 24,
      "outputs": [
        {
          "output_type": "execute_result",
          "data": {
            "text/html": [
              "<div>\n",
              "<style scoped>\n",
              "    .dataframe tbody tr th:only-of-type {\n",
              "        vertical-align: middle;\n",
              "    }\n",
              "\n",
              "    .dataframe tbody tr th {\n",
              "        vertical-align: top;\n",
              "    }\n",
              "\n",
              "    .dataframe thead th {\n",
              "        text-align: right;\n",
              "    }\n",
              "</style>\n",
              "<table border=\"1\" class=\"dataframe\">\n",
              "  <thead>\n",
              "    <tr style=\"text-align: right;\">\n",
              "      <th></th>\n",
              "      <th>order_id</th>\n",
              "      <th>item_name</th>\n",
              "    </tr>\n",
              "  </thead>\n",
              "  <tbody>\n",
              "    <tr>\n",
              "      <th>0</th>\n",
              "      <td>1</td>\n",
              "      <td>Chips and Fresh Tomato Salsa</td>\n",
              "    </tr>\n",
              "    <tr>\n",
              "      <th>1</th>\n",
              "      <td>1</td>\n",
              "      <td>Izze</td>\n",
              "    </tr>\n",
              "    <tr>\n",
              "      <th>2</th>\n",
              "      <td>1</td>\n",
              "      <td>Nantucket Nectar</td>\n",
              "    </tr>\n",
              "    <tr>\n",
              "      <th>3</th>\n",
              "      <td>1</td>\n",
              "      <td>Chips and Tomatillo-Green Chili Salsa</td>\n",
              "    </tr>\n",
              "    <tr>\n",
              "      <th>4</th>\n",
              "      <td>2</td>\n",
              "      <td>Chicken Bowl</td>\n",
              "    </tr>\n",
              "    <tr>\n",
              "      <th>5</th>\n",
              "      <td>3</td>\n",
              "      <td>Chicken Bowl</td>\n",
              "    </tr>\n",
              "    <tr>\n",
              "      <th>6</th>\n",
              "      <td>3</td>\n",
              "      <td>Side of Chips</td>\n",
              "    </tr>\n",
              "    <tr>\n",
              "      <th>7</th>\n",
              "      <td>4</td>\n",
              "      <td>Steak Burrito</td>\n",
              "    </tr>\n",
              "    <tr>\n",
              "      <th>8</th>\n",
              "      <td>4</td>\n",
              "      <td>Steak Soft Tacos</td>\n",
              "    </tr>\n",
              "    <tr>\n",
              "      <th>9</th>\n",
              "      <td>5</td>\n",
              "      <td>Steak Burrito</td>\n",
              "    </tr>\n",
              "    <tr>\n",
              "      <th>10</th>\n",
              "      <td>5</td>\n",
              "      <td>Chips and Guacamole</td>\n",
              "    </tr>\n",
              "    <tr>\n",
              "      <th>11</th>\n",
              "      <td>6</td>\n",
              "      <td>Chicken Crispy Tacos</td>\n",
              "    </tr>\n",
              "    <tr>\n",
              "      <th>12</th>\n",
              "      <td>6</td>\n",
              "      <td>Chicken Soft Tacos</td>\n",
              "    </tr>\n",
              "    <tr>\n",
              "      <th>13</th>\n",
              "      <td>7</td>\n",
              "      <td>Chicken Bowl</td>\n",
              "    </tr>\n",
              "    <tr>\n",
              "      <th>14</th>\n",
              "      <td>7</td>\n",
              "      <td>Chips and Guacamole</td>\n",
              "    </tr>\n",
              "    <tr>\n",
              "      <th>15</th>\n",
              "      <td>8</td>\n",
              "      <td>Chips and Tomatillo-Green Chili Salsa</td>\n",
              "    </tr>\n",
              "    <tr>\n",
              "      <th>16</th>\n",
              "      <td>8</td>\n",
              "      <td>Chicken Burrito</td>\n",
              "    </tr>\n",
              "    <tr>\n",
              "      <th>17</th>\n",
              "      <td>9</td>\n",
              "      <td>Chicken Burrito</td>\n",
              "    </tr>\n",
              "    <tr>\n",
              "      <th>18</th>\n",
              "      <td>9</td>\n",
              "      <td>Canned Soda</td>\n",
              "    </tr>\n",
              "    <tr>\n",
              "      <th>19</th>\n",
              "      <td>10</td>\n",
              "      <td>Chicken Bowl</td>\n",
              "    </tr>\n",
              "  </tbody>\n",
              "</table>\n",
              "</div>"
            ],
            "text/plain": [
              "    order_id                              item_name\n",
              "0          1           Chips and Fresh Tomato Salsa\n",
              "1          1                                   Izze\n",
              "2          1                       Nantucket Nectar\n",
              "3          1  Chips and Tomatillo-Green Chili Salsa\n",
              "4          2                           Chicken Bowl\n",
              "5          3                           Chicken Bowl\n",
              "6          3                          Side of Chips\n",
              "7          4                          Steak Burrito\n",
              "8          4                       Steak Soft Tacos\n",
              "9          5                          Steak Burrito\n",
              "10         5                    Chips and Guacamole\n",
              "11         6                   Chicken Crispy Tacos\n",
              "12         6                     Chicken Soft Tacos\n",
              "13         7                           Chicken Bowl\n",
              "14         7                    Chips and Guacamole\n",
              "15         8  Chips and Tomatillo-Green Chili Salsa\n",
              "16         8                        Chicken Burrito\n",
              "17         9                        Chicken Burrito\n",
              "18         9                            Canned Soda\n",
              "19        10                           Chicken Bowl"
            ]
          },
          "metadata": {
            "tags": []
          },
          "execution_count": 24
        }
      ]
    },
    {
      "cell_type": "markdown",
      "metadata": {
        "id": "1mbPgSE_8_Xq"
      },
      "source": [
        "- 'order_id' 1834개"
      ]
    },
    {
      "cell_type": "code",
      "metadata": {
        "colab": {
          "base_uri": "https://localhost:8080/"
        },
        "id": "vLdz8ENu8JHi",
        "outputId": "9144274b-b770-4d62-f245-c53bb9b90908"
      },
      "source": [
        "order_ID = list(DF_1.order_id.unique())\n",
        "order_ID[:10], order_ID[-10:]"
      ],
      "execution_count": 7,
      "outputs": [
        {
          "output_type": "execute_result",
          "data": {
            "text/plain": [
              "([1, 2, 3, 4, 5, 6, 7, 8, 9, 10],\n",
              " [1825, 1826, 1827, 1828, 1829, 1830, 1831, 1832, 1833, 1834])"
            ]
          },
          "metadata": {
            "tags": []
          },
          "execution_count": 7
        }
      ]
    },
    {
      "cell_type": "markdown",
      "metadata": {
        "id": "mShoH0MV9J8e"
      },
      "source": [
        "- 'item_name' 50종류"
      ]
    },
    {
      "cell_type": "code",
      "metadata": {
        "colab": {
          "base_uri": "https://localhost:8080/"
        },
        "id": "RGdVU2969MTk",
        "outputId": "e994eb17-c18d-4679-8821-059e3bd8a0fa"
      },
      "source": [
        "item_NAME = list(DF_1.item_name.unique())\n",
        "\n",
        "item_NAME[:5] , item_NAME[-5:]"
      ],
      "execution_count": 8,
      "outputs": [
        {
          "output_type": "execute_result",
          "data": {
            "text/plain": [
              "(['Chips and Fresh Tomato Salsa',\n",
              "  'Izze',\n",
              "  'Nantucket Nectar',\n",
              "  'Chips and Tomatillo-Green Chili Salsa',\n",
              "  'Chicken Bowl'],\n",
              " ['Barbacoa Salad Bowl',\n",
              "  'Salad',\n",
              "  'Veggie Crispy Tacos',\n",
              "  'Veggie Salad',\n",
              "  'Carnitas Salad'])"
            ]
          },
          "metadata": {
            "tags": []
          },
          "execution_count": 8
        }
      ]
    },
    {
      "cell_type": "markdown",
      "metadata": {
        "id": "CYA3kXrN9U8V"
      },
      "source": [
        "### 3) Precprocessing\n",
        "- 1835 길이의 2차원 리스트 생성"
      ]
    },
    {
      "cell_type": "code",
      "metadata": {
        "colab": {
          "base_uri": "https://localhost:8080/"
        },
        "id": "O1vzxIhw9Yop",
        "outputId": "c9584c00-f8d0-46e7-fe08-37cfab158a60"
      },
      "source": [
        "orderItems = [ [] for i in range (1835)]\n",
        "\n",
        "len(orderItems)"
      ],
      "execution_count": 9,
      "outputs": [
        {
          "output_type": "execute_result",
          "data": {
            "text/plain": [
              "1835"
            ]
          },
          "metadata": {
            "tags": []
          },
          "execution_count": 9
        }
      ]
    },
    {
      "cell_type": "markdown",
      "metadata": {
        "id": "CKJmhP959fF5"
      },
      "source": [
        "- 'order_id' 별로 'item_name' 묶기"
      ]
    },
    {
      "cell_type": "code",
      "metadata": {
        "id": "ZJfCgo3p9ie8"
      },
      "source": [
        "num = 0\n",
        "\n",
        "for i in DF_1.item_name :\n",
        "  orderItems[DF_1.order_id[num]].append(i)\n",
        "  num += 1"
      ],
      "execution_count": 10,
      "outputs": []
    },
    {
      "cell_type": "code",
      "metadata": {
        "colab": {
          "base_uri": "https://localhost:8080/"
        },
        "id": "-33kQEX79Ilp",
        "outputId": "a1191881-cebf-4534-b988-2a48f483d081"
      },
      "source": [
        "orderItems[:20]"
      ],
      "execution_count": 25,
      "outputs": [
        {
          "output_type": "execute_result",
          "data": {
            "text/plain": [
              "[['Nantucket Nectar',\n",
              "  'Chips and Tomatillo-Green Chili Salsa',\n",
              "  'Chips and Fresh Tomato Salsa',\n",
              "  'Izze'],\n",
              " ['Chicken Bowl'],\n",
              " ['Side of Chips', 'Chicken Bowl'],\n",
              " ['Steak Burrito', 'Steak Soft Tacos'],\n",
              " ['Steak Burrito', 'Chips and Guacamole'],\n",
              " ['Chicken Crispy Tacos', 'Chicken Soft Tacos'],\n",
              " ['Chips and Guacamole', 'Chicken Bowl'],\n",
              " ['Chips and Tomatillo-Green Chili Salsa', 'Chicken Burrito'],\n",
              " ['Chicken Burrito', 'Canned Soda'],\n",
              " ['Chips and Guacamole', 'Chicken Bowl'],\n",
              " ['Barbacoa Burrito', 'Nantucket Nectar'],\n",
              " ['Chicken Burrito', 'Izze'],\n",
              " ['Chicken Bowl', 'Chips and Fresh Tomato Salsa'],\n",
              " ['Carnitas Burrito', 'Canned Soda'],\n",
              " ['Chips and Tomatillo-Green Chili Salsa', 'Chicken Burrito'],\n",
              " ['Side of Chips', 'Steak Burrito'],\n",
              " ['Carnitas Bowl', 'Bottled Water'],\n",
              " ['Chips and Tomatillo Green Chili Salsa',\n",
              "  'Chicken Soft Tacos',\n",
              "  'Chips and Guacamole'],\n",
              " ['Chips', 'Barbacoa Bowl'],\n",
              " ['Chicken Salad Bowl',\n",
              "  'Chicken Bowl',\n",
              "  'Steak Burrito',\n",
              "  'Chips and Guacamole']]"
            ]
          },
          "metadata": {
            "tags": []
          },
          "execution_count": 25
        }
      ]
    },
    {
      "cell_type": "markdown",
      "metadata": {
        "id": "I1asKw1s9zI9"
      },
      "source": [
        "- 첫번째 빈 리스트 제거 및 중복 아이템 단일화"
      ]
    },
    {
      "cell_type": "code",
      "metadata": {
        "id": "0xTUa_y59vWR"
      },
      "source": [
        "orderItems.pop(0)\n",
        "\n",
        "num = 0\n",
        "\n",
        "for i in orderItems :\n",
        "  orderItems[num] = list(set(orderItems[num]))\n",
        "  num += 1"
      ],
      "execution_count": 12,
      "outputs": []
    },
    {
      "cell_type": "code",
      "metadata": {
        "colab": {
          "base_uri": "https://localhost:8080/"
        },
        "id": "gTytdVG_98rk",
        "outputId": "b056b8b7-a025-47c8-daf8-35a44f66c7e8"
      },
      "source": [
        "orderItems[:5] , orderItems[-5:]"
      ],
      "execution_count": 13,
      "outputs": [
        {
          "output_type": "execute_result",
          "data": {
            "text/plain": [
              "([['Nantucket Nectar',\n",
              "   'Chips and Tomatillo-Green Chili Salsa',\n",
              "   'Chips and Fresh Tomato Salsa',\n",
              "   'Izze'],\n",
              "  ['Chicken Bowl'],\n",
              "  ['Side of Chips', 'Chicken Bowl'],\n",
              "  ['Steak Burrito', 'Steak Soft Tacos'],\n",
              "  ['Steak Burrito', 'Chips and Guacamole']],\n",
              " [['Steak Burrito', 'Veggie Burrito'],\n",
              "  ['Chips', 'Carnitas Bowl', 'Bottled Water'],\n",
              "  ['Chicken Soft Tacos', 'Chips and Guacamole'],\n",
              "  ['Steak Burrito'],\n",
              "  ['Chicken Salad Bowl']])"
            ]
          },
          "metadata": {
            "tags": []
          },
          "execution_count": 13
        }
      ]
    },
    {
      "cell_type": "markdown",
      "metadata": {
        "id": "DzSUyDY3-DT5"
      },
      "source": [
        "## 2. TransactionEncoder()"
      ]
    },
    {
      "cell_type": "code",
      "metadata": {
        "id": "kfkUghHY-FtB"
      },
      "source": [
        "TSE = TransactionEncoder()\n",
        "Transac_Array = TSE.fit_transform(orderItems)"
      ],
      "execution_count": 15,
      "outputs": []
    },
    {
      "cell_type": "markdown",
      "metadata": {
        "id": "M_El0rkA-QHx"
      },
      "source": [
        "- pandas DataFrame 구조 변환"
      ]
    },
    {
      "cell_type": "code",
      "metadata": {
        "colab": {
          "base_uri": "https://localhost:8080/",
          "height": 309
        },
        "id": "RCsmYnb0-Pku",
        "outputId": "be1473aa-0bbf-4db9-f59d-86c6dcd339a3"
      },
      "source": [
        "order_DF = pd.DataFrame(Transac_Array, columns = TSE.columns_)\n",
        "order_DF.head()"
      ],
      "execution_count": 16,
      "outputs": [
        {
          "output_type": "execute_result",
          "data": {
            "text/html": [
              "<div>\n",
              "<style scoped>\n",
              "    .dataframe tbody tr th:only-of-type {\n",
              "        vertical-align: middle;\n",
              "    }\n",
              "\n",
              "    .dataframe tbody tr th {\n",
              "        vertical-align: top;\n",
              "    }\n",
              "\n",
              "    .dataframe thead th {\n",
              "        text-align: right;\n",
              "    }\n",
              "</style>\n",
              "<table border=\"1\" class=\"dataframe\">\n",
              "  <thead>\n",
              "    <tr style=\"text-align: right;\">\n",
              "      <th></th>\n",
              "      <th>6 Pack Soft Drink</th>\n",
              "      <th>Barbacoa Bowl</th>\n",
              "      <th>Barbacoa Burrito</th>\n",
              "      <th>Barbacoa Crispy Tacos</th>\n",
              "      <th>Barbacoa Salad Bowl</th>\n",
              "      <th>Barbacoa Soft Tacos</th>\n",
              "      <th>Bottled Water</th>\n",
              "      <th>Bowl</th>\n",
              "      <th>Burrito</th>\n",
              "      <th>Canned Soda</th>\n",
              "      <th>Canned Soft Drink</th>\n",
              "      <th>Carnitas Bowl</th>\n",
              "      <th>Carnitas Burrito</th>\n",
              "      <th>Carnitas Crispy Tacos</th>\n",
              "      <th>Carnitas Salad</th>\n",
              "      <th>Carnitas Salad Bowl</th>\n",
              "      <th>Carnitas Soft Tacos</th>\n",
              "      <th>Chicken Bowl</th>\n",
              "      <th>Chicken Burrito</th>\n",
              "      <th>Chicken Crispy Tacos</th>\n",
              "      <th>Chicken Salad</th>\n",
              "      <th>Chicken Salad Bowl</th>\n",
              "      <th>Chicken Soft Tacos</th>\n",
              "      <th>Chips</th>\n",
              "      <th>Chips and Fresh Tomato Salsa</th>\n",
              "      <th>Chips and Guacamole</th>\n",
              "      <th>Chips and Mild Fresh Tomato Salsa</th>\n",
              "      <th>Chips and Roasted Chili Corn Salsa</th>\n",
              "      <th>Chips and Roasted Chili-Corn Salsa</th>\n",
              "      <th>Chips and Tomatillo Green Chili Salsa</th>\n",
              "      <th>Chips and Tomatillo Red Chili Salsa</th>\n",
              "      <th>Chips and Tomatillo-Green Chili Salsa</th>\n",
              "      <th>Chips and Tomatillo-Red Chili Salsa</th>\n",
              "      <th>Crispy Tacos</th>\n",
              "      <th>Izze</th>\n",
              "      <th>Nantucket Nectar</th>\n",
              "      <th>Salad</th>\n",
              "      <th>Side of Chips</th>\n",
              "      <th>Steak Bowl</th>\n",
              "      <th>Steak Burrito</th>\n",
              "      <th>Steak Crispy Tacos</th>\n",
              "      <th>Steak Salad</th>\n",
              "      <th>Steak Salad Bowl</th>\n",
              "      <th>Steak Soft Tacos</th>\n",
              "      <th>Veggie Bowl</th>\n",
              "      <th>Veggie Burrito</th>\n",
              "      <th>Veggie Crispy Tacos</th>\n",
              "      <th>Veggie Salad</th>\n",
              "      <th>Veggie Salad Bowl</th>\n",
              "      <th>Veggie Soft Tacos</th>\n",
              "    </tr>\n",
              "  </thead>\n",
              "  <tbody>\n",
              "    <tr>\n",
              "      <th>0</th>\n",
              "      <td>False</td>\n",
              "      <td>False</td>\n",
              "      <td>False</td>\n",
              "      <td>False</td>\n",
              "      <td>False</td>\n",
              "      <td>False</td>\n",
              "      <td>False</td>\n",
              "      <td>False</td>\n",
              "      <td>False</td>\n",
              "      <td>False</td>\n",
              "      <td>False</td>\n",
              "      <td>False</td>\n",
              "      <td>False</td>\n",
              "      <td>False</td>\n",
              "      <td>False</td>\n",
              "      <td>False</td>\n",
              "      <td>False</td>\n",
              "      <td>False</td>\n",
              "      <td>False</td>\n",
              "      <td>False</td>\n",
              "      <td>False</td>\n",
              "      <td>False</td>\n",
              "      <td>False</td>\n",
              "      <td>False</td>\n",
              "      <td>True</td>\n",
              "      <td>False</td>\n",
              "      <td>False</td>\n",
              "      <td>False</td>\n",
              "      <td>False</td>\n",
              "      <td>False</td>\n",
              "      <td>False</td>\n",
              "      <td>True</td>\n",
              "      <td>False</td>\n",
              "      <td>False</td>\n",
              "      <td>True</td>\n",
              "      <td>True</td>\n",
              "      <td>False</td>\n",
              "      <td>False</td>\n",
              "      <td>False</td>\n",
              "      <td>False</td>\n",
              "      <td>False</td>\n",
              "      <td>False</td>\n",
              "      <td>False</td>\n",
              "      <td>False</td>\n",
              "      <td>False</td>\n",
              "      <td>False</td>\n",
              "      <td>False</td>\n",
              "      <td>False</td>\n",
              "      <td>False</td>\n",
              "      <td>False</td>\n",
              "    </tr>\n",
              "    <tr>\n",
              "      <th>1</th>\n",
              "      <td>False</td>\n",
              "      <td>False</td>\n",
              "      <td>False</td>\n",
              "      <td>False</td>\n",
              "      <td>False</td>\n",
              "      <td>False</td>\n",
              "      <td>False</td>\n",
              "      <td>False</td>\n",
              "      <td>False</td>\n",
              "      <td>False</td>\n",
              "      <td>False</td>\n",
              "      <td>False</td>\n",
              "      <td>False</td>\n",
              "      <td>False</td>\n",
              "      <td>False</td>\n",
              "      <td>False</td>\n",
              "      <td>False</td>\n",
              "      <td>True</td>\n",
              "      <td>False</td>\n",
              "      <td>False</td>\n",
              "      <td>False</td>\n",
              "      <td>False</td>\n",
              "      <td>False</td>\n",
              "      <td>False</td>\n",
              "      <td>False</td>\n",
              "      <td>False</td>\n",
              "      <td>False</td>\n",
              "      <td>False</td>\n",
              "      <td>False</td>\n",
              "      <td>False</td>\n",
              "      <td>False</td>\n",
              "      <td>False</td>\n",
              "      <td>False</td>\n",
              "      <td>False</td>\n",
              "      <td>False</td>\n",
              "      <td>False</td>\n",
              "      <td>False</td>\n",
              "      <td>False</td>\n",
              "      <td>False</td>\n",
              "      <td>False</td>\n",
              "      <td>False</td>\n",
              "      <td>False</td>\n",
              "      <td>False</td>\n",
              "      <td>False</td>\n",
              "      <td>False</td>\n",
              "      <td>False</td>\n",
              "      <td>False</td>\n",
              "      <td>False</td>\n",
              "      <td>False</td>\n",
              "      <td>False</td>\n",
              "    </tr>\n",
              "    <tr>\n",
              "      <th>2</th>\n",
              "      <td>False</td>\n",
              "      <td>False</td>\n",
              "      <td>False</td>\n",
              "      <td>False</td>\n",
              "      <td>False</td>\n",
              "      <td>False</td>\n",
              "      <td>False</td>\n",
              "      <td>False</td>\n",
              "      <td>False</td>\n",
              "      <td>False</td>\n",
              "      <td>False</td>\n",
              "      <td>False</td>\n",
              "      <td>False</td>\n",
              "      <td>False</td>\n",
              "      <td>False</td>\n",
              "      <td>False</td>\n",
              "      <td>False</td>\n",
              "      <td>True</td>\n",
              "      <td>False</td>\n",
              "      <td>False</td>\n",
              "      <td>False</td>\n",
              "      <td>False</td>\n",
              "      <td>False</td>\n",
              "      <td>False</td>\n",
              "      <td>False</td>\n",
              "      <td>False</td>\n",
              "      <td>False</td>\n",
              "      <td>False</td>\n",
              "      <td>False</td>\n",
              "      <td>False</td>\n",
              "      <td>False</td>\n",
              "      <td>False</td>\n",
              "      <td>False</td>\n",
              "      <td>False</td>\n",
              "      <td>False</td>\n",
              "      <td>False</td>\n",
              "      <td>False</td>\n",
              "      <td>True</td>\n",
              "      <td>False</td>\n",
              "      <td>False</td>\n",
              "      <td>False</td>\n",
              "      <td>False</td>\n",
              "      <td>False</td>\n",
              "      <td>False</td>\n",
              "      <td>False</td>\n",
              "      <td>False</td>\n",
              "      <td>False</td>\n",
              "      <td>False</td>\n",
              "      <td>False</td>\n",
              "      <td>False</td>\n",
              "    </tr>\n",
              "    <tr>\n",
              "      <th>3</th>\n",
              "      <td>False</td>\n",
              "      <td>False</td>\n",
              "      <td>False</td>\n",
              "      <td>False</td>\n",
              "      <td>False</td>\n",
              "      <td>False</td>\n",
              "      <td>False</td>\n",
              "      <td>False</td>\n",
              "      <td>False</td>\n",
              "      <td>False</td>\n",
              "      <td>False</td>\n",
              "      <td>False</td>\n",
              "      <td>False</td>\n",
              "      <td>False</td>\n",
              "      <td>False</td>\n",
              "      <td>False</td>\n",
              "      <td>False</td>\n",
              "      <td>False</td>\n",
              "      <td>False</td>\n",
              "      <td>False</td>\n",
              "      <td>False</td>\n",
              "      <td>False</td>\n",
              "      <td>False</td>\n",
              "      <td>False</td>\n",
              "      <td>False</td>\n",
              "      <td>False</td>\n",
              "      <td>False</td>\n",
              "      <td>False</td>\n",
              "      <td>False</td>\n",
              "      <td>False</td>\n",
              "      <td>False</td>\n",
              "      <td>False</td>\n",
              "      <td>False</td>\n",
              "      <td>False</td>\n",
              "      <td>False</td>\n",
              "      <td>False</td>\n",
              "      <td>False</td>\n",
              "      <td>False</td>\n",
              "      <td>False</td>\n",
              "      <td>True</td>\n",
              "      <td>False</td>\n",
              "      <td>False</td>\n",
              "      <td>False</td>\n",
              "      <td>True</td>\n",
              "      <td>False</td>\n",
              "      <td>False</td>\n",
              "      <td>False</td>\n",
              "      <td>False</td>\n",
              "      <td>False</td>\n",
              "      <td>False</td>\n",
              "    </tr>\n",
              "    <tr>\n",
              "      <th>4</th>\n",
              "      <td>False</td>\n",
              "      <td>False</td>\n",
              "      <td>False</td>\n",
              "      <td>False</td>\n",
              "      <td>False</td>\n",
              "      <td>False</td>\n",
              "      <td>False</td>\n",
              "      <td>False</td>\n",
              "      <td>False</td>\n",
              "      <td>False</td>\n",
              "      <td>False</td>\n",
              "      <td>False</td>\n",
              "      <td>False</td>\n",
              "      <td>False</td>\n",
              "      <td>False</td>\n",
              "      <td>False</td>\n",
              "      <td>False</td>\n",
              "      <td>False</td>\n",
              "      <td>False</td>\n",
              "      <td>False</td>\n",
              "      <td>False</td>\n",
              "      <td>False</td>\n",
              "      <td>False</td>\n",
              "      <td>False</td>\n",
              "      <td>False</td>\n",
              "      <td>True</td>\n",
              "      <td>False</td>\n",
              "      <td>False</td>\n",
              "      <td>False</td>\n",
              "      <td>False</td>\n",
              "      <td>False</td>\n",
              "      <td>False</td>\n",
              "      <td>False</td>\n",
              "      <td>False</td>\n",
              "      <td>False</td>\n",
              "      <td>False</td>\n",
              "      <td>False</td>\n",
              "      <td>False</td>\n",
              "      <td>False</td>\n",
              "      <td>True</td>\n",
              "      <td>False</td>\n",
              "      <td>False</td>\n",
              "      <td>False</td>\n",
              "      <td>False</td>\n",
              "      <td>False</td>\n",
              "      <td>False</td>\n",
              "      <td>False</td>\n",
              "      <td>False</td>\n",
              "      <td>False</td>\n",
              "      <td>False</td>\n",
              "    </tr>\n",
              "  </tbody>\n",
              "</table>\n",
              "</div>"
            ],
            "text/plain": [
              "   6 Pack Soft Drink  Barbacoa Bowl  ...  Veggie Salad Bowl  Veggie Soft Tacos\n",
              "0              False          False  ...              False              False\n",
              "1              False          False  ...              False              False\n",
              "2              False          False  ...              False              False\n",
              "3              False          False  ...              False              False\n",
              "4              False          False  ...              False              False\n",
              "\n",
              "[5 rows x 50 columns]"
            ]
          },
          "metadata": {
            "tags": []
          },
          "execution_count": 16
        }
      ]
    },
    {
      "cell_type": "markdown",
      "metadata": {
        "id": "zsPklIdm-aKO"
      },
      "source": [
        "## 3. apropri()\n",
        "- 지지도(support) 0.05 이상인 주문 추출\n",
        "- use_colnames: item_name으로 출력\n",
        "- max_len: 주문의 최대 길이 지정"
      ]
    },
    {
      "cell_type": "code",
      "metadata": {
        "colab": {
          "base_uri": "https://localhost:8080/",
          "height": 576
        },
        "id": "g1z52O6v9-5f",
        "outputId": "31bc616b-f951-4bfd-d73e-d5e56547441e"
      },
      "source": [
        "frequent_itemsets = apriori(order_DF,\n",
        "                            min_support = 0.05,\n",
        "                            use_colnames = True,\n",
        "                            max_len = None)\n",
        "\n",
        "frequent_itemsets"
      ],
      "execution_count": 18,
      "outputs": [
        {
          "output_type": "execute_result",
          "data": {
            "text/html": [
              "<div>\n",
              "<style scoped>\n",
              "    .dataframe tbody tr th:only-of-type {\n",
              "        vertical-align: middle;\n",
              "    }\n",
              "\n",
              "    .dataframe tbody tr th {\n",
              "        vertical-align: top;\n",
              "    }\n",
              "\n",
              "    .dataframe thead th {\n",
              "        text-align: right;\n",
              "    }\n",
              "</style>\n",
              "<table border=\"1\" class=\"dataframe\">\n",
              "  <thead>\n",
              "    <tr style=\"text-align: right;\">\n",
              "      <th></th>\n",
              "      <th>support</th>\n",
              "      <th>itemsets</th>\n",
              "    </tr>\n",
              "  </thead>\n",
              "  <tbody>\n",
              "    <tr>\n",
              "      <th>0</th>\n",
              "      <td>0.083969</td>\n",
              "      <td>(Bottled Water)</td>\n",
              "    </tr>\n",
              "    <tr>\n",
              "      <th>1</th>\n",
              "      <td>0.051254</td>\n",
              "      <td>(Canned Soda)</td>\n",
              "    </tr>\n",
              "    <tr>\n",
              "      <th>2</th>\n",
              "      <td>0.150491</td>\n",
              "      <td>(Canned Soft Drink)</td>\n",
              "    </tr>\n",
              "    <tr>\n",
              "      <th>3</th>\n",
              "      <td>0.335333</td>\n",
              "      <td>(Chicken Bowl)</td>\n",
              "    </tr>\n",
              "    <tr>\n",
              "      <th>4</th>\n",
              "      <td>0.266630</td>\n",
              "      <td>(Chicken Burrito)</td>\n",
              "    </tr>\n",
              "    <tr>\n",
              "      <th>5</th>\n",
              "      <td>0.053435</td>\n",
              "      <td>(Chicken Salad Bowl)</td>\n",
              "    </tr>\n",
              "    <tr>\n",
              "      <th>6</th>\n",
              "      <td>0.058342</td>\n",
              "      <td>(Chicken Soft Tacos)</td>\n",
              "    </tr>\n",
              "    <tr>\n",
              "      <th>7</th>\n",
              "      <td>0.113413</td>\n",
              "      <td>(Chips)</td>\n",
              "    </tr>\n",
              "    <tr>\n",
              "      <th>8</th>\n",
              "      <td>0.059978</td>\n",
              "      <td>(Chips and Fresh Tomato Salsa)</td>\n",
              "    </tr>\n",
              "    <tr>\n",
              "      <th>9</th>\n",
              "      <td>0.258451</td>\n",
              "      <td>(Chips and Guacamole)</td>\n",
              "    </tr>\n",
              "    <tr>\n",
              "      <th>10</th>\n",
              "      <td>0.055071</td>\n",
              "      <td>(Side of Chips)</td>\n",
              "    </tr>\n",
              "    <tr>\n",
              "      <th>11</th>\n",
              "      <td>0.102508</td>\n",
              "      <td>(Steak Bowl)</td>\n",
              "    </tr>\n",
              "    <tr>\n",
              "      <th>12</th>\n",
              "      <td>0.186478</td>\n",
              "      <td>(Steak Burrito)</td>\n",
              "    </tr>\n",
              "    <tr>\n",
              "      <th>13</th>\n",
              "      <td>0.060523</td>\n",
              "      <td>(Canned Soft Drink, Chicken Bowl)</td>\n",
              "    </tr>\n",
              "    <tr>\n",
              "      <th>14</th>\n",
              "      <td>0.066521</td>\n",
              "      <td>(Chips, Chicken Bowl)</td>\n",
              "    </tr>\n",
              "    <tr>\n",
              "      <th>15</th>\n",
              "      <td>0.081243</td>\n",
              "      <td>(Chips and Guacamole, Chicken Bowl)</td>\n",
              "    </tr>\n",
              "    <tr>\n",
              "      <th>16</th>\n",
              "      <td>0.062159</td>\n",
              "      <td>(Chicken Burrito, Chips and Guacamole)</td>\n",
              "    </tr>\n",
              "  </tbody>\n",
              "</table>\n",
              "</div>"
            ],
            "text/plain": [
              "     support                                itemsets\n",
              "0   0.083969                         (Bottled Water)\n",
              "1   0.051254                           (Canned Soda)\n",
              "2   0.150491                     (Canned Soft Drink)\n",
              "3   0.335333                          (Chicken Bowl)\n",
              "4   0.266630                       (Chicken Burrito)\n",
              "5   0.053435                    (Chicken Salad Bowl)\n",
              "6   0.058342                    (Chicken Soft Tacos)\n",
              "7   0.113413                                 (Chips)\n",
              "8   0.059978          (Chips and Fresh Tomato Salsa)\n",
              "9   0.258451                   (Chips and Guacamole)\n",
              "10  0.055071                         (Side of Chips)\n",
              "11  0.102508                            (Steak Bowl)\n",
              "12  0.186478                         (Steak Burrito)\n",
              "13  0.060523       (Canned Soft Drink, Chicken Bowl)\n",
              "14  0.066521                   (Chips, Chicken Bowl)\n",
              "15  0.081243     (Chips and Guacamole, Chicken Bowl)\n",
              "16  0.062159  (Chicken Burrito, Chips and Guacamole)"
            ]
          },
          "metadata": {
            "tags": []
          },
          "execution_count": 18
        }
      ]
    },
    {
      "cell_type": "markdown",
      "metadata": {
        "id": "-z0cnota-xAi"
      },
      "source": [
        "## 4. association_rules()"
      ]
    },
    {
      "cell_type": "markdown",
      "metadata": {
        "id": "H_2PWFN_-zm9"
      },
      "source": [
        "### 1) 지지도(support)가 최소 0.05 이상인 연관관계 출력\n",
        "- antecedents(조건절) -> consequents(결과절)\n",
        "- 전체 주문 중 조건절과 결과절을 포함한 비율\n",
        "- 방향성 없음"
      ]
    },
    {
      "cell_type": "code",
      "metadata": {
        "colab": {
          "base_uri": "https://localhost:8080/",
          "height": 470
        },
        "id": "NyrHPioq-ueK",
        "outputId": "93c40ebe-854e-4034-ac6a-d089991b19b5"
      },
      "source": [
        "association_rules(frequent_itemsets,\n",
        "                  metric = 'support' ,\n",
        "                  min_threshold = 0.05)"
      ],
      "execution_count": 21,
      "outputs": [
        {
          "output_type": "execute_result",
          "data": {
            "text/html": [
              "<div>\n",
              "<style scoped>\n",
              "    .dataframe tbody tr th:only-of-type {\n",
              "        vertical-align: middle;\n",
              "    }\n",
              "\n",
              "    .dataframe tbody tr th {\n",
              "        vertical-align: top;\n",
              "    }\n",
              "\n",
              "    .dataframe thead th {\n",
              "        text-align: right;\n",
              "    }\n",
              "</style>\n",
              "<table border=\"1\" class=\"dataframe\">\n",
              "  <thead>\n",
              "    <tr style=\"text-align: right;\">\n",
              "      <th></th>\n",
              "      <th>antecedents</th>\n",
              "      <th>consequents</th>\n",
              "      <th>antecedent support</th>\n",
              "      <th>consequent support</th>\n",
              "      <th>support</th>\n",
              "      <th>confidence</th>\n",
              "      <th>lift</th>\n",
              "      <th>leverage</th>\n",
              "      <th>conviction</th>\n",
              "    </tr>\n",
              "  </thead>\n",
              "  <tbody>\n",
              "    <tr>\n",
              "      <th>0</th>\n",
              "      <td>(Canned Soft Drink)</td>\n",
              "      <td>(Chicken Bowl)</td>\n",
              "      <td>0.150491</td>\n",
              "      <td>0.335333</td>\n",
              "      <td>0.060523</td>\n",
              "      <td>0.402174</td>\n",
              "      <td>1.199328</td>\n",
              "      <td>0.010059</td>\n",
              "      <td>1.111807</td>\n",
              "    </tr>\n",
              "    <tr>\n",
              "      <th>1</th>\n",
              "      <td>(Chicken Bowl)</td>\n",
              "      <td>(Canned Soft Drink)</td>\n",
              "      <td>0.335333</td>\n",
              "      <td>0.150491</td>\n",
              "      <td>0.060523</td>\n",
              "      <td>0.180488</td>\n",
              "      <td>1.199328</td>\n",
              "      <td>0.010059</td>\n",
              "      <td>1.036604</td>\n",
              "    </tr>\n",
              "    <tr>\n",
              "      <th>2</th>\n",
              "      <td>(Chips)</td>\n",
              "      <td>(Chicken Bowl)</td>\n",
              "      <td>0.113413</td>\n",
              "      <td>0.335333</td>\n",
              "      <td>0.066521</td>\n",
              "      <td>0.586538</td>\n",
              "      <td>1.749124</td>\n",
              "      <td>0.028490</td>\n",
              "      <td>1.607568</td>\n",
              "    </tr>\n",
              "    <tr>\n",
              "      <th>3</th>\n",
              "      <td>(Chicken Bowl)</td>\n",
              "      <td>(Chips)</td>\n",
              "      <td>0.335333</td>\n",
              "      <td>0.113413</td>\n",
              "      <td>0.066521</td>\n",
              "      <td>0.198374</td>\n",
              "      <td>1.749124</td>\n",
              "      <td>0.028490</td>\n",
              "      <td>1.105985</td>\n",
              "    </tr>\n",
              "    <tr>\n",
              "      <th>4</th>\n",
              "      <td>(Chips and Guacamole)</td>\n",
              "      <td>(Chicken Bowl)</td>\n",
              "      <td>0.258451</td>\n",
              "      <td>0.335333</td>\n",
              "      <td>0.081243</td>\n",
              "      <td>0.314346</td>\n",
              "      <td>0.937416</td>\n",
              "      <td>-0.005424</td>\n",
              "      <td>0.969392</td>\n",
              "    </tr>\n",
              "    <tr>\n",
              "      <th>5</th>\n",
              "      <td>(Chicken Bowl)</td>\n",
              "      <td>(Chips and Guacamole)</td>\n",
              "      <td>0.335333</td>\n",
              "      <td>0.258451</td>\n",
              "      <td>0.081243</td>\n",
              "      <td>0.242276</td>\n",
              "      <td>0.937416</td>\n",
              "      <td>-0.005424</td>\n",
              "      <td>0.978653</td>\n",
              "    </tr>\n",
              "    <tr>\n",
              "      <th>6</th>\n",
              "      <td>(Chicken Burrito)</td>\n",
              "      <td>(Chips and Guacamole)</td>\n",
              "      <td>0.266630</td>\n",
              "      <td>0.258451</td>\n",
              "      <td>0.062159</td>\n",
              "      <td>0.233129</td>\n",
              "      <td>0.902022</td>\n",
              "      <td>-0.006752</td>\n",
              "      <td>0.966979</td>\n",
              "    </tr>\n",
              "    <tr>\n",
              "      <th>7</th>\n",
              "      <td>(Chips and Guacamole)</td>\n",
              "      <td>(Chicken Burrito)</td>\n",
              "      <td>0.258451</td>\n",
              "      <td>0.266630</td>\n",
              "      <td>0.062159</td>\n",
              "      <td>0.240506</td>\n",
              "      <td>0.902022</td>\n",
              "      <td>-0.006752</td>\n",
              "      <td>0.965603</td>\n",
              "    </tr>\n",
              "  </tbody>\n",
              "</table>\n",
              "</div>"
            ],
            "text/plain": [
              "             antecedents            consequents  ...  leverage  conviction\n",
              "0    (Canned Soft Drink)         (Chicken Bowl)  ...  0.010059    1.111807\n",
              "1         (Chicken Bowl)    (Canned Soft Drink)  ...  0.010059    1.036604\n",
              "2                (Chips)         (Chicken Bowl)  ...  0.028490    1.607568\n",
              "3         (Chicken Bowl)                (Chips)  ...  0.028490    1.105985\n",
              "4  (Chips and Guacamole)         (Chicken Bowl)  ... -0.005424    0.969392\n",
              "5         (Chicken Bowl)  (Chips and Guacamole)  ... -0.005424    0.978653\n",
              "6      (Chicken Burrito)  (Chips and Guacamole)  ... -0.006752    0.966979\n",
              "7  (Chips and Guacamole)      (Chicken Burrito)  ... -0.006752    0.965603\n",
              "\n",
              "[8 rows x 9 columns]"
            ]
          },
          "metadata": {
            "tags": []
          },
          "execution_count": 21
        }
      ]
    },
    {
      "cell_type": "markdown",
      "metadata": {
        "id": "C4lwMeIP_IQO"
      },
      "source": [
        "### 2) 신뢰도(confidence)가 최소 0.3 이상인 연관관계 출력\n",
        "- 조건절이 있을 때 결과절도 있는 비율\n",
        "- 조건부 확률\n",
        "- 방향성 존재"
      ]
    },
    {
      "cell_type": "code",
      "metadata": {
        "colab": {
          "base_uri": "https://localhost:8080/",
          "height": 230
        },
        "id": "WUiV7HB1_Pyl",
        "outputId": "a1b21ea5-507c-42cf-f20a-db9d0bee9735"
      },
      "source": [
        "association_rules(frequent_itemsets,\n",
        "                  metric = 'confidence' ,\n",
        "                  min_threshold = 0.3)"
      ],
      "execution_count": 22,
      "outputs": [
        {
          "output_type": "execute_result",
          "data": {
            "text/html": [
              "<div>\n",
              "<style scoped>\n",
              "    .dataframe tbody tr th:only-of-type {\n",
              "        vertical-align: middle;\n",
              "    }\n",
              "\n",
              "    .dataframe tbody tr th {\n",
              "        vertical-align: top;\n",
              "    }\n",
              "\n",
              "    .dataframe thead th {\n",
              "        text-align: right;\n",
              "    }\n",
              "</style>\n",
              "<table border=\"1\" class=\"dataframe\">\n",
              "  <thead>\n",
              "    <tr style=\"text-align: right;\">\n",
              "      <th></th>\n",
              "      <th>antecedents</th>\n",
              "      <th>consequents</th>\n",
              "      <th>antecedent support</th>\n",
              "      <th>consequent support</th>\n",
              "      <th>support</th>\n",
              "      <th>confidence</th>\n",
              "      <th>lift</th>\n",
              "      <th>leverage</th>\n",
              "      <th>conviction</th>\n",
              "    </tr>\n",
              "  </thead>\n",
              "  <tbody>\n",
              "    <tr>\n",
              "      <th>0</th>\n",
              "      <td>(Canned Soft Drink)</td>\n",
              "      <td>(Chicken Bowl)</td>\n",
              "      <td>0.150491</td>\n",
              "      <td>0.335333</td>\n",
              "      <td>0.060523</td>\n",
              "      <td>0.402174</td>\n",
              "      <td>1.199328</td>\n",
              "      <td>0.010059</td>\n",
              "      <td>1.111807</td>\n",
              "    </tr>\n",
              "    <tr>\n",
              "      <th>1</th>\n",
              "      <td>(Chips)</td>\n",
              "      <td>(Chicken Bowl)</td>\n",
              "      <td>0.113413</td>\n",
              "      <td>0.335333</td>\n",
              "      <td>0.066521</td>\n",
              "      <td>0.586538</td>\n",
              "      <td>1.749124</td>\n",
              "      <td>0.028490</td>\n",
              "      <td>1.607568</td>\n",
              "    </tr>\n",
              "    <tr>\n",
              "      <th>2</th>\n",
              "      <td>(Chips and Guacamole)</td>\n",
              "      <td>(Chicken Bowl)</td>\n",
              "      <td>0.258451</td>\n",
              "      <td>0.335333</td>\n",
              "      <td>0.081243</td>\n",
              "      <td>0.314346</td>\n",
              "      <td>0.937416</td>\n",
              "      <td>-0.005424</td>\n",
              "      <td>0.969392</td>\n",
              "    </tr>\n",
              "  </tbody>\n",
              "</table>\n",
              "</div>"
            ],
            "text/plain": [
              "             antecedents     consequents  ...  leverage  conviction\n",
              "0    (Canned Soft Drink)  (Chicken Bowl)  ...  0.010059    1.111807\n",
              "1                (Chips)  (Chicken Bowl)  ...  0.028490    1.607568\n",
              "2  (Chips and Guacamole)  (Chicken Bowl)  ... -0.005424    0.969392\n",
              "\n",
              "[3 rows x 9 columns]"
            ]
          },
          "metadata": {
            "tags": []
          },
          "execution_count": 22
        }
      ]
    },
    {
      "cell_type": "markdown",
      "metadata": {
        "id": "mkPF26_6_XZk"
      },
      "source": [
        "### 3) 향상도(support)가 최소 0.1이상인 연관관계 출력\n",
        "- 향상도가 1이라면 조건절과 결과절은 독립관계\n",
        "- 1보다 크거나 작다면 우연이 아닌 필연적 관계"
      ]
    },
    {
      "cell_type": "code",
      "metadata": {
        "colab": {
          "base_uri": "https://localhost:8080/",
          "height": 470
        },
        "id": "eh_v9_kb_GNM",
        "outputId": "aee3d313-1085-4a84-d858-cac9f2135342"
      },
      "source": [
        "association_rules(frequent_itemsets,\n",
        "                  metric = 'lift' ,\n",
        "                  min_threshold = 0.1)"
      ],
      "execution_count": 23,
      "outputs": [
        {
          "output_type": "execute_result",
          "data": {
            "text/html": [
              "<div>\n",
              "<style scoped>\n",
              "    .dataframe tbody tr th:only-of-type {\n",
              "        vertical-align: middle;\n",
              "    }\n",
              "\n",
              "    .dataframe tbody tr th {\n",
              "        vertical-align: top;\n",
              "    }\n",
              "\n",
              "    .dataframe thead th {\n",
              "        text-align: right;\n",
              "    }\n",
              "</style>\n",
              "<table border=\"1\" class=\"dataframe\">\n",
              "  <thead>\n",
              "    <tr style=\"text-align: right;\">\n",
              "      <th></th>\n",
              "      <th>antecedents</th>\n",
              "      <th>consequents</th>\n",
              "      <th>antecedent support</th>\n",
              "      <th>consequent support</th>\n",
              "      <th>support</th>\n",
              "      <th>confidence</th>\n",
              "      <th>lift</th>\n",
              "      <th>leverage</th>\n",
              "      <th>conviction</th>\n",
              "    </tr>\n",
              "  </thead>\n",
              "  <tbody>\n",
              "    <tr>\n",
              "      <th>0</th>\n",
              "      <td>(Canned Soft Drink)</td>\n",
              "      <td>(Chicken Bowl)</td>\n",
              "      <td>0.150491</td>\n",
              "      <td>0.335333</td>\n",
              "      <td>0.060523</td>\n",
              "      <td>0.402174</td>\n",
              "      <td>1.199328</td>\n",
              "      <td>0.010059</td>\n",
              "      <td>1.111807</td>\n",
              "    </tr>\n",
              "    <tr>\n",
              "      <th>1</th>\n",
              "      <td>(Chicken Bowl)</td>\n",
              "      <td>(Canned Soft Drink)</td>\n",
              "      <td>0.335333</td>\n",
              "      <td>0.150491</td>\n",
              "      <td>0.060523</td>\n",
              "      <td>0.180488</td>\n",
              "      <td>1.199328</td>\n",
              "      <td>0.010059</td>\n",
              "      <td>1.036604</td>\n",
              "    </tr>\n",
              "    <tr>\n",
              "      <th>2</th>\n",
              "      <td>(Chips)</td>\n",
              "      <td>(Chicken Bowl)</td>\n",
              "      <td>0.113413</td>\n",
              "      <td>0.335333</td>\n",
              "      <td>0.066521</td>\n",
              "      <td>0.586538</td>\n",
              "      <td>1.749124</td>\n",
              "      <td>0.028490</td>\n",
              "      <td>1.607568</td>\n",
              "    </tr>\n",
              "    <tr>\n",
              "      <th>3</th>\n",
              "      <td>(Chicken Bowl)</td>\n",
              "      <td>(Chips)</td>\n",
              "      <td>0.335333</td>\n",
              "      <td>0.113413</td>\n",
              "      <td>0.066521</td>\n",
              "      <td>0.198374</td>\n",
              "      <td>1.749124</td>\n",
              "      <td>0.028490</td>\n",
              "      <td>1.105985</td>\n",
              "    </tr>\n",
              "    <tr>\n",
              "      <th>4</th>\n",
              "      <td>(Chips and Guacamole)</td>\n",
              "      <td>(Chicken Bowl)</td>\n",
              "      <td>0.258451</td>\n",
              "      <td>0.335333</td>\n",
              "      <td>0.081243</td>\n",
              "      <td>0.314346</td>\n",
              "      <td>0.937416</td>\n",
              "      <td>-0.005424</td>\n",
              "      <td>0.969392</td>\n",
              "    </tr>\n",
              "    <tr>\n",
              "      <th>5</th>\n",
              "      <td>(Chicken Bowl)</td>\n",
              "      <td>(Chips and Guacamole)</td>\n",
              "      <td>0.335333</td>\n",
              "      <td>0.258451</td>\n",
              "      <td>0.081243</td>\n",
              "      <td>0.242276</td>\n",
              "      <td>0.937416</td>\n",
              "      <td>-0.005424</td>\n",
              "      <td>0.978653</td>\n",
              "    </tr>\n",
              "    <tr>\n",
              "      <th>6</th>\n",
              "      <td>(Chicken Burrito)</td>\n",
              "      <td>(Chips and Guacamole)</td>\n",
              "      <td>0.266630</td>\n",
              "      <td>0.258451</td>\n",
              "      <td>0.062159</td>\n",
              "      <td>0.233129</td>\n",
              "      <td>0.902022</td>\n",
              "      <td>-0.006752</td>\n",
              "      <td>0.966979</td>\n",
              "    </tr>\n",
              "    <tr>\n",
              "      <th>7</th>\n",
              "      <td>(Chips and Guacamole)</td>\n",
              "      <td>(Chicken Burrito)</td>\n",
              "      <td>0.258451</td>\n",
              "      <td>0.266630</td>\n",
              "      <td>0.062159</td>\n",
              "      <td>0.240506</td>\n",
              "      <td>0.902022</td>\n",
              "      <td>-0.006752</td>\n",
              "      <td>0.965603</td>\n",
              "    </tr>\n",
              "  </tbody>\n",
              "</table>\n",
              "</div>"
            ],
            "text/plain": [
              "             antecedents            consequents  ...  leverage  conviction\n",
              "0    (Canned Soft Drink)         (Chicken Bowl)  ...  0.010059    1.111807\n",
              "1         (Chicken Bowl)    (Canned Soft Drink)  ...  0.010059    1.036604\n",
              "2                (Chips)         (Chicken Bowl)  ...  0.028490    1.607568\n",
              "3         (Chicken Bowl)                (Chips)  ...  0.028490    1.105985\n",
              "4  (Chips and Guacamole)         (Chicken Bowl)  ... -0.005424    0.969392\n",
              "5         (Chicken Bowl)  (Chips and Guacamole)  ... -0.005424    0.978653\n",
              "6      (Chicken Burrito)  (Chips and Guacamole)  ... -0.006752    0.966979\n",
              "7  (Chips and Guacamole)      (Chicken Burrito)  ... -0.006752    0.965603\n",
              "\n",
              "[8 rows x 9 columns]"
            ]
          },
          "metadata": {
            "tags": []
          },
          "execution_count": 23
        }
      ]
    },
    {
      "cell_type": "code",
      "metadata": {
        "id": "8I5owNaK_kAl"
      },
      "source": [
        ""
      ],
      "execution_count": null,
      "outputs": []
    }
  ]
}