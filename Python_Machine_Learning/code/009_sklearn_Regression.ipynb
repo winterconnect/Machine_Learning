{
  "nbformat": 4,
  "nbformat_minor": 0,
  "metadata": {
    "colab": {
      "name": "009_sklearn_Regression.ipynb",
      "provenance": [],
      "collapsed_sections": []
    },
    "kernelspec": {
      "name": "python3",
      "display_name": "Python 3"
    }
  },
  "cells": [
    {
      "cell_type": "code",
      "metadata": {
        "id": "UBvSiCIaf96d"
      },
      "source": [
        "import warnings\n",
        "warnings.filterwarnings('ignore')"
      ],
      "execution_count": 1,
      "outputs": []
    },
    {
      "cell_type": "code",
      "metadata": {
        "id": "bRU9cO3fgXaz"
      },
      "source": [
        "import pandas as pd\n",
        "import matplotlib.pyplot as plt\n",
        "import seaborn as sns"
      ],
      "execution_count": 26,
      "outputs": []
    },
    {
      "cell_type": "code",
      "metadata": {
        "id": "vT-5FUy6gY26"
      },
      "source": [
        "from sklearn.model_selection import train_test_split\n",
        "from sklearn.linear_model import LinearRegression, Ridge, Lasso, ElasticNet\n",
        "from sklearn.tree import DecisionTreeRegressor\n",
        "from sklearn.ensemble import RandomForestRegressor, GradientBoostingRegressor, AdaBoostRegressor\n",
        "from xgboost import XGBRegressor\n",
        "from lightgbm import LGBMRegressor\n",
        "from sklearn.metrics import mean_squared_error"
      ],
      "execution_count": 48,
      "outputs": []
    },
    {
      "cell_type": "markdown",
      "metadata": {
        "id": "R5NGy5Y1gCbD"
      },
      "source": [
        "## 실습용 데이터 설정"
      ]
    },
    {
      "cell_type": "markdown",
      "metadata": {
        "id": "P8sDrOvPgIfl"
      },
      "source": [
        "- pandas DataFrame\n",
        "  - insurance.csv"
      ]
    },
    {
      "cell_type": "code",
      "metadata": {
        "colab": {
          "base_uri": "https://localhost:8080/"
        },
        "id": "kHozG_uBgWao",
        "outputId": "c653b9fa-6c8d-4791-f662-480031f6bd17"
      },
      "source": [
        "df = pd.read_csv('https://raw.githubusercontent.com/rusita-ai/pyData/master/Insurance.csv')\n",
        "\n",
        "df.info()"
      ],
      "execution_count": 3,
      "outputs": [
        {
          "output_type": "stream",
          "text": [
            "<class 'pandas.core.frame.DataFrame'>\n",
            "RangeIndex: 1338 entries, 0 to 1337\n",
            "Data columns (total 7 columns):\n",
            " #   Column    Non-Null Count  Dtype  \n",
            "---  ------    --------------  -----  \n",
            " 0   age       1338 non-null   int64  \n",
            " 1   sex       1338 non-null   object \n",
            " 2   bmi       1338 non-null   float64\n",
            " 3   children  1338 non-null   int64  \n",
            " 4   smoker    1338 non-null   object \n",
            " 5   region    1338 non-null   object \n",
            " 6   expenses  1338 non-null   float64\n",
            "dtypes: float64(2), int64(2), object(3)\n",
            "memory usage: 73.3+ KB\n"
          ],
          "name": "stdout"
        }
      ]
    },
    {
      "cell_type": "code",
      "metadata": {
        "colab": {
          "base_uri": "https://localhost:8080/",
          "height": 142
        },
        "id": "asV_4C12ghkD",
        "outputId": "9874d30f-c2a9-4a28-e197-59e430600980"
      },
      "source": [
        "df.head(3)"
      ],
      "execution_count": 4,
      "outputs": [
        {
          "output_type": "execute_result",
          "data": {
            "text/html": [
              "<div>\n",
              "<style scoped>\n",
              "    .dataframe tbody tr th:only-of-type {\n",
              "        vertical-align: middle;\n",
              "    }\n",
              "\n",
              "    .dataframe tbody tr th {\n",
              "        vertical-align: top;\n",
              "    }\n",
              "\n",
              "    .dataframe thead th {\n",
              "        text-align: right;\n",
              "    }\n",
              "</style>\n",
              "<table border=\"1\" class=\"dataframe\">\n",
              "  <thead>\n",
              "    <tr style=\"text-align: right;\">\n",
              "      <th></th>\n",
              "      <th>age</th>\n",
              "      <th>sex</th>\n",
              "      <th>bmi</th>\n",
              "      <th>children</th>\n",
              "      <th>smoker</th>\n",
              "      <th>region</th>\n",
              "      <th>expenses</th>\n",
              "    </tr>\n",
              "  </thead>\n",
              "  <tbody>\n",
              "    <tr>\n",
              "      <th>0</th>\n",
              "      <td>19</td>\n",
              "      <td>female</td>\n",
              "      <td>27.90</td>\n",
              "      <td>0</td>\n",
              "      <td>yes</td>\n",
              "      <td>southwest</td>\n",
              "      <td>16884.9240</td>\n",
              "    </tr>\n",
              "    <tr>\n",
              "      <th>1</th>\n",
              "      <td>18</td>\n",
              "      <td>male</td>\n",
              "      <td>33.77</td>\n",
              "      <td>1</td>\n",
              "      <td>no</td>\n",
              "      <td>southeast</td>\n",
              "      <td>1725.5523</td>\n",
              "    </tr>\n",
              "    <tr>\n",
              "      <th>2</th>\n",
              "      <td>28</td>\n",
              "      <td>male</td>\n",
              "      <td>33.00</td>\n",
              "      <td>3</td>\n",
              "      <td>no</td>\n",
              "      <td>southeast</td>\n",
              "      <td>4449.4620</td>\n",
              "    </tr>\n",
              "  </tbody>\n",
              "</table>\n",
              "</div>"
            ],
            "text/plain": [
              "   age     sex    bmi  children smoker     region    expenses\n",
              "0   19  female  27.90         0    yes  southwest  16884.9240\n",
              "1   18    male  33.77         1     no  southeast   1725.5523\n",
              "2   28    male  33.00         3     no  southeast   4449.4620"
            ]
          },
          "metadata": {
            "tags": []
          },
          "execution_count": 4
        }
      ]
    },
    {
      "cell_type": "markdown",
      "metadata": {
        "id": "a6_Pffb6glW7"
      },
      "source": [
        "### 1) 분석변수 선택\n",
        "- X: 'age', 'bmi', 'children'\n",
        "- y: 'expenses'"
      ]
    },
    {
      "cell_type": "code",
      "metadata": {
        "colab": {
          "base_uri": "https://localhost:8080/",
          "height": 142
        },
        "id": "qY9SoEeUgp9T",
        "outputId": "2ded1e96-ed50-40dc-b6bb-7bbd97f4f7f2"
      },
      "source": [
        "df1 = df[['expenses', 'age', 'bmi', 'children']]\n",
        "\n",
        "df1.head(3)"
      ],
      "execution_count": 5,
      "outputs": [
        {
          "output_type": "execute_result",
          "data": {
            "text/html": [
              "<div>\n",
              "<style scoped>\n",
              "    .dataframe tbody tr th:only-of-type {\n",
              "        vertical-align: middle;\n",
              "    }\n",
              "\n",
              "    .dataframe tbody tr th {\n",
              "        vertical-align: top;\n",
              "    }\n",
              "\n",
              "    .dataframe thead th {\n",
              "        text-align: right;\n",
              "    }\n",
              "</style>\n",
              "<table border=\"1\" class=\"dataframe\">\n",
              "  <thead>\n",
              "    <tr style=\"text-align: right;\">\n",
              "      <th></th>\n",
              "      <th>expenses</th>\n",
              "      <th>age</th>\n",
              "      <th>bmi</th>\n",
              "      <th>children</th>\n",
              "    </tr>\n",
              "  </thead>\n",
              "  <tbody>\n",
              "    <tr>\n",
              "      <th>0</th>\n",
              "      <td>16884.9240</td>\n",
              "      <td>19</td>\n",
              "      <td>27.90</td>\n",
              "      <td>0</td>\n",
              "    </tr>\n",
              "    <tr>\n",
              "      <th>1</th>\n",
              "      <td>1725.5523</td>\n",
              "      <td>18</td>\n",
              "      <td>33.77</td>\n",
              "      <td>1</td>\n",
              "    </tr>\n",
              "    <tr>\n",
              "      <th>2</th>\n",
              "      <td>4449.4620</td>\n",
              "      <td>28</td>\n",
              "      <td>33.00</td>\n",
              "      <td>3</td>\n",
              "    </tr>\n",
              "  </tbody>\n",
              "</table>\n",
              "</div>"
            ],
            "text/plain": [
              "     expenses  age    bmi  children\n",
              "0  16884.9240   19  27.90         0\n",
              "1   1725.5523   18  33.77         1\n",
              "2   4449.4620   28  33.00         3"
            ]
          },
          "metadata": {
            "tags": []
          },
          "execution_count": 5
        }
      ]
    },
    {
      "cell_type": "markdown",
      "metadata": {
        "id": "TX2YJuMGgyqD"
      },
      "source": [
        "### 2) Train & Test Split\n",
        "- 7:3"
      ]
    },
    {
      "cell_type": "code",
      "metadata": {
        "colab": {
          "base_uri": "https://localhost:8080/"
        },
        "id": "GAl9PISBg2Bj",
        "outputId": "48be6a90-2234-42f8-cb88-7ef1dfa9e383"
      },
      "source": [
        "X = df1[['age' , 'bmi' , 'children']]\n",
        "y = df1['expenses']\n",
        "\n",
        "X_train, X_test, y_train, y_test = train_test_split(X, y,\n",
        "                                                    test_size = 0.3,\n",
        "                                                    random_state = 2045)\n",
        "\n",
        "print('Train Data: ' , X_train.shape, y_train.shape)\n",
        "print('Test Data: ' , X_test.shape, y_test.shape)"
      ],
      "execution_count": 7,
      "outputs": [
        {
          "output_type": "stream",
          "text": [
            "Train Data:  (936, 3) (936,)\n",
            "Test Data:  (402, 3) (402,)\n"
          ],
          "name": "stdout"
        }
      ]
    },
    {
      "cell_type": "markdown",
      "metadata": {
        "id": "K6ADTtQehPGD"
      },
      "source": [
        "## 1. Multivariate Regression"
      ]
    },
    {
      "cell_type": "markdown",
      "metadata": {
        "id": "Rw8HxpqAhSI8"
      },
      "source": [
        "### 1) 모델 생성"
      ]
    },
    {
      "cell_type": "code",
      "metadata": {
        "colab": {
          "base_uri": "https://localhost:8080/"
        },
        "id": "tinrN6d5hNhX",
        "outputId": "b620de04-a9a6-49f9-d76b-5af4376290c4"
      },
      "source": [
        "%%time\n",
        "\n",
        "lr = LinearRegression(normalize = True,\n",
        "                      n_jobs = -1)\n",
        "\n",
        "lr.fit(X_train, y_train)"
      ],
      "execution_count": 9,
      "outputs": [
        {
          "output_type": "stream",
          "text": [
            "CPU times: user 2.14 ms, sys: 2.66 ms, total: 4.8 ms\n",
            "Wall time: 31.3 ms\n"
          ],
          "name": "stdout"
        }
      ]
    },
    {
      "cell_type": "markdown",
      "metadata": {
        "id": "jRKWCtpuhhB4"
      },
      "source": [
        "### 2) 모델평가"
      ]
    },
    {
      "cell_type": "code",
      "metadata": {
        "colab": {
          "base_uri": "https://localhost:8080/"
        },
        "id": "LmA-EVQfhi2P",
        "outputId": "7748c126-ab12-4d48-9631-9ccf31f10fa6"
      },
      "source": [
        "mean_squared_error(y_test, lr.predict(X_test))"
      ],
      "execution_count": 11,
      "outputs": [
        {
          "output_type": "execute_result",
          "data": {
            "text/plain": [
              "114300134.03204554"
            ]
          },
          "metadata": {
            "tags": []
          },
          "execution_count": 11
        }
      ]
    },
    {
      "cell_type": "markdown",
      "metadata": {
        "id": "U_yUkgYUhq6F"
      },
      "source": [
        "## 2. Ridge Regression"
      ]
    },
    {
      "cell_type": "markdown",
      "metadata": {
        "id": "Ru_PE2GIhta1"
      },
      "source": [
        "### 1) 모델 생성\n",
        "- alpha: Regularization strength\n",
        "  - default: 1.0\n",
        "  - 값이 커지면 weight값을 0에 가깝게 학습\n",
        "  - 값이 작아지면 weight값을 제한하지 않음\n",
        "- solver: Optimization Method\n",
        "  - 'cholesy': Matrix Decomposition(숄레스키 행렬분해)\n",
        "  - 'sag': Stochastic Average Gradient Descent\n",
        "    - solver = 'sag'\n",
        "    - random_state = 2045\n",
        "    - max_iter = 1000"
      ]
    },
    {
      "cell_type": "code",
      "metadata": {
        "colab": {
          "base_uri": "https://localhost:8080/"
        },
        "id": "Bab7TVqBhf3h",
        "outputId": "dd6cbea1-051d-4758-fd2c-f02940d9e607"
      },
      "source": [
        "%%time\n",
        "\n",
        "rg = Ridge(normalize = True,\n",
        "           alpha = 0.3,\n",
        "           solver = 'cholesky')\n",
        "\n",
        "rg.fit(X_train, y_train)"
      ],
      "execution_count": 15,
      "outputs": [
        {
          "output_type": "stream",
          "text": [
            "CPU times: user 2.77 ms, sys: 0 ns, total: 2.77 ms\n",
            "Wall time: 3.21 ms\n"
          ],
          "name": "stdout"
        }
      ]
    },
    {
      "cell_type": "markdown",
      "metadata": {
        "id": "aK-COXC7iTzh"
      },
      "source": [
        "### 2) 모델 평가"
      ]
    },
    {
      "cell_type": "code",
      "metadata": {
        "colab": {
          "base_uri": "https://localhost:8080/"
        },
        "id": "Bc_QtTiCiViz",
        "outputId": "5cf7ff54-ef62-465a-df2e-b2c8a6d16fca"
      },
      "source": [
        "mean_squared_error(y_test, rg.predict(X_test))"
      ],
      "execution_count": 16,
      "outputs": [
        {
          "output_type": "execute_result",
          "data": {
            "text/plain": [
              "113578068.78448391"
            ]
          },
          "metadata": {
            "tags": []
          },
          "execution_count": 16
        }
      ]
    },
    {
      "cell_type": "markdown",
      "metadata": {
        "id": "VFf3nUM1iZd-"
      },
      "source": [
        "## 3. Lasso Regression"
      ]
    },
    {
      "cell_type": "markdown",
      "metadata": {
        "id": "khWpvAg-ibzX"
      },
      "source": [
        "### 3) 모델 생성\n",
        "- alpha: Regularization strength\n",
        "  - default: 1.0\n",
        "  - 값이 커지면 weight값을 0에 가깝게 학습\n",
        "  - 값이 작아지면 weight값을 제한하지 않음"
      ]
    },
    {
      "cell_type": "code",
      "metadata": {
        "colab": {
          "base_uri": "https://localhost:8080/"
        },
        "id": "DKOOeYSzgxmZ",
        "outputId": "e5fb1eff-736e-4406-ac37-624732073c80"
      },
      "source": [
        "%%time\n",
        "\n",
        "ls = Lasso(normalize = True,\n",
        "           alpha = 0.2)\n",
        "\n",
        "ls.fit(X_train, y_train)"
      ],
      "execution_count": 18,
      "outputs": [
        {
          "output_type": "stream",
          "text": [
            "CPU times: user 2.4 ms, sys: 935 µs, total: 3.34 ms\n",
            "Wall time: 3.36 ms\n"
          ],
          "name": "stdout"
        }
      ]
    },
    {
      "cell_type": "markdown",
      "metadata": {
        "id": "96siJPQZjWBB"
      },
      "source": [
        "### 2) 모델 평가"
      ]
    },
    {
      "cell_type": "code",
      "metadata": {
        "colab": {
          "base_uri": "https://localhost:8080/"
        },
        "id": "-_qelIvSgkU6",
        "outputId": "ce0ffa57-7aac-45f0-c813-05cffa47fcb4"
      },
      "source": [
        "mean_squared_error(y_test, ls.predict(X_test))"
      ],
      "execution_count": 19,
      "outputs": [
        {
          "output_type": "execute_result",
          "data": {
            "text/plain": [
              "114279766.62560357"
            ]
          },
          "metadata": {
            "tags": []
          },
          "execution_count": 19
        }
      ]
    },
    {
      "cell_type": "markdown",
      "metadata": {
        "id": "HOszFb3pjbAc"
      },
      "source": [
        "## 4. ElasticNet Regression"
      ]
    },
    {
      "cell_type": "markdown",
      "metadata": {
        "id": "4Oo1XIPdjeod"
      },
      "source": [
        "### 1) 모델 생성\n",
        "- l1_ratio: default = 0.5"
      ]
    },
    {
      "cell_type": "code",
      "metadata": {
        "colab": {
          "base_uri": "https://localhost:8080/"
        },
        "id": "AMzMBtdJjd3x",
        "outputId": "460739e0-4461-41ff-a1f5-14574946dc02"
      },
      "source": [
        "%%time\n",
        "\n",
        "en = ElasticNet(normalize = True,\n",
        "                alpha = 0.001,\n",
        "                l1_ratio = 0.7)\n",
        "\n",
        "en.fit(X_train, y_train)"
      ],
      "execution_count": 21,
      "outputs": [
        {
          "output_type": "stream",
          "text": [
            "CPU times: user 2.48 ms, sys: 0 ns, total: 2.48 ms\n",
            "Wall time: 3.18 ms\n"
          ],
          "name": "stdout"
        }
      ]
    },
    {
      "cell_type": "markdown",
      "metadata": {
        "id": "max_5kPDjwAg"
      },
      "source": [
        "### 2) 모델 평가"
      ]
    },
    {
      "cell_type": "code",
      "metadata": {
        "id": "YGEcMTXujafq"
      },
      "source": [
        "mean_squared_error(y_test, en.predict(X_test))"
      ],
      "execution_count": null,
      "outputs": []
    },
    {
      "cell_type": "markdown",
      "metadata": {
        "id": "So7F4bxtj9Zv"
      },
      "source": [
        "## 5. Decision Tree Regressor"
      ]
    },
    {
      "cell_type": "markdown",
      "metadata": {
        "id": "bBstFJG5kApQ"
      },
      "source": [
        "### 1) 모델 생성"
      ]
    },
    {
      "cell_type": "code",
      "metadata": {
        "colab": {
          "base_uri": "https://localhost:8080/"
        },
        "id": "j6kX8i3ckACu",
        "outputId": "fd858ea0-90bf-4863-9861-31b62c625a7e"
      },
      "source": [
        "%%time\n",
        "\n",
        "dtr = DecisionTreeRegressor(max_depth = 5,\n",
        "                            criterion = 'mse')\n",
        "\n",
        "dtr.fit(X_train, y_train)"
      ],
      "execution_count": 23,
      "outputs": [
        {
          "output_type": "stream",
          "text": [
            "CPU times: user 3.21 ms, sys: 922 µs, total: 4.13 ms\n",
            "Wall time: 4.48 ms\n"
          ],
          "name": "stdout"
        }
      ]
    },
    {
      "cell_type": "markdown",
      "metadata": {
        "id": "CBqkeo4hkPTm"
      },
      "source": [
        "### 2) 모델 평가"
      ]
    },
    {
      "cell_type": "code",
      "metadata": {
        "colab": {
          "base_uri": "https://localhost:8080/"
        },
        "id": "fbC34ChJkOyQ",
        "outputId": "e18e413a-5dfb-493e-c37f-95b2a36161de"
      },
      "source": [
        "mean_squared_error(y_test, dtr.predict(X_test))"
      ],
      "execution_count": 24,
      "outputs": [
        {
          "output_type": "execute_result",
          "data": {
            "text/plain": [
              "140107489.79228327"
            ]
          },
          "metadata": {
            "tags": []
          },
          "execution_count": 24
        }
      ]
    },
    {
      "cell_type": "markdown",
      "metadata": {
        "id": "ewfgCkqNkT_x"
      },
      "source": [
        "### 3) Feature Impportance"
      ]
    },
    {
      "cell_type": "code",
      "metadata": {
        "colab": {
          "base_uri": "https://localhost:8080/"
        },
        "id": "D321VQ6IkTXk",
        "outputId": "e792c863-1c78-4f36-fa8e-40daa403c6ba"
      },
      "source": [
        "dtr.feature_importances_"
      ],
      "execution_count": 25,
      "outputs": [
        {
          "output_type": "execute_result",
          "data": {
            "text/plain": [
              "array([0.45047844, 0.48302537, 0.06649619])"
            ]
          },
          "metadata": {
            "tags": []
          },
          "execution_count": 25
        }
      ]
    },
    {
      "cell_type": "code",
      "metadata": {
        "colab": {
          "base_uri": "https://localhost:8080/",
          "height": 374
        },
        "id": "SkhdjQ6PkXtm",
        "outputId": "35044278-a2cd-42ca-a12b-4ae0c3d48b71"
      },
      "source": [
        "plt.figure(figsize = (9, 6))\n",
        "sns.barplot(dtr.feature_importances_,\n",
        "            ['age', 'bmi' , 'children'])\n",
        "plt.show()"
      ],
      "execution_count": 27,
      "outputs": [
        {
          "output_type": "display_data",
          "data": {
            "image/png": "[encoded data removed]",
            "text/plain": [
              "<Figure size 648x432 with 1 Axes>"
            ]
          },
          "metadata": {
            "tags": [],
            "needs_background": "light"
          }
        }
      ]
    },
    {
      "cell_type": "markdown",
      "metadata": {
        "id": "pWK7BTWclJrz"
      },
      "source": [
        "## 6. Random Forest Regressor"
      ]
    },
    {
      "cell_type": "markdown",
      "metadata": {
        "id": "RT6BfgIJlOk_"
      },
      "source": [
        "### 1) 모델 생성\n",
        "- criterion: default = 'mse'\n",
        "  - The function to measure the quality of a split"
      ]
    },
    {
      "cell_type": "code",
      "metadata": {
        "colab": {
          "base_uri": "https://localhost:8080/"
        },
        "id": "6RsnmqFGkjv2",
        "outputId": "f3cefab4-ead3-4d00-8571-5de9072672fe"
      },
      "source": [
        "%%time\n",
        "\n",
        "rfr = RandomForestRegressor(n_estimators = 2000,\n",
        "                            max_features = 3,\n",
        "                            max_depth = 1,\n",
        "                            criterion = 'mse',\n",
        "                            n_jobs = -1,\n",
        "                            random_state = 2045)\n",
        "\n",
        "rfr.fit(X_train, y_train)"
      ],
      "execution_count": 30,
      "outputs": [
        {
          "output_type": "stream",
          "text": [
            "CPU times: user 3.64 s, sys: 489 ms, total: 4.13 s\n",
            "Wall time: 3.55 s\n"
          ],
          "name": "stdout"
        }
      ]
    },
    {
      "cell_type": "markdown",
      "metadata": {
        "id": "y5YVScBlltX2"
      },
      "source": [
        "### 2) 모델 평가"
      ]
    },
    {
      "cell_type": "code",
      "metadata": {
        "colab": {
          "base_uri": "https://localhost:8080/"
        },
        "id": "KHCpC5MslsAs",
        "outputId": "6a013602-465b-46b2-9d8f-90117d8d7ea5"
      },
      "source": [
        "mean_squared_error(y_test, rfr.predict(X_test))"
      ],
      "execution_count": 31,
      "outputs": [
        {
          "output_type": "execute_result",
          "data": {
            "text/plain": [
              "114282870.90114409"
            ]
          },
          "metadata": {
            "tags": []
          },
          "execution_count": 31
        }
      ]
    },
    {
      "cell_type": "markdown",
      "metadata": {
        "id": "KQftsIpplyLH"
      },
      "source": [
        "### 3) Feature Importance"
      ]
    },
    {
      "cell_type": "code",
      "metadata": {
        "colab": {
          "base_uri": "https://localhost:8080/"
        },
        "id": "AuLDF6VElxZv",
        "outputId": "27763d90-bd6a-44c9-efbd-70aafef994f6"
      },
      "source": [
        "rfr.feature_importances_"
      ],
      "execution_count": 32,
      "outputs": [
        {
          "output_type": "execute_result",
          "data": {
            "text/plain": [
              "array([0.794, 0.206, 0.   ])"
            ]
          },
          "metadata": {
            "tags": []
          },
          "execution_count": 32
        }
      ]
    },
    {
      "cell_type": "code",
      "metadata": {
        "colab": {
          "base_uri": "https://localhost:8080/",
          "height": 374
        },
        "id": "GSZ4bwIRl2yd",
        "outputId": "7026a6d0-357d-4fda-d90f-fb4dae7bcfa0"
      },
      "source": [
        "plt.figure(figsize = (9, 6))\n",
        "sns.barplot(rfr.feature_importances_,\n",
        "            ['age' , 'bmi' , 'children'])\n",
        "plt.show()"
      ],
      "execution_count": 33,
      "outputs": [
        {
          "output_type": "display_data",
          "data": {
            "image/png": "[encoded data removed]",
            "text/plain": [
              "<Figure size 648x432 with 1 Axes>"
            ]
          },
          "metadata": {
            "tags": [],
            "needs_background": "light"
          }
        }
      ]
    },
    {
      "cell_type": "markdown",
      "metadata": {
        "id": "RYlQQvcYl-_J"
      },
      "source": [
        "## 7. Gradient Boosting Machine(GBM) Classifier\n",
        "- 이전 트리의 오차를 보완하는 방식으로 순차적으로 트리를 생성"
      ]
    },
    {
      "cell_type": "markdown",
      "metadata": {
        "id": "iDjrVD_gmW-K"
      },
      "source": [
        "### 1) 모델 생성\n",
        "- loss: Optimization Method\n",
        "  - 'ls': Least Squared Regression\n",
        "- n_estimators: 생성되는 트리의 수\n",
        "  - 값이 크면 모델의 복잡도가 증가\n",
        "  - 오차를 보정할 기회가 증가\n",
        "- learning_rage: 이전 트리의 오차를 얼마나 강하게 보정할 것인지 제어\n",
        "  - 값이 크면 보정에 의해 복잡한 트리 생성"
      ]
    },
    {
      "cell_type": "code",
      "metadata": {
        "colab": {
          "base_uri": "https://localhost:8080/"
        },
        "id": "2PhOarmSl8_y",
        "outputId": "0c9acd5e-2c72-4680-f492-faacd7252147"
      },
      "source": [
        "%%time\n",
        "\n",
        "gbr = GradientBoostingRegressor(loss = 'ls',\n",
        "                                n_estimators = 9000,\n",
        "                                learning_rate = 0.0001,\n",
        "                                criterion = 'mse',\n",
        "                                max_features = 3,\n",
        "                                max_depth = 1)\n",
        "\n",
        "gbr.fit(X_train, y_train)"
      ],
      "execution_count": 35,
      "outputs": [
        {
          "output_type": "stream",
          "text": [
            "CPU times: user 3.98 s, sys: 4.43 ms, total: 3.98 s\n",
            "Wall time: 3.99 s\n"
          ],
          "name": "stdout"
        }
      ]
    },
    {
      "cell_type": "markdown",
      "metadata": {
        "id": "beNCpEdTm7tb"
      },
      "source": [
        "### 2) 모델 평가"
      ]
    },
    {
      "cell_type": "code",
      "metadata": {
        "colab": {
          "base_uri": "https://localhost:8080/"
        },
        "id": "2BeChd35m7A0",
        "outputId": "ca8e5336-3b22-411f-941e-6556ae5abf81"
      },
      "source": [
        "mean_squared_error(y_test, gbr.predict(X_test))"
      ],
      "execution_count": 36,
      "outputs": [
        {
          "output_type": "execute_result",
          "data": {
            "text/plain": [
              "118523943.40353537"
            ]
          },
          "metadata": {
            "tags": []
          },
          "execution_count": 36
        }
      ]
    },
    {
      "cell_type": "markdown",
      "metadata": {
        "id": "8YF2a_JAnBwi"
      },
      "source": [
        "### 3) Featrue Importance"
      ]
    },
    {
      "cell_type": "code",
      "metadata": {
        "colab": {
          "base_uri": "https://localhost:8080/"
        },
        "id": "UFTwc6DJnBQK",
        "outputId": "1644160e-dfac-42b7-bf06-bd9e6ceace6f"
      },
      "source": [
        "gbr.feature_importances_"
      ],
      "execution_count": 37,
      "outputs": [
        {
          "output_type": "execute_result",
          "data": {
            "text/plain": [
              "array([0.68958147, 0.31041853, 0.        ])"
            ]
          },
          "metadata": {
            "tags": []
          },
          "execution_count": 37
        }
      ]
    },
    {
      "cell_type": "code",
      "metadata": {
        "colab": {
          "base_uri": "https://localhost:8080/",
          "height": 374
        },
        "id": "7eJGWMhGnFk_",
        "outputId": "111e54a3-549a-4480-dec2-67ed16323a21"
      },
      "source": [
        "plt.figure(figsize = (9, 6))\n",
        "sns.barplot(gbr.feature_importances_,\n",
        "            ['age' , 'bmi' , 'children'])\n",
        "plt.show()"
      ],
      "execution_count": 38,
      "outputs": [
        {
          "output_type": "display_data",
          "data": {
            "image/png": "[encoded data removed]",
            "text/plain": [
              "<Figure size 648x432 with 1 Axes>"
            ]
          },
          "metadata": {
            "tags": [],
            "needs_background": "light"
          }
        }
      ]
    },
    {
      "cell_type": "markdown",
      "metadata": {
        "id": "mM11y8fQnNw5"
      },
      "source": [
        "## 8. Adaptive Boosting Regressor\n",
        "- 이전 트리가 잘못 예측한 샘플에 가중치를 높여서 다음 트리를 훈련\n",
        "- 훈련된 모델은 성능에 따라 가중치가 부여"
      ]
    },
    {
      "cell_type": "markdown",
      "metadata": {
        "id": "hc7xV5HjnX92"
      },
      "source": [
        "### 1) 모델 생성\n",
        "- loss: The loss function to use when updating the weights after each boosting iteration\n",
        "- base_estimator = None\n",
        "  - DecisionTreeRegressor\n",
        "  - max_depth = 3\n",
        "  - random_state = 2045"
      ]
    },
    {
      "cell_type": "code",
      "metadata": {
        "colab": {
          "base_uri": "https://localhost:8080/"
        },
        "id": "MdY4_ouanM2t",
        "outputId": "ab872c9b-99f6-4e01-b10e-5ab605ac3212"
      },
      "source": [
        "%%time\n",
        "\n",
        "abr = AdaBoostRegressor(loss = 'square',\n",
        "                        n_estimators = 500,\n",
        "                        learning_rate = 0.0001,\n",
        "                        random_state = 2045)\n",
        "\n",
        "abr.fit(X_train, y_train)"
      ],
      "execution_count": 40,
      "outputs": [
        {
          "output_type": "stream",
          "text": [
            "CPU times: user 935 ms, sys: 0 ns, total: 935 ms\n",
            "Wall time: 938 ms\n"
          ],
          "name": "stdout"
        }
      ]
    },
    {
      "cell_type": "markdown",
      "metadata": {
        "id": "3AeUqz6fn1Cl"
      },
      "source": [
        "### 2) 모델 평가"
      ]
    },
    {
      "cell_type": "code",
      "metadata": {
        "colab": {
          "base_uri": "https://localhost:8080/"
        },
        "id": "e_Eb1w7Tn0P7",
        "outputId": "f09a9582-05d4-48ff-d1ba-f25acf249c3d"
      },
      "source": [
        "mean_squared_error(y_test, abr.predict(X_test))"
      ],
      "execution_count": 41,
      "outputs": [
        {
          "output_type": "execute_result",
          "data": {
            "text/plain": [
              "118481893.52922821"
            ]
          },
          "metadata": {
            "tags": []
          },
          "execution_count": 41
        }
      ]
    },
    {
      "cell_type": "markdown",
      "metadata": {
        "id": "EY8RJGP_n68K"
      },
      "source": [
        "### 3) Feature Importance"
      ]
    },
    {
      "cell_type": "code",
      "metadata": {
        "colab": {
          "base_uri": "https://localhost:8080/"
        },
        "id": "vqKMZcFHoNie",
        "outputId": "32a58675-f297-4dd9-809e-18a19eb4ad48"
      },
      "source": [
        "abr.feature_importances_"
      ],
      "execution_count": 42,
      "outputs": [
        {
          "output_type": "execute_result",
          "data": {
            "text/plain": [
              "array([0.57474029, 0.3843226 , 0.04093711])"
            ]
          },
          "metadata": {
            "tags": []
          },
          "execution_count": 42
        }
      ]
    },
    {
      "cell_type": "code",
      "metadata": {
        "colab": {
          "base_uri": "https://localhost:8080/",
          "height": 374
        },
        "id": "Er8InplAn6Pu",
        "outputId": "bf5d50d2-abe8-4507-fe45-d3e8bd3bde37"
      },
      "source": [
        "plt.figure(figsize = (9, 6))\n",
        "sns.barplot(abr.feature_importances_,\n",
        "            ['age' , 'bmi' , 'children'])\n",
        "plt.show()"
      ],
      "execution_count": 43,
      "outputs": [
        {
          "output_type": "display_data",
          "data": {
            "image/png": "[encoded data removed]",
            "text/plain": [
              "<Figure size 648x432 with 1 Axes>"
            ]
          },
          "metadata": {
            "tags": [],
            "needs_background": "light"
          }
        }
      ]
    },
    {
      "cell_type": "markdown",
      "metadata": {
        "id": "AompFBRtoWVH"
      },
      "source": [
        "## 9. eXtra Gradient Boost(XGBoost) Classifier"
      ]
    },
    {
      "cell_type": "markdown",
      "metadata": {
        "id": "Iz0XbZ39oeIp"
      },
      "source": [
        "### 1) 모델 생성"
      ]
    },
    {
      "cell_type": "code",
      "metadata": {
        "colab": {
          "base_uri": "https://localhost:8080/"
        },
        "id": "gfUCP95qoVgK",
        "outputId": "4f8d0fd6-9292-4947-851a-63dafde4321e"
      },
      "source": [
        "xgb = XGBRegressor(booster = 'gblinear',\n",
        "                   n_estimators = 100,\n",
        "                   learning_rate = 0.4,\n",
        "                   reg_lambda = 2.0,\n",
        "                   n_jobs = -1)\n",
        "\n",
        "xgb.fit(X_train, y_train)"
      ],
      "execution_count": 46,
      "outputs": [
        {
          "output_type": "stream",
          "text": [
            "[02:20:49] WARNING: /workspace/src/objective/regression_obj.cu:152: reg:linear is now deprecated in favor of reg:squarederror.\n"
          ],
          "name": "stdout"
        },
        {
          "output_type": "execute_result",
          "data": {
            "text/plain": [
              "XGBRegressor(base_score=0.5, booster='gblinear', colsample_bylevel=1,\n",
              "             colsample_bynode=1, colsample_bytree=1, gamma=0,\n",
              "             importance_type='gain', learning_rate=0.4, max_delta_step=0,\n",
              "             max_depth=3, min_child_weight=1, missing=None, n_estimators=100,\n",
              "             n_jobs=-1, nthread=None, objective='reg:linear', random_state=0,\n",
              "             reg_alpha=0, reg_lambda=2.0, scale_pos_weight=1, seed=None,\n",
              "             silent=None, subsample=1, verbosity=1)"
            ]
          },
          "metadata": {
            "tags": []
          },
          "execution_count": 46
        }
      ]
    },
    {
      "cell_type": "markdown",
      "metadata": {
        "id": "a0VzNyxwo0bp"
      },
      "source": [
        "### 2) 모델 평가"
      ]
    },
    {
      "cell_type": "code",
      "metadata": {
        "colab": {
          "base_uri": "https://localhost:8080/"
        },
        "id": "bILqr_LtoxRu",
        "outputId": "99cb5bee-4f00-41bc-a24d-6c0b2d19df04"
      },
      "source": [
        "mean_squared_error(y_test, xgb.predict(X_test))"
      ],
      "execution_count": 47,
      "outputs": [
        {
          "output_type": "execute_result",
          "data": {
            "text/plain": [
              "112756539.29527038"
            ]
          },
          "metadata": {
            "tags": []
          },
          "execution_count": 47
        }
      ]
    },
    {
      "cell_type": "markdown",
      "metadata": {
        "id": "O9U2oPJ0o5bB"
      },
      "source": [
        "## 10. LightGBM Regressor"
      ]
    },
    {
      "cell_type": "markdown",
      "metadata": {
        "id": "am5QO2VDo9I3"
      },
      "source": [
        "### 1) 모델 생성"
      ]
    },
    {
      "cell_type": "code",
      "metadata": {
        "colab": {
          "base_uri": "https://localhost:8080/"
        },
        "id": "0T5L1PGTo4mr",
        "outputId": "5eebb238-b1d6-4a3c-a795-939f3d16ee20"
      },
      "source": [
        "lgb = LGBMRegressor(linear_tree = True,\n",
        "                    boosting_type = 'gbdt',\n",
        "                    objective = 'regression',\n",
        "                    n_estimators = 500,\n",
        "                    learning_rate = 0.001,\n",
        "                    max_depth = 2,\n",
        "                    n_jobs = -1)\n",
        "\n",
        "lgb.fit(X_train, y_train)"
      ],
      "execution_count": 49,
      "outputs": [
        {
          "output_type": "execute_result",
          "data": {
            "text/plain": [
              "LGBMRegressor(boosting_type='gbdt', class_weight=None, colsample_bytree=1.0,\n",
              "              importance_type='split', learning_rate=0.001, linear_tree=True,\n",
              "              max_depth=2, min_child_samples=20, min_child_weight=0.001,\n",
              "              min_split_gain=0.0, n_estimators=500, n_jobs=-1, num_leaves=31,\n",
              "              objective='regression', random_state=None, reg_alpha=0.0,\n",
              "              reg_lambda=0.0, silent=True, subsample=1.0,\n",
              "              subsample_for_bin=200000, subsample_freq=0)"
            ]
          },
          "metadata": {
            "tags": []
          },
          "execution_count": 49
        }
      ]
    },
    {
      "cell_type": "markdown",
      "metadata": {
        "id": "ru1WptdHpUL_"
      },
      "source": [
        "### 2) 모델 평가"
      ]
    },
    {
      "cell_type": "code",
      "metadata": {
        "colab": {
          "base_uri": "https://localhost:8080/"
        },
        "id": "qCE0FY9bpTox",
        "outputId": "4fb73ad4-7f2c-479a-b978-3be0b766edd3"
      },
      "source": [
        "mean_squared_error(y_test, lgb.predict(X_test))"
      ],
      "execution_count": 50,
      "outputs": [
        {
          "output_type": "execute_result",
          "data": {
            "text/plain": [
              "119555446.90396042"
            ]
          },
          "metadata": {
            "tags": []
          },
          "execution_count": 50
        }
      ]
    },
    {
      "cell_type": "markdown",
      "metadata": {
        "id": "3Qt8TjFepZxw"
      },
      "source": [
        "### 3) Feature Importance"
      ]
    },
    {
      "cell_type": "code",
      "metadata": {
        "colab": {
          "base_uri": "https://localhost:8080/"
        },
        "id": "rqyNtFgmpZDl",
        "outputId": "02c3ac41-81e3-4fba-ac78-319250052b60"
      },
      "source": [
        "lgb.feature_importances_"
      ],
      "execution_count": 51,
      "outputs": [
        {
          "output_type": "execute_result",
          "data": {
            "text/plain": [
              "array([909, 591,   0])"
            ]
          },
          "metadata": {
            "tags": []
          },
          "execution_count": 51
        }
      ]
    },
    {
      "cell_type": "code",
      "metadata": {
        "colab": {
          "base_uri": "https://localhost:8080/",
          "height": 374
        },
        "id": "mFe5QgDlpcdx",
        "outputId": "870f63aa-62f1-40eb-e388-58942e55b307"
      },
      "source": [
        "plt.figure(figsize = (9, 6))\n",
        "sns.barplot(lgb.feature_importances_,\n",
        "            ['age' , 'bmi' , 'children'])\n",
        "plt.show()"
      ],
      "execution_count": 52,
      "outputs": [
        {
          "output_type": "display_data",
          "data": {
            "image/png": "[encoded data removed]",
            "text/plain": [
              "<Figure size 648x432 with 1 Axes>"
            ]
          },
          "metadata": {
            "tags": [],
            "needs_background": "light"
          }
        }
      ]
    }
  ]
}