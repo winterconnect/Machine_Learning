{
  "nbformat": 4,
  "nbformat_minor": 0,
  "metadata": {
    "colab": {
      "name": "005_Binary_Classification.ipynb",
      "provenance": [],
      "collapsed_sections": []
    },
    "kernelspec": {
      "name": "python3",
      "display_name": "Python 3"
    }
  },
  "cells": [
    {
      "cell_type": "markdown",
      "metadata": {
        "id": "1P_AWtL-ixeO"
      },
      "source": [
        "# Binary Classification - 분류\n",
        "- (주의) 상환을 기준으로 보는 것은 잘못된 것이므로, 왜 잘못된 것인지 잘 생각하며 보자"
      ]
    },
    {
      "cell_type": "code",
      "metadata": {
        "id": "wzrwqadxi0R2"
      },
      "source": [
        "import warnings\n",
        "warnings.filterwarnings('ignore')"
      ],
      "execution_count": 1,
      "outputs": []
    },
    {
      "cell_type": "markdown",
      "metadata": {
        "id": "uL1hYBLai4G_"
      },
      "source": [
        "# 실습용 데이터 설정\n",
        "- pandas DataFrame\n",
        "  - Default.csv"
      ]
    },
    {
      "cell_type": "code",
      "metadata": {
        "colab": {
          "base_uri": "https://localhost:8080/"
        },
        "id": "tnE5Pq_mjgsx",
        "outputId": "d0373e98-153e-4a8f-f3c9-d409639e6644"
      },
      "source": [
        "import pandas as pd\n",
        "\n",
        "DF = pd.read_csv('https://raw.githubusercontent.com/rusita-ai/pyData/master/Default.csv')\n",
        "\n",
        "DF.info()\n",
        "\n",
        "# Default: 채무불이행 의미 "
      ],
      "execution_count": 2,
      "outputs": [
        {
          "output_type": "stream",
          "text": [
            "<class 'pandas.core.frame.DataFrame'>\n",
            "RangeIndex: 10000 entries, 0 to 9999\n",
            "Data columns (total 4 columns):\n",
            " #   Column   Non-Null Count  Dtype  \n",
            "---  ------   --------------  -----  \n",
            " 0   default  10000 non-null  object \n",
            " 1   student  10000 non-null  object \n",
            " 2   balance  10000 non-null  float64\n",
            " 3   income   10000 non-null  float64\n",
            "dtypes: float64(2), object(2)\n",
            "memory usage: 312.6+ KB\n"
          ],
          "name": "stdout"
        }
      ]
    },
    {
      "cell_type": "code",
      "metadata": {
        "colab": {
          "base_uri": "https://localhost:8080/",
          "height": 204
        },
        "id": "C1XiLyxxjr93",
        "outputId": "fb11d3fb-856a-4259-d5c4-270289eeea3e"
      },
      "source": [
        "DF.head()\n",
        "\n",
        "# student를 쓰기 위해서는 encoding 필요\n",
        "# balance, income은 필요에 따라 normalization or standardization"
      ],
      "execution_count": 3,
      "outputs": [
        {
          "output_type": "execute_result",
          "data": {
            "text/html": [
              "<div>\n",
              "<style scoped>\n",
              "    .dataframe tbody tr th:only-of-type {\n",
              "        vertical-align: middle;\n",
              "    }\n",
              "\n",
              "    .dataframe tbody tr th {\n",
              "        vertical-align: top;\n",
              "    }\n",
              "\n",
              "    .dataframe thead th {\n",
              "        text-align: right;\n",
              "    }\n",
              "</style>\n",
              "<table border=\"1\" class=\"dataframe\">\n",
              "  <thead>\n",
              "    <tr style=\"text-align: right;\">\n",
              "      <th></th>\n",
              "      <th>default</th>\n",
              "      <th>student</th>\n",
              "      <th>balance</th>\n",
              "      <th>income</th>\n",
              "    </tr>\n",
              "  </thead>\n",
              "  <tbody>\n",
              "    <tr>\n",
              "      <th>0</th>\n",
              "      <td>No</td>\n",
              "      <td>No</td>\n",
              "      <td>729.526495</td>\n",
              "      <td>44361.62507</td>\n",
              "    </tr>\n",
              "    <tr>\n",
              "      <th>1</th>\n",
              "      <td>No</td>\n",
              "      <td>Yes</td>\n",
              "      <td>817.180407</td>\n",
              "      <td>12106.13470</td>\n",
              "    </tr>\n",
              "    <tr>\n",
              "      <th>2</th>\n",
              "      <td>No</td>\n",
              "      <td>No</td>\n",
              "      <td>1073.549164</td>\n",
              "      <td>31767.13895</td>\n",
              "    </tr>\n",
              "    <tr>\n",
              "      <th>3</th>\n",
              "      <td>No</td>\n",
              "      <td>No</td>\n",
              "      <td>529.250605</td>\n",
              "      <td>35704.49394</td>\n",
              "    </tr>\n",
              "    <tr>\n",
              "      <th>4</th>\n",
              "      <td>No</td>\n",
              "      <td>No</td>\n",
              "      <td>785.655883</td>\n",
              "      <td>38463.49588</td>\n",
              "    </tr>\n",
              "  </tbody>\n",
              "</table>\n",
              "</div>"
            ],
            "text/plain": [
              "  default student      balance       income\n",
              "0      No      No   729.526495  44361.62507\n",
              "1      No     Yes   817.180407  12106.13470\n",
              "2      No      No  1073.549164  31767.13895\n",
              "3      No      No   529.250605  35704.49394\n",
              "4      No      No   785.655883  38463.49588"
            ]
          },
          "metadata": {
            "tags": []
          },
          "execution_count": 3
        }
      ]
    },
    {
      "cell_type": "markdown",
      "metadata": {
        "id": "RlH2PQDeju8z"
      },
      "source": [
        "## 1. 탐색적 데이터 분석"
      ]
    },
    {
      "cell_type": "markdown",
      "metadata": {
        "id": "B9-P5T_xjyl_"
      },
      "source": [
        "### 1) 빈도분석"
      ]
    },
    {
      "cell_type": "code",
      "metadata": {
        "colab": {
          "base_uri": "https://localhost:8080/"
        },
        "id": "sjK-Qhznj2d3",
        "outputId": "23447cc9-361f-487a-8e33-ee9ab2559624"
      },
      "source": [
        "DF.default.value_counts()\n",
        "\n",
        "# 상환이 압도적으로 많다\n",
        "# 원랠 97퍼센트 정도는 상환한다"
      ],
      "execution_count": 4,
      "outputs": [
        {
          "output_type": "execute_result",
          "data": {
            "text/plain": [
              "No     9667\n",
              "Yes     333\n",
              "Name: default, dtype: int64"
            ]
          },
          "metadata": {
            "tags": []
          },
          "execution_count": 4
        }
      ]
    },
    {
      "cell_type": "markdown",
      "metadata": {
        "id": "6sRNT81Dj5vx"
      },
      "source": [
        "### 2) 분포 시각화"
      ]
    },
    {
      "cell_type": "code",
      "metadata": {
        "colab": {
          "base_uri": "https://localhost:8080/",
          "height": 374
        },
        "id": "dTZnMrVdj7_R",
        "outputId": "a1df96b9-3a0c-4bfa-acc5-06da24af6b58"
      },
      "source": [
        "import matplotlib.pyplot as plt\n",
        "\n",
        "plt.figure(figsize = (9, 6))\n",
        "plt.boxplot([DF[DF.default == 'No'].balance, DF[DF.default == 'Yes'].balance],\n",
        "             labels = ['No' , 'Yes'])\n",
        "\n",
        "plt.show()\n",
        "\n",
        "# 연체하는 사람들의 balance가 더 높다"
      ],
      "execution_count": 7,
      "outputs": [
        {
          "output_type": "display_data",
          "data": {
            "image/png": "[encoded data removed]",
            "text/plain": [
              "<Figure size 648x432 with 1 Axes>"
            ]
          },
          "metadata": {
            "tags": [],
            "needs_background": "light"
          }
        }
      ]
    },
    {
      "cell_type": "code",
      "metadata": {
        "colab": {
          "base_uri": "https://localhost:8080/",
          "height": 374
        },
        "id": "n6sF7_AYsKpQ",
        "outputId": "b92ca0e6-1f05-4d6d-f64f-7a5e3e797570"
      },
      "source": [
        "import matplotlib.pyplot as plt\n",
        "\n",
        "plt.figure(figsize = (9, 6))\n",
        "plt.boxplot([DF[DF.default == 'No'].income, DF[DF.default == 'Yes'].income],\n",
        "             labels = ['No' , 'Yes'])\n",
        "\n",
        "plt.show()\n",
        "\n",
        "# income은 큰 차이가 없다"
      ],
      "execution_count": 24,
      "outputs": [
        {
          "output_type": "display_data",
          "data": {
            "image/png": "[encoded data removed]",
            "text/plain": [
              "<Figure size 648x432 with 1 Axes>"
            ]
          },
          "metadata": {
            "tags": [],
            "needs_background": "light"
          }
        }
      ]
    },
    {
      "cell_type": "markdown",
      "metadata": {
        "id": "cNA1yHiLkq7X"
      },
      "source": [
        "## 2. Data Preprocessing"
      ]
    },
    {
      "cell_type": "markdown",
      "metadata": {
        "id": "zPYNf9kjkuPy"
      },
      "source": [
        "### 1) Standardization\n",
        "- 사실 이렇게 하면 안된다..."
      ]
    },
    {
      "cell_type": "code",
      "metadata": {
        "id": "43p4pnGxkxAa"
      },
      "source": [
        "X = DF[['balance']] # 다중회귀를 하고싶다면 추가하면 된다\n",
        "y = DF['default']"
      ],
      "execution_count": 8,
      "outputs": []
    },
    {
      "cell_type": "code",
      "metadata": {
        "colab": {
          "base_uri": "https://localhost:8080/"
        },
        "id": "LCNtxVlJk0Fi",
        "outputId": "99dfa7a2-f97a-440d-8afe-6e6b59d8d6fe"
      },
      "source": [
        "from sklearn.preprocessing import StandardScaler\n",
        "\n",
        "scaler = StandardScaler()\n",
        "X_scaled = scaler.fit_transform(X)\n",
        "\n",
        "X_scaled[:5]"
      ],
      "execution_count": 9,
      "outputs": [
        {
          "output_type": "execute_result",
          "data": {
            "text/plain": [
              "array([[-0.21883482],\n",
              "       [-0.03761593],\n",
              "       [ 0.49241019],\n",
              "       [-0.6328925 ],\n",
              "       [-0.10279088]])"
            ]
          },
          "metadata": {
            "tags": []
          },
          "execution_count": 9
        }
      ]
    },
    {
      "cell_type": "markdown",
      "metadata": {
        "id": "7Aj2va_mk9w8"
      },
      "source": [
        "### 2) Train & Test Split(7:3)"
      ]
    },
    {
      "cell_type": "code",
      "metadata": {
        "colab": {
          "base_uri": "https://localhost:8080/"
        },
        "id": "A_XOxj2FlCqM",
        "outputId": "d608a25d-e749-4f89-fbdb-7718babf1983"
      },
      "source": [
        "from sklearn.model_selection import train_test_split\n",
        "\n",
        "X_train, X_test, y_train, y_test = train_test_split(X_scaled, y,\n",
        "                                                    test_size = 0.3 ,\n",
        "                                                    random_state = 2045)\n",
        "\n",
        "print('Train Data: ' , X_train.shape, y_train.shape)\n",
        "print('Test Data: ' , X_test.shape, y_test.shape)"
      ],
      "execution_count": 10,
      "outputs": [
        {
          "output_type": "stream",
          "text": [
            "Train Data:  (7000, 1) (7000,)\n",
            "Test Data:  (3000, 1) (3000,)\n"
          ],
          "name": "stdout"
        }
      ]
    },
    {
      "cell_type": "markdown",
      "metadata": {
        "id": "G0YGUgs8lTFv"
      },
      "source": [
        "## 3. Modeling"
      ]
    },
    {
      "cell_type": "markdown",
      "metadata": {
        "id": "dJjOtmxGlVAf"
      },
      "source": [
        "### 1) Train_Data로 모델 생성"
      ]
    },
    {
      "cell_type": "code",
      "metadata": {
        "colab": {
          "base_uri": "https://localhost:8080/"
        },
        "id": "7NiNu3eQlZBx",
        "outputId": "d167e5ba-979c-47f7-ff58-d7c864a043d2"
      },
      "source": [
        "from sklearn.linear_model import LogisticRegression\n",
        "\n",
        "Model_lr = LogisticRegression()\n",
        "Model_lr.fit(X_train, y_train)"
      ],
      "execution_count": 11,
      "outputs": [
        {
          "output_type": "execute_result",
          "data": {
            "text/plain": [
              "LogisticRegression(C=1.0, class_weight=None, dual=False, fit_intercept=True,\n",
              "                   intercept_scaling=1, l1_ratio=None, max_iter=100,\n",
              "                   multi_class='auto', n_jobs=None, penalty='l2',\n",
              "                   random_state=None, solver='lbfgs', tol=0.0001, verbose=0,\n",
              "                   warm_start=False)"
            ]
          },
          "metadata": {
            "tags": []
          },
          "execution_count": 11
        }
      ]
    },
    {
      "cell_type": "markdown",
      "metadata": {
        "id": "VKiHHYaNlmFS"
      },
      "source": [
        "### 2) Test_Data에 Model 적용"
      ]
    },
    {
      "cell_type": "code",
      "metadata": {
        "colab": {
          "base_uri": "https://localhost:8080/"
        },
        "id": "kZmsOYEUlo58",
        "outputId": "f31d2254-450c-485e-f9ed-f30a22a42444"
      },
      "source": [
        "y_hat = Model_lr.predict(X_test)\n",
        "# 실제로 0~1 사이 값을 받아 내부적으로 yes, no로 처리함 \n",
        "\n",
        "\n",
        "y_hat\n",
        "# 3000개의 y_hat\n",
        "\n",
        "# sklearn은 X는 문자데이터를 안받지만, y는 문자를 받는다\n",
        "# 딥러닝의 tensorflow는 오직 float 만 받는다"
      ],
      "execution_count": 12,
      "outputs": [
        {
          "output_type": "execute_result",
          "data": {
            "text/plain": [
              "array(['No', 'No', 'No', ..., 'No', 'No', 'No'], dtype=object)"
            ]
          },
          "metadata": {
            "tags": []
          },
          "execution_count": 12
        }
      ]
    },
    {
      "cell_type": "markdown",
      "metadata": {
        "id": "IuThCrSslt43"
      },
      "source": [
        "## 4. Model Validation"
      ]
    },
    {
      "cell_type": "markdown",
      "metadata": {
        "id": "srwlMZealx8F"
      },
      "source": [
        "### 1) Accuracy\n",
        "- Train Accuracy"
      ]
    },
    {
      "cell_type": "code",
      "metadata": {
        "colab": {
          "base_uri": "https://localhost:8080/"
        },
        "id": "vOBHRs58l0dZ",
        "outputId": "d44b17aa-32c8-46c2-ff62-1bfc79597543"
      },
      "source": [
        "Model_lr.score(X_train, y_train)"
      ],
      "execution_count": 13,
      "outputs": [
        {
          "output_type": "execute_result",
          "data": {
            "text/plain": [
              "0.9724285714285714"
            ]
          },
          "metadata": {
            "tags": []
          },
          "execution_count": 13
        }
      ]
    },
    {
      "cell_type": "markdown",
      "metadata": {
        "id": "7cWWY3l5l4iM"
      },
      "source": [
        "- Test Accuracy"
      ]
    },
    {
      "cell_type": "code",
      "metadata": {
        "colab": {
          "base_uri": "https://localhost:8080/"
        },
        "id": "cNfsa8RblxNC",
        "outputId": "66363687-47a4-4261-e95c-f1c3a6934c45"
      },
      "source": [
        "Model_lr.score(X_test, y_test)"
      ],
      "execution_count": 14,
      "outputs": [
        {
          "output_type": "execute_result",
          "data": {
            "text/plain": [
              "0.9736666666666667"
            ]
          },
          "metadata": {
            "tags": []
          },
          "execution_count": 14
        }
      ]
    },
    {
      "cell_type": "markdown",
      "metadata": {
        "id": "KiB373YqmCIL"
      },
      "source": [
        "### 2) Confusion Matrix\n",
        "- 'No'(상환) 기준"
      ]
    },
    {
      "cell_type": "code",
      "metadata": {
        "colab": {
          "base_uri": "https://localhost:8080/"
        },
        "id": "G7srY8U2mGZY",
        "outputId": "fc9a2f8e-f2f2-445e-ecd5-4028e5c78480"
      },
      "source": [
        "from sklearn.metrics import confusion_matrix\n",
        "\n",
        "confusion_matrix(y_test, y_hat)\n",
        "\n",
        "# default='No'\n",
        "# 알파벳 순서대로 Positive, Negative가 정해짐 (No, Yes)"
      ],
      "execution_count": 15,
      "outputs": [
        {
          "output_type": "execute_result",
          "data": {
            "text/plain": [
              "array([[2889,    7],\n",
              "       [  72,   32]])"
            ]
          },
          "metadata": {
            "tags": []
          },
          "execution_count": 15
        }
      ]
    },
    {
      "cell_type": "markdown",
      "metadata": {
        "id": "25GhHsnhmU4o"
      },
      "source": [
        "- 'Yes'(연체) 기준"
      ]
    },
    {
      "cell_type": "code",
      "metadata": {
        "colab": {
          "base_uri": "https://localhost:8080/"
        },
        "id": "msj8lNppmMAP",
        "outputId": "ba3c296f-31e6-46d6-e149-8fc84ce78c77"
      },
      "source": [
        "from sklearn.metrics import confusion_matrix\n",
        "confusion_matrix(y_test, y_hat, labels = ['Yes' , 'No'])"
      ],
      "execution_count": 16,
      "outputs": [
        {
          "output_type": "execute_result",
          "data": {
            "text/plain": [
              "array([[  32,   72],\n",
              "       [   7, 2889]])"
            ]
          },
          "metadata": {
            "tags": []
          },
          "execution_count": 16
        }
      ]
    },
    {
      "cell_type": "markdown",
      "metadata": {
        "id": "f7Q23uwDmg45"
      },
      "source": [
        "### 3) Accuracy, Precision, Recall - 'No'(상환)"
      ]
    },
    {
      "cell_type": "code",
      "metadata": {
        "colab": {
          "base_uri": "https://localhost:8080/"
        },
        "id": "8z6vKKXQmlce",
        "outputId": "9be127f6-5721-4268-8247-055420b5e1ed"
      },
      "source": [
        "from sklearn.metrics import accuracy_score, precision_score, recall_score\n",
        "\n",
        "print(accuracy_score(y_test, y_hat))\n",
        "print(precision_score(y_test, y_hat, pos_label = 'No'))\n",
        "print(recall_score(y_test, y_hat, pos_label = 'No'))\n",
        "\n",
        "# pos_label: Positive Label (Positive를 No로 두고 계산하라)"
      ],
      "execution_count": 18,
      "outputs": [
        {
          "output_type": "stream",
          "text": [
            "0.9736666666666667\n",
            "0.9756838905775076\n",
            "0.9975828729281768\n"
          ],
          "name": "stdout"
        }
      ]
    },
    {
      "cell_type": "markdown",
      "metadata": {
        "id": "_iqpXRQxnDHT"
      },
      "source": [
        "### 4) Accuracy, Precision, Recall - 'Yes'(연체)"
      ]
    },
    {
      "cell_type": "code",
      "metadata": {
        "colab": {
          "base_uri": "https://localhost:8080/"
        },
        "id": "iPheQNQjmxxF",
        "outputId": "4ddcd72a-c5a4-432d-837f-af5eeaffb0a6"
      },
      "source": [
        "from sklearn.metrics import accuracy_score, precision_score, recall_score\n",
        "\n",
        "print(accuracy_score(y_test, y_hat))\n",
        "print(precision_score(y_test, y_hat, pos_label = 'Yes'))\n",
        "print(recall_score(y_test, y_hat, pos_label = 'Yes'))"
      ],
      "execution_count": 19,
      "outputs": [
        {
          "output_type": "stream",
          "text": [
            "0.9736666666666667\n",
            "0.8205128205128205\n",
            "0.3076923076923077\n"
          ],
          "name": "stdout"
        }
      ]
    },
    {
      "cell_type": "markdown",
      "metadata": {
        "id": "08NRZNExna8L"
      },
      "source": [
        "### 5) F1_Score - 'No'(상환)"
      ]
    },
    {
      "cell_type": "code",
      "metadata": {
        "colab": {
          "base_uri": "https://localhost:8080/"
        },
        "id": "V02w3kP1neps",
        "outputId": "44708199-68c1-41f8-a09d-c7267ae14fe6"
      },
      "source": [
        "from sklearn.metrics import f1_score\n",
        "\n",
        "f1_score(y_test, y_hat, pos_label = 'No')\n",
        "\n",
        "# f1 score는 positive label을 주어야 한다\n",
        "# (precision과 recall로 계산하므로)"
      ],
      "execution_count": 20,
      "outputs": [
        {
          "output_type": "execute_result",
          "data": {
            "text/plain": [
              "0.9865118661430767"
            ]
          },
          "metadata": {
            "tags": []
          },
          "execution_count": 20
        }
      ]
    },
    {
      "cell_type": "markdown",
      "metadata": {
        "id": "OJxLMCGqnmme"
      },
      "source": [
        "### 6) F1_Score - 'Yes'(연체)\n",
        "- 정확한 계산"
      ]
    },
    {
      "cell_type": "code",
      "metadata": {
        "colab": {
          "base_uri": "https://localhost:8080/"
        },
        "id": "6VCq0ye5nsEf",
        "outputId": "c3abdf8e-a543-417a-c50e-ddfe435b79e4"
      },
      "source": [
        "from sklearn.metrics import f1_score\n",
        "\n",
        "f1_score(y_test, y_hat, pos_label = 'Yes')"
      ],
      "execution_count": 22,
      "outputs": [
        {
          "output_type": "execute_result",
          "data": {
            "text/plain": [
              "0.44755244755244755"
            ]
          },
          "metadata": {
            "tags": []
          },
          "execution_count": 22
        }
      ]
    },
    {
      "cell_type": "markdown",
      "metadata": {
        "id": "7uvVJxgun2Ox"
      },
      "source": [
        "### 7) Classification Report\n",
        "- 위의 모든 것을 한번에 계산할 수 있는 방법\n",
        "- 항상 편한 것은 아니다 (하나씩 볼 필요가 있는 경우가 더 일반적)"
      ]
    },
    {
      "cell_type": "code",
      "metadata": {
        "colab": {
          "base_uri": "https://localhost:8080/"
        },
        "id": "u2_Z_doRn4B6",
        "outputId": "aea5d8af-4d38-42a1-93e6-e644f9db7fe4"
      },
      "source": [
        "from sklearn.metrics import classification_report\n",
        "\n",
        "print(classification_report(y_test, y_hat,\n",
        "                            target_names = ['No' , 'Yes'],\n",
        "                            digits = 5))\n",
        "\n",
        "# support: 개수"
      ],
      "execution_count": 23,
      "outputs": [
        {
          "output_type": "stream",
          "text": [
            "              precision    recall  f1-score   support\n",
            "\n",
            "          No    0.97568   0.99758   0.98651      2896\n",
            "         Yes    0.82051   0.30769   0.44755       104\n",
            "\n",
            "    accuracy                        0.97367      3000\n",
            "   macro avg    0.89810   0.65264   0.71703      3000\n",
            "weighted avg    0.97030   0.97367   0.96783      3000\n",
            "\n"
          ],
          "name": "stdout"
        }
      ]
    }
  ]
}