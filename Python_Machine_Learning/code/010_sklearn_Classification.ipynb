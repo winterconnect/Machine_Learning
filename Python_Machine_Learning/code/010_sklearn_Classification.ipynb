{
  "nbformat": 4,
  "nbformat_minor": 0,
  "metadata": {
    "colab": {
      "name": "010_sklearn_Classification.ipynb",
      "provenance": [],
      "collapsed_sections": []
    },
    "kernelspec": {
      "name": "python3",
      "display_name": "Python 3"
    }
  },
  "cells": [
    {
      "cell_type": "code",
      "metadata": {
        "id": "VtbbtTtCimha"
      },
      "source": [
        "# train, test split\n",
        "# split 후에도 원본데이터와 데이터의 비율이 같을까?\n",
        "# 비율 그대로 뽑아내는 것\n",
        "\n",
        "# 원본데이터의 특징을 가져오도록 구성해야 함\n",
        "\n",
        "# train이 더 어려우면 좋은 거 아닌가...?"
      ],
      "execution_count": 50,
      "outputs": []
    },
    {
      "cell_type": "code",
      "metadata": {
        "id": "8VdRZayTtB2o"
      },
      "source": [
        "import warnings\n",
        "warnings.filterwarnings('ignore')"
      ],
      "execution_count": 51,
      "outputs": []
    },
    {
      "cell_type": "code",
      "metadata": {
        "id": "kE51b8sMtZ-D"
      },
      "source": [
        "import seaborn as sns\n",
        "import matplotlib.pyplot as plt\n",
        "\n",
        "from sklearn.model_selection import train_test_split\n",
        "from sklearn.linear_model import LogisticRegression\n",
        "from sklearn.metrics import accuracy_score, confusion_matrix\n",
        "from sklearn.tree import DecisionTreeClassifier\n",
        "from sklearn.ensemble import RandomForestClassifier, GradientBoostingClassifier, AdaBoostClassifier\n",
        "from sklearn.neighbors import KNeighborsClassifier\n",
        "\n",
        "from xgboost import XGBClassifier\n",
        "from lightgbm import LGBMClassifier"
      ],
      "execution_count": 90,
      "outputs": []
    },
    {
      "cell_type": "markdown",
      "metadata": {
        "id": "nsLeBjYmtTEy"
      },
      "source": [
        "## 실습용 데이터 설정"
      ]
    },
    {
      "cell_type": "markdown",
      "metadata": {
        "id": "0A6Det3ctU-g"
      },
      "source": [
        "- pandas DataFrame\n",
        "  - iris.csv"
      ]
    },
    {
      "cell_type": "code",
      "metadata": {
        "colab": {
          "base_uri": "https://localhost:8080/"
        },
        "id": "iOB2G_bctXvY",
        "outputId": "910ef4b3-1ca8-476e-9e8d-1eb8967c184b"
      },
      "source": [
        "DF = sns.load_dataset('iris')\n",
        "\n",
        "DF.info()"
      ],
      "execution_count": 53,
      "outputs": [
        {
          "output_type": "stream",
          "text": [
            "<class 'pandas.core.frame.DataFrame'>\n",
            "RangeIndex: 150 entries, 0 to 149\n",
            "Data columns (total 5 columns):\n",
            " #   Column        Non-Null Count  Dtype  \n",
            "---  ------        --------------  -----  \n",
            " 0   sepal_length  150 non-null    float64\n",
            " 1   sepal_width   150 non-null    float64\n",
            " 2   petal_length  150 non-null    float64\n",
            " 3   petal_width   150 non-null    float64\n",
            " 4   species       150 non-null    object \n",
            "dtypes: float64(4), object(1)\n",
            "memory usage: 6.0+ KB\n"
          ],
          "name": "stdout"
        }
      ]
    },
    {
      "cell_type": "code",
      "metadata": {
        "colab": {
          "base_uri": "https://localhost:8080/",
          "height": 204
        },
        "id": "r6aPTn2ztecK",
        "outputId": "4bcf8818-d5c5-4770-9bf6-a8d64a10bdff"
      },
      "source": [
        "DF.head()"
      ],
      "execution_count": 54,
      "outputs": [
        {
          "output_type": "execute_result",
          "data": {
            "text/html": [
              "<div>\n",
              "<style scoped>\n",
              "    .dataframe tbody tr th:only-of-type {\n",
              "        vertical-align: middle;\n",
              "    }\n",
              "\n",
              "    .dataframe tbody tr th {\n",
              "        vertical-align: top;\n",
              "    }\n",
              "\n",
              "    .dataframe thead th {\n",
              "        text-align: right;\n",
              "    }\n",
              "</style>\n",
              "<table border=\"1\" class=\"dataframe\">\n",
              "  <thead>\n",
              "    <tr style=\"text-align: right;\">\n",
              "      <th></th>\n",
              "      <th>sepal_length</th>\n",
              "      <th>sepal_width</th>\n",
              "      <th>petal_length</th>\n",
              "      <th>petal_width</th>\n",
              "      <th>species</th>\n",
              "    </tr>\n",
              "  </thead>\n",
              "  <tbody>\n",
              "    <tr>\n",
              "      <th>0</th>\n",
              "      <td>5.1</td>\n",
              "      <td>3.5</td>\n",
              "      <td>1.4</td>\n",
              "      <td>0.2</td>\n",
              "      <td>setosa</td>\n",
              "    </tr>\n",
              "    <tr>\n",
              "      <th>1</th>\n",
              "      <td>4.9</td>\n",
              "      <td>3.0</td>\n",
              "      <td>1.4</td>\n",
              "      <td>0.2</td>\n",
              "      <td>setosa</td>\n",
              "    </tr>\n",
              "    <tr>\n",
              "      <th>2</th>\n",
              "      <td>4.7</td>\n",
              "      <td>3.2</td>\n",
              "      <td>1.3</td>\n",
              "      <td>0.2</td>\n",
              "      <td>setosa</td>\n",
              "    </tr>\n",
              "    <tr>\n",
              "      <th>3</th>\n",
              "      <td>4.6</td>\n",
              "      <td>3.1</td>\n",
              "      <td>1.5</td>\n",
              "      <td>0.2</td>\n",
              "      <td>setosa</td>\n",
              "    </tr>\n",
              "    <tr>\n",
              "      <th>4</th>\n",
              "      <td>5.0</td>\n",
              "      <td>3.6</td>\n",
              "      <td>1.4</td>\n",
              "      <td>0.2</td>\n",
              "      <td>setosa</td>\n",
              "    </tr>\n",
              "  </tbody>\n",
              "</table>\n",
              "</div>"
            ],
            "text/plain": [
              "   sepal_length  sepal_width  petal_length  petal_width species\n",
              "0           5.1          3.5           1.4          0.2  setosa\n",
              "1           4.9          3.0           1.4          0.2  setosa\n",
              "2           4.7          3.2           1.3          0.2  setosa\n",
              "3           4.6          3.1           1.5          0.2  setosa\n",
              "4           5.0          3.6           1.4          0.2  setosa"
            ]
          },
          "metadata": {
            "tags": []
          },
          "execution_count": 54
        }
      ]
    },
    {
      "cell_type": "code",
      "metadata": {
        "colab": {
          "base_uri": "https://localhost:8080/",
          "height": 297
        },
        "id": "yvw1XCHLtgSE",
        "outputId": "0923a004-0691-48c2-b373-9ad86c28cf0e"
      },
      "source": [
        "DF.describe()"
      ],
      "execution_count": 55,
      "outputs": [
        {
          "output_type": "execute_result",
          "data": {
            "text/html": [
              "<div>\n",
              "<style scoped>\n",
              "    .dataframe tbody tr th:only-of-type {\n",
              "        vertical-align: middle;\n",
              "    }\n",
              "\n",
              "    .dataframe tbody tr th {\n",
              "        vertical-align: top;\n",
              "    }\n",
              "\n",
              "    .dataframe thead th {\n",
              "        text-align: right;\n",
              "    }\n",
              "</style>\n",
              "<table border=\"1\" class=\"dataframe\">\n",
              "  <thead>\n",
              "    <tr style=\"text-align: right;\">\n",
              "      <th></th>\n",
              "      <th>sepal_length</th>\n",
              "      <th>sepal_width</th>\n",
              "      <th>petal_length</th>\n",
              "      <th>petal_width</th>\n",
              "    </tr>\n",
              "  </thead>\n",
              "  <tbody>\n",
              "    <tr>\n",
              "      <th>count</th>\n",
              "      <td>150.000000</td>\n",
              "      <td>150.000000</td>\n",
              "      <td>150.000000</td>\n",
              "      <td>150.000000</td>\n",
              "    </tr>\n",
              "    <tr>\n",
              "      <th>mean</th>\n",
              "      <td>5.843333</td>\n",
              "      <td>3.057333</td>\n",
              "      <td>3.758000</td>\n",
              "      <td>1.199333</td>\n",
              "    </tr>\n",
              "    <tr>\n",
              "      <th>std</th>\n",
              "      <td>0.828066</td>\n",
              "      <td>0.435866</td>\n",
              "      <td>1.765298</td>\n",
              "      <td>0.762238</td>\n",
              "    </tr>\n",
              "    <tr>\n",
              "      <th>min</th>\n",
              "      <td>4.300000</td>\n",
              "      <td>2.000000</td>\n",
              "      <td>1.000000</td>\n",
              "      <td>0.100000</td>\n",
              "    </tr>\n",
              "    <tr>\n",
              "      <th>25%</th>\n",
              "      <td>5.100000</td>\n",
              "      <td>2.800000</td>\n",
              "      <td>1.600000</td>\n",
              "      <td>0.300000</td>\n",
              "    </tr>\n",
              "    <tr>\n",
              "      <th>50%</th>\n",
              "      <td>5.800000</td>\n",
              "      <td>3.000000</td>\n",
              "      <td>4.350000</td>\n",
              "      <td>1.300000</td>\n",
              "    </tr>\n",
              "    <tr>\n",
              "      <th>75%</th>\n",
              "      <td>6.400000</td>\n",
              "      <td>3.300000</td>\n",
              "      <td>5.100000</td>\n",
              "      <td>1.800000</td>\n",
              "    </tr>\n",
              "    <tr>\n",
              "      <th>max</th>\n",
              "      <td>7.900000</td>\n",
              "      <td>4.400000</td>\n",
              "      <td>6.900000</td>\n",
              "      <td>2.500000</td>\n",
              "    </tr>\n",
              "  </tbody>\n",
              "</table>\n",
              "</div>"
            ],
            "text/plain": [
              "       sepal_length  sepal_width  petal_length  petal_width\n",
              "count    150.000000   150.000000    150.000000   150.000000\n",
              "mean       5.843333     3.057333      3.758000     1.199333\n",
              "std        0.828066     0.435866      1.765298     0.762238\n",
              "min        4.300000     2.000000      1.000000     0.100000\n",
              "25%        5.100000     2.800000      1.600000     0.300000\n",
              "50%        5.800000     3.000000      4.350000     1.300000\n",
              "75%        6.400000     3.300000      5.100000     1.800000\n",
              "max        7.900000     4.400000      6.900000     2.500000"
            ]
          },
          "metadata": {
            "tags": []
          },
          "execution_count": 55
        }
      ]
    },
    {
      "cell_type": "markdown",
      "metadata": {
        "id": "tAWzMg78tmEc"
      },
      "source": [
        "### 1) 분석변수 선택\n",
        "- X: 'sepal_length', 'sepal_width', 'petal_length', 'petal_width'\n",
        "- y: 'species'"
      ]
    },
    {
      "cell_type": "code",
      "metadata": {
        "id": "qMBmEt9qttJX"
      },
      "source": [
        "X = DF[['sepal_length' , 'sepal_width' , 'petal_length' , 'petal_width']]\n",
        "y = DF['species']"
      ],
      "execution_count": 56,
      "outputs": []
    },
    {
      "cell_type": "markdown",
      "metadata": {
        "id": "r-tNtKvCt1Iz"
      },
      "source": [
        "### 2) Train & Test Split(width stratify)\n",
        "- 7:3"
      ]
    },
    {
      "cell_type": "code",
      "metadata": {
        "colab": {
          "base_uri": "https://localhost:8080/"
        },
        "id": "ZPIdUkOVt0gh",
        "outputId": "104e0fa6-8007-4ca2-cc53-c81f7a67add8"
      },
      "source": [
        "X_train, X_test, y_train, y_test = train_test_split(X, y,\n",
        "                                                    test_size = 0.3,\n",
        "                                                    stratify = y,\n",
        "                                                    random_state = 2045)\n",
        "\n",
        "print('Train Data: ' , X_train.shape, y_train.shape)\n",
        "print('Test Data: ' , X_test.shape, y_test.shape)"
      ],
      "execution_count": 57,
      "outputs": [
        {
          "output_type": "stream",
          "text": [
            "Train Data:  (105, 4) (105,)\n",
            "Test Data:  (45, 4) (45,)\n"
          ],
          "name": "stdout"
        }
      ]
    },
    {
      "cell_type": "code",
      "metadata": {
        "colab": {
          "base_uri": "https://localhost:8080/"
        },
        "id": "-jz6jBEFuMvE",
        "outputId": "63ee6cf7-204e-4453-e991-28a8490e3c1a"
      },
      "source": [
        "DF['species'].value_counts()"
      ],
      "execution_count": 58,
      "outputs": [
        {
          "output_type": "execute_result",
          "data": {
            "text/plain": [
              "setosa        50\n",
              "virginica     50\n",
              "versicolor    50\n",
              "Name: species, dtype: int64"
            ]
          },
          "metadata": {
            "tags": []
          },
          "execution_count": 58
        }
      ]
    },
    {
      "cell_type": "code",
      "metadata": {
        "colab": {
          "base_uri": "https://localhost:8080/"
        },
        "id": "oXyIVT-MuRZY",
        "outputId": "66d8df19-ead6-4219-ba50-fa18cef53245"
      },
      "source": [
        "print(y_train.value_counts(), '\\n\\n', y_test.value_counts())\n",
        "\n",
        "# stratify를 하지 않고 분류된 비율을 보면\n",
        "# 문제가 쉬워졌음을 알 수 있다. 왜?\n",
        "# 분류하기 쉬운 setosa가 많다\n",
        "\n",
        "# 여러가지 옵션을 통해 조정가능\n",
        "# stratify(층화추출): 여러개의 층에서 뽑아낸다"
      ],
      "execution_count": 59,
      "outputs": [
        {
          "output_type": "stream",
          "text": [
            "setosa        35\n",
            "virginica     35\n",
            "versicolor    35\n",
            "Name: species, dtype: int64 \n",
            "\n",
            " setosa        15\n",
            "virginica     15\n",
            "versicolor    15\n",
            "Name: species, dtype: int64\n"
          ],
          "name": "stdout"
        }
      ]
    },
    {
      "cell_type": "markdown",
      "metadata": {
        "id": "berLaqfiua6e"
      },
      "source": [
        "## 1. Logistic Regression"
      ]
    },
    {
      "cell_type": "markdown",
      "metadata": {
        "id": "BQueR5Ujudy9"
      },
      "source": [
        "### 1) 모델 생성\n",
        "- C: Regularization strength\n",
        "  - default: 1.0\n",
        "  - 값이 작아지면 weight값을 0에 가깝게 학습\n",
        "    - 다수의 데이터포인트에 맞추려는 경향\n",
        "  - 값이 커지면 weight값을 제한하지 않음\n",
        "    - 각각의 데이터포인트에 맞추려는 경향"
      ]
    },
    {
      "cell_type": "code",
      "metadata": {
        "colab": {
          "base_uri": "https://localhost:8080/"
        },
        "id": "gRjMh3ztutd4",
        "outputId": "4e1d95e0-e5c3-4d67-f4e9-f409508c28b3"
      },
      "source": [
        "LR = LogisticRegression(C = 0.3,                        # 학습률(알파와 비슷)\n",
        "                        penalty = 'l2',\n",
        "                        multi_class = 'multinomial',    # logistic으로 다중분류를 하고싶다면 multinomial\n",
        "                        n_jobs = -1)\n",
        "\n",
        "LR.fit(X_train, y_train)"
      ],
      "execution_count": 60,
      "outputs": [
        {
          "output_type": "execute_result",
          "data": {
            "text/plain": [
              "LogisticRegression(C=0.3, class_weight=None, dual=False, fit_intercept=True,\n",
              "                   intercept_scaling=1, l1_ratio=None, max_iter=100,\n",
              "                   multi_class='multinomial', n_jobs=-1, penalty='l2',\n",
              "                   random_state=None, solver='lbfgs', tol=0.0001, verbose=0,\n",
              "                   warm_start=False)"
            ]
          },
          "metadata": {
            "tags": []
          },
          "execution_count": 60
        }
      ]
    },
    {
      "cell_type": "markdown",
      "metadata": {
        "id": "eWBe61Lzu7M0"
      },
      "source": [
        "### 2) 모델 평가"
      ]
    },
    {
      "cell_type": "code",
      "metadata": {
        "colab": {
          "base_uri": "https://localhost:8080/"
        },
        "id": "aRvTPOvmu8pg",
        "outputId": "85e0dcef-381f-4948-f6a8-773c264bcff0"
      },
      "source": [
        "print(accuracy_score(y_test, LR.predict(X_test)), '\\n')\n",
        "print(confusion_matrix(y_test, LR.predict(X_test)))"
      ],
      "execution_count": 61,
      "outputs": [
        {
          "output_type": "stream",
          "text": [
            "0.9333333333333333 \n",
            "\n",
            "[[15  0  0]\n",
            " [ 0 14  1]\n",
            " [ 0  2 13]]\n"
          ],
          "name": "stdout"
        }
      ]
    },
    {
      "cell_type": "markdown",
      "metadata": {
        "id": "eUHUtytevh0v"
      },
      "source": [
        "## 2. Decision Tree Classifier"
      ]
    },
    {
      "cell_type": "markdown",
      "metadata": {
        "id": "_QJyzaPgvkd1"
      },
      "source": [
        "### 1) 모델 생성"
      ]
    },
    {
      "cell_type": "code",
      "metadata": {
        "colab": {
          "base_uri": "https://localhost:8080/"
        },
        "id": "8t1vheMhvkAQ",
        "outputId": "22a3e750-0a87-40fe-bb95-77f94e357225"
      },
      "source": [
        "%%time\n",
        "\n",
        "DT = DecisionTreeClassifier(criterion = 'entropy',\n",
        "                            max_depth = 3,\n",
        "                            random_state = 2045)\n",
        "\n",
        "DT.fit(X_train, y_train)"
      ],
      "execution_count": 62,
      "outputs": [
        {
          "output_type": "stream",
          "text": [
            "CPU times: user 2.76 ms, sys: 0 ns, total: 2.76 ms\n",
            "Wall time: 2.82 ms\n"
          ],
          "name": "stdout"
        }
      ]
    },
    {
      "cell_type": "markdown",
      "metadata": {
        "id": "eOJ_taFyv4FS"
      },
      "source": [
        "### 2) 모델 평가"
      ]
    },
    {
      "cell_type": "code",
      "metadata": {
        "colab": {
          "base_uri": "https://localhost:8080/"
        },
        "id": "lm1_OwTwv6Ta",
        "outputId": "35b8db86-e19c-4812-d1d7-ac002da513e1"
      },
      "source": [
        "print(accuracy_score(y_test, DT.predict(X_test)), '\\n')\n",
        "print(confusion_matrix(y_test, DT.predict(X_test)))"
      ],
      "execution_count": 63,
      "outputs": [
        {
          "output_type": "stream",
          "text": [
            "0.8888888888888888 \n",
            "\n",
            "[[15  0  0]\n",
            " [ 0 13  2]\n",
            " [ 0  3 12]]\n"
          ],
          "name": "stdout"
        }
      ]
    },
    {
      "cell_type": "markdown",
      "metadata": {
        "id": "RTmNBqN7wDaZ"
      },
      "source": [
        "### 3) Feature Importance"
      ]
    },
    {
      "cell_type": "code",
      "metadata": {
        "colab": {
          "base_uri": "https://localhost:8080/"
        },
        "id": "At8kbe64wB9E",
        "outputId": "cf1360ac-5e9d-4231-a129-17b5e63d1066"
      },
      "source": [
        "DT.feature_importances_"
      ],
      "execution_count": 64,
      "outputs": [
        {
          "output_type": "execute_result",
          "data": {
            "text/plain": [
              "array([0.        , 0.        , 0.64899406, 0.35100594])"
            ]
          },
          "metadata": {
            "tags": []
          },
          "execution_count": 64
        }
      ]
    },
    {
      "cell_type": "code",
      "metadata": {
        "colab": {
          "base_uri": "https://localhost:8080/",
          "height": 374
        },
        "id": "-OmH6_pBu5L9",
        "outputId": "c6bbd6b1-0734-4784-ff7e-7d854d66ad96"
      },
      "source": [
        "plt.figure(figsize = (9, 6))\n",
        "sns.barplot(DT.feature_importances_,\n",
        "            ['sepal_length' , 'sepal_width' , 'petal_length' , 'petal_width'])\n",
        "plt.show()"
      ],
      "execution_count": 65,
      "outputs": [
        {
          "output_type": "display_data",
          "data": {
            "image/png": "[encoded data removed]",
            "text/plain": [
              "<Figure size 648x432 with 1 Axes>"
            ]
          },
          "metadata": {
            "tags": [],
            "needs_background": "light"
          }
        }
      ]
    },
    {
      "cell_type": "markdown",
      "metadata": {
        "id": "zYzhXh8owbtk"
      },
      "source": [
        "## 3. Random Forest Classifier"
      ]
    },
    {
      "cell_type": "markdown",
      "metadata": {
        "id": "Twh6va3vwf0Z"
      },
      "source": [
        "### 1) 모델생성"
      ]
    },
    {
      "cell_type": "code",
      "metadata": {
        "colab": {
          "base_uri": "https://localhost:8080/"
        },
        "id": "37vBVDrmuc2W",
        "outputId": "3a91957f-5a08-4f84-a392-083b875c4873"
      },
      "source": [
        "%%time\n",
        "\n",
        "RF = RandomForestClassifier(criterion = 'entropy',\n",
        "                            n_estimators = 100,\n",
        "                            max_features = 3,\n",
        "                            max_depth = 2,\n",
        "                            random_state = 2045,\n",
        "                            n_jobs = -1)\n",
        "\n",
        "RF.fit(X_train, y_train)"
      ],
      "execution_count": 66,
      "outputs": [
        {
          "output_type": "stream",
          "text": [
            "CPU times: user 205 ms, sys: 34 ms, total: 239 ms\n",
            "Wall time: 254 ms\n"
          ],
          "name": "stdout"
        }
      ]
    },
    {
      "cell_type": "markdown",
      "metadata": {
        "id": "ji6dzsB8wzf6"
      },
      "source": [
        "### 2) 모델 평가"
      ]
    },
    {
      "cell_type": "code",
      "metadata": {
        "colab": {
          "base_uri": "https://localhost:8080/"
        },
        "id": "x6nCv9X1uZm3",
        "outputId": "2bd7d877-f327-4631-c136-b6adf756dd14"
      },
      "source": [
        "print(accuracy_score(y_test, RF.predict(X_test)), '\\n')\n",
        "print(confusion_matrix(y_test, RF.predict(X_test)))"
      ],
      "execution_count": 67,
      "outputs": [
        {
          "output_type": "stream",
          "text": [
            "0.9333333333333333 \n",
            "\n",
            "[[15  0  0]\n",
            " [ 0 15  0]\n",
            " [ 0  3 12]]\n"
          ],
          "name": "stdout"
        }
      ]
    },
    {
      "cell_type": "markdown",
      "metadata": {
        "id": "8NuiAkYYxmMV"
      },
      "source": [
        "### 3) Feature Importance"
      ]
    },
    {
      "cell_type": "code",
      "metadata": {
        "colab": {
          "base_uri": "https://localhost:8080/"
        },
        "id": "l8sCGIJ5xlmP",
        "outputId": "949fc69f-2b0e-4224-e85c-81a5431e86b1"
      },
      "source": [
        "RF.feature_importances_"
      ],
      "execution_count": 68,
      "outputs": [
        {
          "output_type": "execute_result",
          "data": {
            "text/plain": [
              "array([2.17808494e-04, 0.00000000e+00, 3.95922779e-01, 6.03859413e-01])"
            ]
          },
          "metadata": {
            "tags": []
          },
          "execution_count": 68
        }
      ]
    },
    {
      "cell_type": "code",
      "metadata": {
        "colab": {
          "base_uri": "https://localhost:8080/",
          "height": 374
        },
        "id": "vBxD8UkwtiNj",
        "outputId": "17f10062-873f-4a1e-edc5-51bcdaa000ab"
      },
      "source": [
        "plt.figure(figsize = (9, 6))\n",
        "sns.barplot(RF.feature_importances_,\n",
        "            ['sepal_length' , 'sepal_width' , 'petal_length' , 'petal_width'])\n",
        "\n",
        "plt.show()"
      ],
      "execution_count": 69,
      "outputs": [
        {
          "output_type": "display_data",
          "data": {
            "image/png": "[encoded data removed]",
            "text/plain": [
              "<Figure size 648x432 with 1 Axes>"
            ]
          },
          "metadata": {
            "tags": [],
            "needs_background": "light"
          }
        }
      ]
    },
    {
      "cell_type": "markdown",
      "metadata": {
        "id": "rvP1gBuRx8Ec"
      },
      "source": [
        "## 4. Gradient Boosting Machine(GBM) Classifier"
      ]
    },
    {
      "cell_type": "markdown",
      "metadata": {
        "id": "4C8M-XrYyBBq"
      },
      "source": [
        "### 1) 모델 생성\n",
        "- loss: 경사하강법에 사용될 오차함수\n",
        "- learning_rate: 반복학습에 적용될 학습률\n",
        "  - 너무 작으면 학습시간이 오래 걸릴 수 있음\n",
        "  - 너무 크면 학습속도는 빠르지만 최적화되지 못할 수 있음\n",
        "  - n_estimators와 함께 상호보완적으로 사용\n",
        "- n_estimators: weak learner 개수\n",
        "  - 약한 학습기들이 순차적으로 오차를 보정\n",
        "  - 많을수록 학습시간이 길어짐"
      ]
    },
    {
      "cell_type": "code",
      "metadata": {
        "colab": {
          "base_uri": "https://localhost:8080/"
        },
        "id": "duVYetl_yAQq",
        "outputId": "d35d495a-f05c-4dd4-cb7e-9ea8d22ffadf"
      },
      "source": [
        "%%time\n",
        "\n",
        "GBC = GradientBoostingClassifier(loss = 'deviance',\n",
        "                                 n_estimators = 500,\n",
        "                                 learning_rate = 0.01,\n",
        "                                 max_features = 3,\n",
        "                                 max_depth = 3)\n",
        "\n",
        "GBC.fit(X_train, y_train)"
      ],
      "execution_count": 70,
      "outputs": [
        {
          "output_type": "stream",
          "text": [
            "CPU times: user 1.13 s, sys: 14.1 ms, total: 1.15 s\n",
            "Wall time: 1.16 s\n"
          ],
          "name": "stdout"
        }
      ]
    },
    {
      "cell_type": "markdown",
      "metadata": {
        "id": "m81w-xOfyq_S"
      },
      "source": [
        "### 2) 모델 평가"
      ]
    },
    {
      "cell_type": "code",
      "metadata": {
        "colab": {
          "base_uri": "https://localhost:8080/"
        },
        "id": "6BRhIc1lx6el",
        "outputId": "578a2aba-b938-41ef-e4ea-bce1233ea21f"
      },
      "source": [
        "print(accuracy_score(y_test, GBC.predict(X_test)), '\\n')\n",
        "print(confusion_matrix(y_test, GBC.predict(X_test)))"
      ],
      "execution_count": 71,
      "outputs": [
        {
          "output_type": "stream",
          "text": [
            "0.9333333333333333 \n",
            "\n",
            "[[15  0  0]\n",
            " [ 0 15  0]\n",
            " [ 0  3 12]]\n"
          ],
          "name": "stdout"
        }
      ]
    },
    {
      "cell_type": "markdown",
      "metadata": {
        "id": "HRZf4SlEy-He"
      },
      "source": [
        "### 3) Feature Importance"
      ]
    },
    {
      "cell_type": "code",
      "metadata": {
        "colab": {
          "base_uri": "https://localhost:8080/"
        },
        "id": "OGnu7LcuzA5H",
        "outputId": "995766e0-2e01-4f69-f47d-362dce57be98"
      },
      "source": [
        "GBC.feature_importances_"
      ],
      "execution_count": 72,
      "outputs": [
        {
          "output_type": "execute_result",
          "data": {
            "text/plain": [
              "array([0.02911673, 0.08883488, 0.36647546, 0.51557293])"
            ]
          },
          "metadata": {
            "tags": []
          },
          "execution_count": 72
        }
      ]
    },
    {
      "cell_type": "code",
      "metadata": {
        "colab": {
          "base_uri": "https://localhost:8080/",
          "height": 374
        },
        "id": "WxsAVTmuzGtv",
        "outputId": "07ac79cd-e669-46c5-98b2-0517e960ffcf"
      },
      "source": [
        "plt.figure(figsize = (9, 6))\n",
        "sns.barplot(GBC.feature_importances_,\n",
        "            ['sepal_length' , 'sepal_width' , 'petal_length' , 'petal_width'])\n",
        "plt.show()"
      ],
      "execution_count": 73,
      "outputs": [
        {
          "output_type": "display_data",
          "data": {
            "image/png": "[encoded data removed]",
            "text/plain": [
              "<Figure size 648x432 with 1 Axes>"
            ]
          },
          "metadata": {
            "tags": [],
            "needs_background": "light"
          }
        }
      ]
    },
    {
      "cell_type": "markdown",
      "metadata": {
        "id": "kugu0u_jzatT"
      },
      "source": [
        "## 4. Adaptive Boosting Classifier"
      ]
    },
    {
      "cell_type": "markdown",
      "metadata": {
        "id": "qfHJMMONzfer"
      },
      "source": [
        "### 1) 모델 생성"
      ]
    },
    {
      "cell_type": "code",
      "metadata": {
        "colab": {
          "base_uri": "https://localhost:8080/"
        },
        "id": "5V4nkLsrzhal",
        "outputId": "aada3d88-2258-47ec-bfda-de338503f800"
      },
      "source": [
        "%%time\n",
        "\n",
        "ABC = AdaBoostClassifier(n_estimators = 1000,\n",
        "                         learning_rate = 0.001,\n",
        "                         random_state = 2045)\n",
        "\n",
        "ABC.fit(X_train, y_train)"
      ],
      "execution_count": 74,
      "outputs": [
        {
          "output_type": "stream",
          "text": [
            "CPU times: user 1.46 s, sys: 11.3 ms, total: 1.47 s\n",
            "Wall time: 1.47 s\n"
          ],
          "name": "stdout"
        }
      ]
    },
    {
      "cell_type": "markdown",
      "metadata": {
        "id": "1BcTl-FXz03T"
      },
      "source": [
        "### 2) 모델 평가"
      ]
    },
    {
      "cell_type": "code",
      "metadata": {
        "colab": {
          "base_uri": "https://localhost:8080/"
        },
        "id": "pIrrqu8tz2Mj",
        "outputId": "136f4c8b-d0a3-4a91-91dc-db6ffee65f38"
      },
      "source": [
        "print(accuracy_score(y_test, ABC.predict(X_test)), '\\n')\n",
        "print(confusion_matrix(y_test, ABC.predict(X_test)))"
      ],
      "execution_count": 75,
      "outputs": [
        {
          "output_type": "stream",
          "text": [
            "0.8888888888888888 \n",
            "\n",
            "[[15  0  0]\n",
            " [ 0 13  2]\n",
            " [ 0  3 12]]\n"
          ],
          "name": "stdout"
        }
      ]
    },
    {
      "cell_type": "code",
      "metadata": {
        "colab": {
          "base_uri": "https://localhost:8080/",
          "height": 374
        },
        "id": "1yWWjmT7z9Zs",
        "outputId": "014f0266-ff05-406f-b3be-65f30e980efd"
      },
      "source": [
        "plt.figure(figsize = (9, 6))\n",
        "sns.barplot(ABC.feature_importances_,\n",
        "            ['sepal_length' , 'sepal_width' , 'petal_length' , 'petal_width'])\n",
        "plt.show()"
      ],
      "execution_count": 76,
      "outputs": [
        {
          "output_type": "display_data",
          "data": {
            "image/png": "[encoded data removed]",
            "text/plain": [
              "<Figure size 648x432 with 1 Axes>"
            ]
          },
          "metadata": {
            "tags": [],
            "needs_background": "light"
          }
        }
      ]
    },
    {
      "cell_type": "markdown",
      "metadata": {
        "id": "BE5XC4Av0Gj3"
      },
      "source": [
        "## 5. eXtra Gradient Boost(XGBoost) Classifier"
      ]
    },
    {
      "cell_type": "markdown",
      "metadata": {
        "id": "C3qlAQdL0LCv"
      },
      "source": [
        "### 1) 모델생성\n",
        "- booster: 'gbtree' or 'gblinear'\n",
        "- reg_lambda: L2 Regularization"
      ]
    },
    {
      "cell_type": "code",
      "metadata": {
        "colab": {
          "base_uri": "https://localhost:8080/"
        },
        "id": "hjkrR3-v0Kow",
        "outputId": "ee2d2472-822b-4161-ac25-c21155a24c12"
      },
      "source": [
        "%%time\n",
        "\n",
        "XGB = XGBClassifier(booster = 'gbtree',\n",
        "                    n_estimators = 500,\n",
        "                    learning_rate = 0.5,\n",
        "                    reg_lambda = 0.05,     # 오차함수를 보정할 때 규제화를 다시 해줌 (lambda: 알파값)\n",
        "                    n_jobs = -1)\n",
        "\n",
        "XGB.fit(X_train, y_train)"
      ],
      "execution_count": 77,
      "outputs": [
        {
          "output_type": "stream",
          "text": [
            "CPU times: user 117 ms, sys: 8.82 ms, total: 126 ms\n",
            "Wall time: 68.9 ms\n"
          ],
          "name": "stdout"
        }
      ]
    },
    {
      "cell_type": "markdown",
      "metadata": {
        "id": "u9zY2vIZ0e-N"
      },
      "source": [
        "### 2) 모델 평가"
      ]
    },
    {
      "cell_type": "code",
      "metadata": {
        "colab": {
          "base_uri": "https://localhost:8080/"
        },
        "id": "ZuOdHm6t0eTH",
        "outputId": "4883ddfd-105f-4723-cf2b-1e48f7e41094"
      },
      "source": [
        "print(accuracy_score(y_test, XGB.predict(X_test)), '\\n')\n",
        "print(confusion_matrix(y_test, XGB.predict(X_test)))"
      ],
      "execution_count": 78,
      "outputs": [
        {
          "output_type": "stream",
          "text": [
            "0.9111111111111111 \n",
            "\n",
            "[[15  0  0]\n",
            " [ 0 15  0]\n",
            " [ 0  4 11]]\n"
          ],
          "name": "stdout"
        }
      ]
    },
    {
      "cell_type": "markdown",
      "metadata": {
        "id": "cYQm4YCo0oJg"
      },
      "source": [
        "### 3) Feature Importance"
      ]
    },
    {
      "cell_type": "code",
      "metadata": {
        "colab": {
          "base_uri": "https://localhost:8080/"
        },
        "id": "h4TRdwJe0Fny",
        "outputId": "1c81499b-84ac-4d21-fc42-d8b9fbf05438"
      },
      "source": [
        "XGB.feature_importances_"
      ],
      "execution_count": 79,
      "outputs": [
        {
          "output_type": "execute_result",
          "data": {
            "text/plain": [
              "array([0.00226077, 0.43800136, 0.12052245, 0.4392154 ], dtype=float32)"
            ]
          },
          "metadata": {
            "tags": []
          },
          "execution_count": 79
        }
      ]
    },
    {
      "cell_type": "code",
      "metadata": {
        "colab": {
          "base_uri": "https://localhost:8080/",
          "height": 374
        },
        "id": "WGfiPxfJ0rng",
        "outputId": "23c6118e-a940-4ae7-ed4d-6392967dfe4c"
      },
      "source": [
        "plt.figure(figsize = (9, 6))\n",
        "sns.barplot(XGB.feature_importances_,\n",
        "            ['sepal_length' , 'sepal_width' , 'petal_length' , 'petal_width'])\n",
        "plt.show()"
      ],
      "execution_count": 80,
      "outputs": [
        {
          "output_type": "display_data",
          "data": {
            "image/png": "[encoded data removed]",
            "text/plain": [
              "<Figure size 648x432 with 1 Axes>"
            ]
          },
          "metadata": {
            "tags": [],
            "needs_background": "light"
          }
        }
      ]
    },
    {
      "cell_type": "markdown",
      "metadata": {
        "id": "mYoFYUvk01nt"
      },
      "source": [
        "## 7. LightGBM Classifier"
      ]
    },
    {
      "cell_type": "markdown",
      "metadata": {
        "id": "2Rph6cKe05MG"
      },
      "source": [
        "### 1) 모델 생성"
      ]
    },
    {
      "cell_type": "code",
      "metadata": {
        "colab": {
          "base_uri": "https://localhost:8080/"
        },
        "id": "xDAkEmZP065D",
        "outputId": "e6c0adc6-3b1a-495f-b8e2-b902b08b749a"
      },
      "source": [
        "%%time\n",
        "\n",
        "LGB = LGBMClassifier(n_estimators = 500,\n",
        "                     max_depth = 3,\n",
        "                     learning_rate = 0.5,\n",
        "                     reg_lambda = 0.2,\n",
        "                     n_jobs = -1)\n",
        "\n",
        "LGB.fit(X_train, y_train)"
      ],
      "execution_count": 81,
      "outputs": [
        {
          "output_type": "stream",
          "text": [
            "CPU times: user 178 ms, sys: 12.8 ms, total: 191 ms\n",
            "Wall time: 106 ms\n"
          ],
          "name": "stdout"
        }
      ]
    },
    {
      "cell_type": "markdown",
      "metadata": {
        "id": "s7ybgYsZ1RQ1"
      },
      "source": [
        "### 2) 모델 평가"
      ]
    },
    {
      "cell_type": "code",
      "metadata": {
        "colab": {
          "base_uri": "https://localhost:8080/"
        },
        "id": "JqH6Urnc1So1",
        "outputId": "5c4ed7ad-c9b2-4431-9a76-401011386c5a"
      },
      "source": [
        "print(accuracy_score(y_test, LGB.predict(X_test)), '\\n')\n",
        "print(confusion_matrix(y_test, LGB.predict(X_test)))"
      ],
      "execution_count": 82,
      "outputs": [
        {
          "output_type": "stream",
          "text": [
            "0.9555555555555556 \n",
            "\n",
            "[[15  0  0]\n",
            " [ 0 15  0]\n",
            " [ 0  2 13]]\n"
          ],
          "name": "stdout"
        }
      ]
    },
    {
      "cell_type": "markdown",
      "metadata": {
        "id": "lCbPhYyV1fSy"
      },
      "source": [
        "### 3) Feature Importance"
      ]
    },
    {
      "cell_type": "code",
      "metadata": {
        "colab": {
          "base_uri": "https://localhost:8080/"
        },
        "id": "WsL1zbEm1hN8",
        "outputId": "e5414480-777b-4d63-a42b-1d4974cea5bd"
      },
      "source": [
        "LGB.feature_importances_"
      ],
      "execution_count": 83,
      "outputs": [
        {
          "output_type": "execute_result",
          "data": {
            "text/plain": [
              "array([594, 704, 866, 847])"
            ]
          },
          "metadata": {
            "tags": []
          },
          "execution_count": 83
        }
      ]
    },
    {
      "cell_type": "code",
      "metadata": {
        "colab": {
          "base_uri": "https://localhost:8080/",
          "height": 374
        },
        "id": "tYh8nGoD1Q0P",
        "outputId": "12a754b9-d65a-4b49-e2cd-5cb28a595fc5"
      },
      "source": [
        "plt.figure(figsize = (9, 6))\n",
        "sns.barplot(LGB.feature_importances_,\n",
        "            ['sepal_length' , 'sepal_width' , 'petal_length' , 'petal_width'])\n",
        "\n",
        "plt.show()"
      ],
      "execution_count": 89,
      "outputs": [
        {
          "output_type": "display_data",
          "data": {
            "image/png": "[encoded data removed]",
            "text/plain": [
              "<Figure size 648x432 with 1 Axes>"
            ]
          },
          "metadata": {
            "tags": [],
            "needs_background": "light"
          }
        }
      ]
    },
    {
      "cell_type": "markdown",
      "metadata": {
        "id": "TVranGnVHWNX"
      },
      "source": [
        "## 8. K-Nearest Neighbors Classifier"
      ]
    },
    {
      "cell_type": "markdown",
      "metadata": {
        "id": "P6OsJcW6Hi_F"
      },
      "source": [
        "### 1) 모델 생성"
      ]
    },
    {
      "cell_type": "code",
      "metadata": {
        "colab": {
          "base_uri": "https://localhost:8080/"
        },
        "id": "ByLXWr_JHiSN",
        "outputId": "6ce7aaa7-a6b5-4953-b164-f44c8513eb3b"
      },
      "source": [
        "%%time\n",
        "\n",
        "KNN = KNeighborsClassifier(n_neighbors = 5,\n",
        "                           n_jobs = -1)\n",
        "\n",
        "KNN.fit(X_train, y_train)"
      ],
      "execution_count": 91,
      "outputs": [
        {
          "output_type": "stream",
          "text": [
            "CPU times: user 1.99 ms, sys: 1.02 ms, total: 3.01 ms\n",
            "Wall time: 6.47 ms\n"
          ],
          "name": "stdout"
        }
      ]
    },
    {
      "cell_type": "markdown",
      "metadata": {
        "id": "PYvy9QviH83I"
      },
      "source": [
        "### 2) 모델 평가"
      ]
    },
    {
      "cell_type": "code",
      "metadata": {
        "colab": {
          "base_uri": "https://localhost:8080/"
        },
        "id": "DFU2ENr3H77k",
        "outputId": "d136df69-f2e0-4704-c552-480cd36157e4"
      },
      "source": [
        "print(accuracy_score(y_test, KNN.predict(X_test)), '\\n')\n",
        "print(confusion_matrix(y_test, KNN.predict(X_test)))"
      ],
      "execution_count": 92,
      "outputs": [
        {
          "output_type": "stream",
          "text": [
            "0.9777777777777777 \n",
            "\n",
            "[[15  0  0]\n",
            " [ 0 15  0]\n",
            " [ 0  1 14]]\n"
          ],
          "name": "stdout"
        }
      ]
    },
    {
      "cell_type": "code",
      "metadata": {
        "id": "2x2qN-HbIF4h"
      },
      "source": [
        ""
      ],
      "execution_count": null,
      "outputs": []
    },
    {
      "cell_type": "code",
      "metadata": {
        "id": "isj3KWdEjorD"
      },
      "source": [
        ""
      ],
      "execution_count": 85,
      "outputs": []
    },
    {
      "cell_type": "code",
      "metadata": {
        "id": "aTSRYw39lYRK"
      },
      "source": [
        ""
      ],
      "execution_count": 86,
      "outputs": []
    },
    {
      "cell_type": "code",
      "metadata": {
        "id": "oZwlXkG1odCz"
      },
      "source": [
        ""
      ],
      "execution_count": 87,
      "outputs": []
    }
  ]
}