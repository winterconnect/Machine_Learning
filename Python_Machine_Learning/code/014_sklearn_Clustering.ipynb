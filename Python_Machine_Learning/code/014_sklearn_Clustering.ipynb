{
  "nbformat": 4,
  "nbformat_minor": 0,
  "metadata": {
    "colab": {
      "name": "014_sklearn_Clustering.ipynb",
      "provenance": [],
      "collapsed_sections": []
    },
    "kernelspec": {
      "name": "python3",
      "display_name": "Python 3"
    }
  },
  "cells": [
    {
      "cell_type": "markdown",
      "metadata": {
        "id": "roVCUoCXC0vq"
      },
      "source": [
        "# sklearn Clustering - 군집분석"
      ]
    },
    {
      "cell_type": "code",
      "metadata": {
        "id": "-LPOoj_DCzTM"
      },
      "source": [
        "import warnings\n",
        "warnings.filterwarnings('ignore')"
      ],
      "execution_count": 1,
      "outputs": []
    },
    {
      "cell_type": "markdown",
      "metadata": {
        "id": "Nh5m8SXADDr8"
      },
      "source": [
        "## 실습용 데이터 설정"
      ]
    },
    {
      "cell_type": "markdown",
      "metadata": {
        "id": "AKW3BLn8DHWA"
      },
      "source": [
        "### 1) Import Packages"
      ]
    },
    {
      "cell_type": "code",
      "metadata": {
        "id": "W9JhxgVeDean"
      },
      "source": [
        "import matplotlib.pyplot as plt\n",
        "import numpy as np\n",
        "import pandas as pd"
      ],
      "execution_count": 2,
      "outputs": []
    },
    {
      "cell_type": "code",
      "metadata": {
        "id": "luBgJU3HDkgz"
      },
      "source": [
        "from sklearn.datasets import load_iris\n",
        "from sklearn.cluster import KMeans, MeanShift, estimate_bandwidth, DBSCAN\n",
        "from sklearn.mixture import GaussianMixture"
      ],
      "execution_count": 21,
      "outputs": []
    },
    {
      "cell_type": "markdown",
      "metadata": {
        "id": "7uQBZIxVDLCD"
      },
      "source": [
        "### 2) Load Dataset\n",
        "- Load iris Dataset"
      ]
    },
    {
      "cell_type": "code",
      "metadata": {
        "id": "W-PJ3VeyDmtZ"
      },
      "source": [
        "iris = load_iris()"
      ],
      "execution_count": 4,
      "outputs": []
    },
    {
      "cell_type": "markdown",
      "metadata": {
        "id": "x_ujOXA6Doj3"
      },
      "source": [
        "- pandas DataFrame"
      ]
    },
    {
      "cell_type": "code",
      "metadata": {
        "colab": {
          "base_uri": "https://localhost:8080/",
          "height": 204
        },
        "id": "WFWJWXVcDqpt",
        "outputId": "a8e6032b-eb18-4d70-c3f5-210100981972"
      },
      "source": [
        "DF = pd.DataFrame(data = iris.data ,\n",
        "                  columns = ['sepal_length' ,\n",
        "                             'sepal_width' ,\n",
        "                             'petal_length' ,\n",
        "                             'petal_width'])\n",
        "\n",
        "DF.head()"
      ],
      "execution_count": 5,
      "outputs": [
        {
          "output_type": "execute_result",
          "data": {
            "text/html": [
              "<div>\n",
              "<style scoped>\n",
              "    .dataframe tbody tr th:only-of-type {\n",
              "        vertical-align: middle;\n",
              "    }\n",
              "\n",
              "    .dataframe tbody tr th {\n",
              "        vertical-align: top;\n",
              "    }\n",
              "\n",
              "    .dataframe thead th {\n",
              "        text-align: right;\n",
              "    }\n",
              "</style>\n",
              "<table border=\"1\" class=\"dataframe\">\n",
              "  <thead>\n",
              "    <tr style=\"text-align: right;\">\n",
              "      <th></th>\n",
              "      <th>sepal_length</th>\n",
              "      <th>sepal_width</th>\n",
              "      <th>petal_length</th>\n",
              "      <th>petal_width</th>\n",
              "    </tr>\n",
              "  </thead>\n",
              "  <tbody>\n",
              "    <tr>\n",
              "      <th>0</th>\n",
              "      <td>5.1</td>\n",
              "      <td>3.5</td>\n",
              "      <td>1.4</td>\n",
              "      <td>0.2</td>\n",
              "    </tr>\n",
              "    <tr>\n",
              "      <th>1</th>\n",
              "      <td>4.9</td>\n",
              "      <td>3.0</td>\n",
              "      <td>1.4</td>\n",
              "      <td>0.2</td>\n",
              "    </tr>\n",
              "    <tr>\n",
              "      <th>2</th>\n",
              "      <td>4.7</td>\n",
              "      <td>3.2</td>\n",
              "      <td>1.3</td>\n",
              "      <td>0.2</td>\n",
              "    </tr>\n",
              "    <tr>\n",
              "      <th>3</th>\n",
              "      <td>4.6</td>\n",
              "      <td>3.1</td>\n",
              "      <td>1.5</td>\n",
              "      <td>0.2</td>\n",
              "    </tr>\n",
              "    <tr>\n",
              "      <th>4</th>\n",
              "      <td>5.0</td>\n",
              "      <td>3.6</td>\n",
              "      <td>1.4</td>\n",
              "      <td>0.2</td>\n",
              "    </tr>\n",
              "  </tbody>\n",
              "</table>\n",
              "</div>"
            ],
            "text/plain": [
              "   sepal_length  sepal_width  petal_length  petal_width\n",
              "0           5.1          3.5           1.4          0.2\n",
              "1           4.9          3.0           1.4          0.2\n",
              "2           4.7          3.2           1.3          0.2\n",
              "3           4.6          3.1           1.5          0.2\n",
              "4           5.0          3.6           1.4          0.2"
            ]
          },
          "metadata": {
            "tags": []
          },
          "execution_count": 5
        }
      ]
    },
    {
      "cell_type": "markdown",
      "metadata": {
        "id": "z8NMGd_5DOnF"
      },
      "source": [
        "## 1. K-means"
      ]
    },
    {
      "cell_type": "markdown",
      "metadata": {
        "id": "IsPexpTdDRYj"
      },
      "source": [
        "### 1) Modeling"
      ]
    },
    {
      "cell_type": "code",
      "metadata": {
        "colab": {
          "base_uri": "https://localhost:8080/"
        },
        "id": "QewSeKllDBRO",
        "outputId": "9f40108f-96af-4d7f-d22e-96cd235fb1cd"
      },
      "source": [
        "kmeans_3 = KMeans(n_clusters = 3,\n",
        "                  init = 'k-means++' ,\n",
        "                  max_iter = 15,\n",
        "                  random_state = 2045)\n",
        "\n",
        "kmeans_3.fit(iris.data)"
      ],
      "execution_count": 7,
      "outputs": [
        {
          "output_type": "execute_result",
          "data": {
            "text/plain": [
              "KMeans(algorithm='auto', copy_x=True, init='k-means++', max_iter=15,\n",
              "       n_clusters=3, n_init=10, n_jobs=None, precompute_distances='auto',\n",
              "       random_state=2045, tol=0.0001, verbose=0)"
            ]
          },
          "metadata": {
            "tags": []
          },
          "execution_count": 7
        }
      ]
    },
    {
      "cell_type": "markdown",
      "metadata": {
        "id": "3mwazhQeEJS8"
      },
      "source": [
        "### 2) 군집결과"
      ]
    },
    {
      "cell_type": "code",
      "metadata": {
        "id": "ofoxdiFTEI4p"
      },
      "source": [
        "DF['kmeans'] = kmeans_3.labels_\n",
        "DF['target'] = iris.target"
      ],
      "execution_count": 8,
      "outputs": []
    },
    {
      "cell_type": "code",
      "metadata": {
        "colab": {
          "base_uri": "https://localhost:8080/"
        },
        "id": "aQ8daHqREPyf",
        "outputId": "cd7da589-d067-40ff-df44-39b9a230feef"
      },
      "source": [
        "DF.groupby('target')['kmeans'].value_counts()"
      ],
      "execution_count": 9,
      "outputs": [
        {
          "output_type": "execute_result",
          "data": {
            "text/plain": [
              "target  kmeans\n",
              "0       1         50\n",
              "1       0         48\n",
              "        2          2\n",
              "2       2         36\n",
              "        0         14\n",
              "Name: kmeans, dtype: int64"
            ]
          },
          "metadata": {
            "tags": []
          },
          "execution_count": 9
        }
      ]
    },
    {
      "cell_type": "markdown",
      "metadata": {
        "id": "fbcmvVe4EUH_"
      },
      "source": [
        "## 2. Mean Shift(평균이동)\n",
        "- 데이터의 분포를 이용하여 군집의 중심을 탐색\n",
        "  - 데이터 밀도가 가장 높은 곳으로 중심을 지속적으로 이동\n",
        "- 군집의 중심점은 데이터포인트가 모여있는 곳이라는 가정\n",
        "  - 확률 밀도 함수(Probability Density Function)\n",
        "  - KDE(Kernel Density Estimation)"
      ]
    },
    {
      "cell_type": "markdown",
      "metadata": {
        "id": "1lSD9nS-E7NB"
      },
      "source": [
        "### 1) Modeling\n",
        "- Hyperparameter\n",
        "  - bandwidth: 대역폭이 클수록 적은 수의 군집중심을 가짐"
      ]
    },
    {
      "cell_type": "code",
      "metadata": {
        "colab": {
          "base_uri": "https://localhost:8080/"
        },
        "id": "pdZsrN5OETYR",
        "outputId": "11404ce8-c510-4b8e-ae98-bb1a28074b5d"
      },
      "source": [
        "meanshift = MeanShift(bandwidth = 0.86)\n",
        "meanshift.fit_predict(iris.data)\n",
        "\n",
        "# 3개로 군집되도록 bandwidth를 조정"
      ],
      "execution_count": 28,
      "outputs": [
        {
          "output_type": "execute_result",
          "data": {
            "text/plain": [
              "array([1, 1, 1, 1, 1, 1, 1, 1, 1, 1, 1, 1, 1, 1, 1, 1, 1, 1, 1, 1, 1, 1,\n",
              "       1, 1, 1, 1, 1, 1, 1, 1, 1, 1, 1, 1, 1, 1, 1, 1, 1, 1, 1, 1, 1, 1,\n",
              "       1, 1, 1, 1, 1, 1, 0, 0, 0, 0, 0, 0, 0, 0, 0, 0, 0, 0, 0, 0, 0, 0,\n",
              "       0, 0, 0, 0, 0, 0, 0, 0, 0, 0, 0, 2, 0, 0, 0, 0, 0, 0, 0, 0, 0, 0,\n",
              "       0, 0, 0, 0, 0, 0, 0, 0, 0, 0, 1, 0, 2, 0, 2, 2, 2, 2, 0, 2, 2, 2,\n",
              "       2, 2, 2, 0, 0, 2, 2, 2, 2, 0, 2, 0, 2, 0, 2, 2, 0, 0, 2, 2, 2, 2,\n",
              "       2, 0, 2, 2, 2, 2, 0, 2, 2, 2, 0, 2, 2, 2, 0, 2, 2, 0])"
            ]
          },
          "metadata": {
            "tags": []
          },
          "execution_count": 28
        }
      ]
    },
    {
      "cell_type": "code",
      "metadata": {
        "colab": {
          "base_uri": "https://localhost:8080/"
        },
        "id": "jfN01VHkFJKA",
        "outputId": "60a60f17-f911-4df0-a6bc-bd00ab2f8fc0"
      },
      "source": [
        "estimate_bandwidth(iris.data)\n",
        "\n",
        "# 데이터셋에 따른 recommended bandwidth"
      ],
      "execution_count": 29,
      "outputs": [
        {
          "output_type": "execute_result",
          "data": {
            "text/plain": [
              "1.2020768127998687"
            ]
          },
          "metadata": {
            "tags": []
          },
          "execution_count": 29
        }
      ]
    },
    {
      "cell_type": "markdown",
      "metadata": {
        "id": "m6SfV2xsFQQR"
      },
      "source": [
        "### 2) 군집결과"
      ]
    },
    {
      "cell_type": "code",
      "metadata": {
        "id": "AnANDPrCFPb2"
      },
      "source": [
        "DF['meanshift'] = meanshift.fit_predict(iris.data)"
      ],
      "execution_count": 14,
      "outputs": []
    },
    {
      "cell_type": "code",
      "metadata": {
        "colab": {
          "base_uri": "https://localhost:8080/"
        },
        "id": "tr-hkp6MFU6O",
        "outputId": "51561c87-a51c-4bcc-8cfe-aaeadc727b94"
      },
      "source": [
        "DF.groupby('target')['meanshift'].value_counts()"
      ],
      "execution_count": 15,
      "outputs": [
        {
          "output_type": "execute_result",
          "data": {
            "text/plain": [
              "target  meanshift\n",
              "0       1            50\n",
              "1       0            48\n",
              "        1             1\n",
              "        2             1\n",
              "2       2            36\n",
              "        0            14\n",
              "Name: meanshift, dtype: int64"
            ]
          },
          "metadata": {
            "tags": []
          },
          "execution_count": 15
        }
      ]
    },
    {
      "cell_type": "markdown",
      "metadata": {
        "id": "Cv-Y1WrfFetD"
      },
      "source": [
        "## 3. GMM (Gaussian Mixture Model)\n",
        "- 가우시안분포: 정규분포\n",
        "- 데이터가 여러 개의 가우시안 분포(Gaussian Distribution)를 가진 데이터들의 집합이라고 가정\n",
        "  - 개별 정규분포의 모수(평균, 분산) 추정\n",
        "  - 각 데이터포인트가 어떤 정규분포에 해당하는지 확률 추정\n",
        "    - EM(Expectation and Maximization)"
      ]
    },
    {
      "cell_type": "markdown",
      "metadata": {
        "id": "9JGWy8_vFssM"
      },
      "source": [
        "### 1) Modeling"
      ]
    },
    {
      "cell_type": "code",
      "metadata": {
        "colab": {
          "base_uri": "https://localhost:8080/"
        },
        "id": "rk5gs7dpFZ5N",
        "outputId": "dc2db8c8-58a5-44a8-893c-87d13431af8c"
      },
      "source": [
        "gmm = GaussianMixture(n_components = 3,\n",
        "                      random_state = 2045)\n",
        "\n",
        "gmm.fit(iris.data)"
      ],
      "execution_count": 17,
      "outputs": [
        {
          "output_type": "execute_result",
          "data": {
            "text/plain": [
              "GaussianMixture(covariance_type='full', init_params='kmeans', max_iter=100,\n",
              "                means_init=None, n_components=3, n_init=1, precisions_init=None,\n",
              "                random_state=2045, reg_covar=1e-06, tol=0.001, verbose=0,\n",
              "                verbose_interval=10, warm_start=False, weights_init=None)"
            ]
          },
          "metadata": {
            "tags": []
          },
          "execution_count": 17
        }
      ]
    },
    {
      "cell_type": "code",
      "metadata": {
        "colab": {
          "base_uri": "https://localhost:8080/"
        },
        "id": "7kSa9md0F4vb",
        "outputId": "3c824dc1-7b43-4a17-c1a1-733df400d283"
      },
      "source": [
        "gmm.predict(iris.data)"
      ],
      "execution_count": 18,
      "outputs": [
        {
          "output_type": "execute_result",
          "data": {
            "text/plain": [
              "array([1, 1, 1, 1, 1, 1, 1, 1, 1, 1, 1, 1, 1, 1, 1, 1, 1, 1, 1, 1, 1, 1,\n",
              "       1, 1, 1, 1, 1, 1, 1, 1, 1, 1, 1, 1, 1, 1, 1, 1, 1, 1, 1, 1, 1, 1,\n",
              "       1, 1, 1, 1, 1, 1, 0, 0, 0, 0, 0, 0, 0, 0, 0, 0, 0, 0, 0, 0, 0, 0,\n",
              "       0, 0, 2, 0, 2, 0, 2, 0, 0, 0, 0, 2, 0, 0, 0, 0, 0, 2, 0, 0, 0, 0,\n",
              "       0, 0, 0, 0, 0, 0, 0, 0, 0, 0, 0, 0, 2, 2, 2, 2, 2, 2, 2, 2, 2, 2,\n",
              "       2, 2, 2, 2, 2, 2, 2, 2, 2, 2, 2, 2, 2, 2, 2, 2, 2, 2, 2, 2, 2, 2,\n",
              "       2, 2, 2, 2, 2, 2, 2, 2, 2, 2, 2, 2, 2, 2, 2, 2, 2, 2])"
            ]
          },
          "metadata": {
            "tags": []
          },
          "execution_count": 18
        }
      ]
    },
    {
      "cell_type": "markdown",
      "metadata": {
        "id": "OLcsngTAF7Q2"
      },
      "source": [
        "### 2) 군집결과"
      ]
    },
    {
      "cell_type": "code",
      "metadata": {
        "id": "_9fqUMEkF6hi"
      },
      "source": [
        "DF['gmm'] = gmm.predict(iris.data)"
      ],
      "execution_count": 19,
      "outputs": []
    },
    {
      "cell_type": "code",
      "metadata": {
        "colab": {
          "base_uri": "https://localhost:8080/"
        },
        "id": "PguSXsU3F-Ju",
        "outputId": "aa629f5a-e978-4b59-e2fa-005fa55d049f"
      },
      "source": [
        "DF.groupby('target')['gmm'].value_counts()\n",
        "\n",
        "# 알고리즘마다 처리되는 방식이 다르므로, \n",
        "# 2를 2로 잘 분류한 것을 볼 수 있다\n",
        "# (사실 성능을 측정할 수가 없다)\n",
        "# 여러가지 방법으로 튜닝할 수 있다는 의미\n",
        "# 지도학습의 차원에서는 좋아보일 수 있으나, 신뢰계수를 재 보면 제일 좋지 않을 수 있다"
      ],
      "execution_count": 20,
      "outputs": [
        {
          "output_type": "execute_result",
          "data": {
            "text/plain": [
              "target  gmm\n",
              "0       1      50\n",
              "1       0      45\n",
              "        2       5\n",
              "2       2      50\n",
              "Name: gmm, dtype: int64"
            ]
          },
          "metadata": {
            "tags": []
          },
          "execution_count": 20
        }
      ]
    },
    {
      "cell_type": "markdown",
      "metadata": {
        "id": "NpZXIjHrGErv"
      },
      "source": [
        "## 4. DBSCAN(Density Based Spatial Clustering of Application with Noise)\n",
        "- 밀도(Density) 기반 군집\n",
        "  - 기하학적으로 복잡한 데이터에도 효과적으로 군집 가능\n",
        "  - 핵심 포인트(Core Point)들을 서로 연결하면서 군집화"
      ]
    },
    {
      "cell_type": "markdown",
      "metadata": {
        "id": "h26iCaR2GQKM"
      },
      "source": [
        "### 1) Modeling\n",
        "- Hyperparameter\n",
        "  - epsilon(esp, 입실론 주변 영역)\n",
        "    - 개별 데이터포인트를 중심으로 '입실론 반경'을 가지는 주변 영역\n",
        "    - 'Core Point' 기준\n",
        "  - min point(min_samples, 최소 데이터 개수)\n",
        "    - 개별 데이터포인트의 '입실론 주변 영역'에 포함되는 다른 데이터포인트의 개수\n",
        "    - 조건 만족 시 'Core Point'로 지정"
      ]
    },
    {
      "cell_type": "code",
      "metadata": {
        "colab": {
          "base_uri": "https://localhost:8080/"
        },
        "id": "wbpgYCgXGA8H",
        "outputId": "682ff896-082f-4eea-9178-0985321fdcb6"
      },
      "source": [
        "dbscan = DBSCAN(eps = 0.8,\n",
        "                min_samples = 8,\n",
        "                metric = 'euclidean')\n",
        "\n",
        "dbscan.fit_predict(iris.data)\n",
        "\n",
        "# -1부터 시작\n",
        "# -1값은 이상치 형태로 생각하면 된다 (지정한 조건으로 처리할 수 없는 경우)"
      ],
      "execution_count": 22,
      "outputs": [
        {
          "output_type": "execute_result",
          "data": {
            "text/plain": [
              "array([ 0,  0,  0,  0,  0,  0,  0,  0,  0,  0,  0,  0,  0,  0,  0,  0,  0,\n",
              "        0,  0,  0,  0,  0,  0,  0,  0,  0,  0,  0,  0,  0,  0,  0,  0,  0,\n",
              "        0,  0,  0,  0,  0,  0,  0,  0,  0,  0,  0,  0,  0,  0,  0,  0,  1,\n",
              "        1,  1,  1,  1,  1,  1,  1,  1,  1,  1,  1,  1,  1,  1,  1,  1,  1,\n",
              "        1,  1,  1,  1,  1,  1,  1,  1,  1,  1,  1,  1,  1,  1,  1,  1,  1,\n",
              "        1,  1,  1,  1,  1,  1,  1,  1,  1,  1,  1,  1,  1,  1,  1,  1,  1,\n",
              "        1,  1,  1,  1,  1,  1,  1,  1,  1,  1,  1,  1,  1,  1,  1, -1, -1,\n",
              "        1,  1,  1,  1,  1,  1,  1,  1,  1,  1,  1,  1, -1,  1,  1,  1,  1,\n",
              "        1,  1,  1,  1,  1,  1,  1,  1,  1,  1,  1,  1,  1,  1])"
            ]
          },
          "metadata": {
            "tags": []
          },
          "execution_count": 22
        }
      ]
    },
    {
      "cell_type": "markdown",
      "metadata": {
        "id": "eHxgyk7LGtYi"
      },
      "source": [
        "### 2) 군집결과"
      ]
    },
    {
      "cell_type": "code",
      "metadata": {
        "id": "pOOxLE14GsxQ"
      },
      "source": [
        "DF['dbscan'] = dbscan.fit_predict(iris.data)"
      ],
      "execution_count": 23,
      "outputs": []
    },
    {
      "cell_type": "code",
      "metadata": {
        "colab": {
          "base_uri": "https://localhost:8080/"
        },
        "id": "Vs8mVEE9GwpY",
        "outputId": "186a8545-541b-4270-b244-e2a0c33bb2f8"
      },
      "source": [
        "DF.groupby('target')['dbscan'].value_counts()"
      ],
      "execution_count": 24,
      "outputs": [
        {
          "output_type": "execute_result",
          "data": {
            "text/plain": [
              "target  dbscan\n",
              "0        0        50\n",
              "1        1        50\n",
              "2        1        47\n",
              "        -1         3\n",
              "Name: dbscan, dtype: int64"
            ]
          },
          "metadata": {
            "tags": []
          },
          "execution_count": 24
        }
      ]
    }
  ]
}