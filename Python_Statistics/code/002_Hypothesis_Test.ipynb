{
  "nbformat": 4,
  "nbformat_minor": 0,
  "metadata": {
    "colab": {
      "name": "002_Hypothesis_Test.ipynb",
      "provenance": [],
      "collapsed_sections": []
    },
    "kernelspec": {
      "name": "python3",
      "display_name": "Python 3"
    }
  },
  "cells": [
    {
      "cell_type": "markdown",
      "metadata": {
        "id": "n-UMnI6-oLl1"
      },
      "source": [
        "# Hypothesis Test"
      ]
    },
    {
      "cell_type": "code",
      "metadata": {
        "id": "manAk0CbnPlY"
      },
      "source": [
        "import warnings\n",
        "warnings.filterwarnings('ignore')"
      ],
      "execution_count": 1,
      "outputs": []
    },
    {
      "cell_type": "code",
      "metadata": {
        "id": "0qbN33sZoqp9"
      },
      "source": [
        "import pandas as pd\n",
        "import scipy.stats\n",
        "import numpy as np\n",
        "\n",
        "from statsmodels.formula.api import ols\n",
        "from statsmodels.stats.anova import anova_lm\n",
        "from statsmodels.sandbox.stats.multicomp import MultiComparison\n",
        "from statsmodels.stats.multicomp import pairwise_tukeyhsd"
      ],
      "execution_count": 34,
      "outputs": []
    },
    {
      "cell_type": "markdown",
      "metadata": {
        "id": "sjcOU9imoQEP"
      },
      "source": [
        "## 1. t-Test\n",
        "- 일반적으로 모집단의 모평균이나 모분산은 알 수 없음\n",
        "- 표본표준편차로 표본집단을 표준화를 하면, 표준정규분포가 아닌 t-분포를 따름\n",
        "- 표본표준편차로 변환한 t-분포를 사용하기 때문에 t-Test라고 함"
      ]
    },
    {
      "cell_type": "markdown",
      "metadata": {
        "id": "08uoENDIoez9"
      },
      "source": [
        "### 1) 단일집단 t-Test"
      ]
    },
    {
      "cell_type": "markdown",
      "metadata": {
        "id": "v7bredQVoiFs"
      },
      "source": [
        "#### (1) Hypothesis\n",
        "- 귀무가설: 스낵의 평균무게는 50이다.\n",
        "- 대립가설: 스낵의 평균무게는 50이 아니다."
      ]
    },
    {
      "cell_type": "markdown",
      "metadata": {
        "id": "TvZ51bKeoopP"
      },
      "source": [
        "#### (2) 단일표본"
      ]
    },
    {
      "cell_type": "code",
      "metadata": {
        "colab": {
          "base_uri": "https://localhost:8080/"
        },
        "id": "Fpv-MmBjohSI",
        "outputId": "bf2f3f1d-978f-4179-8850-a4a3663e4e90"
      },
      "source": [
        "url = 'https://raw.githubusercontent.com/rusita-ai/pyData/master/foodWeight.csv'\n",
        "DF = pd.read_csv(url)\n",
        "\n",
        "DF.info()"
      ],
      "execution_count": 3,
      "outputs": [
        {
          "output_type": "stream",
          "text": [
            "<class 'pandas.core.frame.DataFrame'>\n",
            "RangeIndex: 20 entries, 0 to 19\n",
            "Data columns (total 1 columns):\n",
            " #   Column  Non-Null Count  Dtype  \n",
            "---  ------  --------------  -----  \n",
            " 0   weight  20 non-null     float64\n",
            "dtypes: float64(1)\n",
            "memory usage: 288.0 bytes\n"
          ],
          "name": "stdout"
        }
      ]
    },
    {
      "cell_type": "code",
      "metadata": {
        "colab": {
          "base_uri": "https://localhost:8080/",
          "height": 204
        },
        "id": "0jAi05MuoPmd",
        "outputId": "f6a217a2-064f-4276-8c2c-2aec0fc06dec"
      },
      "source": [
        "DF.head()"
      ],
      "execution_count": 4,
      "outputs": [
        {
          "output_type": "execute_result",
          "data": {
            "text/html": [
              "<div>\n",
              "<style scoped>\n",
              "    .dataframe tbody tr th:only-of-type {\n",
              "        vertical-align: middle;\n",
              "    }\n",
              "\n",
              "    .dataframe tbody tr th {\n",
              "        vertical-align: top;\n",
              "    }\n",
              "\n",
              "    .dataframe thead th {\n",
              "        text-align: right;\n",
              "    }\n",
              "</style>\n",
              "<table border=\"1\" class=\"dataframe\">\n",
              "  <thead>\n",
              "    <tr style=\"text-align: right;\">\n",
              "      <th></th>\n",
              "      <th>weight</th>\n",
              "    </tr>\n",
              "  </thead>\n",
              "  <tbody>\n",
              "    <tr>\n",
              "      <th>0</th>\n",
              "      <td>58.529820</td>\n",
              "    </tr>\n",
              "    <tr>\n",
              "      <th>1</th>\n",
              "      <td>52.353039</td>\n",
              "    </tr>\n",
              "    <tr>\n",
              "      <th>2</th>\n",
              "      <td>74.446169</td>\n",
              "    </tr>\n",
              "    <tr>\n",
              "      <th>3</th>\n",
              "      <td>52.983263</td>\n",
              "    </tr>\n",
              "    <tr>\n",
              "      <th>4</th>\n",
              "      <td>55.876879</td>\n",
              "    </tr>\n",
              "  </tbody>\n",
              "</table>\n",
              "</div>"
            ],
            "text/plain": [
              "      weight\n",
              "0  58.529820\n",
              "1  52.353039\n",
              "2  74.446169\n",
              "3  52.983263\n",
              "4  55.876879"
            ]
          },
          "metadata": {
            "tags": []
          },
          "execution_count": 4
        }
      ]
    },
    {
      "cell_type": "markdown",
      "metadata": {
        "id": "i2sg4Y47o4Lq"
      },
      "source": [
        "#### (3) t-Test\n",
        "- 단일표본 t-Test\n",
        "- p값이 0.05보다 작기 때문에, '스낵의 평균무게는 50이다'는 귀무가설을 '기각'\n",
        "  - 집단의 모평균의 차이는 통계적으로 유의미함"
      ]
    },
    {
      "cell_type": "code",
      "metadata": {
        "colab": {
          "base_uri": "https://localhost:8080/"
        },
        "id": "JDsmKoyBo28A",
        "outputId": "0f14415f-976d-4501-f524-dcfe26fa9b8d"
      },
      "source": [
        "scipy.stats.ttest_1samp(DF, 50)\n",
        "# 검증하고 싶은 귀무가설의 기준을 넣어줌"
      ],
      "execution_count": 6,
      "outputs": [
        {
          "output_type": "execute_result",
          "data": {
            "text/plain": [
              "Ttest_1sampResult(statistic=array([2.75033968]), pvalue=array([0.01272559]))"
            ]
          },
          "metadata": {
            "tags": []
          },
          "execution_count": 6
        }
      ]
    },
    {
      "cell_type": "markdown",
      "metadata": {
        "id": "gnY_sbpopOjE"
      },
      "source": [
        "### 2) 두 집단 독립표본 t-Test\n",
        "- 두 표본집단을 구성(수집)할 때 독립인 경우\n",
        "  - 독립표본: 무작위로 남자 100명과 여자 100명을 뽑아 두 집단을 비교\n",
        "  - 대응표본: 부부 100쌍을 뽑아 남편 100명과 아내 100명의 두 집단을 비교\n",
        "\n",
        "- 논리\n",
        "  - 모평균과 표본평균은 다를 수 있지만 차이가 크지 않을 것\n",
        "  - 두 표본집단의 평균의 차이는 0이 아니지만, 큰 차이는 보이지 않음\n",
        "  - 만약, 두 표본평균의 차이가 크다면, 귀무가설이 맞지 않을 수 있음\n",
        "  - 따라서, 두 표본평균의 차이나는 정도에 대한 가능성(확률)을 계산하여 판단"
      ]
    },
    {
      "cell_type": "markdown",
      "metadata": {
        "id": "bzMclIqVpnwx"
      },
      "source": [
        "#### (1) Hypothesis\n",
        "- 귀무가설: 두 집단의 모평균이 동일하다\n",
        "- 대립가설: 두 집단의 모평균은 동일하지 않다"
      ]
    },
    {
      "cell_type": "markdown",
      "metadata": {
        "id": "_GHqdG7Cpt9g"
      },
      "source": [
        "#### (2) 독립표본\n",
        "- Male과 Female 표본집단이 무작위로 추출"
      ]
    },
    {
      "cell_type": "code",
      "metadata": {
        "id": "naL1apsapMo7"
      },
      "source": [
        "Male = [117, 108, 105, 89, 101,\n",
        "        93, 96, 108, 108, 94,\n",
        "        93, 112, 92, 91, 100,\n",
        "        96, 120, 86, 96, 95]\n",
        "Female = [121, 101, 102, 114, 103,\n",
        "          105, 101, 131, 96, 109,\n",
        "          109, 113, 115, 94, 108,\n",
        "          96, 110, 112, 120, 100]"
      ],
      "execution_count": 7,
      "outputs": []
    },
    {
      "cell_type": "markdown",
      "metadata": {
        "id": "9ejLx5aHqJi4"
      },
      "source": [
        "#### (3) Welch's t-Test\n",
        "- 그냥 t-Test를 쓰려면 두 집단의 등분산성을 검사해야 함\n",
        "- 두 표본분산의 등분산성 검사 없이 진행 (일반적으로 Welch's t-Test를 사용함)\n",
        "- 독립표본 t-Test에 적용(Independent)\n",
        "  - 'equal_var = False'\n",
        "- p값이 0.05보다 작기 때문에, '두 집단의 모평균이 동일하다'는 귀무가설을 '기각'\n",
        "  - 두 집단의 모평균의 차이는 통계적으로 유의미함"
      ]
    },
    {
      "cell_type": "code",
      "metadata": {
        "colab": {
          "base_uri": "https://localhost:8080/"
        },
        "id": "5sbnqmQCqJAz",
        "outputId": "4990bb0c-4533-40cd-92f3-243a2b1d2dca"
      },
      "source": [
        "scipy.stats.ttest_ind(Male, Female, equal_var = False)\n",
        "# ind: independent\n",
        "# equal_var = False 를 주면 Welch's t-Test"
      ],
      "execution_count": 8,
      "outputs": [
        {
          "output_type": "execute_result",
          "data": {
            "text/plain": [
              "Ttest_indResult(statistic=-2.670573872669349, pvalue=0.01108318824471652)"
            ]
          },
          "metadata": {
            "tags": []
          },
          "execution_count": 8
        }
      ]
    },
    {
      "cell_type": "markdown",
      "metadata": {
        "id": "SVm_oxjGqoaV"
      },
      "source": [
        "#### (4) Effect Size\n",
        "- 차이가 어느정도 나는지\n",
        "- 두 집단의 평균 차이를 일정한 기준으로 표현\n",
        "- 절대적이지 않으며, 0.2 정도면 작은 편, 0.5 정도면 중간, 0.8이면 큰 편"
      ]
    },
    {
      "cell_type": "code",
      "metadata": {
        "id": "pBvB79_TqinM"
      },
      "source": [
        "DT = scipy.stats.ttest_ind(Male, Female, equal_var = False)\n",
        "\n",
        "# t-Test 함"
      ],
      "execution_count": 9,
      "outputs": []
    },
    {
      "cell_type": "markdown",
      "metadata": {
        "id": "KmfFvl-dq1QT"
      },
      "source": [
        "- Cohen's d\n",
        "  - 일반적으로 cohen 사용"
      ]
    },
    {
      "cell_type": "code",
      "metadata": {
        "colab": {
          "base_uri": "https://localhost:8080/"
        },
        "id": "qlbLxlEgq0rL",
        "outputId": "34c0488c-673e-49ff-cca8-7f107cdadc37"
      },
      "source": [
        "t = DT.statistic\n",
        "\n",
        "df = len(Male) + len(Female) -2\n",
        "\n",
        "abs(t) / np.sqrt(df)\n",
        "\n",
        "# 중간정도 된다"
      ],
      "execution_count": 12,
      "outputs": [
        {
          "output_type": "execute_result",
          "data": {
            "text/plain": [
              "0.4332242888591059"
            ]
          },
          "metadata": {
            "tags": []
          },
          "execution_count": 12
        }
      ]
    },
    {
      "cell_type": "markdown",
      "metadata": {
        "id": "81YdbVvorFpu"
      },
      "source": [
        "- Pearson's r"
      ]
    },
    {
      "cell_type": "code",
      "metadata": {
        "colab": {
          "base_uri": "https://localhost:8080/"
        },
        "id": "y4vDM9X7rHyt",
        "outputId": "600adc5f-f9c9-489d-bd1b-4cab2abbdba2"
      },
      "source": [
        "t2 = t **2\n",
        "\n",
        "np.sqrt(t2 / (t2 + df))"
      ],
      "execution_count": 13,
      "outputs": [
        {
          "output_type": "execute_result",
          "data": {
            "text/plain": [
              "0.39752319599996255"
            ]
          },
          "metadata": {
            "tags": []
          },
          "execution_count": 13
        }
      ]
    },
    {
      "cell_type": "markdown",
      "metadata": {
        "id": "xUX2p99-rMk8"
      },
      "source": [
        "#### (5) 검증결과 해석\n",
        "- 두 집단 Male과 Female에 대하여 독립표본 t 검증을 실시한 결과,\n",
        "  - 집단 Male의 평균값(100)은 집단 Female의 평균값(108)보다 통계적으로 유의미하게 낮았으며 (p < 0.05),\n",
        "  - 효과 크기는 중간 수준이었다(Cohen's d = 0.43, Pearson's r = 0.39)"
      ]
    },
    {
      "cell_type": "markdown",
      "metadata": {
        "id": "zI4uWL-trmco"
      },
      "source": [
        "### 3) 두 집단 대응표본 t-Test\n",
        "- 두 집단의 자료를 쌍으로 묶을 수 있는 경우\n",
        "  예) 남편과 아내, Before vs. After\n",
        "- 쌍을 이루고 있는 두 값의 차이를 구함"
      ]
    },
    {
      "cell_type": "markdown",
      "metadata": {
        "id": "8lmR_9Ufr-OZ"
      },
      "source": [
        "#### (1) Hypothesis\n",
        "- 귀무가설: 두 집단의 모평균이 동일하다\n",
        "- 대립가설: 두 집단의 모평균은 동일하지 않다"
      ]
    },
    {
      "cell_type": "markdown",
      "metadata": {
        "id": "7jKVTrdUsKRR"
      },
      "source": [
        "#### (2) 대응표본\n",
        "- 두 표본집단 Before와 After가 순서대로 짝지어 있음\n",
        "- 백신을 맞기 전, 백신을 맞은 후\n",
        "- 학원을 다니기 전, 학원을 다닌 후"
      ]
    },
    {
      "cell_type": "code",
      "metadata": {
        "id": "80d7FfdwrAaB"
      },
      "source": [
        "Before = [117, 108, 105, 89, 101,\n",
        "          93, 96, 108, 108, 94,\n",
        "          93, 112, 92, 91, 100,\n",
        "          96, 120, 86, 96, 95]\n",
        "\n",
        "After = [121, 101, 102, 114, 103,\n",
        "         105, 101, 131, 96, 109,\n",
        "         109, 113, 115, 94, 108,\n",
        "         96, 110, 112, 120, 100]"
      ],
      "execution_count": 14,
      "outputs": []
    },
    {
      "cell_type": "markdown",
      "metadata": {
        "id": "xnPUG3lPsjrC"
      },
      "source": [
        "#### (3) t-Test\n",
        "- 대응표본 t-Test에 적용(Related)\n",
        "- p값이 0.05보다 작기 때문에, '두 집단의 모평균이 동일하다'는 귀무가설을 '기각'\n",
        "  - 두 집단의 모평균의 차이는 통계적으로 유의미함"
      ]
    },
    {
      "cell_type": "code",
      "metadata": {
        "colab": {
          "base_uri": "https://localhost:8080/"
        },
        "id": "EPc6QrsTsjGZ",
        "outputId": "daaed466-af1b-4ed1-b13c-b3d4f1292174"
      },
      "source": [
        "scipy.stats.ttest_rel(Before, After)\n",
        "# rel: related\n",
        "# 독립표본과 계산방식이 다르다"
      ],
      "execution_count": 15,
      "outputs": [
        {
          "output_type": "execute_result",
          "data": {
            "text/plain": [
              "Ttest_relResult(statistic=-2.9868874599588247, pvalue=0.007578486289181322)"
            ]
          },
          "metadata": {
            "tags": []
          },
          "execution_count": 15
        }
      ]
    },
    {
      "cell_type": "markdown",
      "metadata": {
        "id": "OAZmHZtPs4Oy"
      },
      "source": [
        "#### (4) Effect Size\n",
        "- 두 집단의 평균 차이를 일정한 기준으로 표현\n",
        "- 절대적이지 않으며, 0.2 정도면 작은 편, 0.5 정도면 중간, 0.8이면 큰 편"
      ]
    },
    {
      "cell_type": "code",
      "metadata": {
        "id": "IGFL3A4Oszmw"
      },
      "source": [
        "DT = scipy.stats.ttest_rel(Before, After)"
      ],
      "execution_count": 16,
      "outputs": []
    },
    {
      "cell_type": "markdown",
      "metadata": {
        "id": "0lATtNSZtDah"
      },
      "source": [
        "- Cohen's d"
      ]
    },
    {
      "cell_type": "code",
      "metadata": {
        "colab": {
          "base_uri": "https://localhost:8080/"
        },
        "id": "7ojEsUX2tCfD",
        "outputId": "c0f8b696-c3f9-4497-f6a1-d407550a8a9d"
      },
      "source": [
        "t = DT.statistic\n",
        "\n",
        "df = len(Before) + len(After) - 2\n",
        "abs(t) / np.sqrt(df)"
      ],
      "execution_count": 17,
      "outputs": [
        {
          "output_type": "execute_result",
          "data": {
            "text/plain": [
              "0.4845371285121742"
            ]
          },
          "metadata": {
            "tags": []
          },
          "execution_count": 17
        }
      ]
    },
    {
      "cell_type": "markdown",
      "metadata": {
        "id": "OvP-S4-otLcE"
      },
      "source": [
        "- Pearson's r"
      ]
    },
    {
      "cell_type": "code",
      "metadata": {
        "colab": {
          "base_uri": "https://localhost:8080/"
        },
        "id": "U473f7mVtKrD",
        "outputId": "af5a1a6b-8de1-4180-b47c-ba9c116f9d4d"
      },
      "source": [
        "t2 = t ** 2\n",
        "np.sqrt(t2 / (t2 + df))"
      ],
      "execution_count": 18,
      "outputs": [
        {
          "output_type": "execute_result",
          "data": {
            "text/plain": [
              "0.43604662677848566"
            ]
          },
          "metadata": {
            "tags": []
          },
          "execution_count": 18
        }
      ]
    },
    {
      "cell_type": "markdown",
      "metadata": {
        "id": "dl6vkEUPtRR6"
      },
      "source": [
        "#### (5) 검증결과 해석\n",
        "- 두 집단 Before와 After에 대하여 대응표본 t검증을 실시한 결과,\n",
        "  - 집단 Before의 평균값(100)은 집단 After의 평균값(108)보다 통계적으로 유의미하게 낮았으며(p < 0.05),\n",
        "  - 효과 크기는 중간 수준이었다(Cohen's d = 0.48, Pearson's r = 0.43)"
      ]
    },
    {
      "cell_type": "markdown",
      "metadata": {
        "id": "qYMVAEsrth7d"
      },
      "source": [
        "## 2. ANOVA Test\n",
        "- ANalysis Of VAriance(ANOVA)\n",
        "- 세 개 이상의 집단에 대한 평균을 비교할 때 사용\n",
        "  - 기존 t-Test 사용시 과잉검증(Overtesting) 문제 발생\n",
        "  - t-Test로 두 집단씩 짝지어 분석할 경우 분석횟수가 기하급수적으로 증가\n",
        "  - 통계적 검증절차를 남용하여, 확률적 의사결정에서 발생 가능한 오류의 확률이 필요 이상으로 증가하는 문제\n",
        "- 오류의 확률을 통제한 상태에서 전체적인 결과를 확인 가능\n",
        "- 집단을 구성하는 변수(요인/Factor)가 두 개 이상인 경우, 상호작용 파악에 용이\n",
        "  - 상호작용 파악\n",
        "  - ex) 파란색/향, 녹색/향, 빨간색/향에 따라 판매량의 차이가 있을까?"
      ]
    },
    {
      "cell_type": "markdown",
      "metadata": {
        "id": "LpMnpAmcFuTI"
      },
      "source": [
        "- 용어\n",
        "  - 요인(Factor): 집단을 구별하는 독립변수(ML 의 X)\n",
        "  - 수준(Level): 요인의 수준(예: '성별' 요인의 수준은 '남자'와 '여자')\n",
        "  - 상호작용: 한 요인의 수준에 따른 종속변수의 차이가 또 다른 요인의 수준에 따라 달라질 때\n",
        "    - 두개가 만나 긍정적인 효과를 줄도 있고, 부정적인 효과를 줄 수도 있다\n",
        "    - 긍정적: 강화효과\n",
        "    - 부정적: 조절효과\n",
        "  - n-way ANOVA\n",
        "    - One-way ANOVA: 요인이 1개인 분산분석\n",
        "    - Two-way ANOVA: 요인이 2개인 분산분석"
      ]
    },
    {
      "cell_type": "markdown",
      "metadata": {
        "id": "ZM7J-DkfvLcg"
      },
      "source": [
        "### 1) One-way ANOVA"
      ]
    },
    {
      "cell_type": "markdown",
      "metadata": {
        "id": "JwaM7UQDvsn6"
      },
      "source": [
        "#### (1) Hypothesis\n",
        "- 귀무가설: 모든 집단의 평균은 동일하다\n",
        "- 대립가설: 적어도 한 집단의 평균은 다른 집단과 다르다 (집단이 3개 이상 있으므로)"
      ]
    },
    {
      "cell_type": "markdown",
      "metadata": {
        "id": "URph4-L1GwSI"
      },
      "source": [
        "- 평균이 같다면 끝\n",
        "- 하지만 평균이 다르다면? 어느 집단 간 평균이 다른지 추가 분석"
      ]
    },
    {
      "cell_type": "markdown",
      "metadata": {
        "id": "Uf-gQaa0vymU"
      },
      "source": [
        "#### (2) Load Data"
      ]
    },
    {
      "cell_type": "code",
      "metadata": {
        "colab": {
          "base_uri": "https://localhost:8080/"
        },
        "id": "Jer5okCxtP94",
        "outputId": "c3dc0153-75f1-45e8-e631-ed82053a6990"
      },
      "source": [
        "url = 'https://raw.githubusercontent.com/rusita-ai/pyData/master/PlantGrowth.csv'\n",
        "\n",
        "DF = pd.read_csv(url)\n",
        "\n",
        "DF.info()"
      ],
      "execution_count": 52,
      "outputs": [
        {
          "output_type": "stream",
          "text": [
            "<class 'pandas.core.frame.DataFrame'>\n",
            "RangeIndex: 30 entries, 0 to 29\n",
            "Data columns (total 2 columns):\n",
            " #   Column  Non-Null Count  Dtype  \n",
            "---  ------  --------------  -----  \n",
            " 0   weight  30 non-null     float64\n",
            " 1   group   30 non-null     object \n",
            "dtypes: float64(1), object(1)\n",
            "memory usage: 608.0+ bytes\n"
          ],
          "name": "stdout"
        }
      ]
    },
    {
      "cell_type": "code",
      "metadata": {
        "colab": {
          "base_uri": "https://localhost:8080/",
          "height": 204
        },
        "id": "oy6uAD-_v8rq",
        "outputId": "f8547e72-93ba-4493-ec7d-427d4963e846"
      },
      "source": [
        "DF.head()"
      ],
      "execution_count": 53,
      "outputs": [
        {
          "output_type": "execute_result",
          "data": {
            "text/html": [
              "<div>\n",
              "<style scoped>\n",
              "    .dataframe tbody tr th:only-of-type {\n",
              "        vertical-align: middle;\n",
              "    }\n",
              "\n",
              "    .dataframe tbody tr th {\n",
              "        vertical-align: top;\n",
              "    }\n",
              "\n",
              "    .dataframe thead th {\n",
              "        text-align: right;\n",
              "    }\n",
              "</style>\n",
              "<table border=\"1\" class=\"dataframe\">\n",
              "  <thead>\n",
              "    <tr style=\"text-align: right;\">\n",
              "      <th></th>\n",
              "      <th>weight</th>\n",
              "      <th>group</th>\n",
              "    </tr>\n",
              "  </thead>\n",
              "  <tbody>\n",
              "    <tr>\n",
              "      <th>0</th>\n",
              "      <td>4.17</td>\n",
              "      <td>ctrl</td>\n",
              "    </tr>\n",
              "    <tr>\n",
              "      <th>1</th>\n",
              "      <td>5.58</td>\n",
              "      <td>ctrl</td>\n",
              "    </tr>\n",
              "    <tr>\n",
              "      <th>2</th>\n",
              "      <td>5.18</td>\n",
              "      <td>ctrl</td>\n",
              "    </tr>\n",
              "    <tr>\n",
              "      <th>3</th>\n",
              "      <td>6.11</td>\n",
              "      <td>ctrl</td>\n",
              "    </tr>\n",
              "    <tr>\n",
              "      <th>4</th>\n",
              "      <td>4.50</td>\n",
              "      <td>ctrl</td>\n",
              "    </tr>\n",
              "  </tbody>\n",
              "</table>\n",
              "</div>"
            ],
            "text/plain": [
              "   weight group\n",
              "0    4.17  ctrl\n",
              "1    5.58  ctrl\n",
              "2    5.18  ctrl\n",
              "3    6.11  ctrl\n",
              "4    4.50  ctrl"
            ]
          },
          "metadata": {
            "tags": []
          },
          "execution_count": 53
        }
      ]
    },
    {
      "cell_type": "markdown",
      "metadata": {
        "id": "FqvNl2Nuv_Fv"
      },
      "source": [
        "- 3개의 집단 확인\n",
        "  - 'ctrl' , 'trt1' , 'trt2'"
      ]
    },
    {
      "cell_type": "code",
      "metadata": {
        "colab": {
          "base_uri": "https://localhost:8080/"
        },
        "id": "ibe_-srAv-Xp",
        "outputId": "22b5e586-cd93-493c-b434-2d1738490608"
      },
      "source": [
        "DF['group'].unique()\n",
        "\n",
        "# 집단별로 무게가 같을것인가?"
      ],
      "execution_count": 21,
      "outputs": [
        {
          "output_type": "execute_result",
          "data": {
            "text/plain": [
              "array(['ctrl', 'trt1', 'trt2'], dtype=object)"
            ]
          },
          "metadata": {
            "tags": []
          },
          "execution_count": 21
        }
      ]
    },
    {
      "cell_type": "code",
      "metadata": {
        "colab": {
          "base_uri": "https://localhost:8080/"
        },
        "id": "4TDSvr06HF-J",
        "outputId": "f3e9fddc-89d2-41ed-ce09-1c0a2312c23d"
      },
      "source": [
        "DF['group'].value_counts()"
      ],
      "execution_count": 54,
      "outputs": [
        {
          "output_type": "execute_result",
          "data": {
            "text/plain": [
              "ctrl    10\n",
              "trt2    10\n",
              "trt1    10\n",
              "Name: group, dtype: int64"
            ]
          },
          "metadata": {
            "tags": []
          },
          "execution_count": 54
        }
      ]
    },
    {
      "cell_type": "markdown",
      "metadata": {
        "id": "m-5SeLJbwGRm"
      },
      "source": [
        "#### (3) 일원분산분석\n",
        "- Pr(>F)가 p-value\n",
        "- p-value값이 0.05 보다 작으면, 통계적으로 유의미한 차이가 존재\n",
        "  - 뭔가 하나 다른 게 있다\n",
        "- 검증결과 0.0159로 0.05 보다 작아서, 귀무가설 '기각'\n",
        "- 구체적으로 어떤 수준(집단)이 차이가 있는지 확인하려면 **사후분석 (post hoc test)** 필요\n",
        "- 유의미한 차이가 없는 경우, 사후분석 필요 없음"
      ]
    },
    {
      "cell_type": "code",
      "metadata": {
        "colab": {
          "base_uri": "https://localhost:8080/",
          "height": 111
        },
        "id": "-OgpASwzwFGm",
        "outputId": "b64e1524-2d21-478e-e20e-c62089918bf7"
      },
      "source": [
        "model = ols('weight ~ C(group)' , DF).fit()\n",
        "# 무게와 그룹 간의 관계 모델링\n",
        "\n",
        "anova_lm(model)\n",
        "# 모델링한 결과를 anova\n",
        "# F분포를 사용하기 때문에 F statistics (통계량)\n",
        "# p-value가 0.05보다 작으므로 다른 값이 존재함\n",
        "# 사후분석이 필요"
      ],
      "execution_count": 24,
      "outputs": [
        {
          "output_type": "execute_result",
          "data": {
            "text/html": [
              "<div>\n",
              "<style scoped>\n",
              "    .dataframe tbody tr th:only-of-type {\n",
              "        vertical-align: middle;\n",
              "    }\n",
              "\n",
              "    .dataframe tbody tr th {\n",
              "        vertical-align: top;\n",
              "    }\n",
              "\n",
              "    .dataframe thead th {\n",
              "        text-align: right;\n",
              "    }\n",
              "</style>\n",
              "<table border=\"1\" class=\"dataframe\">\n",
              "  <thead>\n",
              "    <tr style=\"text-align: right;\">\n",
              "      <th></th>\n",
              "      <th>df</th>\n",
              "      <th>sum_sq</th>\n",
              "      <th>mean_sq</th>\n",
              "      <th>F</th>\n",
              "      <th>PR(&gt;F)</th>\n",
              "    </tr>\n",
              "  </thead>\n",
              "  <tbody>\n",
              "    <tr>\n",
              "      <th>C(group)</th>\n",
              "      <td>2.0</td>\n",
              "      <td>3.76634</td>\n",
              "      <td>1.883170</td>\n",
              "      <td>4.846088</td>\n",
              "      <td>0.01591</td>\n",
              "    </tr>\n",
              "    <tr>\n",
              "      <th>Residual</th>\n",
              "      <td>27.0</td>\n",
              "      <td>10.49209</td>\n",
              "      <td>0.388596</td>\n",
              "      <td>NaN</td>\n",
              "      <td>NaN</td>\n",
              "    </tr>\n",
              "  </tbody>\n",
              "</table>\n",
              "</div>"
            ],
            "text/plain": [
              "            df    sum_sq   mean_sq         F   PR(>F)\n",
              "C(group)   2.0   3.76634  1.883170  4.846088  0.01591\n",
              "Residual  27.0  10.49209  0.388596       NaN      NaN"
            ]
          },
          "metadata": {
            "tags": []
          },
          "execution_count": 24
        }
      ]
    },
    {
      "cell_type": "markdown",
      "metadata": {
        "id": "Gi5nUcsfwnXW"
      },
      "source": [
        "#### (4) 일원분산분석 가정\n",
        "- 독립성: 자료의 추출은 독립적으로 이루어졌음\n",
        "- 정규성: 자료의 모집단 분포는 정규분포를 따름\n",
        "- 등분산성: 모든 집단의 모분산은 동일함"
      ]
    },
    {
      "cell_type": "markdown",
      "metadata": {
        "id": "P3DS7DKtwy_E"
      },
      "source": [
        "#### 4-1. 독립성\n",
        "- 자료수집이 Random Sampling 되었다면 만족하는 것으로 봄"
      ]
    },
    {
      "cell_type": "markdown",
      "metadata": {
        "id": "3Y3NglWpw5HN"
      },
      "source": [
        "#### 4-2. 정규성\n",
        "- 사피로 검증(정규성 검증)\n",
        "  - 귀무가설: 모집단의 분포가 정규분포를 따른다\n",
        "- 세 수준 모두 p-value 값이 0.05보다 큼\n",
        "- 모집단의 분포가 정규분포를 따른다는 귀무가설을 '채택'"
      ]
    },
    {
      "cell_type": "markdown",
      "metadata": {
        "id": "u_U6WE9zxAyR"
      },
      "source": [
        "- 'ctrl' 수준의 정규성"
      ]
    },
    {
      "cell_type": "code",
      "metadata": {
        "colab": {
          "base_uri": "https://localhost:8080/"
        },
        "id": "KvEu12OzwiqY",
        "outputId": "824e17ae-b6c8-4120-b94e-e6013a219d46"
      },
      "source": [
        "scipy.stats.shapiro(DF.weight[DF.group == 'ctrl'])\n",
        "# 0.05보다 크므로, 정규분포 따름"
      ],
      "execution_count": 25,
      "outputs": [
        {
          "output_type": "execute_result",
          "data": {
            "text/plain": [
              "(0.9566815495491028, 0.7474744915962219)"
            ]
          },
          "metadata": {
            "tags": []
          },
          "execution_count": 25
        }
      ]
    },
    {
      "cell_type": "markdown",
      "metadata": {
        "id": "Wv68wjD7wykf"
      },
      "source": [
        "- 'trt1' 수준의 정규성"
      ]
    },
    {
      "cell_type": "code",
      "metadata": {
        "colab": {
          "base_uri": "https://localhost:8080/"
        },
        "id": "Se9lDpK7xJaZ",
        "outputId": "d2a3a46e-02ac-4557-9a90-c5bf2e3d46a9"
      },
      "source": [
        "scipy.stats.shapiro(DF.weight[DF.group == 'trt1'])"
      ],
      "execution_count": 26,
      "outputs": [
        {
          "output_type": "execute_result",
          "data": {
            "text/plain": [
              "(0.9304108619689941, 0.451945960521698)"
            ]
          },
          "metadata": {
            "tags": []
          },
          "execution_count": 26
        }
      ]
    },
    {
      "cell_type": "markdown",
      "metadata": {
        "id": "IUDdXzWixNIt"
      },
      "source": [
        "- 'trt2' 수준의 정규성"
      ]
    },
    {
      "cell_type": "code",
      "metadata": {
        "colab": {
          "base_uri": "https://localhost:8080/"
        },
        "id": "MnuDEuJSxMkg",
        "outputId": "c1593ea3-5550-4cb2-f397-665cdd9336bc"
      },
      "source": [
        "scipy.stats.shapiro(DF.weight[DF.group == 'trt2'])"
      ],
      "execution_count": 27,
      "outputs": [
        {
          "output_type": "execute_result",
          "data": {
            "text/plain": [
              "(0.9410051107406616, 0.5642509460449219)"
            ]
          },
          "metadata": {
            "tags": []
          },
          "execution_count": 27
        }
      ]
    },
    {
      "cell_type": "markdown",
      "metadata": {
        "id": "csJQsiqjxS-U"
      },
      "source": [
        "#### 4-3. 등분산성\n",
        "- 레빈검증, 바틀렛 검증\n",
        "  - 귀무가설: 모집단의 모분산은 동일하다\n",
        "- 두 가지 테스트 모두 p-value값이 0.05보다 큼\n",
        "- 모집단의 모분산은 동일하다는 귀무가설을 '채택'"
      ]
    },
    {
      "cell_type": "markdown",
      "metadata": {
        "id": "l-PNbyZWxatm"
      },
      "source": [
        "- Levene(레빈 검증)"
      ]
    },
    {
      "cell_type": "code",
      "metadata": {
        "colab": {
          "base_uri": "https://localhost:8080/"
        },
        "id": "X4MyLgbZxR9h",
        "outputId": "598bdc01-3a62-4015-db1e-8c6f75151442"
      },
      "source": [
        "scipy.stats.levene(\n",
        "    DF.weight[DF.group == 'ctrl'],\n",
        "    DF.weight[DF.group == 'trt1'],\n",
        "    DF.weight[DF.group == 'trt2'])"
      ],
      "execution_count": 29,
      "outputs": [
        {
          "output_type": "execute_result",
          "data": {
            "text/plain": [
              "LeveneResult(statistic=1.1191856948703909, pvalue=0.3412266241254737)"
            ]
          },
          "metadata": {
            "tags": []
          },
          "execution_count": 29
        }
      ]
    },
    {
      "cell_type": "markdown",
      "metadata": {
        "id": "EN3xpSLixnJJ"
      },
      "source": [
        "- Bartlett(바틀렛 검증)"
      ]
    },
    {
      "cell_type": "code",
      "metadata": {
        "colab": {
          "base_uri": "https://localhost:8080/"
        },
        "id": "E6w7WZR7xlbX",
        "outputId": "d037146d-c971-412f-f93d-856f4969f97a"
      },
      "source": [
        "scipy.stats.bartlett(\n",
        "    DF.weight[DF.group == 'ctrl'],\n",
        "    DF.weight[DF.group == 'trt1'],\n",
        "    DF.weight[DF.group == 'trt2'])\n",
        "\n",
        "# 둘다 검증됨"
      ],
      "execution_count": 30,
      "outputs": [
        {
          "output_type": "execute_result",
          "data": {
            "text/plain": [
              "BartlettResult(statistic=2.8785737872360935, pvalue=0.23709677363455822)"
            ]
          },
          "metadata": {
            "tags": []
          },
          "execution_count": 30
        }
      ]
    },
    {
      "cell_type": "markdown",
      "metadata": {
        "id": "pK_AdAwzxzB6"
      },
      "source": [
        "#### (5) 일원분산분석 사후분석\n",
        "- post hoc test\n",
        "  - 유의미한 검증결과 도출 시, 어떤 수준(들)에서 평균 차이가 나는지를 검증\n",
        "  - 연구자의 사전가설(아이디어) 없이 ANOVA를 시행한 경우, 탐색적으로 평균 차이가 나는 수준(집단)을 살펴보기 위해 시행\n",
        "  - 조합 가능한 모든 쌍에 대해 비교하여, 과잉검증으로 인한 FWER 증가\n",
        "\n",
        "- FWER\n",
        "  - Family Wise Error Rate\n",
        "  - 여러 개의 가설 검정을 할 때 적어도 하나의 가설에서 1종 오류가 발생할 가능성\n",
        "  - 가설검정을 많이 할수록 FWER은 증가\n",
        "  - 유의수준을 보정하여 FWER을 0.05로 고정 후 검증"
      ]
    },
    {
      "cell_type": "markdown",
      "metadata": {
        "id": "AZOWekg1yMVZ"
      },
      "source": [
        "#### 5-1. 사후분석 준비"
      ]
    },
    {
      "cell_type": "code",
      "metadata": {
        "id": "yWguP4xfxxtw"
      },
      "source": [
        "MC = MultiComparison(DF['weight'] , DF['group'])\n",
        "# multi-comparison 수행"
      ],
      "execution_count": 32,
      "outputs": []
    },
    {
      "cell_type": "markdown",
      "metadata": {
        "id": "TKQbP0ouyZjp"
      },
      "source": [
        "#### 5-2. Bonferroni Correlation\n",
        "- 봉페로니 교정\n",
        "  - 모든 집단을 짝지어 t-Test\n",
        "- 'trt1'과 'trt2' 수준 간의 평균차이만 유의미함"
      ]
    },
    {
      "cell_type": "code",
      "metadata": {
        "colab": {
          "base_uri": "https://localhost:8080/",
          "height": 154
        },
        "id": "pYnjr4cjyY9O",
        "outputId": "ff8a97bd-aa70-48f5-abc8-eefd0f15d202"
      },
      "source": [
        "result = MC.allpairtest(scipy.stats.ttest_ind, method = 'bonf')\n",
        "\n",
        "result[0]\n",
        "\n",
        "# trt1-trt2 만 p-val 이 0.05보다 작고, reject True가 나오는 것을 볼 수 있다"
      ],
      "execution_count": 33,
      "outputs": [
        {
          "output_type": "execute_result",
          "data": {
            "text/html": [
              "<table class=\"simpletable\">\n",
              "<caption>Test Multiple Comparison ttest_ind \n",
              "FWER=0.05 method=bonf\n",
              "alphacSidak=0.02, alphacBonf=0.017</caption>\n",
              "<tr>\n",
              "  <th>group1</th> <th>group2</th>  <th>stat</th>    <th>pval</th>  <th>pval_corr</th> <th>reject</th>\n",
              "</tr>\n",
              "<tr>\n",
              "   <td>ctrl</td>   <td>trt1</td>  <td>1.1913</td>   <td>0.249</td>  <td>0.7471</td>    <td>False</td>\n",
              "</tr>\n",
              "<tr>\n",
              "   <td>ctrl</td>   <td>trt2</td>  <td>-2.134</td>  <td>0.0469</td>  <td>0.1406</td>    <td>False</td>\n",
              "</tr>\n",
              "<tr>\n",
              "   <td>trt1</td>   <td>trt2</td>  <td>-3.0101</td> <td>0.0075</td>  <td>0.0226</td>    <td>True</td> \n",
              "</tr>\n",
              "</table>"
            ],
            "text/plain": [
              "<class 'statsmodels.iolib.table.SimpleTable'>"
            ]
          },
          "metadata": {
            "tags": []
          },
          "execution_count": 33
        }
      ]
    },
    {
      "cell_type": "markdown",
      "metadata": {
        "id": "mZIWT_KPI8pW"
      },
      "source": [
        "#### 5-3. Tuckey's HSD\n",
        "- 투키의 HSD\n",
        "- 'trt1'과 'trt2' 수준 간의 평균차이만 유의미함"
      ]
    },
    {
      "cell_type": "code",
      "metadata": {
        "colab": {
          "base_uri": "https://localhost:8080/",
          "height": 120
        },
        "id": "C4X9LMNjymaX",
        "outputId": "e6dd2699-9547-4de7-e8e4-11948b2e1c3c"
      },
      "source": [
        "THSD = pairwise_tukeyhsd(DF['weight'] , DF['group'] , alpha = 0.05)\n",
        "\n",
        "THSD.summary()"
      ],
      "execution_count": 35,
      "outputs": [
        {
          "output_type": "execute_result",
          "data": {
            "text/html": [
              "<table class=\"simpletable\">\n",
              "<caption>Multiple Comparison of Means - Tukey HSD, FWER=0.05</caption>\n",
              "<tr>\n",
              "  <th>group1</th> <th>group2</th> <th>meandiff</th>  <th>p-adj</th>  <th>lower</th>   <th>upper</th> <th>reject</th>\n",
              "</tr>\n",
              "<tr>\n",
              "   <td>ctrl</td>   <td>trt1</td>   <td>-0.371</td>  <td>0.3921</td> <td>-1.0621</td> <td>0.3201</td>  <td>False</td>\n",
              "</tr>\n",
              "<tr>\n",
              "   <td>ctrl</td>   <td>trt2</td>    <td>0.494</td>   <td>0.198</td> <td>-0.1971</td> <td>1.1851</td>  <td>False</td>\n",
              "</tr>\n",
              "<tr>\n",
              "   <td>trt1</td>   <td>trt2</td>    <td>0.865</td>   <td>0.012</td> <td>0.1739</td>  <td>1.5561</td>  <td>True</td> \n",
              "</tr>\n",
              "</table>"
            ],
            "text/plain": [
              "<class 'statsmodels.iolib.table.SimpleTable'>"
            ]
          },
          "metadata": {
            "tags": []
          },
          "execution_count": 35
        }
      ]
    },
    {
      "cell_type": "markdown",
      "metadata": {
        "id": "PTd3p4uly4b5"
      },
      "source": [
        "#### (6) 일원분산분석 결과 해석\n",
        "- group 에 따른 weight의 평균 차이는 유의미함(p < 0.05)\n",
        "  - 사후 분석을 실시 결과, 'trt1' 수준과 'trt2' 수준에서 유의미한 평균 차이가 있었음(p < 0.05)"
      ]
    },
    {
      "cell_type": "markdown",
      "metadata": {
        "id": "kyeNEODXzHOy"
      },
      "source": [
        "### 2) Two-way ANOVA\n",
        "- Two-way ANOVA: 요인이 2개인 분산분석\n",
        "- 요인 간 상호작용 파악이 주요 목적\n",
        "  - 커피에 크림만 넣는 것, 시럽만 넣는 것, 크림과 시럽을 같이 넣는 것\n",
        "  - 아무 효과가 없으면 상호작용 효과가 없음\n",
        "  - 더 맛있어진다면, 강화효과\n",
        "  - 더 맛없어진다면, 조절효과\n",
        "\n",
        "- 다원분산분석 가정\n",
        "  - 독립성\n",
        "  - 정규성\n",
        "  - 등분산성\n",
        "\n",
        "- 주요 용어\n",
        "  - 주효과: 다른요인(집단구분 변수)과 상관없이, 한 요인의 수준(집단)에 따라 효과가 유의미하게 달라질 때 '주효과가 있다'고 함\n",
        "  - 상호작용효과: 한 요인의 수준에 따른 효과차이가 또 다른 요인의 수준에 따라 달라질 때, '요인들 간 상호작용이 존재한다'고 함"
      ]
    },
    {
      "cell_type": "markdown",
      "metadata": {
        "id": "3slC8pqIzbDW"
      },
      "source": [
        "#### (1) Hypothesis\n",
        "- 귀무가설: 모든 집단의 평균은 동일하다\n",
        "- 대립가설: 적어도 한 집단의 평균은 다른 집단과 다르다"
      ]
    },
    {
      "cell_type": "markdown",
      "metadata": {
        "id": "NGdyb_WrzhKr"
      },
      "source": [
        "#### (2) Load Data"
      ]
    },
    {
      "cell_type": "code",
      "metadata": {
        "colab": {
          "base_uri": "https://localhost:8080/"
        },
        "id": "Bxnza0bay3u6",
        "outputId": "a29e5d7b-bab4-4148-85f7-1cc928f688ec"
      },
      "source": [
        "url = 'https://raw.githubusercontent.com/rusita-ai/pyData/master/poisons.csv'\n",
        "\n",
        "DF = pd.read_csv(url)\n",
        "\n",
        "DF.info()"
      ],
      "execution_count": 36,
      "outputs": [
        {
          "output_type": "stream",
          "text": [
            "<class 'pandas.core.frame.DataFrame'>\n",
            "RangeIndex: 48 entries, 0 to 47\n",
            "Data columns (total 4 columns):\n",
            " #   Column      Non-Null Count  Dtype  \n",
            "---  ------      --------------  -----  \n",
            " 0   Unnamed: 0  48 non-null     int64  \n",
            " 1   time        48 non-null     float64\n",
            " 2   poison      48 non-null     int64  \n",
            " 3   treat       48 non-null     object \n",
            "dtypes: float64(1), int64(2), object(1)\n",
            "memory usage: 1.6+ KB\n"
          ],
          "name": "stdout"
        }
      ]
    },
    {
      "cell_type": "code",
      "metadata": {
        "colab": {
          "base_uri": "https://localhost:8080/",
          "height": 204
        },
        "id": "m3-zLVCq8xSS",
        "outputId": "8c2f221d-5771-41e6-a52a-506f42e70326"
      },
      "source": [
        "DF.head()"
      ],
      "execution_count": 37,
      "outputs": [
        {
          "output_type": "execute_result",
          "data": {
            "text/html": [
              "<div>\n",
              "<style scoped>\n",
              "    .dataframe tbody tr th:only-of-type {\n",
              "        vertical-align: middle;\n",
              "    }\n",
              "\n",
              "    .dataframe tbody tr th {\n",
              "        vertical-align: top;\n",
              "    }\n",
              "\n",
              "    .dataframe thead th {\n",
              "        text-align: right;\n",
              "    }\n",
              "</style>\n",
              "<table border=\"1\" class=\"dataframe\">\n",
              "  <thead>\n",
              "    <tr style=\"text-align: right;\">\n",
              "      <th></th>\n",
              "      <th>Unnamed: 0</th>\n",
              "      <th>time</th>\n",
              "      <th>poison</th>\n",
              "      <th>treat</th>\n",
              "    </tr>\n",
              "  </thead>\n",
              "  <tbody>\n",
              "    <tr>\n",
              "      <th>0</th>\n",
              "      <td>1</td>\n",
              "      <td>0.31</td>\n",
              "      <td>1</td>\n",
              "      <td>A</td>\n",
              "    </tr>\n",
              "    <tr>\n",
              "      <th>1</th>\n",
              "      <td>2</td>\n",
              "      <td>0.45</td>\n",
              "      <td>1</td>\n",
              "      <td>A</td>\n",
              "    </tr>\n",
              "    <tr>\n",
              "      <th>2</th>\n",
              "      <td>3</td>\n",
              "      <td>0.46</td>\n",
              "      <td>1</td>\n",
              "      <td>A</td>\n",
              "    </tr>\n",
              "    <tr>\n",
              "      <th>3</th>\n",
              "      <td>4</td>\n",
              "      <td>0.43</td>\n",
              "      <td>1</td>\n",
              "      <td>A</td>\n",
              "    </tr>\n",
              "    <tr>\n",
              "      <th>4</th>\n",
              "      <td>5</td>\n",
              "      <td>0.36</td>\n",
              "      <td>2</td>\n",
              "      <td>A</td>\n",
              "    </tr>\n",
              "  </tbody>\n",
              "</table>\n",
              "</div>"
            ],
            "text/plain": [
              "   Unnamed: 0  time  poison treat\n",
              "0           1  0.31       1     A\n",
              "1           2  0.45       1     A\n",
              "2           3  0.46       1     A\n",
              "3           4  0.43       1     A\n",
              "4           5  0.36       2     A"
            ]
          },
          "metadata": {
            "tags": []
          },
          "execution_count": 37
        }
      ]
    },
    {
      "cell_type": "markdown",
      "metadata": {
        "id": "-KdSb9CZ80W3"
      },
      "source": [
        "#### (3) 균형설계\n",
        "- 각 집단과 조건별로 표본의 수가 동일한 경우\n",
        "- 비균형설계의 경우 계산 방법이 달라짐"
      ]
    },
    {
      "cell_type": "markdown",
      "metadata": {
        "id": "wXhsGzfS85ym"
      },
      "source": [
        "#### 3-1. 독립변수 별 균형설계 확인\n",
        "- 'poison': 집단별 표본수 16으로 동일"
      ]
    },
    {
      "cell_type": "code",
      "metadata": {
        "colab": {
          "base_uri": "https://localhost:8080/",
          "height": 173
        },
        "id": "Ufp44oKm8zro",
        "outputId": "9ea5f9b7-3edf-4d4f-dee9-9c5ecedbcba4"
      },
      "source": [
        "DF.groupby('poison').agg(len)"
      ],
      "execution_count": 38,
      "outputs": [
        {
          "output_type": "execute_result",
          "data": {
            "text/html": [
              "<div>\n",
              "<style scoped>\n",
              "    .dataframe tbody tr th:only-of-type {\n",
              "        vertical-align: middle;\n",
              "    }\n",
              "\n",
              "    .dataframe tbody tr th {\n",
              "        vertical-align: top;\n",
              "    }\n",
              "\n",
              "    .dataframe thead th {\n",
              "        text-align: right;\n",
              "    }\n",
              "</style>\n",
              "<table border=\"1\" class=\"dataframe\">\n",
              "  <thead>\n",
              "    <tr style=\"text-align: right;\">\n",
              "      <th></th>\n",
              "      <th>Unnamed: 0</th>\n",
              "      <th>time</th>\n",
              "      <th>treat</th>\n",
              "    </tr>\n",
              "    <tr>\n",
              "      <th>poison</th>\n",
              "      <th></th>\n",
              "      <th></th>\n",
              "      <th></th>\n",
              "    </tr>\n",
              "  </thead>\n",
              "  <tbody>\n",
              "    <tr>\n",
              "      <th>1</th>\n",
              "      <td>16</td>\n",
              "      <td>16.0</td>\n",
              "      <td>16</td>\n",
              "    </tr>\n",
              "    <tr>\n",
              "      <th>2</th>\n",
              "      <td>16</td>\n",
              "      <td>16.0</td>\n",
              "      <td>16</td>\n",
              "    </tr>\n",
              "    <tr>\n",
              "      <th>3</th>\n",
              "      <td>16</td>\n",
              "      <td>16.0</td>\n",
              "      <td>16</td>\n",
              "    </tr>\n",
              "  </tbody>\n",
              "</table>\n",
              "</div>"
            ],
            "text/plain": [
              "        Unnamed: 0  time  treat\n",
              "poison                         \n",
              "1               16  16.0     16\n",
              "2               16  16.0     16\n",
              "3               16  16.0     16"
            ]
          },
          "metadata": {
            "tags": []
          },
          "execution_count": 38
        }
      ]
    },
    {
      "cell_type": "markdown",
      "metadata": {
        "id": "mEOIpTKr9EwI"
      },
      "source": [
        "- 'treat' : 집단별 표본수 12로 동일"
      ]
    },
    {
      "cell_type": "code",
      "metadata": {
        "colab": {
          "base_uri": "https://localhost:8080/",
          "height": 204
        },
        "id": "eGaJTJsr9COG",
        "outputId": "a0330ecd-2fa3-4c52-83c4-9339e81a5207"
      },
      "source": [
        "DF.groupby('treat').agg(len)"
      ],
      "execution_count": 39,
      "outputs": [
        {
          "output_type": "execute_result",
          "data": {
            "text/html": [
              "<div>\n",
              "<style scoped>\n",
              "    .dataframe tbody tr th:only-of-type {\n",
              "        vertical-align: middle;\n",
              "    }\n",
              "\n",
              "    .dataframe tbody tr th {\n",
              "        vertical-align: top;\n",
              "    }\n",
              "\n",
              "    .dataframe thead th {\n",
              "        text-align: right;\n",
              "    }\n",
              "</style>\n",
              "<table border=\"1\" class=\"dataframe\">\n",
              "  <thead>\n",
              "    <tr style=\"text-align: right;\">\n",
              "      <th></th>\n",
              "      <th>Unnamed: 0</th>\n",
              "      <th>time</th>\n",
              "      <th>poison</th>\n",
              "    </tr>\n",
              "    <tr>\n",
              "      <th>treat</th>\n",
              "      <th></th>\n",
              "      <th></th>\n",
              "      <th></th>\n",
              "    </tr>\n",
              "  </thead>\n",
              "  <tbody>\n",
              "    <tr>\n",
              "      <th>A</th>\n",
              "      <td>12</td>\n",
              "      <td>12.0</td>\n",
              "      <td>12</td>\n",
              "    </tr>\n",
              "    <tr>\n",
              "      <th>B</th>\n",
              "      <td>12</td>\n",
              "      <td>12.0</td>\n",
              "      <td>12</td>\n",
              "    </tr>\n",
              "    <tr>\n",
              "      <th>C</th>\n",
              "      <td>12</td>\n",
              "      <td>12.0</td>\n",
              "      <td>12</td>\n",
              "    </tr>\n",
              "    <tr>\n",
              "      <th>D</th>\n",
              "      <td>12</td>\n",
              "      <td>12.0</td>\n",
              "      <td>12</td>\n",
              "    </tr>\n",
              "  </tbody>\n",
              "</table>\n",
              "</div>"
            ],
            "text/plain": [
              "       Unnamed: 0  time  poison\n",
              "treat                          \n",
              "A              12  12.0      12\n",
              "B              12  12.0      12\n",
              "C              12  12.0      12\n",
              "D              12  12.0      12"
            ]
          },
          "metadata": {
            "tags": []
          },
          "execution_count": 39
        }
      ]
    },
    {
      "cell_type": "markdown",
      "metadata": {
        "id": "8JFMbwD59MHQ"
      },
      "source": [
        "- 'poison', 'treat': 집단별 표본수 4로 동일"
      ]
    },
    {
      "cell_type": "code",
      "metadata": {
        "colab": {
          "base_uri": "https://localhost:8080/",
          "height": 452
        },
        "id": "CuPzc-B_9KHH",
        "outputId": "355f282f-7449-4e88-caa4-aec1931579cc"
      },
      "source": [
        "DF.groupby(['poison' , 'treat']).agg(len)"
      ],
      "execution_count": 40,
      "outputs": [
        {
          "output_type": "execute_result",
          "data": {
            "text/html": [
              "<div>\n",
              "<style scoped>\n",
              "    .dataframe tbody tr th:only-of-type {\n",
              "        vertical-align: middle;\n",
              "    }\n",
              "\n",
              "    .dataframe tbody tr th {\n",
              "        vertical-align: top;\n",
              "    }\n",
              "\n",
              "    .dataframe thead th {\n",
              "        text-align: right;\n",
              "    }\n",
              "</style>\n",
              "<table border=\"1\" class=\"dataframe\">\n",
              "  <thead>\n",
              "    <tr style=\"text-align: right;\">\n",
              "      <th></th>\n",
              "      <th></th>\n",
              "      <th>Unnamed: 0</th>\n",
              "      <th>time</th>\n",
              "    </tr>\n",
              "    <tr>\n",
              "      <th>poison</th>\n",
              "      <th>treat</th>\n",
              "      <th></th>\n",
              "      <th></th>\n",
              "    </tr>\n",
              "  </thead>\n",
              "  <tbody>\n",
              "    <tr>\n",
              "      <th rowspan=\"4\" valign=\"top\">1</th>\n",
              "      <th>A</th>\n",
              "      <td>4</td>\n",
              "      <td>4.0</td>\n",
              "    </tr>\n",
              "    <tr>\n",
              "      <th>B</th>\n",
              "      <td>4</td>\n",
              "      <td>4.0</td>\n",
              "    </tr>\n",
              "    <tr>\n",
              "      <th>C</th>\n",
              "      <td>4</td>\n",
              "      <td>4.0</td>\n",
              "    </tr>\n",
              "    <tr>\n",
              "      <th>D</th>\n",
              "      <td>4</td>\n",
              "      <td>4.0</td>\n",
              "    </tr>\n",
              "    <tr>\n",
              "      <th rowspan=\"4\" valign=\"top\">2</th>\n",
              "      <th>A</th>\n",
              "      <td>4</td>\n",
              "      <td>4.0</td>\n",
              "    </tr>\n",
              "    <tr>\n",
              "      <th>B</th>\n",
              "      <td>4</td>\n",
              "      <td>4.0</td>\n",
              "    </tr>\n",
              "    <tr>\n",
              "      <th>C</th>\n",
              "      <td>4</td>\n",
              "      <td>4.0</td>\n",
              "    </tr>\n",
              "    <tr>\n",
              "      <th>D</th>\n",
              "      <td>4</td>\n",
              "      <td>4.0</td>\n",
              "    </tr>\n",
              "    <tr>\n",
              "      <th rowspan=\"4\" valign=\"top\">3</th>\n",
              "      <th>A</th>\n",
              "      <td>4</td>\n",
              "      <td>4.0</td>\n",
              "    </tr>\n",
              "    <tr>\n",
              "      <th>B</th>\n",
              "      <td>4</td>\n",
              "      <td>4.0</td>\n",
              "    </tr>\n",
              "    <tr>\n",
              "      <th>C</th>\n",
              "      <td>4</td>\n",
              "      <td>4.0</td>\n",
              "    </tr>\n",
              "    <tr>\n",
              "      <th>D</th>\n",
              "      <td>4</td>\n",
              "      <td>4.0</td>\n",
              "    </tr>\n",
              "  </tbody>\n",
              "</table>\n",
              "</div>"
            ],
            "text/plain": [
              "              Unnamed: 0  time\n",
              "poison treat                  \n",
              "1      A               4   4.0\n",
              "       B               4   4.0\n",
              "       C               4   4.0\n",
              "       D               4   4.0\n",
              "2      A               4   4.0\n",
              "       B               4   4.0\n",
              "       C               4   4.0\n",
              "       D               4   4.0\n",
              "3      A               4   4.0\n",
              "       B               4   4.0\n",
              "       C               4   4.0\n",
              "       D               4   4.0"
            ]
          },
          "metadata": {
            "tags": []
          },
          "execution_count": 40
        }
      ]
    },
    {
      "cell_type": "markdown",
      "metadata": {
        "id": "iLpW1kon9Tcs"
      },
      "source": [
        "#### (4) 이원분산분석\n",
        "- 'poison': p < 0.05로 유의미. 즉 poison의 수준에 따라 평균에 차이가 난다고 볼 수 있음\n",
        "- 'treat' : p < 0.05로 유의미. 즉 treat의 수준에 따라 평균에 차이가 난다고 볼 수 있음\n",
        "- 'poison:treat' : p > 0.05로 유의미하지 않음. 상호작용 효과는 발견하지 못함"
      ]
    },
    {
      "cell_type": "code",
      "metadata": {
        "colab": {
          "base_uri": "https://localhost:8080/",
          "height": 173
        },
        "id": "J9TSpXTc9Rx6",
        "outputId": "140fcda3-9263-45f6-8c79-e55adbdb7c34"
      },
      "source": [
        "TWA = ols('time ~ C(poison) * C(treat)' , DF).fit()\n",
        "anova_lm(TWA)\n",
        "\n",
        "# poison, treat은 0.1 (0.05보다 크다)\n",
        "# 같이 적용하는 것으로는 효과가 나타나지 않는다"
      ],
      "execution_count": 43,
      "outputs": [
        {
          "output_type": "execute_result",
          "data": {
            "text/html": [
              "<div>\n",
              "<style scoped>\n",
              "    .dataframe tbody tr th:only-of-type {\n",
              "        vertical-align: middle;\n",
              "    }\n",
              "\n",
              "    .dataframe tbody tr th {\n",
              "        vertical-align: top;\n",
              "    }\n",
              "\n",
              "    .dataframe thead th {\n",
              "        text-align: right;\n",
              "    }\n",
              "</style>\n",
              "<table border=\"1\" class=\"dataframe\">\n",
              "  <thead>\n",
              "    <tr style=\"text-align: right;\">\n",
              "      <th></th>\n",
              "      <th>df</th>\n",
              "      <th>sum_sq</th>\n",
              "      <th>mean_sq</th>\n",
              "      <th>F</th>\n",
              "      <th>PR(&gt;F)</th>\n",
              "    </tr>\n",
              "  </thead>\n",
              "  <tbody>\n",
              "    <tr>\n",
              "      <th>C(poison)</th>\n",
              "      <td>2.0</td>\n",
              "      <td>1.033012</td>\n",
              "      <td>0.516506</td>\n",
              "      <td>23.221737</td>\n",
              "      <td>3.331440e-07</td>\n",
              "    </tr>\n",
              "    <tr>\n",
              "      <th>C(treat)</th>\n",
              "      <td>3.0</td>\n",
              "      <td>0.921206</td>\n",
              "      <td>0.307069</td>\n",
              "      <td>13.805582</td>\n",
              "      <td>3.777331e-06</td>\n",
              "    </tr>\n",
              "    <tr>\n",
              "      <th>C(poison):C(treat)</th>\n",
              "      <td>6.0</td>\n",
              "      <td>0.250137</td>\n",
              "      <td>0.041690</td>\n",
              "      <td>1.874333</td>\n",
              "      <td>1.122506e-01</td>\n",
              "    </tr>\n",
              "    <tr>\n",
              "      <th>Residual</th>\n",
              "      <td>36.0</td>\n",
              "      <td>0.800725</td>\n",
              "      <td>0.022242</td>\n",
              "      <td>NaN</td>\n",
              "      <td>NaN</td>\n",
              "    </tr>\n",
              "  </tbody>\n",
              "</table>\n",
              "</div>"
            ],
            "text/plain": [
              "                      df    sum_sq   mean_sq          F        PR(>F)\n",
              "C(poison)            2.0  1.033012  0.516506  23.221737  3.331440e-07\n",
              "C(treat)             3.0  0.921206  0.307069  13.805582  3.777331e-06\n",
              "C(poison):C(treat)   6.0  0.250137  0.041690   1.874333  1.122506e-01\n",
              "Residual            36.0  0.800725  0.022242        NaN           NaN"
            ]
          },
          "metadata": {
            "tags": []
          },
          "execution_count": 43
        }
      ]
    },
    {
      "cell_type": "markdown",
      "metadata": {
        "id": "ntWfXfPe9vxJ"
      },
      "source": [
        "#### (5) 비균형 설계\n",
        "- anova_lm(TWA, typ = 3)\n",
        "  - 'typ = 3' 옵션 추가"
      ]
    },
    {
      "cell_type": "markdown",
      "metadata": {
        "id": "7bMfA0za92X1"
      },
      "source": [
        "#### (6) 이원분산분석결과 해석\n",
        "- 'time'에 대한 'poison'과 'treat'을 요인으로 하는 이원분산분석 실시 결과,\n",
        "  - 'poison'의 주효과 유의(p < 0.05),\n",
        "  - 'treat'의 주효과 유의(p < 0.05),\n",
        "  - 'poison'과 'treat'의 유의미한 상호작용효과는 발견할 수 없음(p > 0.05)\n",
        "\n",
        "- 만약 상호작용 효과가 유의미하다면,\n",
        "  - 'poison' 1,2,3 집단 별 'treat'의 단순효과분석 수행"
      ]
    },
    {
      "cell_type": "markdown",
      "metadata": {
        "id": "Tsfe0I9b-QXx"
      },
      "source": [
        "## 3. Chi-Squared Test\n",
        "- 독립성 검정\n",
        "- 명목형 데이터에 사용\n",
        "- 관찰된 빈도가 기대된 빈도와 의미있게 다른지 여부를 검증\n",
        "- 명목척도 자료의 분석에 사용"
      ]
    },
    {
      "cell_type": "markdown",
      "metadata": {
        "id": "bWO1H119-Vy9"
      },
      "source": [
        "### (1) Hypothesis\n",
        "- 귀무가설: '가사노동의 종류'(행)와 '수행하는 사람'(열)은 독립이다.\n",
        "  - 밥하는 사람, 청소하는 사람, 빨래하는 사람이 정해져있지 않다\n",
        "- 대립가설: '가사노동의 종류'(행)와 '수행하는 사람'(열)은 독립이 아니다.\n",
        "  - 어떤 일을 하는 사람이 정해져 있다"
      ]
    },
    {
      "cell_type": "markdown",
      "metadata": {
        "id": "uqiuBfLL-gRH"
      },
      "source": [
        "#### (2) Load Data"
      ]
    },
    {
      "cell_type": "code",
      "metadata": {
        "colab": {
          "base_uri": "https://localhost:8080/"
        },
        "id": "vbyVamly9tmh",
        "outputId": "3b050655-ecc3-4980-cc9b-952055596ea9"
      },
      "source": [
        "url = 'https://raw.githubusercontent.com/rusita-ai/pyData/master/housetasks.csv'\n",
        "\n",
        "DF = pd.read_csv(url, index_col = 0)\n",
        "\n",
        "DF.info()"
      ],
      "execution_count": 45,
      "outputs": [
        {
          "output_type": "stream",
          "text": [
            "<class 'pandas.core.frame.DataFrame'>\n",
            "Index: 13 entries, Laundry to Holidays\n",
            "Data columns (total 4 columns):\n",
            " #   Column       Non-Null Count  Dtype\n",
            "---  ------       --------------  -----\n",
            " 0   Wife         13 non-null     int64\n",
            " 1   Alternating  13 non-null     int64\n",
            " 2   Husband      13 non-null     int64\n",
            " 3   Jointly      13 non-null     int64\n",
            "dtypes: int64(4)\n",
            "memory usage: 520.0+ bytes\n"
          ],
          "name": "stdout"
        }
      ]
    },
    {
      "cell_type": "markdown",
      "metadata": {
        "id": "FehCRDY2-ryN"
      },
      "source": [
        "- 행: 가사노동의 종류\n",
        "- 열: 수행하는 사람"
      ]
    },
    {
      "cell_type": "code",
      "metadata": {
        "colab": {
          "base_uri": "https://localhost:8080/",
          "height": 204
        },
        "id": "bpdXPRdI-pLd",
        "outputId": "f66597bc-967b-42b9-cd50-ecff5940ae17"
      },
      "source": [
        "DF.head()"
      ],
      "execution_count": 46,
      "outputs": [
        {
          "output_type": "execute_result",
          "data": {
            "text/html": [
              "<div>\n",
              "<style scoped>\n",
              "    .dataframe tbody tr th:only-of-type {\n",
              "        vertical-align: middle;\n",
              "    }\n",
              "\n",
              "    .dataframe tbody tr th {\n",
              "        vertical-align: top;\n",
              "    }\n",
              "\n",
              "    .dataframe thead th {\n",
              "        text-align: right;\n",
              "    }\n",
              "</style>\n",
              "<table border=\"1\" class=\"dataframe\">\n",
              "  <thead>\n",
              "    <tr style=\"text-align: right;\">\n",
              "      <th></th>\n",
              "      <th>Wife</th>\n",
              "      <th>Alternating</th>\n",
              "      <th>Husband</th>\n",
              "      <th>Jointly</th>\n",
              "    </tr>\n",
              "  </thead>\n",
              "  <tbody>\n",
              "    <tr>\n",
              "      <th>Laundry</th>\n",
              "      <td>156</td>\n",
              "      <td>14</td>\n",
              "      <td>2</td>\n",
              "      <td>4</td>\n",
              "    </tr>\n",
              "    <tr>\n",
              "      <th>Main_meal</th>\n",
              "      <td>124</td>\n",
              "      <td>20</td>\n",
              "      <td>5</td>\n",
              "      <td>4</td>\n",
              "    </tr>\n",
              "    <tr>\n",
              "      <th>Dinner</th>\n",
              "      <td>77</td>\n",
              "      <td>11</td>\n",
              "      <td>7</td>\n",
              "      <td>13</td>\n",
              "    </tr>\n",
              "    <tr>\n",
              "      <th>Breakfeast</th>\n",
              "      <td>82</td>\n",
              "      <td>36</td>\n",
              "      <td>15</td>\n",
              "      <td>7</td>\n",
              "    </tr>\n",
              "    <tr>\n",
              "      <th>Tidying</th>\n",
              "      <td>53</td>\n",
              "      <td>11</td>\n",
              "      <td>1</td>\n",
              "      <td>57</td>\n",
              "    </tr>\n",
              "  </tbody>\n",
              "</table>\n",
              "</div>"
            ],
            "text/plain": [
              "            Wife  Alternating  Husband  Jointly\n",
              "Laundry      156           14        2        4\n",
              "Main_meal    124           20        5        4\n",
              "Dinner        77           11        7       13\n",
              "Breakfeast    82           36       15        7\n",
              "Tidying       53           11        1       57"
            ]
          },
          "metadata": {
            "tags": []
          },
          "execution_count": 46
        }
      ]
    },
    {
      "cell_type": "markdown",
      "metadata": {
        "id": "MvRLLdHf-zJv"
      },
      "source": [
        "#### (3) 카이제곱 검증"
      ]
    },
    {
      "cell_type": "code",
      "metadata": {
        "id": "rrbGbRH--wxh"
      },
      "source": [
        "chi2, pvalue, dof, expected = scipy.stats.chi2_contingency(DF)"
      ],
      "execution_count": 47,
      "outputs": []
    },
    {
      "cell_type": "markdown",
      "metadata": {
        "id": "K9YRchn5-9sq"
      },
      "source": [
        "#### 3-1. chi-square 검정통계량"
      ]
    },
    {
      "cell_type": "code",
      "metadata": {
        "colab": {
          "base_uri": "https://localhost:8080/"
        },
        "id": "t8a8B8hH-8-q",
        "outputId": "75560ecc-3724-44e4-fe7c-09e87d99af1d"
      },
      "source": [
        "chi2"
      ],
      "execution_count": 48,
      "outputs": [
        {
          "output_type": "execute_result",
          "data": {
            "text/plain": [
              "1944.4561959955277"
            ]
          },
          "metadata": {
            "tags": []
          },
          "execution_count": 48
        }
      ]
    },
    {
      "cell_type": "markdown",
      "metadata": {
        "id": "FHWAKKFI_BLk"
      },
      "source": [
        "#### 3-2. 자유도"
      ]
    },
    {
      "cell_type": "code",
      "metadata": {
        "colab": {
          "base_uri": "https://localhost:8080/"
        },
        "id": "n2sFxaoz_AXU",
        "outputId": "522dc309-2f3d-4901-8ffe-e72d1731d072"
      },
      "source": [
        "dof"
      ],
      "execution_count": 49,
      "outputs": [
        {
          "output_type": "execute_result",
          "data": {
            "text/plain": [
              "36"
            ]
          },
          "metadata": {
            "tags": []
          },
          "execution_count": 49
        }
      ]
    },
    {
      "cell_type": "markdown",
      "metadata": {
        "id": "fVmAAaC-_D0Z"
      },
      "source": [
        "#### 3-3. p-value"
      ]
    },
    {
      "cell_type": "code",
      "metadata": {
        "colab": {
          "base_uri": "https://localhost:8080/"
        },
        "id": "ATWxH0ck_C0r",
        "outputId": "eb7e663b-66c3-4630-eb00-aeb168dff760"
      },
      "source": [
        "pvalue\n",
        "# 0.05보다 매우 작다\n",
        "# 귀무가설 기각"
      ],
      "execution_count": 50,
      "outputs": [
        {
          "output_type": "execute_result",
          "data": {
            "text/plain": [
              "0.0"
            ]
          },
          "metadata": {
            "tags": []
          },
          "execution_count": 50
        }
      ]
    },
    {
      "cell_type": "markdown",
      "metadata": {
        "id": "IJeHbXTO_GMo"
      },
      "source": [
        "#### (4) 카이제곱검증 결과 해석\n",
        "- p < 0.05 이므로, '가사노동의 종류'(행)와 '수행하는 사람'(열)은 독립이 아니다."
      ]
    }
  ]
}