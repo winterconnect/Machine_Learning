{
  "nbformat": 4,
  "nbformat_minor": 0,
  "metadata": {
    "colab": {
      "name": "003_Correlation_Analysis.ipynb",
      "provenance": [],
      "collapsed_sections": []
    },
    "kernelspec": {
      "name": "python3",
      "display_name": "Python 3"
    }
  },
  "cells": [
    {
      "cell_type": "markdown",
      "metadata": {
        "id": "WhCHR09VW9ql"
      },
      "source": [
        "# Correlation Analysis"
      ]
    },
    {
      "cell_type": "code",
      "metadata": {
        "id": "S8QDYYb2W9IM"
      },
      "source": [
        "import warnings\n",
        "warnings.filterwarnings('ignore')"
      ],
      "execution_count": 1,
      "outputs": []
    },
    {
      "cell_type": "code",
      "metadata": {
        "id": "-NWe4RsCXIHL"
      },
      "source": [
        "import pandas as pd\n",
        "import numpy as np\n",
        "import matplotlib.pyplot as plt\n",
        "import seaborn as sns\n",
        "\n",
        "from scipy import stats"
      ],
      "execution_count": 15,
      "outputs": []
    },
    {
      "cell_type": "markdown",
      "metadata": {
        "id": "LpOcfKgHXFo7"
      },
      "source": [
        "# Load Data\n",
        "- 키, 몸무게 데이터"
      ]
    },
    {
      "cell_type": "code",
      "metadata": {
        "colab": {
          "base_uri": "https://localhost:8080/"
        },
        "id": "TXr8SCKBXFSD",
        "outputId": "72b5701f-b585-43de-9c24-43df4853a8c5"
      },
      "source": [
        "url = 'https://raw.githubusercontent.com/rusita-ai/pyData/master/PII.csv'\n",
        "\n",
        "DF = pd.read_csv(url)\n",
        "\n",
        "DF.info()"
      ],
      "execution_count": 3,
      "outputs": [
        {
          "output_type": "stream",
          "text": [
            "<class 'pandas.core.frame.DataFrame'>\n",
            "RangeIndex: 17 entries, 0 to 16\n",
            "Data columns (total 8 columns):\n",
            " #   Column     Non-Null Count  Dtype  \n",
            "---  ------     --------------  -----  \n",
            " 0   Name       17 non-null     object \n",
            " 1   Gender     17 non-null     object \n",
            " 2   Age        17 non-null     int64  \n",
            " 3   Grade      17 non-null     int64  \n",
            " 4   Picture    17 non-null     object \n",
            " 5   BloodType  17 non-null     object \n",
            " 6   Height     17 non-null     float64\n",
            " 7   Weight     17 non-null     float64\n",
            "dtypes: float64(2), int64(2), object(4)\n",
            "memory usage: 1.2+ KB\n"
          ],
          "name": "stdout"
        }
      ]
    },
    {
      "cell_type": "code",
      "metadata": {
        "colab": {
          "base_uri": "https://localhost:8080/",
          "height": 204
        },
        "id": "0td0qLMXXR9q",
        "outputId": "eca8659d-6c14-454d-fc55-172550e3c714"
      },
      "source": [
        "DF.head()"
      ],
      "execution_count": 4,
      "outputs": [
        {
          "output_type": "execute_result",
          "data": {
            "text/html": [
              "<div>\n",
              "<style scoped>\n",
              "    .dataframe tbody tr th:only-of-type {\n",
              "        vertical-align: middle;\n",
              "    }\n",
              "\n",
              "    .dataframe tbody tr th {\n",
              "        vertical-align: top;\n",
              "    }\n",
              "\n",
              "    .dataframe thead th {\n",
              "        text-align: right;\n",
              "    }\n",
              "</style>\n",
              "<table border=\"1\" class=\"dataframe\">\n",
              "  <thead>\n",
              "    <tr style=\"text-align: right;\">\n",
              "      <th></th>\n",
              "      <th>Name</th>\n",
              "      <th>Gender</th>\n",
              "      <th>Age</th>\n",
              "      <th>Grade</th>\n",
              "      <th>Picture</th>\n",
              "      <th>BloodType</th>\n",
              "      <th>Height</th>\n",
              "      <th>Weight</th>\n",
              "    </tr>\n",
              "  </thead>\n",
              "  <tbody>\n",
              "    <tr>\n",
              "      <th>0</th>\n",
              "      <td>송태섭</td>\n",
              "      <td>남자</td>\n",
              "      <td>21</td>\n",
              "      <td>3</td>\n",
              "      <td>무</td>\n",
              "      <td>B</td>\n",
              "      <td>179.1</td>\n",
              "      <td>63.9</td>\n",
              "    </tr>\n",
              "    <tr>\n",
              "      <th>1</th>\n",
              "      <td>최유정</td>\n",
              "      <td>여자</td>\n",
              "      <td>23</td>\n",
              "      <td>1</td>\n",
              "      <td>유</td>\n",
              "      <td>A</td>\n",
              "      <td>177.1</td>\n",
              "      <td>54.9</td>\n",
              "    </tr>\n",
              "    <tr>\n",
              "      <th>2</th>\n",
              "      <td>이한나</td>\n",
              "      <td>여자</td>\n",
              "      <td>20</td>\n",
              "      <td>1</td>\n",
              "      <td>무</td>\n",
              "      <td>A</td>\n",
              "      <td>167.9</td>\n",
              "      <td>50.2</td>\n",
              "    </tr>\n",
              "    <tr>\n",
              "      <th>3</th>\n",
              "      <td>김소혜</td>\n",
              "      <td>여자</td>\n",
              "      <td>23</td>\n",
              "      <td>3</td>\n",
              "      <td>무</td>\n",
              "      <td>O</td>\n",
              "      <td>176.1</td>\n",
              "      <td>53.5</td>\n",
              "    </tr>\n",
              "    <tr>\n",
              "      <th>4</th>\n",
              "      <td>서태웅</td>\n",
              "      <td>남자</td>\n",
              "      <td>24</td>\n",
              "      <td>4</td>\n",
              "      <td>무</td>\n",
              "      <td>B</td>\n",
              "      <td>176.1</td>\n",
              "      <td>79.8</td>\n",
              "    </tr>\n",
              "  </tbody>\n",
              "</table>\n",
              "</div>"
            ],
            "text/plain": [
              "  Name Gender  Age  Grade Picture BloodType  Height  Weight\n",
              "0  송태섭     남자   21      3       무         B   179.1    63.9\n",
              "1  최유정     여자   23      1       유         A   177.1    54.9\n",
              "2  이한나     여자   20      1       무         A   167.9    50.2\n",
              "3  김소혜     여자   23      3       무         O   176.1    53.5\n",
              "4  서태웅     남자   24      4       무         B   176.1    79.8"
            ]
          },
          "metadata": {
            "tags": []
          },
          "execution_count": 4
        }
      ]
    },
    {
      "cell_type": "markdown",
      "metadata": {
        "id": "xO4oWhFaXVrl"
      },
      "source": [
        "## 1. Covariance"
      ]
    },
    {
      "cell_type": "markdown",
      "metadata": {
        "id": "dbtqyufnXYD3"
      },
      "source": [
        "### 1) 공분산"
      ]
    },
    {
      "cell_type": "code",
      "metadata": {
        "colab": {
          "base_uri": "https://localhost:8080/"
        },
        "id": "br0Hl_soXXGR",
        "outputId": "c3c0eebe-69f9-4e61-86ea-17feef9e9938"
      },
      "source": [
        "np.cov(DF.Height, DF.Weight)[0][1]\n",
        "\n",
        "# 수치에 따라 공분산에 차이가 있을 수 있으므로, 상관계수를 구해줌"
      ],
      "execution_count": 8,
      "outputs": [
        {
          "output_type": "execute_result",
          "data": {
            "text/plain": [
              "63.83036764705884"
            ]
          },
          "metadata": {
            "tags": []
          },
          "execution_count": 8
        }
      ]
    },
    {
      "cell_type": "markdown",
      "metadata": {
        "id": "bcvsEIH8XkTp"
      },
      "source": [
        "### 2) Pearson 상관계수\n",
        "- 공분산을 두 변수의 표준편차의 곱으로 나눈 값"
      ]
    },
    {
      "cell_type": "code",
      "metadata": {
        "colab": {
          "base_uri": "https://localhost:8080/"
        },
        "id": "nbHrClIzXTr4",
        "outputId": "20ea1418-8634-4765-9338-77b53290d1a8"
      },
      "source": [
        "np.cov(DF.Height, DF.Weight)[0][1] / \\\n",
        "((np.std(DF.Height, ddof = 1) * (np.std(DF.Weight, ddof = 1))))"
      ],
      "execution_count": 9,
      "outputs": [
        {
          "output_type": "execute_result",
          "data": {
            "text/plain": [
              "0.6848075756314844"
            ]
          },
          "metadata": {
            "tags": []
          },
          "execution_count": 9
        }
      ]
    },
    {
      "cell_type": "markdown",
      "metadata": {
        "id": "GaG1-bnMX0wH"
      },
      "source": [
        "## 2. scipy"
      ]
    },
    {
      "cell_type": "markdown",
      "metadata": {
        "id": "lfZpmc-wX4Xk"
      },
      "source": [
        "### 1) Karl Pearson 상관계수\n",
        "- 우리가 쓰는 대부분의 상관계수는 pearson 상관계수이다\n",
        "- 기본적으로 등간척도/비율척도 변수에만 적용 가능"
      ]
    },
    {
      "cell_type": "code",
      "metadata": {
        "colab": {
          "base_uri": "https://localhost:8080/"
        },
        "id": "z0Qosm5TXzkF",
        "outputId": "15174477-1fa3-4130-dbaa-fd41cd2b4b94"
      },
      "source": [
        "stats.pearsonr(DF.Height, DF.Weight)\n",
        "\n",
        "# 두번째 값은 p-value"
      ],
      "execution_count": 19,
      "outputs": [
        {
          "output_type": "execute_result",
          "data": {
            "text/plain": [
              "(0.6848075756314843, 0.002421009549216189)"
            ]
          },
          "metadata": {
            "tags": []
          },
          "execution_count": 19
        }
      ]
    },
    {
      "cell_type": "markdown",
      "metadata": {
        "id": "o5zGIK04YBan"
      },
      "source": [
        "### 2) Spearman 상관계수\n",
        "- 서열척도 변수가 포함되어도 적용 가능\n",
        "- 반드시 연속형이 아니어도 된다\n",
        "- 등간척도/비율척도 두 변수 간의 관계가 비선형적일 때 적용"
      ]
    },
    {
      "cell_type": "code",
      "metadata": {
        "colab": {
          "base_uri": "https://localhost:8080/"
        },
        "id": "1Hp9XeuQYAgJ",
        "outputId": "3b0e66af-5d74-497a-8c85-6cff1c7f6af7"
      },
      "source": [
        "stats.spearmanr(DF.Height, DF.Weight)[0]"
      ],
      "execution_count": 21,
      "outputs": [
        {
          "output_type": "execute_result",
          "data": {
            "text/plain": [
              "0.6507060771796446"
            ]
          },
          "metadata": {
            "tags": []
          },
          "execution_count": 21
        }
      ]
    },
    {
      "cell_type": "markdown",
      "metadata": {
        "id": "G-L8dA_kYNQH"
      },
      "source": [
        "### 3) kandall tau\n",
        "- spearman 상관계수와 같은 경우 적용 가능\n",
        "- 표본이 작을 때 spearman 상관계수보다 신뢰할 수 있음"
      ]
    },
    {
      "cell_type": "code",
      "metadata": {
        "colab": {
          "base_uri": "https://localhost:8080/"
        },
        "id": "vP85AJRVYMCY",
        "outputId": "4060bb6b-4791-4c52-ad3e-e7a4204c6524"
      },
      "source": [
        "stats.kendalltau(DF.Height, DF.Weight)[0]"
      ],
      "execution_count": 13,
      "outputs": [
        {
          "output_type": "execute_result",
          "data": {
            "text/plain": [
              "0.5278846884821402"
            ]
          },
          "metadata": {
            "tags": []
          },
          "execution_count": 13
        }
      ]
    },
    {
      "cell_type": "markdown",
      "metadata": {
        "id": "GvsQSBnDYXQg"
      },
      "source": [
        "## 3. pandas"
      ]
    },
    {
      "cell_type": "markdown",
      "metadata": {
        "id": "WpjHaohdYZCN"
      },
      "source": [
        "### 1) Pearson 상관계수\n",
        "- method('pearson' , 'spearman' , 'kendall')"
      ]
    },
    {
      "cell_type": "code",
      "metadata": {
        "colab": {
          "base_uri": "https://localhost:8080/",
          "height": 173
        },
        "id": "1HaIWC19YWcn",
        "outputId": "5e04dcf2-0517-4e76-b744-183c19edb282"
      },
      "source": [
        "DF.corr(method = 'pearson')"
      ],
      "execution_count": 14,
      "outputs": [
        {
          "output_type": "execute_result",
          "data": {
            "text/html": [
              "<div>\n",
              "<style scoped>\n",
              "    .dataframe tbody tr th:only-of-type {\n",
              "        vertical-align: middle;\n",
              "    }\n",
              "\n",
              "    .dataframe tbody tr th {\n",
              "        vertical-align: top;\n",
              "    }\n",
              "\n",
              "    .dataframe thead th {\n",
              "        text-align: right;\n",
              "    }\n",
              "</style>\n",
              "<table border=\"1\" class=\"dataframe\">\n",
              "  <thead>\n",
              "    <tr style=\"text-align: right;\">\n",
              "      <th></th>\n",
              "      <th>Age</th>\n",
              "      <th>Grade</th>\n",
              "      <th>Height</th>\n",
              "      <th>Weight</th>\n",
              "    </tr>\n",
              "  </thead>\n",
              "  <tbody>\n",
              "    <tr>\n",
              "      <th>Age</th>\n",
              "      <td>1.000000</td>\n",
              "      <td>0.495118</td>\n",
              "      <td>0.349681</td>\n",
              "      <td>0.452384</td>\n",
              "    </tr>\n",
              "    <tr>\n",
              "      <th>Grade</th>\n",
              "      <td>0.495118</td>\n",
              "      <td>1.000000</td>\n",
              "      <td>0.312777</td>\n",
              "      <td>0.574785</td>\n",
              "    </tr>\n",
              "    <tr>\n",
              "      <th>Height</th>\n",
              "      <td>0.349681</td>\n",
              "      <td>0.312777</td>\n",
              "      <td>1.000000</td>\n",
              "      <td>0.684808</td>\n",
              "    </tr>\n",
              "    <tr>\n",
              "      <th>Weight</th>\n",
              "      <td>0.452384</td>\n",
              "      <td>0.574785</td>\n",
              "      <td>0.684808</td>\n",
              "      <td>1.000000</td>\n",
              "    </tr>\n",
              "  </tbody>\n",
              "</table>\n",
              "</div>"
            ],
            "text/plain": [
              "             Age     Grade    Height    Weight\n",
              "Age     1.000000  0.495118  0.349681  0.452384\n",
              "Grade   0.495118  1.000000  0.312777  0.574785\n",
              "Height  0.349681  0.312777  1.000000  0.684808\n",
              "Weight  0.452384  0.574785  0.684808  1.000000"
            ]
          },
          "metadata": {
            "tags": []
          },
          "execution_count": 14
        }
      ]
    },
    {
      "cell_type": "code",
      "metadata": {
        "colab": {
          "base_uri": "https://localhost:8080/",
          "height": 173
        },
        "id": "Q_g-8kPGba21",
        "outputId": "458657ae-fd59-4ac7-8add-15ff836a5e0a"
      },
      "source": [
        "DF.corr(method = 'spearman')"
      ],
      "execution_count": 22,
      "outputs": [
        {
          "output_type": "execute_result",
          "data": {
            "text/html": [
              "<div>\n",
              "<style scoped>\n",
              "    .dataframe tbody tr th:only-of-type {\n",
              "        vertical-align: middle;\n",
              "    }\n",
              "\n",
              "    .dataframe tbody tr th {\n",
              "        vertical-align: top;\n",
              "    }\n",
              "\n",
              "    .dataframe thead th {\n",
              "        text-align: right;\n",
              "    }\n",
              "</style>\n",
              "<table border=\"1\" class=\"dataframe\">\n",
              "  <thead>\n",
              "    <tr style=\"text-align: right;\">\n",
              "      <th></th>\n",
              "      <th>Age</th>\n",
              "      <th>Grade</th>\n",
              "      <th>Height</th>\n",
              "      <th>Weight</th>\n",
              "    </tr>\n",
              "  </thead>\n",
              "  <tbody>\n",
              "    <tr>\n",
              "      <th>Age</th>\n",
              "      <td>1.000000</td>\n",
              "      <td>0.469285</td>\n",
              "      <td>0.303355</td>\n",
              "      <td>0.442665</td>\n",
              "    </tr>\n",
              "    <tr>\n",
              "      <th>Grade</th>\n",
              "      <td>0.469285</td>\n",
              "      <td>1.000000</td>\n",
              "      <td>0.303913</td>\n",
              "      <td>0.575186</td>\n",
              "    </tr>\n",
              "    <tr>\n",
              "      <th>Height</th>\n",
              "      <td>0.303355</td>\n",
              "      <td>0.303913</td>\n",
              "      <td>1.000000</td>\n",
              "      <td>0.650706</td>\n",
              "    </tr>\n",
              "    <tr>\n",
              "      <th>Weight</th>\n",
              "      <td>0.442665</td>\n",
              "      <td>0.575186</td>\n",
              "      <td>0.650706</td>\n",
              "      <td>1.000000</td>\n",
              "    </tr>\n",
              "  </tbody>\n",
              "</table>\n",
              "</div>"
            ],
            "text/plain": [
              "             Age     Grade    Height    Weight\n",
              "Age     1.000000  0.469285  0.303355  0.442665\n",
              "Grade   0.469285  1.000000  0.303913  0.575186\n",
              "Height  0.303355  0.303913  1.000000  0.650706\n",
              "Weight  0.442665  0.575186  0.650706  1.000000"
            ]
          },
          "metadata": {
            "tags": []
          },
          "execution_count": 22
        }
      ]
    },
    {
      "cell_type": "code",
      "metadata": {
        "colab": {
          "base_uri": "https://localhost:8080/",
          "height": 173
        },
        "id": "aZ6uHf-ebehA",
        "outputId": "ae555a96-f3c6-4219-f316-42d787c4d4f2"
      },
      "source": [
        "DF.corr(method = 'kendall')"
      ],
      "execution_count": 23,
      "outputs": [
        {
          "output_type": "execute_result",
          "data": {
            "text/html": [
              "<div>\n",
              "<style scoped>\n",
              "    .dataframe tbody tr th:only-of-type {\n",
              "        vertical-align: middle;\n",
              "    }\n",
              "\n",
              "    .dataframe tbody tr th {\n",
              "        vertical-align: top;\n",
              "    }\n",
              "\n",
              "    .dataframe thead th {\n",
              "        text-align: right;\n",
              "    }\n",
              "</style>\n",
              "<table border=\"1\" class=\"dataframe\">\n",
              "  <thead>\n",
              "    <tr style=\"text-align: right;\">\n",
              "      <th></th>\n",
              "      <th>Age</th>\n",
              "      <th>Grade</th>\n",
              "      <th>Height</th>\n",
              "      <th>Weight</th>\n",
              "    </tr>\n",
              "  </thead>\n",
              "  <tbody>\n",
              "    <tr>\n",
              "      <th>Age</th>\n",
              "      <td>1.000000</td>\n",
              "      <td>0.414786</td>\n",
              "      <td>0.221565</td>\n",
              "      <td>0.337703</td>\n",
              "    </tr>\n",
              "    <tr>\n",
              "      <th>Grade</th>\n",
              "      <td>0.414786</td>\n",
              "      <td>1.000000</td>\n",
              "      <td>0.232970</td>\n",
              "      <td>0.442621</td>\n",
              "    </tr>\n",
              "    <tr>\n",
              "      <th>Height</th>\n",
              "      <td>0.221565</td>\n",
              "      <td>0.232970</td>\n",
              "      <td>1.000000</td>\n",
              "      <td>0.527885</td>\n",
              "    </tr>\n",
              "    <tr>\n",
              "      <th>Weight</th>\n",
              "      <td>0.337703</td>\n",
              "      <td>0.442621</td>\n",
              "      <td>0.527885</td>\n",
              "      <td>1.000000</td>\n",
              "    </tr>\n",
              "  </tbody>\n",
              "</table>\n",
              "</div>"
            ],
            "text/plain": [
              "             Age     Grade    Height    Weight\n",
              "Age     1.000000  0.414786  0.221565  0.337703\n",
              "Grade   0.414786  1.000000  0.232970  0.442621\n",
              "Height  0.221565  0.232970  1.000000  0.527885\n",
              "Weight  0.337703  0.442621  0.527885  1.000000"
            ]
          },
          "metadata": {
            "tags": []
          },
          "execution_count": 23
        }
      ]
    },
    {
      "cell_type": "markdown",
      "metadata": {
        "id": "fHZghcwtYhQF"
      },
      "source": [
        "### 2) Heat Map"
      ]
    },
    {
      "cell_type": "code",
      "metadata": {
        "colab": {
          "base_uri": "https://localhost:8080/",
          "height": 432
        },
        "id": "WJgRrCVQYfpN",
        "outputId": "9843d658-3e37-4fed-ac78-2257f24bcd85"
      },
      "source": [
        "plt.figure(figsize = (9, 7))\n",
        "sns.heatmap(DF.corr(),\n",
        "            cbar = True,\n",
        "            annot = True,\n",
        "            annot_kws = {'size' : 20} ,\n",
        "            fmt = '.2f' ,\n",
        "            square = True ,\n",
        "            cmap = 'Blues')\n",
        "\n",
        "plt.show()"
      ],
      "execution_count": 16,
      "outputs": [
        {
          "output_type": "display_data",
          "data": {
            "image/png": "[encoded data removed]",
            "text/plain": [
              "<Figure size 648x504 with 2 Axes>"
            ]
          },
          "metadata": {
            "tags": [],
            "needs_background": "light"
          }
        }
      ]
    },
    {
      "cell_type": "markdown",
      "metadata": {
        "id": "0P0t5s-hYzIC"
      },
      "source": [
        "## 4. numpy"
      ]
    },
    {
      "cell_type": "markdown",
      "metadata": {
        "id": "g4dV6uQRY1G_"
      },
      "source": [
        "### 1) Pearson 게수"
      ]
    },
    {
      "cell_type": "code",
      "metadata": {
        "colab": {
          "base_uri": "https://localhost:8080/"
        },
        "id": "dpyh6p00YxWx",
        "outputId": "ab4ad617-168e-4140-cdb4-066ac6172d56"
      },
      "source": [
        "np.corrcoef(DF.Height, DF.Weight)[0][1]"
      ],
      "execution_count": 17,
      "outputs": [
        {
          "output_type": "execute_result",
          "data": {
            "text/plain": [
              "0.6848075756314843"
            ]
          },
          "metadata": {
            "tags": []
          },
          "execution_count": 17
        }
      ]
    },
    {
      "cell_type": "markdown",
      "metadata": {
        "id": "b_dDmC4fY6RJ"
      },
      "source": [
        "## 5. Visualization"
      ]
    },
    {
      "cell_type": "code",
      "metadata": {
        "colab": {
          "base_uri": "https://localhost:8080/",
          "height": 334
        },
        "id": "6Klg7XNlY5pj",
        "outputId": "715a64ed-7ecc-4206-9ab9-89afc9272e0e"
      },
      "source": [
        "plt.figure(figsize = (7, 5))\n",
        "sns.scatterplot(x = DF.Height,\n",
        "                y = DF.Weight,\n",
        "                s = 100)\n",
        "\n",
        "plt.axvline(DF.Height.mean(),\n",
        "            color = 'r' ,\n",
        "            linestyle = 'dashed' ,\n",
        "            linewidth = 2)\n",
        "\n",
        "plt.axhline(DF.Weight.mean(),\n",
        "            color = 'b' ,\n",
        "            linestyle = 'dashed' ,\n",
        "            linewidth = 2)\n",
        "\n",
        "plt.show()\n",
        "\n",
        "\n",
        "# 빨간선: 키의 평균\n",
        "# 파란선: 몸무게의 평균\n",
        "\n",
        "# 공분산: 같은 방향으로 변화하면 + 가 되고, 다른 방향으로 변화하면 - 값이 됨\n",
        "# 원래 있던 x값 - x평균, 면적이 계산됨\n",
        "# 1사분면, 3사분면은 모두 플러스 값이 나오게 되지만,\n",
        "# 2사분면, 4사분면은 마이너스 값이 나오게 됨\n",
        "# 점들의 면적을 모두 구해 더하는 개념\n",
        "\n",
        "# 단위가 다르므로 표준편차의 곱으로 나눠서 정규화를 시켜준 것"
      ],
      "execution_count": 18,
      "outputs": [
        {
          "output_type": "display_data",
          "data": {
            "image/png": "[encoded data removed]",
            "text/plain": [
              "<Figure size 504x360 with 1 Axes>"
            ]
          },
          "metadata": {
            "tags": [],
            "needs_background": "light"
          }
        }
      ]
    }
  ]
}