{
  "nbformat": 4,
  "nbformat_minor": 0,
  "metadata": {
    "colab": {
      "name": "003_Seoul_Expense.ipynb",
      "provenance": [],
      "collapsed_sections": []
    },
    "kernelspec": {
      "name": "python3",
      "display_name": "Python 3"
    }
  },
  "cells": [
    {
      "cell_type": "markdown",
      "metadata": {
        "id": "iJ-O25WYtFGm"
      },
      "source": [
        "# 서울시 업무추진비 분석\n",
        "https://opengov.seoul.go.kr/expense\n",
        "https://github.com/seoul-opengov/opengov"
      ]
    },
    {
      "cell_type": "markdown",
      "metadata": {
        "id": "KoFvLC-3tNBJ"
      },
      "source": [
        "## 0. 한글폰트 설치 후 진행"
      ]
    },
    {
      "cell_type": "markdown",
      "metadata": {
        "id": "sHvXlPVytPdb"
      },
      "source": [
        "### 1) 한글폰트 설치\n",
        "- 설치 후 '런타임 다시 시작'"
      ]
    },
    {
      "cell_type": "code",
      "metadata": {
        "colab": {
          "base_uri": "https://localhost:8080/"
        },
        "id": "d3UhNRSEtMSp",
        "outputId": "7fd455da-993f-4166-a8e7-e637848581d3"
      },
      "source": [
        "! apt-get update\n",
        "! apt-get install -y fonts-nanum\n",
        "! fc-cache -fv\n",
        "! rm ~/.cache/matplotlib -rf"
      ],
      "execution_count": 1,
      "outputs": [
        {
          "output_type": "stream",
          "text": [
            "\r0% [Working]\r            \rIgn:1 https://developer.download.nvidia.com/compute/cuda/repos/ubuntu1804/x86_64  InRelease\n",
            "\r0% [Connecting to archive.ubuntu.com] [Connecting to security.ubuntu.com (91.18\r                                                                               \rIgn:2 https://developer.download.nvidia.com/compute/machine-learning/repos/ubuntu1804/x86_64  InRelease\n",
            "\r0% [Connecting to archive.ubuntu.com] [Connecting to security.ubuntu.com (91.18\r                                                                               \rHit:3 https://developer.download.nvidia.com/compute/cuda/repos/ubuntu1804/x86_64  Release\n",
            "\r0% [Connecting to archive.ubuntu.com] [Waiting for headers] [Connected to cloud\r0% [Release.gpg gpgv 697 B] [Connecting to archive.ubuntu.com] [Waiting for hea\r                                                                               \rGet:4 https://cloud.r-project.org/bin/linux/ubuntu bionic-cran40/ InRelease [3,626 B]\n",
            "Hit:5 https://developer.download.nvidia.com/compute/machine-learning/repos/ubuntu1804/x86_64  Release\n",
            "Get:6 http://security.ubuntu.com/ubuntu bionic-security InRelease [88.7 kB]\n",
            "Get:7 http://ppa.launchpad.net/c2d4u.team/c2d4u4.0+/ubuntu bionic InRelease [15.9 kB]\n",
            "Hit:9 http://archive.ubuntu.com/ubuntu bionic InRelease\n",
            "Get:10 http://archive.ubuntu.com/ubuntu bionic-updates InRelease [88.7 kB]\n",
            "Hit:11 http://ppa.launchpad.net/cran/libgit2/ubuntu bionic InRelease\n",
            "Hit:13 http://ppa.launchpad.net/deadsnakes/ppa/ubuntu bionic InRelease\n",
            "Get:14 http://archive.ubuntu.com/ubuntu bionic-backports InRelease [74.6 kB]\n",
            "Get:15 http://security.ubuntu.com/ubuntu bionic-security/main amd64 Packages [1,929 kB]\n",
            "Hit:16 http://ppa.launchpad.net/graphics-drivers/ppa/ubuntu bionic InRelease\n",
            "Get:17 http://security.ubuntu.com/ubuntu bionic-security/universe amd64 Packages [1,391 kB]\n",
            "Get:18 http://ppa.launchpad.net/c2d4u.team/c2d4u4.0+/ubuntu bionic/main Sources [1,738 kB]\n",
            "Get:19 http://archive.ubuntu.com/ubuntu bionic-updates/restricted amd64 Packages [334 kB]\n",
            "Get:20 http://archive.ubuntu.com/ubuntu bionic-updates/universe amd64 Packages [2,163 kB]\n",
            "Get:21 http://archive.ubuntu.com/ubuntu bionic-updates/main amd64 Packages [2,395 kB]\n",
            "Get:22 http://ppa.launchpad.net/c2d4u.team/c2d4u4.0+/ubuntu bionic/main amd64 Packages [889 kB]\n",
            "Fetched 11.1 MB in 4s (2,914 kB/s)\n",
            "Reading package lists... Done\n",
            "Reading package lists... Done\n",
            "Building dependency tree       \n",
            "Reading state information... Done\n",
            "The following NEW packages will be installed:\n",
            "  fonts-nanum\n",
            "0 upgraded, 1 newly installed, 0 to remove and 29 not upgraded.\n",
            "Need to get 9,604 kB of archives.\n",
            "After this operation, 29.5 MB of additional disk space will be used.\n",
            "Get:1 http://archive.ubuntu.com/ubuntu bionic/universe amd64 fonts-nanum all 20170925-1 [9,604 kB]\n",
            "Fetched 9,604 kB in 2s (5,177 kB/s)\n",
            "Selecting previously unselected package fonts-nanum.\n",
            "(Reading database ... 149414 files and directories currently installed.)\n",
            "Preparing to unpack .../fonts-nanum_20170925-1_all.deb ...\n",
            "Unpacking fonts-nanum (20170925-1) ...\n",
            "Setting up fonts-nanum (20170925-1) ...\n",
            "Processing triggers for fontconfig (2.12.6-0ubuntu2) ...\n",
            "/usr/share/fonts: caching, new cache contents: 0 fonts, 1 dirs\n",
            "/usr/share/fonts/truetype: caching, new cache contents: 0 fonts, 3 dirs\n",
            "/usr/share/fonts/truetype/humor-sans: caching, new cache contents: 1 fonts, 0 dirs\n",
            "/usr/share/fonts/truetype/liberation: caching, new cache contents: 16 fonts, 0 dirs\n",
            "/usr/share/fonts/truetype/nanum: caching, new cache contents: 10 fonts, 0 dirs\n",
            "/usr/local/share/fonts: caching, new cache contents: 0 fonts, 0 dirs\n",
            "/root/.local/share/fonts: skipping, no such directory\n",
            "/root/.fonts: skipping, no such directory\n",
            "/var/cache/fontconfig: cleaning cache directory\n",
            "/root/.cache/fontconfig: not cleaning non-existent cache directory\n",
            "/root/.fontconfig: not cleaning non-existent cache directory\n",
            "fc-cache: succeeded\n"
          ],
          "name": "stdout"
        }
      ]
    },
    {
      "cell_type": "markdown",
      "metadata": {
        "id": "vB5CaUBRtlOF"
      },
      "source": [
        "### 2) 한글 폰트 사용"
      ]
    },
    {
      "cell_type": "code",
      "metadata": {
        "id": "A6Nbw8DDtaoD"
      },
      "source": [
        "import matplotlib as mpl\n",
        "import matplotlib.pyplot as plt\n",
        "\n",
        "mpl.rcParams['axes.unicode_minus'] = False\n",
        "\n",
        "plt.rc('font' , family = 'NanumBarunGothic')"
      ],
      "execution_count": 1,
      "outputs": []
    },
    {
      "cell_type": "markdown",
      "metadata": {
        "id": "hIPDlDiHt5vU"
      },
      "source": [
        "## 1. 데이터 수집"
      ]
    },
    {
      "cell_type": "code",
      "metadata": {
        "id": "t3EO09Evt5Cr"
      },
      "source": [
        "import warnings\n",
        "warnings.filterwarnings('ignore')"
      ],
      "execution_count": 2,
      "outputs": []
    },
    {
      "cell_type": "markdown",
      "metadata": {
        "id": "21NAU1Frt-hv"
      },
      "source": [
        "### 1) 파일 다운로드 함수 정의\n",
        "  - 1. github 경로 지정\n",
        "  - 2. 다운로드 폴더 지정\n",
        "  - 3. 다운로드 폴더 확인 또는 생성\n",
        "  - 4. 1월~12월 업무추진비 파일 다운로드"
      ]
    },
    {
      "cell_type": "code",
      "metadata": {
        "id": "OZMqBsYRt92x"
      },
      "source": [
        "import requests\n",
        "import os\n",
        "import pathlib\n",
        "\n",
        "def get_seoul_expense_list(extension, year, data_folder) :\n",
        "\n",
        "  # 01\n",
        "  expense_list_year_url = 'http://github.com/seoul-opengov/opengov/raw/master/expense_list' + str(year) + '/'\n",
        "\n",
        "  # 02\n",
        "  expense_list_year_dir = data_folder + str(year) + '/'\n",
        "\n",
        "  # 03\n",
        "  if (os.path.isdir(expense_list_year_dir)) :\n",
        "    print(\"폴더({0})가 존재합니다. {0}년 데이터의 다운로드를 시작합니다.\" .format(year))\n",
        "  else :\n",
        "    print(\"폴더({0})를 생성합니다. {0}년 데이터의 다운로드를 시작합니다.\" .format(year))\n",
        "    pathlib.Path(expense_list_year_dir).mkdir(parents = True, exist_ok = True)\n",
        "\n",
        "  # 04\n",
        "  for k in range(12) :\n",
        "    file_name = '{0}{1:02d}_expense_list.{2}' .format(year, k+1, extension)\n",
        "    url = expense_list_year_url + file_name\n",
        "    print(url)\n",
        "    r = requests.get(url)\n",
        "\n",
        "    with open(expense_list_year_dir + file_name , 'wb') as f:\n",
        "      f.write(r.content)\n"
      ],
      "execution_count": 5,
      "outputs": []
    },
    {
      "cell_type": "markdown",
      "metadata": {
        "id": "M7OAcNkUvdzy"
      },
      "source": [
        "### 2) 함수 실행 옵션\n",
        "- 파일 타입 지정\n",
        "- 연도 지정(2017~2020)\n",
        "- 폴더 지정"
      ]
    },
    {
      "cell_type": "code",
      "metadata": {
        "id": "X8TTTie1ulEb"
      },
      "source": [
        "extension = \"csv\"\n",
        "years = [2017, 2018, 2019, 2020]\n",
        "data_folder = 'data_folder_'"
      ],
      "execution_count": 6,
      "outputs": []
    },
    {
      "cell_type": "markdown",
      "metadata": {
        "id": "U-DgaDehvpYT"
      },
      "source": [
        "### 3) 파일 다운로드 함수 실행"
      ]
    },
    {
      "cell_type": "code",
      "metadata": {
        "colab": {
          "base_uri": "https://localhost:8080/"
        },
        "id": "PjEHMiuzvovm",
        "outputId": "a6647eee-da98-4969-de4d-a899fec8fc1f"
      },
      "source": [
        "for year in years :\n",
        "  get_seoul_expense_list(extension, year, data_folder)"
      ],
      "execution_count": 7,
      "outputs": [
        {
          "output_type": "stream",
          "text": [
            "폴더(2017)를 생성합니다. 2017년 데이터의 다운로드를 시작합니다.\n",
            "http://github.com/seoul-opengov/opengov/raw/master/expense_list2017/201701_expense_list.csv\n",
            "http://github.com/seoul-opengov/opengov/raw/master/expense_list2017/201702_expense_list.csv\n",
            "http://github.com/seoul-opengov/opengov/raw/master/expense_list2017/201703_expense_list.csv\n",
            "http://github.com/seoul-opengov/opengov/raw/master/expense_list2017/201704_expense_list.csv\n",
            "http://github.com/seoul-opengov/opengov/raw/master/expense_list2017/201705_expense_list.csv\n",
            "http://github.com/seoul-opengov/opengov/raw/master/expense_list2017/201706_expense_list.csv\n",
            "http://github.com/seoul-opengov/opengov/raw/master/expense_list2017/201707_expense_list.csv\n",
            "http://github.com/seoul-opengov/opengov/raw/master/expense_list2017/201708_expense_list.csv\n",
            "http://github.com/seoul-opengov/opengov/raw/master/expense_list2017/201709_expense_list.csv\n",
            "http://github.com/seoul-opengov/opengov/raw/master/expense_list2017/201710_expense_list.csv\n",
            "http://github.com/seoul-opengov/opengov/raw/master/expense_list2017/201711_expense_list.csv\n",
            "http://github.com/seoul-opengov/opengov/raw/master/expense_list2017/201712_expense_list.csv\n",
            "폴더(2018)를 생성합니다. 2018년 데이터의 다운로드를 시작합니다.\n",
            "http://github.com/seoul-opengov/opengov/raw/master/expense_list2018/201801_expense_list.csv\n",
            "http://github.com/seoul-opengov/opengov/raw/master/expense_list2018/201802_expense_list.csv\n",
            "http://github.com/seoul-opengov/opengov/raw/master/expense_list2018/201803_expense_list.csv\n",
            "http://github.com/seoul-opengov/opengov/raw/master/expense_list2018/201804_expense_list.csv\n",
            "http://github.com/seoul-opengov/opengov/raw/master/expense_list2018/201805_expense_list.csv\n",
            "http://github.com/seoul-opengov/opengov/raw/master/expense_list2018/201806_expense_list.csv\n",
            "http://github.com/seoul-opengov/opengov/raw/master/expense_list2018/201807_expense_list.csv\n",
            "http://github.com/seoul-opengov/opengov/raw/master/expense_list2018/201808_expense_list.csv\n",
            "http://github.com/seoul-opengov/opengov/raw/master/expense_list2018/201809_expense_list.csv\n",
            "http://github.com/seoul-opengov/opengov/raw/master/expense_list2018/201810_expense_list.csv\n",
            "http://github.com/seoul-opengov/opengov/raw/master/expense_list2018/201811_expense_list.csv\n",
            "http://github.com/seoul-opengov/opengov/raw/master/expense_list2018/201812_expense_list.csv\n",
            "폴더(2019)를 생성합니다. 2019년 데이터의 다운로드를 시작합니다.\n",
            "http://github.com/seoul-opengov/opengov/raw/master/expense_list2019/201901_expense_list.csv\n",
            "http://github.com/seoul-opengov/opengov/raw/master/expense_list2019/201902_expense_list.csv\n",
            "http://github.com/seoul-opengov/opengov/raw/master/expense_list2019/201903_expense_list.csv\n",
            "http://github.com/seoul-opengov/opengov/raw/master/expense_list2019/201904_expense_list.csv\n",
            "http://github.com/seoul-opengov/opengov/raw/master/expense_list2019/201905_expense_list.csv\n",
            "http://github.com/seoul-opengov/opengov/raw/master/expense_list2019/201906_expense_list.csv\n",
            "http://github.com/seoul-opengov/opengov/raw/master/expense_list2019/201907_expense_list.csv\n",
            "http://github.com/seoul-opengov/opengov/raw/master/expense_list2019/201908_expense_list.csv\n",
            "http://github.com/seoul-opengov/opengov/raw/master/expense_list2019/201909_expense_list.csv\n",
            "http://github.com/seoul-opengov/opengov/raw/master/expense_list2019/201910_expense_list.csv\n",
            "http://github.com/seoul-opengov/opengov/raw/master/expense_list2019/201911_expense_list.csv\n",
            "http://github.com/seoul-opengov/opengov/raw/master/expense_list2019/201912_expense_list.csv\n",
            "폴더(2020)를 생성합니다. 2020년 데이터의 다운로드를 시작합니다.\n",
            "http://github.com/seoul-opengov/opengov/raw/master/expense_list2020/202001_expense_list.csv\n",
            "http://github.com/seoul-opengov/opengov/raw/master/expense_list2020/202002_expense_list.csv\n",
            "http://github.com/seoul-opengov/opengov/raw/master/expense_list2020/202003_expense_list.csv\n",
            "http://github.com/seoul-opengov/opengov/raw/master/expense_list2020/202004_expense_list.csv\n",
            "http://github.com/seoul-opengov/opengov/raw/master/expense_list2020/202005_expense_list.csv\n",
            "http://github.com/seoul-opengov/opengov/raw/master/expense_list2020/202006_expense_list.csv\n",
            "http://github.com/seoul-opengov/opengov/raw/master/expense_list2020/202007_expense_list.csv\n",
            "http://github.com/seoul-opengov/opengov/raw/master/expense_list2020/202008_expense_list.csv\n",
            "http://github.com/seoul-opengov/opengov/raw/master/expense_list2020/202009_expense_list.csv\n",
            "http://github.com/seoul-opengov/opengov/raw/master/expense_list2020/202010_expense_list.csv\n",
            "http://github.com/seoul-opengov/opengov/raw/master/expense_list2020/202011_expense_list.csv\n",
            "http://github.com/seoul-opengov/opengov/raw/master/expense_list2020/202012_expense_list.csv\n"
          ],
          "name": "stdout"
        }
      ]
    },
    {
      "cell_type": "markdown",
      "metadata": {
        "id": "rb0TsLzMv-xm"
      },
      "source": [
        "### 4) 다운로드 결과 확인"
      ]
    },
    {
      "cell_type": "code",
      "metadata": {
        "colab": {
          "base_uri": "https://localhost:8080/"
        },
        "id": "JCND0a6CvwWI",
        "outputId": "1a284328-b5a2-4dc3-d4c2-6f93cd408f40"
      },
      "source": [
        "! ls -l data_folder_*"
      ],
      "execution_count": 8,
      "outputs": [
        {
          "output_type": "stream",
          "text": [
            "data_folder_2017:\n",
            "total 27016\n",
            "-rw-r--r-- 1 root root 2101932 Feb 24 06:34 201701_expense_list.csv\n",
            "-rw-r--r-- 1 root root 2191463 Feb 24 06:34 201702_expense_list.csv\n",
            "-rw-r--r-- 1 root root 2320233 Feb 24 06:34 201703_expense_list.csv\n",
            "-rw-r--r-- 1 root root 2064545 Feb 24 06:34 201704_expense_list.csv\n",
            "-rw-r--r-- 1 root root 2072997 Feb 24 06:34 201705_expense_list.csv\n",
            "-rw-r--r-- 1 root root 2436396 Feb 24 06:34 201706_expense_list.csv\n",
            "-rw-r--r-- 1 root root 2274618 Feb 24 06:34 201707_expense_list.csv\n",
            "-rw-r--r-- 1 root root 2271758 Feb 24 06:34 201708_expense_list.csv\n",
            "-rw-r--r-- 1 root root 2297135 Feb 24 06:34 201709_expense_list.csv\n",
            "-rw-r--r-- 1 root root 2043312 Feb 24 06:34 201710_expense_list.csv\n",
            "-rw-r--r-- 1 root root 2600188 Feb 24 06:34 201711_expense_list.csv\n",
            "-rw-r--r-- 1 root root 2962735 Feb 24 06:34 201712_expense_list.csv\n",
            "\n",
            "data_folder_2018:\n",
            "total 28672\n",
            "-rw-r--r-- 1 root root 2384105 Feb 24 06:34 201801_expense_list.csv\n",
            "-rw-r--r-- 1 root root 2140712 Feb 24 06:34 201802_expense_list.csv\n",
            "-rw-r--r-- 1 root root 2341018 Feb 24 06:34 201803_expense_list.csv\n",
            "-rw-r--r-- 1 root root 2371427 Feb 24 06:34 201804_expense_list.csv\n",
            "-rw-r--r-- 1 root root 2174724 Feb 24 06:34 201805_expense_list.csv\n",
            "-rw-r--r-- 1 root root 2200840 Feb 24 06:34 201806_expense_list.csv\n",
            "-rw-r--r-- 1 root root 2523642 Feb 24 06:34 201807_expense_list.csv\n",
            "-rw-r--r-- 1 root root 2374994 Feb 24 06:34 201808_expense_list.csv\n",
            "-rw-r--r-- 1 root root 2127882 Feb 24 06:34 201809_expense_list.csv\n",
            "-rw-r--r-- 1 root root 2629462 Feb 24 06:34 201810_expense_list.csv\n",
            "-rw-r--r-- 1 root root 2912043 Feb 24 06:34 201811_expense_list.csv\n",
            "-rw-r--r-- 1 root root 3158601 Feb 24 06:34 201812_expense_list.csv\n",
            "\n",
            "data_folder_2019:\n",
            "total 30228\n",
            "-rw-r--r-- 1 root root 2567789 Feb 24 06:34 201901_expense_list.csv\n",
            "-rw-r--r-- 1 root root 2254140 Feb 24 06:34 201902_expense_list.csv\n",
            "-rw-r--r-- 1 root root 2491410 Feb 24 06:34 201903_expense_list.csv\n",
            "-rw-r--r-- 1 root root 2609914 Feb 24 06:34 201904_expense_list.csv\n",
            "-rw-r--r-- 1 root root 2396247 Feb 24 06:35 201905_expense_list.csv\n",
            "-rw-r--r-- 1 root root 2360821 Feb 24 06:35 201906_expense_list.csv\n",
            "-rw-r--r-- 1 root root 2716107 Feb 24 06:35 201907_expense_list.csv\n",
            "-rw-r--r-- 1 root root 2371337 Feb 24 06:35 201908_expense_list.csv\n",
            "-rw-r--r-- 1 root root 2366976 Feb 24 06:35 201909_expense_list.csv\n",
            "-rw-r--r-- 1 root root 2742090 Feb 24 06:35 201910_expense_list.csv\n",
            "-rw-r--r-- 1 root root 2747034 Feb 24 06:35 201911_expense_list.csv\n",
            "-rw-r--r-- 1 root root 3301721 Feb 24 06:35 201912_expense_list.csv\n",
            "\n",
            "data_folder_2020:\n",
            "total 29444\n",
            "-rw-r--r-- 1 root root 2240750 Feb 24 06:35 202001_expense_list.csv\n",
            "-rw-r--r-- 1 root root 2440714 Feb 24 06:35 202002_expense_list.csv\n",
            "-rw-r--r-- 1 root root 2404406 Feb 24 06:35 202003_expense_list.csv\n",
            "-rw-r--r-- 1 root root 2407241 Feb 24 06:35 202004_expense_list.csv\n",
            "-rw-r--r-- 1 root root 2383831 Feb 24 06:35 202005_expense_list.csv\n",
            "-rw-r--r-- 1 root root 2747443 Feb 24 06:35 202006_expense_list.csv\n",
            "-rw-r--r-- 1 root root 2786508 Feb 24 06:35 202007_expense_list.csv\n",
            "-rw-r--r-- 1 root root 2049454 Feb 24 06:35 202008_expense_list.csv\n",
            "-rw-r--r-- 1 root root 2294664 Feb 24 06:35 202009_expense_list.csv\n",
            "-rw-r--r-- 1 root root 2483833 Feb 24 06:35 202010_expense_list.csv\n",
            "-rw-r--r-- 1 root root 2682003 Feb 24 06:35 202011_expense_list.csv\n",
            "-rw-r--r-- 1 root root 3205390 Feb 24 06:35 202012_expense_list.csv\n"
          ],
          "name": "stdout"
        }
      ]
    },
    {
      "cell_type": "markdown",
      "metadata": {
        "id": "dbN_aEjowDQi"
      },
      "source": [
        "## 2. 데이터 전처리"
      ]
    },
    {
      "cell_type": "markdown",
      "metadata": {
        "id": "opjF5ftjwFBy"
      },
      "source": [
        "### 1) 파일 구조 및 정보 확인\n",
        "- 파일 한개 사용"
      ]
    },
    {
      "cell_type": "code",
      "metadata": {
        "colab": {
          "base_uri": "https://localhost:8080/"
        },
        "id": "YPoqtyyxwBq5",
        "outputId": "0c9ad657-276d-453d-e09f-9ced28c1782d"
      },
      "source": [
        "import pandas as pd\n",
        "\n",
        "df = pd.read_csv('data_folder_2017/201701_expense_list.csv')\n",
        "\n",
        "df.info()"
      ],
      "execution_count": 9,
      "outputs": [
        {
          "output_type": "stream",
          "text": [
            "<class 'pandas.core.frame.DataFrame'>\n",
            "RangeIndex: 5517 entries, 0 to 5516\n",
            "Data columns (total 20 columns):\n",
            " #   Column             Non-Null Count  Dtype  \n",
            "---  ------             --------------  -----  \n",
            " 0   nid                5517 non-null   int64  \n",
            " 1   title              5517 non-null   object \n",
            " 2   url                5517 non-null   object \n",
            " 3   dept_nm_lvl_1      5517 non-null   object \n",
            " 4   dept_nm_lvl_2      5517 non-null   object \n",
            " 5   dept_nm_lvl_3      4842 non-null   object \n",
            " 6   dept_nm_lvl_4      1350 non-null   object \n",
            " 7   dept_nm_lvl_5      252 non-null    object \n",
            " 8   exec_yr            5517 non-null   int64  \n",
            " 9   exec_month         5517 non-null   int64  \n",
            " 10  expense_budget     274 non-null    float64\n",
            " 11  expense_execution  202 non-null    float64\n",
            " 12  category           115 non-null    object \n",
            " 13  dept_nm_full       5517 non-null   object \n",
            " 14  exec_dt            5517 non-null   object \n",
            " 15  exec_loc           5467 non-null   object \n",
            " 16  exec_purpose       5516 non-null   object \n",
            " 17  target_nm          5486 non-null   object \n",
            " 18  payment_method     5514 non-null   object \n",
            " 19  exec_amount        5517 non-null   int64  \n",
            "dtypes: float64(2), int64(4), object(14)\n",
            "memory usage: 862.2+ KB\n"
          ],
          "name": "stdout"
        }
      ]
    },
    {
      "cell_type": "markdown",
      "metadata": {
        "id": "fAvF0ybrwSIL"
      },
      "source": [
        "### 2) 함수 정의\n",
        "- 열(Columns) 이름 확인"
      ]
    },
    {
      "cell_type": "code",
      "metadata": {
        "colab": {
          "base_uri": "https://localhost:8080/"
        },
        "id": "H-TWcCL4wMyh",
        "outputId": "ef57904e-f370-4689-b881-1e3d6ad167f6"
      },
      "source": [
        "df.columns"
      ],
      "execution_count": 10,
      "outputs": [
        {
          "output_type": "execute_result",
          "data": {
            "text/plain": [
              "Index(['nid', 'title', 'url', 'dept_nm_lvl_1', 'dept_nm_lvl_2',\n",
              "       'dept_nm_lvl_3', 'dept_nm_lvl_4', 'dept_nm_lvl_5', 'exec_yr',\n",
              "       'exec_month', 'expense_budget', 'expense_execution', 'category',\n",
              "       'dept_nm_full', 'exec_dt', 'exec_loc', 'exec_purpose', 'target_nm',\n",
              "       'payment_method', 'exec_amount'],\n",
              "      dtype='object')"
            ]
          },
          "metadata": {
            "tags": []
          },
          "execution_count": 10
        }
      ]
    },
    {
      "cell_type": "markdown",
      "metadata": {
        "id": "wqaxNpCwwbzo"
      },
      "source": [
        "- 열(Column) 이름 변경 함수"
      ]
    },
    {
      "cell_type": "code",
      "metadata": {
        "id": "9uqapgFzwY08"
      },
      "source": [
        "def change_csv_file_first_line_value(old_file_name, new_file_name) :\n",
        "\n",
        "  # 읽기 모드 열기\n",
        "  with open(old_file_name, encoding = 'utf-8') as f:\n",
        "    # 한줄씩 lines 리스트의 각 요소에 할당\n",
        "    lines = f.read().splitlines()\n",
        "\n",
        "  # 변경할 열(Column) 이름 지정\n",
        "    lines[0] = 'nid,제목,url,부서레벨1,부서레벨2,부서레벨3,부서레벨4,\\\n",
        "부서레벨5,집행연도,집행월,예산,집행,구분,부서명,\\\n",
        "집행일시,집행장소,집행목적,대상인원,결제방법,집행금액'\n",
        "    \n",
        "  # 쓰기 모드 열기\n",
        "  with open(new_file_name, 'w', encoding = 'utf-8') as f:  \n",
        "    # 리스트 각 요소 개행문자(\\n)로 연결해서 파일 저장\n",
        "    f.write('\\n'.join(lines))"
      ],
      "execution_count": 11,
      "outputs": []
    },
    {
      "cell_type": "markdown",
      "metadata": {
        "id": "1tMN2gz2xIYT"
      },
      "source": [
        "- '_new'추가한 새파일 저장 함수"
      ]
    },
    {
      "cell_type": "code",
      "metadata": {
        "id": "QiQzULGNxHXQ"
      },
      "source": [
        "# 인자: 연도, 데이터 파일이 있는 폴더\n",
        "def change_year_csv_file_first_line_value(year, data_folder): \n",
        "\n",
        "    # 파일 폴더 지정\n",
        "    expense_list_year_dir = data_folder + str(year) + '/'\n",
        "    \n",
        "    # 확장자 이름\n",
        "    extension = 'csv' \n",
        "    \n",
        "    # 지정한 폴더에 있는 월별 업무추진비 파일에서 첫 번째 줄의 열 이름을 변경 \n",
        "    for k in range(12):\n",
        "        # 기존 파일 이름\n",
        "        old_file_name = expense_list_year_dir + '{0}{1:02d}_expense_list.{2}'.format(year, k+1, extension) \n",
        "        \n",
        "        # 새파일 이름\n",
        "        new_file_name = expense_list_year_dir + '{0}{1:02d}_expense_list_new.{2}'.format(year, k+1, extension) \n",
        "  \n",
        "        # 열(Column) 이름 변경 함수\n",
        "        change_csv_file_first_line_value(old_file_name, new_file_name)"
      ],
      "execution_count": 12,
      "outputs": []
    },
    {
      "cell_type": "markdown",
      "metadata": {
        "id": "kvHU86qyxlBU"
      },
      "source": [
        "### 3) 함수 적용"
      ]
    },
    {
      "cell_type": "code",
      "metadata": {
        "colab": {
          "base_uri": "https://localhost:8080/"
        },
        "id": "bQfKTdRKxkAV",
        "outputId": "7362bf83-639a-4f22-9b0a-49753e0aa95c"
      },
      "source": [
        "data_folder = 'data_folder_'\n",
        "\n",
        "years = [2017, 2018, 2019, 2020]\n",
        "\n",
        "for year in years:\n",
        "    print(\"{}년 데이터의 첫 번째 줄의 열 이름을 변경해서 새 파일에 저장합니다.\".format(year))\n",
        "    change_year_csv_file_first_line_value(year, data_folder)\n",
        "\n",
        "print(\"모든 데이터의 첫 번째 줄의 열 이름을 변경해서 새 파일로 저장했습니다.\")"
      ],
      "execution_count": 13,
      "outputs": [
        {
          "output_type": "stream",
          "text": [
            "2017년 데이터의 첫 번째 줄의 열 이름을 변경해서 새 파일에 저장합니다.\n",
            "2018년 데이터의 첫 번째 줄의 열 이름을 변경해서 새 파일에 저장합니다.\n",
            "2019년 데이터의 첫 번째 줄의 열 이름을 변경해서 새 파일에 저장합니다.\n",
            "2020년 데이터의 첫 번째 줄의 열 이름을 변경해서 새 파일에 저장합니다.\n",
            "모든 데이터의 첫 번째 줄의 열 이름을 변경해서 새 파일로 저장했습니다.\n"
          ],
          "name": "stdout"
        }
      ]
    },
    {
      "cell_type": "code",
      "metadata": {
        "colab": {
          "base_uri": "https://localhost:8080/"
        },
        "id": "rjBRPHvzxs4L",
        "outputId": "11ba38cb-94ad-48c3-c6e8-e52709e59aac"
      },
      "source": [
        "! ls -l data_folder_*/*new.csv"
      ],
      "execution_count": 14,
      "outputs": [
        {
          "output_type": "stream",
          "text": [
            "-rw-r--r-- 1 root root 2101920 Feb 24 06:43 data_folder_2017/201701_expense_list_new.csv\n",
            "-rw-r--r-- 1 root root 2191451 Feb 24 06:43 data_folder_2017/201702_expense_list_new.csv\n",
            "-rw-r--r-- 1 root root 2320221 Feb 24 06:43 data_folder_2017/201703_expense_list_new.csv\n",
            "-rw-r--r-- 1 root root 2064533 Feb 24 06:43 data_folder_2017/201704_expense_list_new.csv\n",
            "-rw-r--r-- 1 root root 2072985 Feb 24 06:43 data_folder_2017/201705_expense_list_new.csv\n",
            "-rw-r--r-- 1 root root 2436384 Feb 24 06:43 data_folder_2017/201706_expense_list_new.csv\n",
            "-rw-r--r-- 1 root root 2274606 Feb 24 06:43 data_folder_2017/201707_expense_list_new.csv\n",
            "-rw-r--r-- 1 root root 2271746 Feb 24 06:43 data_folder_2017/201708_expense_list_new.csv\n",
            "-rw-r--r-- 1 root root 2297123 Feb 24 06:43 data_folder_2017/201709_expense_list_new.csv\n",
            "-rw-r--r-- 1 root root 2043300 Feb 24 06:43 data_folder_2017/201710_expense_list_new.csv\n",
            "-rw-r--r-- 1 root root 2600176 Feb 24 06:43 data_folder_2017/201711_expense_list_new.csv\n",
            "-rw-r--r-- 1 root root 2962723 Feb 24 06:43 data_folder_2017/201712_expense_list_new.csv\n",
            "-rw-r--r-- 1 root root 2384093 Feb 24 06:43 data_folder_2018/201801_expense_list_new.csv\n",
            "-rw-r--r-- 1 root root 2140700 Feb 24 06:43 data_folder_2018/201802_expense_list_new.csv\n",
            "-rw-r--r-- 1 root root 2341006 Feb 24 06:43 data_folder_2018/201803_expense_list_new.csv\n",
            "-rw-r--r-- 1 root root 2371415 Feb 24 06:43 data_folder_2018/201804_expense_list_new.csv\n",
            "-rw-r--r-- 1 root root 2174712 Feb 24 06:43 data_folder_2018/201805_expense_list_new.csv\n",
            "-rw-r--r-- 1 root root 2200828 Feb 24 06:43 data_folder_2018/201806_expense_list_new.csv\n",
            "-rw-r--r-- 1 root root 2523630 Feb 24 06:43 data_folder_2018/201807_expense_list_new.csv\n",
            "-rw-r--r-- 1 root root 2374982 Feb 24 06:43 data_folder_2018/201808_expense_list_new.csv\n",
            "-rw-r--r-- 1 root root 2127870 Feb 24 06:43 data_folder_2018/201809_expense_list_new.csv\n",
            "-rw-r--r-- 1 root root 2629450 Feb 24 06:43 data_folder_2018/201810_expense_list_new.csv\n",
            "-rw-r--r-- 1 root root 2912031 Feb 24 06:43 data_folder_2018/201811_expense_list_new.csv\n",
            "-rw-r--r-- 1 root root 3158589 Feb 24 06:43 data_folder_2018/201812_expense_list_new.csv\n",
            "-rw-r--r-- 1 root root 2567777 Feb 24 06:43 data_folder_2019/201901_expense_list_new.csv\n",
            "-rw-r--r-- 1 root root 2254128 Feb 24 06:43 data_folder_2019/201902_expense_list_new.csv\n",
            "-rw-r--r-- 1 root root 2491398 Feb 24 06:43 data_folder_2019/201903_expense_list_new.csv\n",
            "-rw-r--r-- 1 root root 2609902 Feb 24 06:43 data_folder_2019/201904_expense_list_new.csv\n",
            "-rw-r--r-- 1 root root 2396235 Feb 24 06:43 data_folder_2019/201905_expense_list_new.csv\n",
            "-rw-r--r-- 1 root root 2360809 Feb 24 06:43 data_folder_2019/201906_expense_list_new.csv\n",
            "-rw-r--r-- 1 root root 2716095 Feb 24 06:43 data_folder_2019/201907_expense_list_new.csv\n",
            "-rw-r--r-- 1 root root 2371325 Feb 24 06:43 data_folder_2019/201908_expense_list_new.csv\n",
            "-rw-r--r-- 1 root root 2366964 Feb 24 06:43 data_folder_2019/201909_expense_list_new.csv\n",
            "-rw-r--r-- 1 root root 2742078 Feb 24 06:43 data_folder_2019/201910_expense_list_new.csv\n",
            "-rw-r--r-- 1 root root 2747022 Feb 24 06:43 data_folder_2019/201911_expense_list_new.csv\n",
            "-rw-r--r-- 1 root root 3301709 Feb 24 06:43 data_folder_2019/201912_expense_list_new.csv\n",
            "-rw-r--r-- 1 root root 2240738 Feb 24 06:43 data_folder_2020/202001_expense_list_new.csv\n",
            "-rw-r--r-- 1 root root 2440702 Feb 24 06:43 data_folder_2020/202002_expense_list_new.csv\n",
            "-rw-r--r-- 1 root root 2404394 Feb 24 06:43 data_folder_2020/202003_expense_list_new.csv\n",
            "-rw-r--r-- 1 root root 2407229 Feb 24 06:43 data_folder_2020/202004_expense_list_new.csv\n",
            "-rw-r--r-- 1 root root 2383819 Feb 24 06:43 data_folder_2020/202005_expense_list_new.csv\n",
            "-rw-r--r-- 1 root root 2747431 Feb 24 06:43 data_folder_2020/202006_expense_list_new.csv\n",
            "-rw-r--r-- 1 root root 2786496 Feb 24 06:43 data_folder_2020/202007_expense_list_new.csv\n",
            "-rw-r--r-- 1 root root 2049442 Feb 24 06:43 data_folder_2020/202008_expense_list_new.csv\n",
            "-rw-r--r-- 1 root root 2294652 Feb 24 06:43 data_folder_2020/202009_expense_list_new.csv\n",
            "-rw-r--r-- 1 root root 2483821 Feb 24 06:43 data_folder_2020/202010_expense_list_new.csv\n",
            "-rw-r--r-- 1 root root 2681991 Feb 24 06:43 data_folder_2020/202011_expense_list_new.csv\n",
            "-rw-r--r-- 1 root root 3205378 Feb 24 06:43 data_folder_2020/202012_expense_list_new.csv\n"
          ],
          "name": "stdout"
        }
      ]
    },
    {
      "cell_type": "markdown",
      "metadata": {
        "id": "KmKmaFhgx1PJ"
      },
      "source": [
        "- 열(Column) 이름 변경 확인"
      ]
    },
    {
      "cell_type": "code",
      "metadata": {
        "colab": {
          "base_uri": "https://localhost:8080/"
        },
        "id": "XGx9rF65xyS3",
        "outputId": "eadf5dcc-b1ef-4078-b5e6-3dd36f34405d"
      },
      "source": [
        "df_new = pd.read_csv('data_folder_2017/201701_expense_list_new.csv')\n",
        "\n",
        "df.columns, df_new.columns"
      ],
      "execution_count": 15,
      "outputs": [
        {
          "output_type": "execute_result",
          "data": {
            "text/plain": [
              "(Index(['nid', 'title', 'url', 'dept_nm_lvl_1', 'dept_nm_lvl_2',\n",
              "        'dept_nm_lvl_3', 'dept_nm_lvl_4', 'dept_nm_lvl_5', 'exec_yr',\n",
              "        'exec_month', 'expense_budget', 'expense_execution', 'category',\n",
              "        'dept_nm_full', 'exec_dt', 'exec_loc', 'exec_purpose', 'target_nm',\n",
              "        'payment_method', 'exec_amount'],\n",
              "       dtype='object'),\n",
              " Index(['nid', '제목', 'url', '부서레벨1', '부서레벨2', '부서레벨3', '부서레벨4', '부서레벨5', '집행연도',\n",
              "        '집행월', '예산', '집행', '구분', '부서명', '집행일시', '집행장소', '집행목적', '대상인원', '결제방법',\n",
              "        '집행금액'],\n",
              "       dtype='object'))"
            ]
          },
          "metadata": {
            "tags": []
          },
          "execution_count": 15
        }
      ]
    },
    {
      "cell_type": "markdown",
      "metadata": {
        "id": "s4F-QikZx984"
      },
      "source": [
        "### 4) 결측치 확인\n",
        "- .info() 적용"
      ]
    },
    {
      "cell_type": "code",
      "metadata": {
        "colab": {
          "base_uri": "https://localhost:8080/"
        },
        "id": "FHa9G8Bux6lQ",
        "outputId": "3e968514-dcfb-41bf-da1f-797631f628e1"
      },
      "source": [
        "df_new.info()"
      ],
      "execution_count": 16,
      "outputs": [
        {
          "output_type": "stream",
          "text": [
            "<class 'pandas.core.frame.DataFrame'>\n",
            "RangeIndex: 5517 entries, 0 to 5516\n",
            "Data columns (total 20 columns):\n",
            " #   Column  Non-Null Count  Dtype  \n",
            "---  ------  --------------  -----  \n",
            " 0   nid     5517 non-null   int64  \n",
            " 1   제목      5517 non-null   object \n",
            " 2   url     5517 non-null   object \n",
            " 3   부서레벨1   5517 non-null   object \n",
            " 4   부서레벨2   5517 non-null   object \n",
            " 5   부서레벨3   4842 non-null   object \n",
            " 6   부서레벨4   1350 non-null   object \n",
            " 7   부서레벨5   252 non-null    object \n",
            " 8   집행연도    5517 non-null   int64  \n",
            " 9   집행월     5517 non-null   int64  \n",
            " 10  예산      274 non-null    float64\n",
            " 11  집행      202 non-null    float64\n",
            " 12  구분      115 non-null    object \n",
            " 13  부서명     5517 non-null   object \n",
            " 14  집행일시    5517 non-null   object \n",
            " 15  집행장소    5467 non-null   object \n",
            " 16  집행목적    5516 non-null   object \n",
            " 17  대상인원    5486 non-null   object \n",
            " 18  결제방법    5514 non-null   object \n",
            " 19  집행금액    5517 non-null   int64  \n",
            "dtypes: float64(2), int64(4), object(14)\n",
            "memory usage: 862.2+ KB\n"
          ],
          "name": "stdout"
        }
      ]
    },
    {
      "cell_type": "markdown",
      "metadata": {
        "id": "5stXUU21yGxL"
      },
      "source": [
        "- isna() 적용\n",
        "  - '부서레벨3', '부서레벨4', '부서레벨5', '예산', '집행', '구분'"
      ]
    },
    {
      "cell_type": "code",
      "metadata": {
        "colab": {
          "base_uri": "https://localhost:8080/"
        },
        "id": "oMxrzwJhyEfx",
        "outputId": "4ae9d975-b24c-4301-d278-50605a2226d0"
      },
      "source": [
        "df_new.isna().sum(axis = 0)"
      ],
      "execution_count": 17,
      "outputs": [
        {
          "output_type": "execute_result",
          "data": {
            "text/plain": [
              "nid         0\n",
              "제목          0\n",
              "url         0\n",
              "부서레벨1       0\n",
              "부서레벨2       0\n",
              "부서레벨3     675\n",
              "부서레벨4    4167\n",
              "부서레벨5    5265\n",
              "집행연도        0\n",
              "집행월         0\n",
              "예산       5243\n",
              "집행       5315\n",
              "구분       5402\n",
              "부서명         0\n",
              "집행일시        0\n",
              "집행장소       50\n",
              "집행목적        1\n",
              "대상인원       31\n",
              "결제방법        3\n",
              "집행금액        0\n",
              "dtype: int64"
            ]
          },
          "metadata": {
            "tags": []
          },
          "execution_count": 17
        }
      ]
    },
    {
      "cell_type": "markdown",
      "metadata": {
        "id": "f6kGaCoJyUPL"
      },
      "source": [
        "### 5) 연도별 파일 통합\n",
        "- 파일 통합 함수 정의"
      ]
    },
    {
      "cell_type": "code",
      "metadata": {
        "id": "HzNj2A7HyRSk"
      },
      "source": [
        "def select_columns_save_file(year, data_folder, drop_columns_list):\n",
        "    \n",
        "    expense_list_year_dir = data_folder + str(year) + '/'\n",
        "    expense_list_tidy_file = \"{}_expense_list_tidy.csv\".format(year)\n",
        "    df_year = pd.DataFrame()\n",
        "    \n",
        "    for k in range(12):\n",
        "        # 새파일 이름 지정\n",
        "        file_name = \"{0}{1:02d}_expense_list_new.csv\".format(year, k+1)\n",
        "        \n",
        "        # DtaFrame 형식으로 csv 데이터 불러오기\n",
        "        df_month = pd.read_csv(expense_list_year_dir + file_name)\n",
        "        \n",
        "        # df_month 새로 추가해서 df_year에 다시 할당\n",
        "        df_year = df_year.append(df_month, ignore_index = True)\n",
        "        \n",
        "    df_year_drop = df_year.drop(columns = drop_columns_list)\n",
        "    new_file_name = expense_list_year_dir + expense_list_tidy_file\n",
        "    df_year_drop.to_csv(new_file_name, index = False)\n",
        "    \n",
        "    print(\"==> {} 파일 생성\".format(expense_list_tidy_file))"
      ],
      "execution_count": 18,
      "outputs": []
    },
    {
      "cell_type": "markdown",
      "metadata": {
        "id": "AKlDNrNmygFi"
      },
      "source": [
        "- 함수 실행 옵션"
      ]
    },
    {
      "cell_type": "code",
      "metadata": {
        "id": "6MFGtujzyb84"
      },
      "source": [
        "data_folder = 'data_folder_'\n",
        "\n",
        "years = [2017, 2018, 2019, 2020]\n",
        "\n",
        "drop_columns_list = ['nid', 'url', '부서레벨3', '부서레벨4', '부서레벨5', '예산', '집행', '구분']"
      ],
      "execution_count": 19,
      "outputs": []
    },
    {
      "cell_type": "markdown",
      "metadata": {
        "id": "nsHnLNIRymoL"
      },
      "source": [
        "- 파일 통합 함수 실행"
      ]
    },
    {
      "cell_type": "code",
      "metadata": {
        "colab": {
          "base_uri": "https://localhost:8080/"
        },
        "id": "fLKgfgHiykv-",
        "outputId": "58050ac5-ffe4-4929-f491-48518ef0a68b"
      },
      "source": [
        "for year in years:\n",
        "    print(\"{}년 파일 통합중...\".format(year))\n",
        "    select_columns_save_file(year, data_folder, drop_columns_list)\n",
        "print(\"파일 통합 완료.\")"
      ],
      "execution_count": 20,
      "outputs": [
        {
          "output_type": "stream",
          "text": [
            "2017년 파일 통합중...\n",
            "==> 2017_expense_list_tidy.csv 파일 생성\n",
            "2018년 파일 통합중...\n",
            "==> 2018_expense_list_tidy.csv 파일 생성\n",
            "2019년 파일 통합중...\n",
            "==> 2019_expense_list_tidy.csv 파일 생성\n",
            "2020년 파일 통합중...\n",
            "==> 2020_expense_list_tidy.csv 파일 생성\n",
            "파일 통합 완료.\n"
          ],
          "name": "stdout"
        }
      ]
    },
    {
      "cell_type": "markdown",
      "metadata": {
        "id": "WB2BCnW1ysj-"
      },
      "source": [
        "- 생성된 통합 파일 확인"
      ]
    },
    {
      "cell_type": "code",
      "metadata": {
        "colab": {
          "base_uri": "https://localhost:8080/"
        },
        "id": "znqMKXYKyqpD",
        "outputId": "650c7363-5a6d-47da-8104-dcfabc2c345a"
      },
      "source": [
        "! ls -l data_folder_*/*tidy*"
      ],
      "execution_count": 21,
      "outputs": [
        {
          "output_type": "stream",
          "text": [
            "-rw-r--r-- 1 root root 21435432 Feb 24 06:47 data_folder_2017/2017_expense_list_tidy.csv\n",
            "-rw-r--r-- 1 root root 22940371 Feb 24 06:47 data_folder_2018/2018_expense_list_tidy.csv\n",
            "-rw-r--r-- 1 root root 24385017 Feb 24 06:47 data_folder_2019/2019_expense_list_tidy.csv\n",
            "-rw-r--r-- 1 root root 23985064 Feb 24 06:47 data_folder_2020/2020_expense_list_tidy.csv\n"
          ],
          "name": "stdout"
        }
      ]
    },
    {
      "cell_type": "markdown",
      "metadata": {
        "id": "IkuaPM8uyzx4"
      },
      "source": [
        "- 2017 통합 파일 정보"
      ]
    },
    {
      "cell_type": "code",
      "metadata": {
        "colab": {
          "base_uri": "https://localhost:8080/"
        },
        "id": "plu7fI_8yyVW",
        "outputId": "e5a4a156-6d2e-4e55-b5ea-41a7f48b35e0"
      },
      "source": [
        "df_2017 = pd.read_csv('data_folder_2017/2017_expense_list_tidy.csv')\n",
        "\n",
        "df_2017.info()"
      ],
      "execution_count": 22,
      "outputs": [
        {
          "output_type": "stream",
          "text": [
            "<class 'pandas.core.frame.DataFrame'>\n",
            "RangeIndex: 70132 entries, 0 to 70131\n",
            "Data columns (total 12 columns):\n",
            " #   Column  Non-Null Count  Dtype \n",
            "---  ------  --------------  ----- \n",
            " 0   제목      70132 non-null  object\n",
            " 1   부서레벨1   70132 non-null  object\n",
            " 2   부서레벨2   70074 non-null  object\n",
            " 3   집행연도    70132 non-null  int64 \n",
            " 4   집행월     70132 non-null  int64 \n",
            " 5   부서명     70053 non-null  object\n",
            " 6   집행일시    70132 non-null  object\n",
            " 7   집행장소    69360 non-null  object\n",
            " 8   집행목적    70110 non-null  object\n",
            " 9   대상인원    69597 non-null  object\n",
            " 10  결제방법    69929 non-null  object\n",
            " 11  집행금액    70132 non-null  int64 \n",
            "dtypes: int64(3), object(9)\n",
            "memory usage: 6.4+ MB\n"
          ],
          "name": "stdout"
        }
      ]
    },
    {
      "cell_type": "markdown",
      "metadata": {
        "id": "KgZB8uF2y4TZ"
      },
      "source": [
        "### 6) 전체 파일 통합\n",
        "- DataFrame: df_expense_all"
      ]
    },
    {
      "cell_type": "code",
      "metadata": {
        "id": "sYl7wItty2v0"
      },
      "source": [
        "import pandas as pd"
      ],
      "execution_count": 23,
      "outputs": []
    },
    {
      "cell_type": "code",
      "metadata": {
        "id": "eAS-UApSy-as"
      },
      "source": [
        "data_folder = 'data_folder_'\n",
        "\n",
        "years = [2017, 2018, 2019, 2020]\n",
        "\n",
        "df_expense_all = pd.DataFrame()\n",
        "\n",
        "\n",
        "for year in years:\n",
        "    expense_list_year_dir = data_folder + str(year) + '/'\n",
        "    expense_list_tidy_file = \"{}_expense_list_tidy.csv\".format(year)\n",
        "    \n",
        "    path_file_name = expense_list_year_dir + expense_list_tidy_file\n",
        "    \n",
        "    df_expense = pd.read_csv(path_file_name)\n",
        "    df_expense_all = df_expense_all.append(df_expense, ignore_index = True)"
      ],
      "execution_count": 24,
      "outputs": []
    },
    {
      "cell_type": "markdown",
      "metadata": {
        "id": "Zf8VDSy5zEkz"
      },
      "source": [
        "- 전체 통합 DataFrame 확인"
      ]
    },
    {
      "cell_type": "code",
      "metadata": {
        "colab": {
          "base_uri": "https://localhost:8080/"
        },
        "id": "mNTW1C2azDXt",
        "outputId": "8c9ec07d-6924-44d5-bfa9-8e2d247f49b9"
      },
      "source": [
        "df_expense_all.info()"
      ],
      "execution_count": 25,
      "outputs": [
        {
          "output_type": "stream",
          "text": [
            "<class 'pandas.core.frame.DataFrame'>\n",
            "RangeIndex: 286562 entries, 0 to 286561\n",
            "Data columns (total 12 columns):\n",
            " #   Column  Non-Null Count   Dtype \n",
            "---  ------  --------------   ----- \n",
            " 0   제목      286562 non-null  object\n",
            " 1   부서레벨1   286562 non-null  object\n",
            " 2   부서레벨2   286278 non-null  object\n",
            " 3   집행연도    286562 non-null  int64 \n",
            " 4   집행월     286562 non-null  int64 \n",
            " 5   부서명     286483 non-null  object\n",
            " 6   집행일시    286562 non-null  object\n",
            " 7   집행장소    283825 non-null  object\n",
            " 8   집행목적    286540 non-null  object\n",
            " 9   대상인원    285167 non-null  object\n",
            " 10  결제방법    286359 non-null  object\n",
            " 11  집행금액    286562 non-null  int64 \n",
            "dtypes: int64(3), object(9)\n",
            "memory usage: 26.2+ MB\n"
          ],
          "name": "stdout"
        }
      ]
    },
    {
      "cell_type": "code",
      "metadata": {
        "id": "qWoO8FDqzIV7"
      },
      "source": [
        "df_expense_all.to_csv('seoulExpense.csv')"
      ],
      "execution_count": 26,
      "outputs": []
    },
    {
      "cell_type": "markdown",
      "metadata": {
        "id": "GjBj0fpizPLq"
      },
      "source": [
        "## 3. 데이터 분석"
      ]
    },
    {
      "cell_type": "markdown",
      "metadata": {
        "id": "MkXfkj_nzRUJ"
      },
      "source": [
        "### 1) 연도별 집행횟수\n",
        "- 연도별.value_count()"
      ]
    },
    {
      "cell_type": "code",
      "metadata": {
        "colab": {
          "base_uri": "https://localhost:8080/"
        },
        "id": "deXGcZSszN1_",
        "outputId": "b614c1c7-02d2-4287-872a-be2a35a87033"
      },
      "source": [
        "year_trend = df_expense_all['집행연도'].value_counts()\n",
        "\n",
        "year_trend"
      ],
      "execution_count": 27,
      "outputs": [
        {
          "output_type": "execute_result",
          "data": {
            "text/plain": [
              "2019    74207\n",
              "2018    72218\n",
              "2017    70132\n",
              "2020    70005\n",
              "Name: 집행연도, dtype: int64"
            ]
          },
          "metadata": {
            "tags": []
          },
          "execution_count": 27
        }
      ]
    },
    {
      "cell_type": "markdown",
      "metadata": {
        "id": "7zaDcTBuzapQ"
      },
      "source": [
        "- 막대그래프 시각화"
      ]
    },
    {
      "cell_type": "code",
      "metadata": {
        "colab": {
          "base_uri": "https://localhost:8080/",
          "height": 457
        },
        "id": "NHo2QeaQzYn4",
        "outputId": "95687e5a-7140-436a-d585-d15d91ac317f"
      },
      "source": [
        "import matplotlib.pyplot as plt\n",
        "import matplotlib\n",
        "\n",
        "plt.figure(figsize = (10, 7))\n",
        "plt.bar(year_trend.index, year_trend.values, \n",
        "        tick_label = year_trend.index, \n",
        "        width = 0.5)\n",
        "plt.title(\"연도별 업무추진비 집행 횟수\")\n",
        "plt.xlabel(\"연도\")\n",
        "plt.ylabel(\"집행 횟수\")\n",
        "plt.show()"
      ],
      "execution_count": 28,
      "outputs": [
        {
          "output_type": "display_data",
          "data": {
            "image/png": "[encoded data removed]",
            "text/plain": [
              "<Figure size 720x504 with 1 Axes>"
            ]
          },
          "metadata": {
            "tags": [],
            "needs_background": "light"
          }
        }
      ]
    },
    {
      "cell_type": "markdown",
      "metadata": {
        "id": "zKdabTYyzgjm"
      },
      "source": [
        "### 2) 연도별 집행금액\n",
        "- 연도별.pibot_table()"
      ]
    },
    {
      "cell_type": "code",
      "metadata": {
        "colab": {
          "base_uri": "https://localhost:8080/",
          "height": 204
        },
        "id": "9wtB9OWSzeon",
        "outputId": "c9297013-4516-4346-edf5-6120d12132ac"
      },
      "source": [
        "year_total = pd.pivot_table(df_expense_all, \n",
        "                            index = ['집행연도'], \n",
        "                            values = ['집행금액'], \n",
        "                            aggfunc = sum)\n",
        "\n",
        "year_total"
      ],
      "execution_count": 29,
      "outputs": [
        {
          "output_type": "execute_result",
          "data": {
            "text/html": [
              "<div>\n",
              "<style scoped>\n",
              "    .dataframe tbody tr th:only-of-type {\n",
              "        vertical-align: middle;\n",
              "    }\n",
              "\n",
              "    .dataframe tbody tr th {\n",
              "        vertical-align: top;\n",
              "    }\n",
              "\n",
              "    .dataframe thead th {\n",
              "        text-align: right;\n",
              "    }\n",
              "</style>\n",
              "<table border=\"1\" class=\"dataframe\">\n",
              "  <thead>\n",
              "    <tr style=\"text-align: right;\">\n",
              "      <th></th>\n",
              "      <th>집행금액</th>\n",
              "    </tr>\n",
              "    <tr>\n",
              "      <th>집행연도</th>\n",
              "      <th></th>\n",
              "    </tr>\n",
              "  </thead>\n",
              "  <tbody>\n",
              "    <tr>\n",
              "      <th>2017</th>\n",
              "      <td>9076941387</td>\n",
              "    </tr>\n",
              "    <tr>\n",
              "      <th>2018</th>\n",
              "      <td>9937556542</td>\n",
              "    </tr>\n",
              "    <tr>\n",
              "      <th>2019</th>\n",
              "      <td>10532330632</td>\n",
              "    </tr>\n",
              "    <tr>\n",
              "      <th>2020</th>\n",
              "      <td>9569969608</td>\n",
              "    </tr>\n",
              "  </tbody>\n",
              "</table>\n",
              "</div>"
            ],
            "text/plain": [
              "             집행금액\n",
              "집행연도             \n",
              "2017   9076941387\n",
              "2018   9937556542\n",
              "2019  10532330632\n",
              "2020   9569969608"
            ]
          },
          "metadata": {
            "tags": []
          },
          "execution_count": 29
        }
      ]
    },
    {
      "cell_type": "markdown",
      "metadata": {
        "id": "5zBHGB2pzo3N"
      },
      "source": [
        "- 막대그래프 시각화"
      ]
    },
    {
      "cell_type": "code",
      "metadata": {
        "colab": {
          "base_uri": "https://localhost:8080/",
          "height": 451
        },
        "id": "xMqsxW7Yzngv",
        "outputId": "89143ca9-8e9a-411c-dd03-fa96b15cbbc2"
      },
      "source": [
        "(year_total/100000000).plot.bar(rot = 25, figsize = (10, 7))\n",
        "plt.ylabel('집행금액(억원)')\n",
        "plt.show()"
      ],
      "execution_count": 30,
      "outputs": [
        {
          "output_type": "display_data",
          "data": {
            "image/png": "[encoded data removed]",
            "text/plain": [
              "<Figure size 720x504 with 1 Axes>"
            ]
          },
          "metadata": {
            "tags": [],
            "needs_background": "light"
          }
        }
      ]
    },
    {
      "cell_type": "markdown",
      "metadata": {
        "id": "UJqBQyfXzulf"
      },
      "source": [
        "### 3) 월별 집행금액\n",
        "- 월별 .pivot_table()"
      ]
    },
    {
      "cell_type": "code",
      "metadata": {
        "colab": {
          "base_uri": "https://localhost:8080/",
          "height": 452
        },
        "id": "Jkz0i4CXzstv",
        "outputId": "1e1f40b2-1519-41a3-99b7-23b25bed6af0"
      },
      "source": [
        "month_total = pd.pivot_table(df_expense_all, \n",
        "                             index = ['집행월'], \n",
        "                             values = ['집행금액'], \n",
        "                             aggfunc = sum)\n",
        "\n",
        "month_total"
      ],
      "execution_count": 31,
      "outputs": [
        {
          "output_type": "execute_result",
          "data": {
            "text/html": [
              "<div>\n",
              "<style scoped>\n",
              "    .dataframe tbody tr th:only-of-type {\n",
              "        vertical-align: middle;\n",
              "    }\n",
              "\n",
              "    .dataframe tbody tr th {\n",
              "        vertical-align: top;\n",
              "    }\n",
              "\n",
              "    .dataframe thead th {\n",
              "        text-align: right;\n",
              "    }\n",
              "</style>\n",
              "<table border=\"1\" class=\"dataframe\">\n",
              "  <thead>\n",
              "    <tr style=\"text-align: right;\">\n",
              "      <th></th>\n",
              "      <th>집행금액</th>\n",
              "    </tr>\n",
              "    <tr>\n",
              "      <th>집행월</th>\n",
              "      <th></th>\n",
              "    </tr>\n",
              "  </thead>\n",
              "  <tbody>\n",
              "    <tr>\n",
              "      <th>1</th>\n",
              "      <td>3105200774</td>\n",
              "    </tr>\n",
              "    <tr>\n",
              "      <th>2</th>\n",
              "      <td>3009867115</td>\n",
              "    </tr>\n",
              "    <tr>\n",
              "      <th>3</th>\n",
              "      <td>2975144064</td>\n",
              "    </tr>\n",
              "    <tr>\n",
              "      <th>4</th>\n",
              "      <td>2904420469</td>\n",
              "    </tr>\n",
              "    <tr>\n",
              "      <th>5</th>\n",
              "      <td>2835444798</td>\n",
              "    </tr>\n",
              "    <tr>\n",
              "      <th>6</th>\n",
              "      <td>3135376077</td>\n",
              "    </tr>\n",
              "    <tr>\n",
              "      <th>7</th>\n",
              "      <td>3187708934</td>\n",
              "    </tr>\n",
              "    <tr>\n",
              "      <th>8</th>\n",
              "      <td>2741709260</td>\n",
              "    </tr>\n",
              "    <tr>\n",
              "      <th>9</th>\n",
              "      <td>3171985846</td>\n",
              "    </tr>\n",
              "    <tr>\n",
              "      <th>10</th>\n",
              "      <td>3066176636</td>\n",
              "    </tr>\n",
              "    <tr>\n",
              "      <th>11</th>\n",
              "      <td>3556998142</td>\n",
              "    </tr>\n",
              "    <tr>\n",
              "      <th>12</th>\n",
              "      <td>5426766054</td>\n",
              "    </tr>\n",
              "  </tbody>\n",
              "</table>\n",
              "</div>"
            ],
            "text/plain": [
              "           집행금액\n",
              "집행월            \n",
              "1    3105200774\n",
              "2    3009867115\n",
              "3    2975144064\n",
              "4    2904420469\n",
              "5    2835444798\n",
              "6    3135376077\n",
              "7    3187708934\n",
              "8    2741709260\n",
              "9    3171985846\n",
              "10   3066176636\n",
              "11   3556998142\n",
              "12   5426766054"
            ]
          },
          "metadata": {
            "tags": []
          },
          "execution_count": 31
        }
      ]
    },
    {
      "cell_type": "markdown",
      "metadata": {
        "id": "Jr4mGLTbz2C2"
      },
      "source": [
        "- 연별/월별 .pivot_table()"
      ]
    },
    {
      "cell_type": "code",
      "metadata": {
        "colab": {
          "base_uri": "https://localhost:8080/",
          "height": 483
        },
        "id": "Mgc8uSjvzzP1",
        "outputId": "c8a46e35-42bb-4170-84da-3683f5bd8b53"
      },
      "source": [
        "year_month_total = pd.pivot_table(df_expense_all, \n",
        "                                  index = ['집행월'], \n",
        "                                  columns = ['집행연도'], \n",
        "                                  values = ['집행금액'], \n",
        "                                  aggfunc = sum)\n",
        "\n",
        "year_month_total"
      ],
      "execution_count": 32,
      "outputs": [
        {
          "output_type": "execute_result",
          "data": {
            "text/html": [
              "<div>\n",
              "<style scoped>\n",
              "    .dataframe tbody tr th:only-of-type {\n",
              "        vertical-align: middle;\n",
              "    }\n",
              "\n",
              "    .dataframe tbody tr th {\n",
              "        vertical-align: top;\n",
              "    }\n",
              "\n",
              "    .dataframe thead tr th {\n",
              "        text-align: left;\n",
              "    }\n",
              "\n",
              "    .dataframe thead tr:last-of-type th {\n",
              "        text-align: right;\n",
              "    }\n",
              "</style>\n",
              "<table border=\"1\" class=\"dataframe\">\n",
              "  <thead>\n",
              "    <tr>\n",
              "      <th></th>\n",
              "      <th colspan=\"4\" halign=\"left\">집행금액</th>\n",
              "    </tr>\n",
              "    <tr>\n",
              "      <th>집행연도</th>\n",
              "      <th>2017</th>\n",
              "      <th>2018</th>\n",
              "      <th>2019</th>\n",
              "      <th>2020</th>\n",
              "    </tr>\n",
              "    <tr>\n",
              "      <th>집행월</th>\n",
              "      <th></th>\n",
              "      <th></th>\n",
              "      <th></th>\n",
              "      <th></th>\n",
              "    </tr>\n",
              "  </thead>\n",
              "  <tbody>\n",
              "    <tr>\n",
              "      <th>1</th>\n",
              "      <td>710368860</td>\n",
              "      <td>735587570</td>\n",
              "      <td>882512749</td>\n",
              "      <td>776731595</td>\n",
              "    </tr>\n",
              "    <tr>\n",
              "      <th>2</th>\n",
              "      <td>712679864</td>\n",
              "      <td>769360005</td>\n",
              "      <td>768931868</td>\n",
              "      <td>758895378</td>\n",
              "    </tr>\n",
              "    <tr>\n",
              "      <th>3</th>\n",
              "      <td>737250454</td>\n",
              "      <td>761059010</td>\n",
              "      <td>816280447</td>\n",
              "      <td>660554153</td>\n",
              "    </tr>\n",
              "    <tr>\n",
              "      <th>4</th>\n",
              "      <td>635265805</td>\n",
              "      <td>703781418</td>\n",
              "      <td>814657376</td>\n",
              "      <td>750715870</td>\n",
              "    </tr>\n",
              "    <tr>\n",
              "      <th>5</th>\n",
              "      <td>647582378</td>\n",
              "      <td>669044701</td>\n",
              "      <td>747256509</td>\n",
              "      <td>771561210</td>\n",
              "    </tr>\n",
              "    <tr>\n",
              "      <th>6</th>\n",
              "      <td>758257342</td>\n",
              "      <td>690652154</td>\n",
              "      <td>775945999</td>\n",
              "      <td>910520582</td>\n",
              "    </tr>\n",
              "    <tr>\n",
              "      <th>7</th>\n",
              "      <td>701604626</td>\n",
              "      <td>788926477</td>\n",
              "      <td>881725566</td>\n",
              "      <td>815452265</td>\n",
              "    </tr>\n",
              "    <tr>\n",
              "      <th>8</th>\n",
              "      <td>661174850</td>\n",
              "      <td>730290532</td>\n",
              "      <td>762251087</td>\n",
              "      <td>587992791</td>\n",
              "    </tr>\n",
              "    <tr>\n",
              "      <th>9</th>\n",
              "      <td>806170700</td>\n",
              "      <td>769404957</td>\n",
              "      <td>841641708</td>\n",
              "      <td>754768481</td>\n",
              "    </tr>\n",
              "    <tr>\n",
              "      <th>10</th>\n",
              "      <td>637219943</td>\n",
              "      <td>827022975</td>\n",
              "      <td>861865780</td>\n",
              "      <td>740067938</td>\n",
              "    </tr>\n",
              "    <tr>\n",
              "      <th>11</th>\n",
              "      <td>843619171</td>\n",
              "      <td>960310221</td>\n",
              "      <td>915992092</td>\n",
              "      <td>837076658</td>\n",
              "    </tr>\n",
              "    <tr>\n",
              "      <th>12</th>\n",
              "      <td>1225747394</td>\n",
              "      <td>1532116522</td>\n",
              "      <td>1463269451</td>\n",
              "      <td>1205632687</td>\n",
              "    </tr>\n",
              "  </tbody>\n",
              "</table>\n",
              "</div>"
            ],
            "text/plain": [
              "            집행금액                                    \n",
              "집행연도        2017        2018        2019        2020\n",
              "집행월                                                 \n",
              "1      710368860   735587570   882512749   776731595\n",
              "2      712679864   769360005   768931868   758895378\n",
              "3      737250454   761059010   816280447   660554153\n",
              "4      635265805   703781418   814657376   750715870\n",
              "5      647582378   669044701   747256509   771561210\n",
              "6      758257342   690652154   775945999   910520582\n",
              "7      701604626   788926477   881725566   815452265\n",
              "8      661174850   730290532   762251087   587992791\n",
              "9      806170700   769404957   841641708   754768481\n",
              "10     637219943   827022975   861865780   740067938\n",
              "11     843619171   960310221   915992092   837076658\n",
              "12    1225747394  1532116522  1463269451  1205632687"
            ]
          },
          "metadata": {
            "tags": []
          },
          "execution_count": 32
        }
      ]
    },
    {
      "cell_type": "markdown",
      "metadata": {
        "id": "eQv-jAH2z753"
      },
      "source": [
        "- 막대그래프 시각화"
      ]
    },
    {
      "cell_type": "code",
      "metadata": {
        "colab": {
          "base_uri": "https://localhost:8080/",
          "height": 457
        },
        "id": "R54_-zVUz50J",
        "outputId": "421a049e-3eb4-4796-f7eb-831447770ab2"
      },
      "source": [
        "(year_month_total/100000000).plot.bar(rot = 0, figsize = (10, 7))\n",
        "plt.ylabel('집행금액(억원)')\n",
        "plt.title(\"업무추진비의 월별 집행금액\")\n",
        "plt.legend(['2017년', '2018년', '2019년', '2020년'])\n",
        "plt.show()"
      ],
      "execution_count": 33,
      "outputs": [
        {
          "output_type": "display_data",
          "data": {
            "image/png": "[encoded data removed]",
            "text/plain": [
              "<Figure size 720x504 with 1 Axes>"
            ]
          },
          "metadata": {
            "tags": [],
            "needs_background": "light"
          }
        }
      ]
    },
    {
      "cell_type": "markdown",
      "metadata": {
        "id": "UqrBhJjG0B1_"
      },
      "source": [
        "### 4) 부서별 집행금액\n",
        "- 부서별_level1 .pivot_table()"
      ]
    },
    {
      "cell_type": "code",
      "metadata": {
        "colab": {
          "base_uri": "https://localhost:8080/",
          "height": 204
        },
        "id": "duB_LbX0z_0v",
        "outputId": "6ca66e55-7af9-470d-cb69-29c60b5b4582"
      },
      "source": [
        "dept_level1_total = pd.pivot_table(df_expense_all, \n",
        "                                   index = ['부서레벨1'], \n",
        "                                   values = ['집행금액'], \n",
        "                                   aggfunc = sum)\n",
        "\n",
        "dept_level1_total"
      ],
      "execution_count": 34,
      "outputs": [
        {
          "output_type": "execute_result",
          "data": {
            "text/html": [
              "<div>\n",
              "<style scoped>\n",
              "    .dataframe tbody tr th:only-of-type {\n",
              "        vertical-align: middle;\n",
              "    }\n",
              "\n",
              "    .dataframe tbody tr th {\n",
              "        vertical-align: top;\n",
              "    }\n",
              "\n",
              "    .dataframe thead th {\n",
              "        text-align: right;\n",
              "    }\n",
              "</style>\n",
              "<table border=\"1\" class=\"dataframe\">\n",
              "  <thead>\n",
              "    <tr style=\"text-align: right;\">\n",
              "      <th></th>\n",
              "      <th>집행금액</th>\n",
              "    </tr>\n",
              "    <tr>\n",
              "      <th>부서레벨1</th>\n",
              "      <th></th>\n",
              "    </tr>\n",
              "  </thead>\n",
              "  <tbody>\n",
              "    <tr>\n",
              "      <th>사업소</th>\n",
              "      <td>8818243192</td>\n",
              "    </tr>\n",
              "    <tr>\n",
              "      <th>서울시본청</th>\n",
              "      <td>21648914435</td>\n",
              "    </tr>\n",
              "    <tr>\n",
              "      <th>소방재난본부(소방서)</th>\n",
              "      <td>6895346543</td>\n",
              "    </tr>\n",
              "    <tr>\n",
              "      <th>의회사무처</th>\n",
              "      <td>1754293999</td>\n",
              "    </tr>\n",
              "  </tbody>\n",
              "</table>\n",
              "</div>"
            ],
            "text/plain": [
              "                    집행금액\n",
              "부서레벨1                   \n",
              "사업소           8818243192\n",
              "서울시본청        21648914435\n",
              "소방재난본부(소방서)   6895346543\n",
              "의회사무처         1754293999"
            ]
          },
          "metadata": {
            "tags": []
          },
          "execution_count": 34
        }
      ]
    },
    {
      "cell_type": "markdown",
      "metadata": {
        "id": "BvwIDqRE0Kg9"
      },
      "source": [
        "- 부서별_level2 .pivot_table()"
      ]
    },
    {
      "cell_type": "code",
      "metadata": {
        "colab": {
          "base_uri": "https://localhost:8080/",
          "height": 450
        },
        "id": "u4zCN5xZ0H72",
        "outputId": "96577986-bb2c-42dd-b3e4-1904eaccadaa"
      },
      "source": [
        "dept_level2_total = pd.pivot_table(df_expense_all, \n",
        "                                   index = ['부서레벨2'], \n",
        "                                   values = ['집행금액'], \n",
        "                                   aggfunc = sum)\n",
        "\n",
        "dept_level2_total"
      ],
      "execution_count": 35,
      "outputs": [
        {
          "output_type": "execute_result",
          "data": {
            "text/html": [
              "<div>\n",
              "<style scoped>\n",
              "    .dataframe tbody tr th:only-of-type {\n",
              "        vertical-align: middle;\n",
              "    }\n",
              "\n",
              "    .dataframe tbody tr th {\n",
              "        vertical-align: top;\n",
              "    }\n",
              "\n",
              "    .dataframe thead th {\n",
              "        text-align: right;\n",
              "    }\n",
              "</style>\n",
              "<table border=\"1\" class=\"dataframe\">\n",
              "  <thead>\n",
              "    <tr style=\"text-align: right;\">\n",
              "      <th></th>\n",
              "      <th>집행금액</th>\n",
              "    </tr>\n",
              "    <tr>\n",
              "      <th>부서레벨2</th>\n",
              "      <th></th>\n",
              "    </tr>\n",
              "  </thead>\n",
              "  <tbody>\n",
              "    <tr>\n",
              "      <th>119특수구조단</th>\n",
              "      <td>154656050</td>\n",
              "    </tr>\n",
              "    <tr>\n",
              "      <th>감사위원회</th>\n",
              "      <td>458681910</td>\n",
              "    </tr>\n",
              "    <tr>\n",
              "      <th>강남소방서</th>\n",
              "      <td>294361660</td>\n",
              "    </tr>\n",
              "    <tr>\n",
              "      <th>강동소방서</th>\n",
              "      <td>250082280</td>\n",
              "    </tr>\n",
              "    <tr>\n",
              "      <th>강북소방서</th>\n",
              "      <td>224225980</td>\n",
              "    </tr>\n",
              "    <tr>\n",
              "      <th>...</th>\n",
              "      <td>...</td>\n",
              "    </tr>\n",
              "    <tr>\n",
              "      <th>행정2부시장</th>\n",
              "      <td>571189418</td>\n",
              "    </tr>\n",
              "    <tr>\n",
              "      <th>행정국</th>\n",
              "      <td>1680607984</td>\n",
              "    </tr>\n",
              "    <tr>\n",
              "      <th>행정자치위원회</th>\n",
              "      <td>76298340</td>\n",
              "    </tr>\n",
              "    <tr>\n",
              "      <th>행정자치전문위원실</th>\n",
              "      <td>47113140</td>\n",
              "    </tr>\n",
              "    <tr>\n",
              "      <th>환경수자원전문위원실</th>\n",
              "      <td>35120310</td>\n",
              "    </tr>\n",
              "  </tbody>\n",
              "</table>\n",
              "<p>137 rows × 1 columns</p>\n",
              "</div>"
            ],
            "text/plain": [
              "                  집행금액\n",
              "부서레벨2                 \n",
              "119특수구조단     154656050\n",
              "감사위원회        458681910\n",
              "강남소방서        294361660\n",
              "강동소방서        250082280\n",
              "강북소방서        224225980\n",
              "...                ...\n",
              "행정2부시장       571189418\n",
              "행정국         1680607984\n",
              "행정자치위원회       76298340\n",
              "행정자치전문위원실     47113140\n",
              "환경수자원전문위원실    35120310\n",
              "\n",
              "[137 rows x 1 columns]"
            ]
          },
          "metadata": {
            "tags": []
          },
          "execution_count": 35
        }
      ]
    },
    {
      "cell_type": "markdown",
      "metadata": {
        "id": "3HdQuioW0bgA"
      },
      "source": [
        "- 집행금액별 오름차순 정렬"
      ]
    },
    {
      "cell_type": "code",
      "metadata": {
        "colab": {
          "base_uri": "https://localhost:8080/",
          "height": 390
        },
        "id": "nmRbEFfu0Roi",
        "outputId": "0221396f-559e-41a1-c44b-b074f43584bf"
      },
      "source": [
        "dept_level2_total_top10 = dept_level2_total.sort_values(by = ['집행금액'], ascending = False)[0:10]\n",
        "\n",
        "dept_level2_total_top10"
      ],
      "execution_count": 37,
      "outputs": [
        {
          "output_type": "execute_result",
          "data": {
            "text/html": [
              "<div>\n",
              "<style scoped>\n",
              "    .dataframe tbody tr th:only-of-type {\n",
              "        vertical-align: middle;\n",
              "    }\n",
              "\n",
              "    .dataframe tbody tr th {\n",
              "        vertical-align: top;\n",
              "    }\n",
              "\n",
              "    .dataframe thead th {\n",
              "        text-align: right;\n",
              "    }\n",
              "</style>\n",
              "<table border=\"1\" class=\"dataframe\">\n",
              "  <thead>\n",
              "    <tr style=\"text-align: right;\">\n",
              "      <th></th>\n",
              "      <th>집행금액</th>\n",
              "    </tr>\n",
              "    <tr>\n",
              "      <th>부서레벨2</th>\n",
              "      <th></th>\n",
              "    </tr>\n",
              "  </thead>\n",
              "  <tbody>\n",
              "    <tr>\n",
              "      <th>상수도사업본부</th>\n",
              "      <td>2847687268</td>\n",
              "    </tr>\n",
              "    <tr>\n",
              "      <th>기획조정실</th>\n",
              "      <td>2034746588</td>\n",
              "    </tr>\n",
              "    <tr>\n",
              "      <th>행정국</th>\n",
              "      <td>1680607984</td>\n",
              "    </tr>\n",
              "    <tr>\n",
              "      <th>시민소통기획관</th>\n",
              "      <td>1131749644</td>\n",
              "    </tr>\n",
              "    <tr>\n",
              "      <th>서울특별시장</th>\n",
              "      <td>1123172470</td>\n",
              "    </tr>\n",
              "    <tr>\n",
              "      <th>도시기반시설본부</th>\n",
              "      <td>809241594</td>\n",
              "    </tr>\n",
              "    <tr>\n",
              "      <th>정무부시장</th>\n",
              "      <td>752471802</td>\n",
              "    </tr>\n",
              "    <tr>\n",
              "      <th>행정1부시장</th>\n",
              "      <td>713975128</td>\n",
              "    </tr>\n",
              "    <tr>\n",
              "      <th>기후환경본부</th>\n",
              "      <td>675882042</td>\n",
              "    </tr>\n",
              "    <tr>\n",
              "      <th>문화본부</th>\n",
              "      <td>652555662</td>\n",
              "    </tr>\n",
              "  </tbody>\n",
              "</table>\n",
              "</div>"
            ],
            "text/plain": [
              "                집행금액\n",
              "부서레벨2               \n",
              "상수도사업본부   2847687268\n",
              "기획조정실     2034746588\n",
              "행정국       1680607984\n",
              "시민소통기획관   1131749644\n",
              "서울특별시장    1123172470\n",
              "도시기반시설본부   809241594\n",
              "정무부시장      752471802\n",
              "행정1부시장     713975128\n",
              "기후환경본부     675882042\n",
              "문화본부       652555662"
            ]
          },
          "metadata": {
            "tags": []
          },
          "execution_count": 37
        }
      ]
    },
    {
      "cell_type": "markdown",
      "metadata": {
        "id": "QR9bCa5I0g2R"
      },
      "source": [
        "- 막대그래프 시각화"
      ]
    },
    {
      "cell_type": "code",
      "metadata": {
        "colab": {
          "base_uri": "https://localhost:8080/",
          "height": 505
        },
        "id": "3o61VPdh0aZL",
        "outputId": "f80ddcb2-2035-4a36-f94b-904b7bc9bd43"
      },
      "source": [
        "(dept_level2_total_top10/100000000).plot.bar(rot = 45, figsize = (10, 7))\n",
        "plt.ylabel('집행금액(억원)')\n",
        "plt.title(\"업무추진비 집행금액이 높은 상위 10개 부서\")\n",
        "plt.show()"
      ],
      "execution_count": 38,
      "outputs": [
        {
          "output_type": "display_data",
          "data": {
            "image/png": "[encoded data removed]",
            "text/plain": [
              "<Figure size 720x504 with 1 Axes>"
            ]
          },
          "metadata": {
            "tags": [],
            "needs_background": "light"
          }
        }
      ]
    },
    {
      "cell_type": "markdown",
      "metadata": {
        "id": "soflxlff0n6y"
      },
      "source": [
        "- 워드클라우드 시각화"
      ]
    },
    {
      "cell_type": "code",
      "metadata": {
        "colab": {
          "base_uri": "https://localhost:8080/",
          "height": 520
        },
        "id": "jCDt8XAc0mSU",
        "outputId": "bf78382d-fc65-48f5-ef56-6ddc325cca56"
      },
      "source": [
        "from wordcloud import WordCloud\n",
        "\n",
        "korean_font_path = '/usr/share/fonts/truetype/nanum/NanumBarunGothic.ttf'\n",
        "\n",
        "wc = WordCloud(font_path = korean_font_path, \n",
        "               background_color='white',\n",
        "               width = 800, height = 600)\n",
        "\n",
        "frequencies = dept_level2_total['집행금액']\n",
        "\n",
        "wordcloud_image = wc.generate_from_frequencies(frequencies)\n",
        "\n",
        "plt.figure(figsize=(14, 9))\n",
        "plt.axis('off')\n",
        "plt.imshow(wordcloud_image, interpolation = 'bilinear')\n",
        "plt.show()"
      ],
      "execution_count": 39,
      "outputs": [
        {
          "output_type": "display_data",
          "data": {
            "image/png": "[encoded data removed]",
            "text/plain": [
              "<Figure size 1008x648 with 1 Axes>"
            ]
          },
          "metadata": {
            "tags": [],
            "needs_background": "light"
          }
        }
      ]
    },
    {
      "cell_type": "markdown",
      "metadata": {
        "id": "qghqo6NF03Qo"
      },
      "source": [
        "### 5) 요일별 집행횟수\n",
        "- 시간정보 확인"
      ]
    },
    {
      "cell_type": "code",
      "metadata": {
        "colab": {
          "base_uri": "https://localhost:8080/"
        },
        "id": "STeuozr90tI6",
        "outputId": "2474556a-c974-41f2-98f3-21f9c7ec52a3"
      },
      "source": [
        "df_expense_all['집행일시'].values"
      ],
      "execution_count": 40,
      "outputs": [
        {
          "output_type": "execute_result",
          "data": {
            "text/plain": [
              "array(['2017-01-26 13:10', '2017-01-25 22:41', '2017-01-24 12:35', ...,\n",
              "       '2020-12-09 14:09', '2020-12-04 11:46', '2020-12-04 13:00'],\n",
              "      dtype=object)"
            ]
          },
          "metadata": {
            "tags": []
          },
          "execution_count": 40
        }
      ]
    },
    {
      "cell_type": "markdown",
      "metadata": {
        "id": "zDeSDzUT0-pB"
      },
      "source": [
        "- pd.to_datetime() 변환"
      ]
    },
    {
      "cell_type": "code",
      "metadata": {
        "colab": {
          "base_uri": "https://localhost:8080/"
        },
        "id": "QTSmKXJ109Ci",
        "outputId": "7064f1e5-6511-40fa-f098-d58189a908ed"
      },
      "source": [
        "expense_date_time = pd.to_datetime(df_expense_all['집행일시'])\n",
        "\n",
        "expense_date_time.values"
      ],
      "execution_count": 41,
      "outputs": [
        {
          "output_type": "execute_result",
          "data": {
            "text/plain": [
              "array(['2017-01-26T13:10:00.000000000', '2017-01-25T22:41:00.000000000',\n",
              "       '2017-01-24T12:35:00.000000000', ...,\n",
              "       '2020-12-09T14:09:00.000000000', '2020-12-04T11:46:00.000000000',\n",
              "       '2020-12-04T13:00:00.000000000'], dtype='datetime64[ns]')"
            ]
          },
          "metadata": {
            "tags": []
          },
          "execution_count": 41
        }
      ]
    },
    {
      "cell_type": "markdown",
      "metadata": {
        "id": "84Vs8x9F1EiX"
      },
      "source": [
        "- '집행일시_요일' 행(Column) 추가\n",
        "  - dt.weekday: 날짜를 요일로 변환"
      ]
    },
    {
      "cell_type": "code",
      "metadata": {
        "id": "a2849azM1DUt"
      },
      "source": [
        "week_day_name = ['월', '화', '수', '목', '금', '토', '일']\n",
        "\n",
        "df_expense_all['집행일시_요일'] = [week_day_name[weekday] for weekday in expense_date_time.dt.weekday]"
      ],
      "execution_count": 42,
      "outputs": []
    },
    {
      "cell_type": "markdown",
      "metadata": {
        "id": "IpOTf7QU1NCv"
      },
      "source": [
        "- 추가 정보 확인"
      ]
    },
    {
      "cell_type": "code",
      "metadata": {
        "colab": {
          "base_uri": "https://localhost:8080/",
          "height": 646
        },
        "id": "nGIHZiDM1MbW",
        "outputId": "d1b58d7a-ca1b-4121-f663-17056f1e9166"
      },
      "source": [
        "df_expense_all.head()"
      ],
      "execution_count": 43,
      "outputs": [
        {
          "output_type": "execute_result",
          "data": {
            "text/html": [
              "<div>\n",
              "<style scoped>\n",
              "    .dataframe tbody tr th:only-of-type {\n",
              "        vertical-align: middle;\n",
              "    }\n",
              "\n",
              "    .dataframe tbody tr th {\n",
              "        vertical-align: top;\n",
              "    }\n",
              "\n",
              "    .dataframe thead th {\n",
              "        text-align: right;\n",
              "    }\n",
              "</style>\n",
              "<table border=\"1\" class=\"dataframe\">\n",
              "  <thead>\n",
              "    <tr style=\"text-align: right;\">\n",
              "      <th></th>\n",
              "      <th>제목</th>\n",
              "      <th>부서레벨1</th>\n",
              "      <th>부서레벨2</th>\n",
              "      <th>집행연도</th>\n",
              "      <th>집행월</th>\n",
              "      <th>부서명</th>\n",
              "      <th>집행일시</th>\n",
              "      <th>집행장소</th>\n",
              "      <th>집행목적</th>\n",
              "      <th>대상인원</th>\n",
              "      <th>결제방법</th>\n",
              "      <th>집행금액</th>\n",
              "      <th>집행일시_요일</th>\n",
              "    </tr>\n",
              "  </thead>\n",
              "  <tbody>\n",
              "    <tr>\n",
              "      <th>0</th>\n",
              "      <td>2017년 1월 장애인복지정책과 업무추진비 집행내역</td>\n",
              "      <td>서울시본청</td>\n",
              "      <td>복지본부</td>\n",
              "      <td>2017</td>\n",
              "      <td>1</td>\n",
              "      <td>복지본부 장애인복지정책과</td>\n",
              "      <td>2017-01-26 13:10</td>\n",
              "      <td>동해일식 (중구 무교동)</td>\n",
              "      <td>기본소득과 장애인복지 논의간담회</td>\n",
              "      <td>장애인복지정책팀장 외 2명</td>\n",
              "      <td>카드</td>\n",
              "      <td>76000</td>\n",
              "      <td>목</td>\n",
              "    </tr>\n",
              "    <tr>\n",
              "      <th>1</th>\n",
              "      <td>2017년 1월 장애인복지정책과 업무추진비 집행내역</td>\n",
              "      <td>서울시본청</td>\n",
              "      <td>복지본부</td>\n",
              "      <td>2017</td>\n",
              "      <td>1</td>\n",
              "      <td>복지본부 장애인복지정책과</td>\n",
              "      <td>2017-01-25 22:41</td>\n",
              "      <td>김앤장 (중구 무교로)</td>\n",
              "      <td>장애인단체 활동지원 논의간담회</td>\n",
              "      <td>장애인복지정책과장 외 3명</td>\n",
              "      <td>카드</td>\n",
              "      <td>102000</td>\n",
              "      <td>수</td>\n",
              "    </tr>\n",
              "    <tr>\n",
              "      <th>2</th>\n",
              "      <td>2017년 1월 장애인복지정책과 업무추진비 집행내역</td>\n",
              "      <td>서울시본청</td>\n",
              "      <td>복지본부</td>\n",
              "      <td>2017</td>\n",
              "      <td>1</td>\n",
              "      <td>복지본부 장애인복지정책과</td>\n",
              "      <td>2017-01-24 12:35</td>\n",
              "      <td>왕왕생고기 (중구 을지로)</td>\n",
              "      <td>장애인 기본돌봄 복지시책 논의간담회</td>\n",
              "      <td>장애인복지정책팀장외7명</td>\n",
              "      <td>카드</td>\n",
              "      <td>80000</td>\n",
              "      <td>화</td>\n",
              "    </tr>\n",
              "    <tr>\n",
              "      <th>3</th>\n",
              "      <td>2017년 1월 장애인복지정책과 업무추진비 집행내역</td>\n",
              "      <td>서울시본청</td>\n",
              "      <td>복지본부</td>\n",
              "      <td>2017</td>\n",
              "      <td>1</td>\n",
              "      <td>복지본부 장애인복지정책과</td>\n",
              "      <td>2017-01-24 12:23</td>\n",
              "      <td>서울불고기 (중구 남대문로)</td>\n",
              "      <td>서울시일자리통합지원센터 운영개선 논의간담회</td>\n",
              "      <td>장애인복지정책과장외5명</td>\n",
              "      <td>카드</td>\n",
              "      <td>112000</td>\n",
              "      <td>화</td>\n",
              "    </tr>\n",
              "    <tr>\n",
              "      <th>4</th>\n",
              "      <td>2017년 1월 장애인복지정책과 업무추진비 집행내역</td>\n",
              "      <td>서울시본청</td>\n",
              "      <td>복지본부</td>\n",
              "      <td>2017</td>\n",
              "      <td>1</td>\n",
              "      <td>복지본부 장애인복지정책과</td>\n",
              "      <td>2017-01-23 15:10</td>\n",
              "      <td>서울시청신매점</td>\n",
              "      <td>부서운영에 필요한 음료수 구매</td>\n",
              "      <td>장애인복지정책과직원</td>\n",
              "      <td>카드</td>\n",
              "      <td>16000</td>\n",
              "      <td>월</td>\n",
              "    </tr>\n",
              "  </tbody>\n",
              "</table>\n",
              "</div>"
            ],
            "text/plain": [
              "                             제목  부서레벨1 부서레벨2  ...  결제방법    집행금액 집행일시_요일\n",
              "0  2017년 1월 장애인복지정책과 업무추진비 집행내역  서울시본청  복지본부  ...    카드   76000       목\n",
              "1  2017년 1월 장애인복지정책과 업무추진비 집행내역  서울시본청  복지본부  ...    카드  102000       수\n",
              "2  2017년 1월 장애인복지정책과 업무추진비 집행내역  서울시본청  복지본부  ...    카드   80000       화\n",
              "3  2017년 1월 장애인복지정책과 업무추진비 집행내역  서울시본청  복지본부  ...    카드  112000       화\n",
              "4  2017년 1월 장애인복지정책과 업무추진비 집행내역  서울시본청  복지본부  ...    카드   16000       월\n",
              "\n",
              "[5 rows x 13 columns]"
            ]
          },
          "metadata": {
            "tags": []
          },
          "execution_count": 43
        }
      ]
    },
    {
      "cell_type": "markdown",
      "metadata": {
        "id": "H80GH4lD1SKl"
      },
      "source": [
        "- 요일별 집행횟수 확인"
      ]
    },
    {
      "cell_type": "code",
      "metadata": {
        "colab": {
          "base_uri": "https://localhost:8080/"
        },
        "id": "bjd0L9PY1QGs",
        "outputId": "6bca997f-d644-4b0d-8701-daf74876f9db"
      },
      "source": [
        "expense_weekday = df_expense_all['집행일시_요일'].value_counts()\n",
        "\n",
        "expense_weekday"
      ],
      "execution_count": 44,
      "outputs": [
        {
          "output_type": "execute_result",
          "data": {
            "text/plain": [
              "목    60200\n",
              "화    58635\n",
              "수    56680\n",
              "금    53593\n",
              "월    52568\n",
              "토     2751\n",
              "일     2135\n",
              "Name: 집행일시_요일, dtype: int64"
            ]
          },
          "metadata": {
            "tags": []
          },
          "execution_count": 44
        }
      ]
    },
    {
      "cell_type": "markdown",
      "metadata": {
        "id": "I6OCAYIu1X25"
      },
      "source": [
        "- 요일순 정렬: .reindex()"
      ]
    },
    {
      "cell_type": "code",
      "metadata": {
        "colab": {
          "base_uri": "https://localhost:8080/"
        },
        "id": "jLZc189M1V5H",
        "outputId": "a8fdeb5a-aebd-419a-8552-a393cf5527bc"
      },
      "source": [
        "expense_weekday = expense_weekday.reindex(index = week_day_name)\n",
        "\n",
        "expense_weekday"
      ],
      "execution_count": 45,
      "outputs": [
        {
          "output_type": "execute_result",
          "data": {
            "text/plain": [
              "월    52568\n",
              "화    58635\n",
              "수    56680\n",
              "목    60200\n",
              "금    53593\n",
              "토     2751\n",
              "일     2135\n",
              "Name: 집행일시_요일, dtype: int64"
            ]
          },
          "metadata": {
            "tags": []
          },
          "execution_count": 45
        }
      ]
    },
    {
      "cell_type": "markdown",
      "metadata": {
        "id": "QUfwCYTg1dpW"
      },
      "source": [
        "- 막대그래프 시각화"
      ]
    },
    {
      "cell_type": "code",
      "metadata": {
        "colab": {
          "base_uri": "https://localhost:8080/",
          "height": 457
        },
        "id": "0SVqXud81cB1",
        "outputId": "e807ab2a-07d2-4fea-d511-6cf2b8364577"
      },
      "source": [
        "expense_weekday.plot.bar(rot = 0, figsize = (10, 7))\n",
        "plt.title(\"요일별 업무추진비 집행 횟수\")\n",
        "plt.xlabel(\"요일\")\n",
        "plt.ylabel(\"집행 횟수\")\n",
        "plt.show()"
      ],
      "execution_count": 46,
      "outputs": [
        {
          "output_type": "display_data",
          "data": {
            "image/png": "[encoded data removed]",
            "text/plain": [
              "<Figure size 720x504 with 1 Axes>"
            ]
          },
          "metadata": {
            "tags": [],
            "needs_background": "light"
          }
        }
      ]
    },
    {
      "cell_type": "markdown",
      "metadata": {
        "id": "kWSVLKRZ1h1V"
      },
      "source": [
        "### 6) 시간별 집행횟수\n",
        "- '집행일시_시간' 행(Column) 추가\n",
        "  - dt.hour : 날짜를 시간으로 변환"
      ]
    },
    {
      "cell_type": "code",
      "metadata": {
        "id": "GNBajSkX1gqm"
      },
      "source": [
        "df_expense_all['집행일시_시간'] = [hour for hour in expense_date_time.dt.hour]"
      ],
      "execution_count": 48,
      "outputs": []
    },
    {
      "cell_type": "markdown",
      "metadata": {
        "id": "dN__oJYf1ua7"
      },
      "source": [
        "- 추가정보 확인"
      ]
    },
    {
      "cell_type": "code",
      "metadata": {
        "colab": {
          "base_uri": "https://localhost:8080/",
          "height": 646
        },
        "id": "I0zWmB4s1q2A",
        "outputId": "b08f64c1-e3f2-4350-da57-52ab3f55550f"
      },
      "source": [
        "df_expense_all.head()"
      ],
      "execution_count": 49,
      "outputs": [
        {
          "output_type": "execute_result",
          "data": {
            "text/html": [
              "<div>\n",
              "<style scoped>\n",
              "    .dataframe tbody tr th:only-of-type {\n",
              "        vertical-align: middle;\n",
              "    }\n",
              "\n",
              "    .dataframe tbody tr th {\n",
              "        vertical-align: top;\n",
              "    }\n",
              "\n",
              "    .dataframe thead th {\n",
              "        text-align: right;\n",
              "    }\n",
              "</style>\n",
              "<table border=\"1\" class=\"dataframe\">\n",
              "  <thead>\n",
              "    <tr style=\"text-align: right;\">\n",
              "      <th></th>\n",
              "      <th>제목</th>\n",
              "      <th>부서레벨1</th>\n",
              "      <th>부서레벨2</th>\n",
              "      <th>집행연도</th>\n",
              "      <th>집행월</th>\n",
              "      <th>부서명</th>\n",
              "      <th>집행일시</th>\n",
              "      <th>집행장소</th>\n",
              "      <th>집행목적</th>\n",
              "      <th>대상인원</th>\n",
              "      <th>결제방법</th>\n",
              "      <th>집행금액</th>\n",
              "      <th>집행일시_요일</th>\n",
              "      <th>집행일시_시간</th>\n",
              "    </tr>\n",
              "  </thead>\n",
              "  <tbody>\n",
              "    <tr>\n",
              "      <th>0</th>\n",
              "      <td>2017년 1월 장애인복지정책과 업무추진비 집행내역</td>\n",
              "      <td>서울시본청</td>\n",
              "      <td>복지본부</td>\n",
              "      <td>2017</td>\n",
              "      <td>1</td>\n",
              "      <td>복지본부 장애인복지정책과</td>\n",
              "      <td>2017-01-26 13:10</td>\n",
              "      <td>동해일식 (중구 무교동)</td>\n",
              "      <td>기본소득과 장애인복지 논의간담회</td>\n",
              "      <td>장애인복지정책팀장 외 2명</td>\n",
              "      <td>카드</td>\n",
              "      <td>76000</td>\n",
              "      <td>목</td>\n",
              "      <td>13</td>\n",
              "    </tr>\n",
              "    <tr>\n",
              "      <th>1</th>\n",
              "      <td>2017년 1월 장애인복지정책과 업무추진비 집행내역</td>\n",
              "      <td>서울시본청</td>\n",
              "      <td>복지본부</td>\n",
              "      <td>2017</td>\n",
              "      <td>1</td>\n",
              "      <td>복지본부 장애인복지정책과</td>\n",
              "      <td>2017-01-25 22:41</td>\n",
              "      <td>김앤장 (중구 무교로)</td>\n",
              "      <td>장애인단체 활동지원 논의간담회</td>\n",
              "      <td>장애인복지정책과장 외 3명</td>\n",
              "      <td>카드</td>\n",
              "      <td>102000</td>\n",
              "      <td>수</td>\n",
              "      <td>22</td>\n",
              "    </tr>\n",
              "    <tr>\n",
              "      <th>2</th>\n",
              "      <td>2017년 1월 장애인복지정책과 업무추진비 집행내역</td>\n",
              "      <td>서울시본청</td>\n",
              "      <td>복지본부</td>\n",
              "      <td>2017</td>\n",
              "      <td>1</td>\n",
              "      <td>복지본부 장애인복지정책과</td>\n",
              "      <td>2017-01-24 12:35</td>\n",
              "      <td>왕왕생고기 (중구 을지로)</td>\n",
              "      <td>장애인 기본돌봄 복지시책 논의간담회</td>\n",
              "      <td>장애인복지정책팀장외7명</td>\n",
              "      <td>카드</td>\n",
              "      <td>80000</td>\n",
              "      <td>화</td>\n",
              "      <td>12</td>\n",
              "    </tr>\n",
              "    <tr>\n",
              "      <th>3</th>\n",
              "      <td>2017년 1월 장애인복지정책과 업무추진비 집행내역</td>\n",
              "      <td>서울시본청</td>\n",
              "      <td>복지본부</td>\n",
              "      <td>2017</td>\n",
              "      <td>1</td>\n",
              "      <td>복지본부 장애인복지정책과</td>\n",
              "      <td>2017-01-24 12:23</td>\n",
              "      <td>서울불고기 (중구 남대문로)</td>\n",
              "      <td>서울시일자리통합지원센터 운영개선 논의간담회</td>\n",
              "      <td>장애인복지정책과장외5명</td>\n",
              "      <td>카드</td>\n",
              "      <td>112000</td>\n",
              "      <td>화</td>\n",
              "      <td>12</td>\n",
              "    </tr>\n",
              "    <tr>\n",
              "      <th>4</th>\n",
              "      <td>2017년 1월 장애인복지정책과 업무추진비 집행내역</td>\n",
              "      <td>서울시본청</td>\n",
              "      <td>복지본부</td>\n",
              "      <td>2017</td>\n",
              "      <td>1</td>\n",
              "      <td>복지본부 장애인복지정책과</td>\n",
              "      <td>2017-01-23 15:10</td>\n",
              "      <td>서울시청신매점</td>\n",
              "      <td>부서운영에 필요한 음료수 구매</td>\n",
              "      <td>장애인복지정책과직원</td>\n",
              "      <td>카드</td>\n",
              "      <td>16000</td>\n",
              "      <td>월</td>\n",
              "      <td>15</td>\n",
              "    </tr>\n",
              "  </tbody>\n",
              "</table>\n",
              "</div>"
            ],
            "text/plain": [
              "                             제목  부서레벨1 부서레벨2  ...    집행금액  집행일시_요일 집행일시_시간\n",
              "0  2017년 1월 장애인복지정책과 업무추진비 집행내역  서울시본청  복지본부  ...   76000        목      13\n",
              "1  2017년 1월 장애인복지정책과 업무추진비 집행내역  서울시본청  복지본부  ...  102000        수      22\n",
              "2  2017년 1월 장애인복지정책과 업무추진비 집행내역  서울시본청  복지본부  ...   80000        화      12\n",
              "3  2017년 1월 장애인복지정책과 업무추진비 집행내역  서울시본청  복지본부  ...  112000        화      12\n",
              "4  2017년 1월 장애인복지정책과 업무추진비 집행내역  서울시본청  복지본부  ...   16000        월      15\n",
              "\n",
              "[5 rows x 14 columns]"
            ]
          },
          "metadata": {
            "tags": []
          },
          "execution_count": 49
        }
      ]
    },
    {
      "cell_type": "markdown",
      "metadata": {
        "id": "QFFXmgp81y4l"
      },
      "source": [
        "- 시간별 집행횟수 확인"
      ]
    },
    {
      "cell_type": "code",
      "metadata": {
        "colab": {
          "base_uri": "https://localhost:8080/"
        },
        "id": "oGD9gEZR1xSV",
        "outputId": "9c1f35fc-f20d-466e-e051-7175fa3942ef"
      },
      "source": [
        "expense_hour_num = df_expense_all['집행일시_시간'].value_counts()\n",
        "\n",
        "expense_hour_num"
      ],
      "execution_count": 50,
      "outputs": [
        {
          "output_type": "execute_result",
          "data": {
            "text/plain": [
              "12    118219\n",
              "20     28600\n",
              "13     27510\n",
              "19     20646\n",
              "21     15052\n",
              "11     12411\n",
              "14     11671\n",
              "15      9934\n",
              "10      7941\n",
              "18      7450\n",
              "16      6940\n",
              "0       6277\n",
              "9       4984\n",
              "17      3934\n",
              "22      3039\n",
              "8       1132\n",
              "7        477\n",
              "23       144\n",
              "6         52\n",
              "1         52\n",
              "3         29\n",
              "4         27\n",
              "5         21\n",
              "2         20\n",
              "Name: 집행일시_시간, dtype: int64"
            ]
          },
          "metadata": {
            "tags": []
          },
          "execution_count": 50
        }
      ]
    },
    {
      "cell_type": "markdown",
      "metadata": {
        "id": "5CKQ7pHS14YZ"
      },
      "source": [
        "- 시간순 정렬: .reindex()\n",
        "  - 8시 기준"
      ]
    },
    {
      "cell_type": "code",
      "metadata": {
        "colab": {
          "base_uri": "https://localhost:8080/"
        },
        "id": "phbGRwl812Pv",
        "outputId": "4b9affe5-8d11-495c-c8c0-765c6825fb41"
      },
      "source": [
        "work_hour = [ (k+8)%24 for k in range(24)]\n",
        "expense_hour_num = expense_hour_num.reindex(index = work_hour)\n",
        "\n",
        "expense_hour_num"
      ],
      "execution_count": 51,
      "outputs": [
        {
          "output_type": "execute_result",
          "data": {
            "text/plain": [
              "8       1132\n",
              "9       4984\n",
              "10      7941\n",
              "11     12411\n",
              "12    118219\n",
              "13     27510\n",
              "14     11671\n",
              "15      9934\n",
              "16      6940\n",
              "17      3934\n",
              "18      7450\n",
              "19     20646\n",
              "20     28600\n",
              "21     15052\n",
              "22      3039\n",
              "23       144\n",
              "0       6277\n",
              "1         52\n",
              "2         20\n",
              "3         29\n",
              "4         27\n",
              "5         21\n",
              "6         52\n",
              "7        477\n",
              "Name: 집행일시_시간, dtype: int64"
            ]
          },
          "metadata": {
            "tags": []
          },
          "execution_count": 51
        }
      ]
    },
    {
      "cell_type": "markdown",
      "metadata": {
        "id": "zsdQ2D4X19-a"
      },
      "source": [
        "- 막대그래프 시각화"
      ]
    },
    {
      "cell_type": "code",
      "metadata": {
        "colab": {
          "base_uri": "https://localhost:8080/",
          "height": 457
        },
        "id": "vnvhRW-U189e",
        "outputId": "2a9c0f17-bd0d-4dd4-deef-f39cd97285ef"
      },
      "source": [
        "expense_hour_num.plot.bar(rot = 0, figsize = (10, 7))\n",
        "plt.title(\"시간별 업무추진비 집행 횟수\")\n",
        "plt.xlabel(\"집행 시간\")\n",
        "plt.ylabel(\"집행 횟수\")\n",
        "plt.show()"
      ],
      "execution_count": 52,
      "outputs": [
        {
          "output_type": "display_data",
          "data": {
            "image/png": "[encoded data removed]",
            "text/plain": [
              "<Figure size 720x504 with 1 Axes>"
            ]
          },
          "metadata": {
            "tags": [],
            "needs_background": "light"
          }
        }
      ]
    },
    {
      "cell_type": "markdown",
      "metadata": {
        "id": "PQKauDBH2Ca_"
      },
      "source": [
        "### 7) 시간별 집행금액\n",
        "- 시간별 .pivot_table()"
      ]
    },
    {
      "cell_type": "code",
      "metadata": {
        "colab": {
          "base_uri": "https://localhost:8080/",
          "height": 235
        },
        "id": "wKUYmIuM2BMP",
        "outputId": "bf6e27d7-0556-4868-b9b2-4ec18ab0712e"
      },
      "source": [
        "expense_hour_total = pd.pivot_table(df_expense_all, \n",
        "                                    index = ['집행일시_시간'],\n",
        "                                    values = ['집행금액'], \n",
        "                                    aggfunc = sum)\n",
        "\n",
        "expense_hour_total.head()"
      ],
      "execution_count": 53,
      "outputs": [
        {
          "output_type": "execute_result",
          "data": {
            "text/html": [
              "<div>\n",
              "<style scoped>\n",
              "    .dataframe tbody tr th:only-of-type {\n",
              "        vertical-align: middle;\n",
              "    }\n",
              "\n",
              "    .dataframe tbody tr th {\n",
              "        vertical-align: top;\n",
              "    }\n",
              "\n",
              "    .dataframe thead th {\n",
              "        text-align: right;\n",
              "    }\n",
              "</style>\n",
              "<table border=\"1\" class=\"dataframe\">\n",
              "  <thead>\n",
              "    <tr style=\"text-align: right;\">\n",
              "      <th></th>\n",
              "      <th>집행금액</th>\n",
              "    </tr>\n",
              "    <tr>\n",
              "      <th>집행일시_시간</th>\n",
              "      <th></th>\n",
              "    </tr>\n",
              "  </thead>\n",
              "  <tbody>\n",
              "    <tr>\n",
              "      <th>0</th>\n",
              "      <td>1096337666</td>\n",
              "    </tr>\n",
              "    <tr>\n",
              "      <th>1</th>\n",
              "      <td>8970161</td>\n",
              "    </tr>\n",
              "    <tr>\n",
              "      <th>2</th>\n",
              "      <td>2715190</td>\n",
              "    </tr>\n",
              "    <tr>\n",
              "      <th>3</th>\n",
              "      <td>7671262</td>\n",
              "    </tr>\n",
              "    <tr>\n",
              "      <th>4</th>\n",
              "      <td>5868431</td>\n",
              "    </tr>\n",
              "  </tbody>\n",
              "</table>\n",
              "</div>"
            ],
            "text/plain": [
              "               집행금액\n",
              "집행일시_시간            \n",
              "0        1096337666\n",
              "1           8970161\n",
              "2           2715190\n",
              "3           7671262\n",
              "4           5868431"
            ]
          },
          "metadata": {
            "tags": []
          },
          "execution_count": 53
        }
      ]
    },
    {
      "cell_type": "markdown",
      "metadata": {
        "id": "7o65bozS2IhQ"
      },
      "source": [
        "- 막대그래프 시각화"
      ]
    },
    {
      "cell_type": "code",
      "metadata": {
        "colab": {
          "base_uri": "https://localhost:8080/",
          "height": 457
        },
        "id": "3ovrwM6w2HfS",
        "outputId": "c39a0348-c157-4d61-c95f-a383b4f78f70"
      },
      "source": [
        "expense_hour_total = expense_hour_total.reindex(index = work_hour)\n",
        "\n",
        "(expense_hour_total/100000000).plot.bar(rot = 0, figsize = (10, 7))\n",
        "plt.ylabel('집행금액(억원)')\n",
        "plt.title(\"시간별대 업무추진비 집행금액\")\n",
        "plt.show()"
      ],
      "execution_count": 54,
      "outputs": [
        {
          "output_type": "display_data",
          "data": {
            "image/png": "[encoded data removed]",
            "text/plain": [
              "<Figure size 720x504 with 1 Axes>"
            ]
          },
          "metadata": {
            "tags": [],
            "needs_background": "light"
          }
        }
      ]
    }
  ]
}