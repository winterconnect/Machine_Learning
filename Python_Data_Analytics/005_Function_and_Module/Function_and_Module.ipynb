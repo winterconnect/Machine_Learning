{
  "nbformat": 4,
  "nbformat_minor": 0,
  "metadata": {
    "colab": {
      "name": "Function_and_Module.ipynb",
      "provenance": [],
      "collapsed_sections": []
    },
    "kernelspec": {
      "name": "python3",
      "display_name": "Python 3"
    }
  },
  "cells": [
    {
      "cell_type": "markdown",
      "metadata": {
        "id": "ZHD6LPFmCLLb"
      },
      "source": [
        "Function and Module"
      ]
    },
    {
      "cell_type": "code",
      "metadata": {
        "id": "E5BcMBidCMrW"
      },
      "source": [
        "import warnings\n",
        "warnings.filterwarnings('ignore')"
      ],
      "execution_count": 1,
      "outputs": []
    },
    {
      "cell_type": "markdown",
      "metadata": {
        "id": "I81siJXECQCF"
      },
      "source": [
        "1. def\n",
        "1) 사용자 정의 함수 with def\n",
        "- hap() 정의 및 사용"
      ]
    },
    {
      "cell_type": "code",
      "metadata": {
        "id": "ZLN3k7D2CPcz"
      },
      "source": [
        "def hap(x, y) :\n",
        "  z = x + y\n",
        "  return z"
      ],
      "execution_count": 2,
      "outputs": []
    },
    {
      "cell_type": "code",
      "metadata": {
        "colab": {
          "base_uri": "https://localhost:8080/"
        },
        "id": "wYdp4X3nCXpu",
        "outputId": "6e59f1d1-7881-4533-d9c3-11fb295f04fa"
      },
      "source": [
        "hap(3, 6)"
      ],
      "execution_count": 3,
      "outputs": [
        {
          "output_type": "execute_result",
          "data": {
            "text/plain": [
              "9"
            ]
          },
          "metadata": {
            "tags": []
          },
          "execution_count": 3
        }
      ]
    },
    {
      "cell_type": "markdown",
      "metadata": {
        "id": "TmtmpoPkCaE6"
      },
      "source": [
        "2) 사용자 정의 함수 with lambda\n",
        "- cha() 정의 및 사용"
      ]
    },
    {
      "cell_type": "code",
      "metadata": {
        "id": "FIJpiA9dCZQ3"
      },
      "source": [
        "cha = lambda x, y : x - y"
      ],
      "execution_count": 4,
      "outputs": []
    },
    {
      "cell_type": "code",
      "metadata": {
        "colab": {
          "base_uri": "https://localhost:8080/"
        },
        "id": "jPViEyr2CgSc",
        "outputId": "4bcbcc03-db99-47f6-c942-049dbbac9b63"
      },
      "source": [
        "cha(3, 6)"
      ],
      "execution_count": 5,
      "outputs": [
        {
          "output_type": "execute_result",
          "data": {
            "text/plain": [
              "-3"
            ]
          },
          "metadata": {
            "tags": []
          },
          "execution_count": 5
        }
      ]
    },
    {
      "cell_type": "markdown",
      "metadata": {
        "id": "l2jgaaXfCiN4"
      },
      "source": [
        "2. Module\n",
        "- Module: 사용자 정의 함수를 포함하고 있는 파이썬 스크립트(.py)\n",
        "- import: 파이썬 스크립트에 정의된 함수를 메모리로 호출\n",
        "\n",
        "1) 파이썬 내장 모듈\n",
        "- 사용구문: import Module_Name"
      ]
    },
    {
      "cell_type": "code",
      "metadata": {
        "id": "VP3JqA3pChlO"
      },
      "source": [
        "import time"
      ],
      "execution_count": 6,
      "outputs": []
    },
    {
      "cell_type": "markdown",
      "metadata": {
        "id": "g38LYjSeCwsa"
      },
      "source": [
        "- 사용구문: Module_Name.Function_Name()"
      ]
    },
    {
      "cell_type": "code",
      "metadata": {
        "colab": {
          "base_uri": "https://localhost:8080/"
        },
        "id": "AboJ_PO6Csp8",
        "outputId": "711dd202-919d-4128-e7e0-e6d72a58f423"
      },
      "source": [
        "print('스크립트 시작')\n",
        "time.sleep(9)\n",
        "print('9초 후 스크립트 종료')"
      ],
      "execution_count": 8,
      "outputs": [
        {
          "output_type": "stream",
          "text": [
            "스크립트 시작\n",
            "9초 후 스크립트 종료\n"
          ],
          "name": "stdout"
        }
      ]
    },
    {
      "cell_type": "markdown",
      "metadata": {
        "id": "ncZD4ZI9C3NT"
      },
      "source": [
        "- Built-in Module Path"
      ]
    },
    {
      "cell_type": "code",
      "metadata": {
        "colab": {
          "base_uri": "https://localhost:8080/"
        },
        "id": "_Nr5CzO0CvlU",
        "outputId": "4a496850-aef8-4923-ba2e-fff416cdfd46"
      },
      "source": [
        "import sys\n",
        "sys.path"
      ],
      "execution_count": 9,
      "outputs": [
        {
          "output_type": "execute_result",
          "data": {
            "text/plain": [
              "['',\n",
              " '/env/python',\n",
              " '/usr/lib/python36.zip',\n",
              " '/usr/lib/python3.6',\n",
              " '/usr/lib/python3.6/lib-dynload',\n",
              " '/usr/local/lib/python3.6/dist-packages',\n",
              " '/usr/lib/python3/dist-packages',\n",
              " '/usr/local/lib/python3.6/dist-packages/IPython/extensions',\n",
              " '/root/.ipython']"
            ]
          },
          "metadata": {
            "tags": []
          },
          "execution_count": 9
        }
      ]
    },
    {
      "cell_type": "markdown",
      "metadata": {
        "id": "AfBSHLW8C7d4"
      },
      "source": [
        "2) Alias 로 import\n",
        "- 사용구문: import Module_Name as Alias"
      ]
    },
    {
      "cell_type": "code",
      "metadata": {
        "id": "3enMZkUjC6Hz"
      },
      "source": [
        "import time as t"
      ],
      "execution_count": 10,
      "outputs": []
    },
    {
      "cell_type": "markdown",
      "metadata": {
        "id": "EYm4S610DB2Y"
      },
      "source": [
        "- 사용구문: Alias.Function_Name()"
      ]
    },
    {
      "cell_type": "code",
      "metadata": {
        "colab": {
          "base_uri": "https://localhost:8080/"
        },
        "id": "aAWnNfyMDBRn",
        "outputId": "fde44bab-8ae1-45ad-e5fb-5b863f449c2c"
      },
      "source": [
        "print('3초 후에 결과 출력')\n",
        "t.sleep(3)\n",
        "print('축하합니다. 합격입니다!')"
      ],
      "execution_count": 11,
      "outputs": [
        {
          "output_type": "stream",
          "text": [
            "3초 후에 결과 출력\n",
            "축하합니다. 합격입니다!\n"
          ],
          "name": "stdout"
        }
      ]
    },
    {
      "cell_type": "markdown",
      "metadata": {
        "id": "g1a2XmZBDLVL"
      },
      "source": [
        "3) 사용자 모듈 만들기\n",
        "- hello.py 스크립트 생성\n",
        "- 스크립트에 hi() 함수 정의\n",
        "- Colab 에 hello.py 업로드 후 실습 진행"
      ]
    },
    {
      "cell_type": "code",
      "metadata": {
        "id": "si1sFnt3DKJO"
      },
      "source": [
        "import hello"
      ],
      "execution_count": 12,
      "outputs": []
    },
    {
      "cell_type": "code",
      "metadata": {
        "colab": {
          "base_uri": "https://localhost:8080/"
        },
        "id": "hUh1JORsDaQH",
        "outputId": "8e77e066-4bcc-4747-cf47-d5b982842e17"
      },
      "source": [
        "hello.hi()"
      ],
      "execution_count": 13,
      "outputs": [
        {
          "output_type": "stream",
          "text": [
            "사용자 정의 함수 실행\n",
            "Hello World\n",
            "사용자 정의 함수 종료\n"
          ],
          "name": "stdout"
        }
      ]
    },
    {
      "cell_type": "markdown",
      "metadata": {
        "id": "kayq25KmQ3wV"
      },
      "source": [
        "### 3. Package\n",
        "- 관련된 모듈을 디렉토리 단위로 관리\n",
        "- import 또는 from, import 구문으로 함수를 호출하여 사용"
      ]
    },
    {
      "cell_type": "markdown",
      "metadata": {
        "id": "MaGDup27RAks"
      },
      "source": [
        "1) 사용자 패키지 만들기\n",
        "- colab에 myPKG 디렉토리 생성\n",
        "- myPKG 디렉토리 내에 \\_\\_init\\_\\_.py 생성\n",
        "- \\_\\_init\\_\\_.py 에 version=1.0 작성 후 UTF-8로 저장\n",
        "- myLibrary.py Module 생성(UTF-8)\n",
        "- myLibrary.py 내에 hi() 및 hap() 함수 정의\n",
        "- myLibrary.py 파일을 myPKG 디렉토리에 복사\n"
      ]
    },
    {
      "cell_type": "markdown",
      "metadata": {
        "id": "qfnOzlc7RgM4"
      },
      "source": [
        "2) 사용자 패키지 사용 with import\n",
        "- 사용구문: import Directory_Path.Module_Nmae"
      ]
    },
    {
      "cell_type": "code",
      "metadata": {
        "id": "52nFIdU1DbdB"
      },
      "source": [
        "import myPKG.myLibrary"
      ],
      "execution_count": 14,
      "outputs": []
    },
    {
      "cell_type": "markdown",
      "metadata": {
        "id": "rzZF8FbbRxBv"
      },
      "source": [
        "- 사용구문: Directory_Name.Module_Name.Function_Name"
      ]
    },
    {
      "cell_type": "code",
      "metadata": {
        "colab": {
          "base_uri": "https://localhost:8080/"
        },
        "id": "neFZrN8hRv5W",
        "outputId": "db4dd1af-c115-4923-90be-efe138112415"
      },
      "source": [
        "myPKG.myLibrary.hi()"
      ],
      "execution_count": 15,
      "outputs": [
        {
          "output_type": "stream",
          "text": [
            "첫번째 함수 실행\n"
          ],
          "name": "stdout"
        }
      ]
    },
    {
      "cell_type": "code",
      "metadata": {
        "colab": {
          "base_uri": "https://localhost:8080/"
        },
        "id": "aZeZ_BitR3cY",
        "outputId": "48fc1d2a-94c3-45e6-e0ee-f85e877ecfa0"
      },
      "source": [
        "myPKG.myLibrary.hap(3,5)"
      ],
      "execution_count": 16,
      "outputs": [
        {
          "output_type": "execute_result",
          "data": {
            "text/plain": [
              "8"
            ]
          },
          "metadata": {
            "tags": []
          },
          "execution_count": 16
        }
      ]
    },
    {
      "cell_type": "markdown",
      "metadata": {
        "id": "pGmiDbWqR7bt"
      },
      "source": [
        "3) 사용자 패키지 with from ~ import\n",
        "- 사용구문: from Directory_Name.Module_Name import Function_Name"
      ]
    },
    {
      "cell_type": "code",
      "metadata": {
        "id": "UQx5R0WPR6JC"
      },
      "source": [
        "from myPKG.myLibrary import hi, hap"
      ],
      "execution_count": 17,
      "outputs": []
    },
    {
      "cell_type": "markdown",
      "metadata": {
        "id": "z8HSY7XpSMWz"
      },
      "source": [
        "- 사용구문: Function_Name"
      ]
    },
    {
      "cell_type": "code",
      "metadata": {
        "colab": {
          "base_uri": "https://localhost:8080/"
        },
        "id": "xc5MYvInSLq-",
        "outputId": "bcfa6db8-15e7-4466-8e73-097918239ad6"
      },
      "source": [
        "hi()"
      ],
      "execution_count": 18,
      "outputs": [
        {
          "output_type": "stream",
          "text": [
            "첫번째 함수 실행\n"
          ],
          "name": "stdout"
        }
      ]
    },
    {
      "cell_type": "code",
      "metadata": {
        "colab": {
          "base_uri": "https://localhost:8080/"
        },
        "id": "LfD80IhKSOus",
        "outputId": "734bd9c2-f1ed-4846-a810-2c445cd4daec"
      },
      "source": [
        "hap(2,6)"
      ],
      "execution_count": 19,
      "outputs": [
        {
          "output_type": "execute_result",
          "data": {
            "text/plain": [
              "8"
            ]
          },
          "metadata": {
            "tags": []
          },
          "execution_count": 19
        }
      ]
    },
    {
      "cell_type": "markdown",
      "metadata": {
        "id": "qRg31LagSQli"
      },
      "source": [
        "### 4. Class\n",
        "- Class/Name Space: 개발자에 의해 지정된 독립 공간\n",
        "- Class Member: Class 내에 선언된 변수\n",
        "- Class Method: Class 내에 선언된 함수\n",
        "\n",
        "1) Class 선언"
      ]
    },
    {
      "cell_type": "code",
      "metadata": {
        "id": "5WMLTqShSPv1"
      },
      "source": [
        "class myClass:\n",
        "  var_1 = 'Hello Class'\n",
        "\n",
        "  def func_1(self) :\n",
        "    print(self.var_1, '클래스 함수 실행')"
      ],
      "execution_count": 37,
      "outputs": []
    },
    {
      "cell_type": "markdown",
      "metadata": {
        "id": "us5R2loKSmej"
      },
      "source": [
        "2) Instance 생성"
      ]
    },
    {
      "cell_type": "code",
      "metadata": {
        "id": "_NocD1lCSl__"
      },
      "source": [
        "obj = myClass()"
      ],
      "execution_count": 21,
      "outputs": []
    },
    {
      "cell_type": "markdown",
      "metadata": {
        "id": "KwrAuWGISq2e"
      },
      "source": [
        "3) Member 호출"
      ]
    },
    {
      "cell_type": "code",
      "metadata": {
        "colab": {
          "base_uri": "https://localhost:8080/",
          "height": 35
        },
        "id": "0FCXVcxnSp06",
        "outputId": "fd60f0b6-0305-4acd-f9d4-a3bd90986d63"
      },
      "source": [
        "obj.var_1"
      ],
      "execution_count": 22,
      "outputs": [
        {
          "output_type": "execute_result",
          "data": {
            "application/vnd.google.colaboratory.intrinsic+json": {
              "type": "string"
            },
            "text/plain": [
              "'Hello Class'"
            ]
          },
          "metadata": {
            "tags": []
          },
          "execution_count": 22
        }
      ]
    },
    {
      "cell_type": "markdown",
      "metadata": {
        "id": "aZbZkcfJSvwA"
      },
      "source": [
        "4) Method 호출"
      ]
    },
    {
      "cell_type": "code",
      "metadata": {
        "colab": {
          "base_uri": "https://localhost:8080/"
        },
        "id": "c4aCa1UqSuZw",
        "outputId": "3a32d8a8-ff08-456c-a007-63d7a724c0a0"
      },
      "source": [
        "obj.func_1()"
      ],
      "execution_count": 24,
      "outputs": [
        {
          "output_type": "stream",
          "text": [
            "Hello Class 클래스 함수 실행\n"
          ],
          "name": "stdout"
        }
      ]
    },
    {
      "cell_type": "markdown",
      "metadata": {
        "id": "vBziIZ-qS04z"
      },
      "source": [
        "### Class Member vs. Instance Member\n",
        "\n",
        "1) Class 선언\n",
        "- Class Member\n",
        "- Instance Member"
      ]
    },
    {
      "cell_type": "code",
      "metadata": {
        "id": "qBNBID6eSyxy"
      },
      "source": [
        "class myClass_1 :\n",
        "  var_1 = 'Class Member'\n",
        "\n",
        "  def func_1(self) :\n",
        "    var_2 = 'Instance Member'\n",
        "    print('Method 내에 선언' , var_2)\n",
        "    print('Class 내에 선언' , self.var_1)\n",
        "\n",
        "  def func_2(self, x, y) :\n",
        "    z = x + y\n",
        "    print(x, '더하기' , y , '는' , z)"
      ],
      "execution_count": 38,
      "outputs": []
    },
    {
      "cell_type": "markdown",
      "metadata": {
        "id": "IsM4jRViTc8n"
      },
      "source": [
        "2) Instance 생성"
      ]
    },
    {
      "cell_type": "code",
      "metadata": {
        "id": "f6vXukmiTUoA"
      },
      "source": [
        "obj_1 = myClass_1()"
      ],
      "execution_count": 39,
      "outputs": []
    },
    {
      "cell_type": "markdown",
      "metadata": {
        "id": "jlz83aFRThoV"
      },
      "source": [
        "3) Class Member 호출"
      ]
    },
    {
      "cell_type": "code",
      "metadata": {
        "colab": {
          "base_uri": "https://localhost:8080/",
          "height": 35
        },
        "id": "OV0PSOtaTb49",
        "outputId": "da0deac6-5361-4a73-dfe1-29f64bae3890"
      },
      "source": [
        "obj_1.var_1"
      ],
      "execution_count": 40,
      "outputs": [
        {
          "output_type": "execute_result",
          "data": {
            "application/vnd.google.colaboratory.intrinsic+json": {
              "type": "string"
            },
            "text/plain": [
              "'Class Member'"
            ]
          },
          "metadata": {
            "tags": []
          },
          "execution_count": 40
        }
      ]
    },
    {
      "cell_type": "markdown",
      "metadata": {
        "id": "vAWMISUcTltg"
      },
      "source": [
        "4) Instance Member 호출 에러"
      ]
    },
    {
      "cell_type": "code",
      "metadata": {
        "colab": {
          "base_uri": "https://localhost:8080/",
          "height": 198
        },
        "id": "WV4y05EXTkkK",
        "outputId": "211bab81-0522-408f-8d75-f98594c7b208"
      },
      "source": [
        "obj_1.var_2"
      ],
      "execution_count": 41,
      "outputs": [
        {
          "output_type": "error",
          "ename": "AttributeError",
          "evalue": "ignored",
          "traceback": [
            "\u001b[0;31m---------------------------------------------------------------------------\u001b[0m",
            "\u001b[0;31mAttributeError\u001b[0m                            Traceback (most recent call last)",
            "\u001b[0;32m<ipython-input-41-062f88125ce0>\u001b[0m in \u001b[0;36m<module>\u001b[0;34m()\u001b[0m\n\u001b[0;32m----> 1\u001b[0;31m \u001b[0mobj_1\u001b[0m\u001b[0;34m.\u001b[0m\u001b[0mvar_2\u001b[0m\u001b[0;34m\u001b[0m\u001b[0;34m\u001b[0m\u001b[0m\n\u001b[0m",
            "\u001b[0;31mAttributeError\u001b[0m: 'myClass_1' object has no attribute 'var_2'"
          ]
        }
      ]
    },
    {
      "cell_type": "markdown",
      "metadata": {
        "id": "krr1EJH3Tyz8"
      },
      "source": [
        "5) Class Method 내에서 Class Member 및 Instance Member 호출 성공"
      ]
    },
    {
      "cell_type": "code",
      "metadata": {
        "colab": {
          "base_uri": "https://localhost:8080/"
        },
        "id": "o_X6cLKKTr9A",
        "outputId": "3f0bdf15-8c35-471c-a606-2febe2500868"
      },
      "source": [
        "obj_1.func_1()"
      ],
      "execution_count": 42,
      "outputs": [
        {
          "output_type": "stream",
          "text": [
            "Method 내에 선언 Instance Member\n",
            "Class 내에 선언 Class Member\n"
          ],
          "name": "stdout"
        }
      ]
    },
    {
      "cell_type": "markdown",
      "metadata": {
        "id": "bhy-tz9GUR8R"
      },
      "source": [
        "6) 인자가 있는 Class Method - func_2(x,y)"
      ]
    },
    {
      "cell_type": "code",
      "metadata": {
        "colab": {
          "base_uri": "https://localhost:8080/"
        },
        "id": "NI0hxzHOT67p",
        "outputId": "2e1e2370-db28-45bb-b1d4-f5e0324b1760"
      },
      "source": [
        "obj_1.func_2(3,5)"
      ],
      "execution_count": 43,
      "outputs": [
        {
          "output_type": "stream",
          "text": [
            "3 더하기 5 는 8\n"
          ],
          "name": "stdout"
        }
      ]
    },
    {
      "cell_type": "markdown",
      "metadata": {
        "id": "Ay3jyiHkUZKh"
      },
      "source": [
        "### 6. Class 생성자 vs. Class 소멸자\n",
        "\n",
        "1) Class 선언"
      ]
    },
    {
      "cell_type": "code",
      "metadata": {
        "id": "ytSXYXftUX9v"
      },
      "source": [
        "class myClass_2 :\n",
        "  def __init__(self) :\n",
        "    print('myClass_2 인스턴스가 메모리에 생성되었습니다')\n",
        "\n",
        "  var_1 = 'Class Member'\n",
        "\n",
        "  def func_1(self) :\n",
        "    print('Class Method')\n",
        "\n",
        "  def __del__(self) :\n",
        "    print('myClass_2 인스턴스가 메모리에서 소멸되었습니다')"
      ],
      "execution_count": 44,
      "outputs": []
    },
    {
      "cell_type": "markdown",
      "metadata": {
        "id": "pn1Fx1ERUztV"
      },
      "source": [
        "2) 인스턴스 생성 메시지 출력"
      ]
    },
    {
      "cell_type": "code",
      "metadata": {
        "colab": {
          "base_uri": "https://localhost:8080/"
        },
        "id": "l0yYwCyWUzCH",
        "outputId": "9a2768e8-c211-4b82-9116-7ca93381b2b4"
      },
      "source": [
        "obj_2 = myClass_2()"
      ],
      "execution_count": 45,
      "outputs": [
        {
          "output_type": "stream",
          "text": [
            "myClass_2 인스턴스가 메모리에 생성되었습니다\n"
          ],
          "name": "stdout"
        }
      ]
    },
    {
      "cell_type": "markdown",
      "metadata": {
        "id": "OEqRF7NtU_D2"
      },
      "source": [
        "3) Class Member & Class Method"
      ]
    },
    {
      "cell_type": "code",
      "metadata": {
        "colab": {
          "base_uri": "https://localhost:8080/",
          "height": 35
        },
        "id": "Tb8RX5JFU92E",
        "outputId": "11e1b94d-f7d4-4843-f8ec-4a1e6a2b7a63"
      },
      "source": [
        "obj_2.var_1"
      ],
      "execution_count": 46,
      "outputs": [
        {
          "output_type": "execute_result",
          "data": {
            "application/vnd.google.colaboratory.intrinsic+json": {
              "type": "string"
            },
            "text/plain": [
              "'Class Member'"
            ]
          },
          "metadata": {
            "tags": []
          },
          "execution_count": 46
        }
      ]
    },
    {
      "cell_type": "code",
      "metadata": {
        "colab": {
          "base_uri": "https://localhost:8080/"
        },
        "id": "LVbL3J2FVEAs",
        "outputId": "2ea1da31-c8d2-4992-e4ca-c210bb3de6f9"
      },
      "source": [
        "obj_2.func_1()"
      ],
      "execution_count": 47,
      "outputs": [
        {
          "output_type": "stream",
          "text": [
            "Class Method\n"
          ],
          "name": "stdout"
        }
      ]
    },
    {
      "cell_type": "markdown",
      "metadata": {
        "id": "Vq0umSt7VGp2"
      },
      "source": [
        "4) 인스턴스 소멸 메시지 출력"
      ]
    },
    {
      "cell_type": "code",
      "metadata": {
        "colab": {
          "base_uri": "https://localhost:8080/"
        },
        "id": "IdDOr8NlVFdN",
        "outputId": "a64b2be2-7814-4320-8137-5aca77e74e8e"
      },
      "source": [
        "del obj_2"
      ],
      "execution_count": 48,
      "outputs": [
        {
          "output_type": "stream",
          "text": [
            "myClass_2 인스턴스가 메모리에서 소멸되었습니다\n"
          ],
          "name": "stdout"
        }
      ]
    },
    {
      "cell_type": "markdown",
      "metadata": {
        "id": "Y8VFaflZVLMA"
      },
      "source": [
        "### 7. Class 상속\n",
        "\n",
        "1) Class 선언\n",
        "- Class Sum, Cop 선언 후 Computer Class 에 전달\n",
        "- Class Computer 는 상속받은 add(), mul() Method 사용 가능"
      ]
    },
    {
      "cell_type": "code",
      "metadata": {
        "id": "jr6lvBjFVJVG"
      },
      "source": [
        "class Sum:\n",
        "  def add(self, x, y) :\n",
        "    z = x + y\n",
        "    return z\n",
        "\n",
        "class Cop:\n",
        "  def mul(self, x, y) :\n",
        "    z = x * y\n",
        "    return z\n",
        "\n",
        "class Computer(Sum, Cop) :\n",
        "  def sub(self, x, y) :\n",
        "    z = x - y \n",
        "    return z"
      ],
      "execution_count": 49,
      "outputs": []
    },
    {
      "cell_type": "markdown",
      "metadata": {
        "id": "VugCvJopVoMo"
      },
      "source": [
        "2) Instance 생성"
      ]
    },
    {
      "cell_type": "code",
      "metadata": {
        "id": "rYqEoScsVnUi"
      },
      "source": [
        "obj_3 = Computer()"
      ],
      "execution_count": 50,
      "outputs": []
    },
    {
      "cell_type": "markdown",
      "metadata": {
        "id": "GiFCUL3mVr8w"
      },
      "source": [
        "3) 상속받은 Method 사용\n",
        "- Computer Class의 Method"
      ]
    },
    {
      "cell_type": "code",
      "metadata": {
        "colab": {
          "base_uri": "https://localhost:8080/"
        },
        "id": "aWMxjgXUVrRa",
        "outputId": "05e6b1a5-23c4-44fc-dbbc-95f300ebbfa9"
      },
      "source": [
        "obj_3.sub(3, 5)"
      ],
      "execution_count": 51,
      "outputs": [
        {
          "output_type": "execute_result",
          "data": {
            "text/plain": [
              "-2"
            ]
          },
          "metadata": {
            "tags": []
          },
          "execution_count": 51
        }
      ]
    },
    {
      "cell_type": "markdown",
      "metadata": {
        "id": "rNPKzhYDexXG"
      },
      "source": [
        "- Sum Class 로부터 상속받은 add() Method"
      ]
    },
    {
      "cell_type": "code",
      "metadata": {
        "colab": {
          "base_uri": "https://localhost:8080/"
        },
        "id": "bauUdEjPewLI",
        "outputId": "534efad6-926d-4089-fa13-b4ac85a9b959"
      },
      "source": [
        "obj_3.add(3, 5)"
      ],
      "execution_count": 52,
      "outputs": [
        {
          "output_type": "execute_result",
          "data": {
            "text/plain": [
              "8"
            ]
          },
          "metadata": {
            "tags": []
          },
          "execution_count": 52
        }
      ]
    },
    {
      "cell_type": "markdown",
      "metadata": {
        "id": "falZpx5ye6Zc"
      },
      "source": [
        "- Cop Class로부터 상속받은 Mul() Method"
      ]
    },
    {
      "cell_type": "code",
      "metadata": {
        "colab": {
          "base_uri": "https://localhost:8080/"
        },
        "id": "nsJjfza-e5gQ",
        "outputId": "81bc4e9a-7cfc-4925-d8b8-7a310ffea866"
      },
      "source": [
        "obj_3.mul(3, 5)"
      ],
      "execution_count": 53,
      "outputs": [
        {
          "output_type": "execute_result",
          "data": {
            "text/plain": [
              "15"
            ]
          },
          "metadata": {
            "tags": []
          },
          "execution_count": 53
        }
      ]
    },
    {
      "cell_type": "code",
      "metadata": {
        "id": "Rx_tS5rce-0A"
      },
      "source": [
        ""
      ],
      "execution_count": null,
      "outputs": []
    }
  ]
}