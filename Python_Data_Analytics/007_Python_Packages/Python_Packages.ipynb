{
  "nbformat": 4,
  "nbformat_minor": 0,
  "metadata": {
    "colab": {
      "name": "Python_Packages.ipynb",
      "provenance": [],
      "collapsed_sections": []
    },
    "kernelspec": {
      "name": "python3",
      "display_name": "Python 3"
    }
  },
  "cells": [
    {
      "cell_type": "markdown",
      "metadata": {
        "id": "e7x6QFCSfWar"
      },
      "source": [
        "# Python Packages"
      ]
    },
    {
      "cell_type": "code",
      "metadata": {
        "id": "vAyiRFQ7fZl6"
      },
      "source": [
        "import warnings\n",
        "warnings.filterwarnings('ignore')"
      ],
      "execution_count": 2,
      "outputs": []
    },
    {
      "cell_type": "markdown",
      "metadata": {
        "id": "r8XiJ1ZsfqD1"
      },
      "source": [
        "## 1. numpy\n",
        "- 수학 및 과학적 연산을 쉽고 빠르게 지원\n",
        "- 다차원 행열(Array)을 효과적으로 처리\n",
        "\n",
        "### 1) numpy Package import"
      ]
    },
    {
      "cell_type": "code",
      "metadata": {
        "id": "L_QGapK9fchd"
      },
      "source": [
        "import numpy as np"
      ],
      "execution_count": 4,
      "outputs": []
    },
    {
      "cell_type": "markdown",
      "metadata": {
        "id": "ZBihiJakfsvq"
      },
      "source": [
        "### 2) Array 생성\n",
        "#### (1) Scalar - 0D Array - Rank0 Tensor\n",
        "- Rank:'축'을 의미"
      ]
    },
    {
      "cell_type": "code",
      "metadata": {
        "colab": {
          "base_uri": "https://localhost:8080/"
        },
        "id": "Cr_sYpHqfyfH",
        "outputId": "4a90ccba-4737-4a2a-8076-a35417ae991f"
      },
      "source": [
        "a0 = np.array(9)\n",
        "# 하나의 데이터(data point)\n",
        "print(a0)"
      ],
      "execution_count": 5,
      "outputs": [
        {
          "output_type": "stream",
          "text": [
            "9\n"
          ],
          "name": "stdout"
        }
      ]
    },
    {
      "cell_type": "markdown",
      "metadata": {
        "id": "_6nGqV54f22V"
      },
      "source": [
        "#### (2) Vector - 1D Array - Rank1 Tensor\n",
        "\n",
        "- 파이썬의 리스트를 np의 array로 캐스팅"
      ]
    },
    {
      "cell_type": "code",
      "metadata": {
        "colab": {
          "base_uri": "https://localhost:8080/"
        },
        "id": "fXSRZK9Pfrtc",
        "outputId": "9979552f-8f07-4da7-e2f5-88b154a4facc"
      },
      "source": [
        "a1 = np.array([1, 3, 5, 7, 9])\n",
        "print(a1)\n",
        "\n"
      ],
      "execution_count": 6,
      "outputs": [
        {
          "output_type": "stream",
          "text": [
            "[1 3 5 7 9]\n"
          ],
          "name": "stdout"
        }
      ]
    },
    {
      "cell_type": "code",
      "metadata": {
        "colab": {
          "base_uri": "https://localhost:8080/"
        },
        "id": "uMqXkTwNfo2n",
        "outputId": "96a4c278-f3b6-449c-8e87-5d5d7594b5d5"
      },
      "source": [
        "a1\n",
        "\n",
        "# print 를 지워보면, array 로 표시됨\n",
        "# array: 데이터를 설명하기 위한 추가 데이터 (메타데이터)\n",
        "# type이 list 가 아니라 np.array"
      ],
      "execution_count": 7,
      "outputs": [
        {
          "output_type": "execute_result",
          "data": {
            "text/plain": [
              "array([1, 3, 5, 7, 9])"
            ]
          },
          "metadata": {
            "tags": []
          },
          "execution_count": 7
        }
      ]
    },
    {
      "cell_type": "markdown",
      "metadata": {
        "id": "9K50fb6hfU7R"
      },
      "source": [
        "#### (3) Matrix - 2D Array - Rank2 Tensor"
      ]
    },
    {
      "cell_type": "code",
      "metadata": {
        "colab": {
          "base_uri": "https://localhost:8080/"
        },
        "id": "6p1gIj0YgZ2z",
        "outputId": "0c34ec2f-c306-4892-f1e2-1c745d44d267"
      },
      "source": [
        "a2 = np.array([[1, 2, 3],\n",
        "               [4, 5, 6],\n",
        "               [7, 8, 9]])\n",
        "\n",
        "print(a2)"
      ],
      "execution_count": 9,
      "outputs": [
        {
          "output_type": "stream",
          "text": [
            "[[1 2 3]\n",
            " [4 5 6]\n",
            " [7 8 9]]\n"
          ],
          "name": "stdout"
        }
      ]
    },
    {
      "cell_type": "markdown",
      "metadata": {
        "id": "TjpZjBJxgkYU"
      },
      "source": [
        "### (4) Array - 3D Array - Rank3 Tensor"
      ]
    },
    {
      "cell_type": "code",
      "metadata": {
        "colab": {
          "base_uri": "https://localhost:8080/"
        },
        "id": "uDxP9wY_goVc",
        "outputId": "36585d2a-2b25-42f9-ab44-1eb52ccacdfe"
      },
      "source": [
        "a3 = np.array([[[1, 2],\n",
        "                [3, 4]],\n",
        "               [[5, 6],\n",
        "                [7, 8]],\n",
        "               [[9, 10],\n",
        "                [11, 12]]])\n",
        "\n",
        "print(a3)"
      ],
      "execution_count": 12,
      "outputs": [
        {
          "output_type": "stream",
          "text": [
            "[[[ 1  2]\n",
            "  [ 3  4]]\n",
            "\n",
            " [[ 5  6]\n",
            "  [ 7  8]]\n",
            "\n",
            " [[ 9 10]\n",
            "  [11 12]]]\n"
          ],
          "name": "stdout"
        }
      ]
    },
    {
      "cell_type": "markdown",
      "metadata": {
        "id": "F5U3nb_mhAOC"
      },
      "source": [
        "### 3) AR.shape and AR.reshape()"
      ]
    },
    {
      "cell_type": "code",
      "metadata": {
        "colab": {
          "base_uri": "https://localhost:8080/"
        },
        "id": "uuAzNnjWgzWE",
        "outputId": "656ba8a7-86fc-4472-890f-930bb60e06ef"
      },
      "source": [
        "AR = np.array([1, 2, 3, 4, 5, 6, 7, 8, 9, 10, 11, 12])\n",
        "print(AR)"
      ],
      "execution_count": 13,
      "outputs": [
        {
          "output_type": "stream",
          "text": [
            "[ 1  2  3  4  5  6  7  8  9 10 11 12]\n"
          ],
          "name": "stdout"
        }
      ]
    },
    {
      "cell_type": "markdown",
      "metadata": {
        "id": "c7CuGXmvhKes"
      },
      "source": [
        "#### (1) .shape"
      ]
    },
    {
      "cell_type": "code",
      "metadata": {
        "colab": {
          "base_uri": "https://localhost:8080/"
        },
        "id": "kdyCVfQUhNla",
        "outputId": "d40ce6cc-aa15-4cb7-d92b-941619493efc"
      },
      "source": [
        "AR.shape"
      ],
      "execution_count": 14,
      "outputs": [
        {
          "output_type": "execute_result",
          "data": {
            "text/plain": [
              "(12,)"
            ]
          },
          "metadata": {
            "tags": []
          },
          "execution_count": 14
        }
      ]
    },
    {
      "cell_type": "markdown",
      "metadata": {
        "id": "STiTNnTyhNGp"
      },
      "source": [
        "#### .reshape(행,열)"
      ]
    },
    {
      "cell_type": "code",
      "metadata": {
        "colab": {
          "base_uri": "https://localhost:8080/"
        },
        "id": "Qgouch-whVFJ",
        "outputId": "2036a4e0-db0d-4ffd-beff-201ed541618d"
      },
      "source": [
        "AR2 = AR.reshape(3,4)\n",
        "print(AR2)"
      ],
      "execution_count": 15,
      "outputs": [
        {
          "output_type": "stream",
          "text": [
            "[[ 1  2  3  4]\n",
            " [ 5  6  7  8]\n",
            " [ 9 10 11 12]]\n"
          ],
          "name": "stdout"
        }
      ]
    },
    {
      "cell_type": "code",
      "metadata": {
        "colab": {
          "base_uri": "https://localhost:8080/"
        },
        "id": "m-6sIlO1hap1",
        "outputId": "3a17b544-dc4b-441c-dfb9-c7961ac95bbd"
      },
      "source": [
        "AR2.shape"
      ],
      "execution_count": 16,
      "outputs": [
        {
          "output_type": "execute_result",
          "data": {
            "text/plain": [
              "(3, 4)"
            ]
          },
          "metadata": {
            "tags": []
          },
          "execution_count": 16
        }
      ]
    },
    {
      "cell_type": "markdown",
      "metadata": {
        "id": "NYHTuXjphdsW"
      },
      "source": [
        "#### (3) .reshape(축, 행, 열)"
      ]
    },
    {
      "cell_type": "code",
      "metadata": {
        "colab": {
          "base_uri": "https://localhost:8080/"
        },
        "id": "r1HbimCEhgt5",
        "outputId": "82cf352f-be99-4417-b903-480bf211905f"
      },
      "source": [
        "AR3 = AR.reshape(3, 2, 2)\n",
        "print(AR3)"
      ],
      "execution_count": 17,
      "outputs": [
        {
          "output_type": "stream",
          "text": [
            "[[[ 1  2]\n",
            "  [ 3  4]]\n",
            "\n",
            " [[ 5  6]\n",
            "  [ 7  8]]\n",
            "\n",
            " [[ 9 10]\n",
            "  [11 12]]]\n"
          ],
          "name": "stdout"
        }
      ]
    },
    {
      "cell_type": "code",
      "metadata": {
        "colab": {
          "base_uri": "https://localhost:8080/"
        },
        "id": "kbvU-0eShkos",
        "outputId": "6e6e0b15-e123-479a-d317-1e1f3684eb3b"
      },
      "source": [
        "AR3.shape"
      ],
      "execution_count": 18,
      "outputs": [
        {
          "output_type": "execute_result",
          "data": {
            "text/plain": [
              "(3, 2, 2)"
            ]
          },
          "metadata": {
            "tags": []
          },
          "execution_count": 18
        }
      ]
    },
    {
      "cell_type": "markdown",
      "metadata": {
        "id": "OniSWRfBhoaQ"
      },
      "source": [
        "### 4) 범위지정(arange) 함수 사용\n",
        "(1) 10개의 연속된 값 생성"
      ]
    },
    {
      "cell_type": "code",
      "metadata": {
        "colab": {
          "base_uri": "https://localhost:8080/"
        },
        "id": "FJhAXHf7htJ-",
        "outputId": "dd60fb06-4671-470b-ccaf-2174436d5e95"
      },
      "source": [
        "np.arange(10)"
      ],
      "execution_count": 19,
      "outputs": [
        {
          "output_type": "execute_result",
          "data": {
            "text/plain": [
              "array([0, 1, 2, 3, 4, 5, 6, 7, 8, 9])"
            ]
          },
          "metadata": {
            "tags": []
          },
          "execution_count": 19
        }
      ]
    },
    {
      "cell_type": "markdown",
      "metadata": {
        "id": "mnx50nH_hxoL"
      },
      "source": [
        "(2) 1부터 9까지 1 간격으로 생성"
      ]
    },
    {
      "cell_type": "code",
      "metadata": {
        "colab": {
          "base_uri": "https://localhost:8080/"
        },
        "id": "tIxFyB-lh0g8",
        "outputId": "e7f2d1fe-6fce-4dbc-87fc-31547fea0a3a"
      },
      "source": [
        "np.arange(1, 10)"
      ],
      "execution_count": 20,
      "outputs": [
        {
          "output_type": "execute_result",
          "data": {
            "text/plain": [
              "array([1, 2, 3, 4, 5, 6, 7, 8, 9])"
            ]
          },
          "metadata": {
            "tags": []
          },
          "execution_count": 20
        }
      ]
    },
    {
      "cell_type": "markdown",
      "metadata": {
        "id": "9kVDrss7h3uy"
      },
      "source": [
        "(3) 1부터 9까지 2 간격으로 생성"
      ]
    },
    {
      "cell_type": "code",
      "metadata": {
        "colab": {
          "base_uri": "https://localhost:8080/"
        },
        "id": "lArsT04ch6K5",
        "outputId": "bc21a9c0-93e0-4109-971d-8d0a5b539c9c"
      },
      "source": [
        "np.arange(1, 10, 2)"
      ],
      "execution_count": 21,
      "outputs": [
        {
          "output_type": "execute_result",
          "data": {
            "text/plain": [
              "array([1, 3, 5, 7, 9])"
            ]
          },
          "metadata": {
            "tags": []
          },
          "execution_count": 21
        }
      ]
    },
    {
      "cell_type": "markdown",
      "metadata": {
        "id": "zBRIyPaLh9C2"
      },
      "source": [
        "(4) 생성된 Array에 .reshape() 적용"
      ]
    },
    {
      "cell_type": "code",
      "metadata": {
        "colab": {
          "base_uri": "https://localhost:8080/"
        },
        "id": "JQnBVGRTh79v",
        "outputId": "879210ad-602f-470c-d714-a52bca27b3ff"
      },
      "source": [
        "np.arange(1, 10).reshape(3, 3)"
      ],
      "execution_count": 22,
      "outputs": [
        {
          "output_type": "execute_result",
          "data": {
            "text/plain": [
              "array([[1, 2, 3],\n",
              "       [4, 5, 6],\n",
              "       [7, 8, 9]])"
            ]
          },
          "metadata": {
            "tags": []
          },
          "execution_count": 22
        }
      ]
    },
    {
      "cell_type": "markdown",
      "metadata": {
        "id": "ikiBBJRjiDXh"
      },
      "source": [
        "### 5) 특별한 형태의 Array 생성\n",
        "#### (1) 0과 1로만 구성된 Array"
      ]
    },
    {
      "cell_type": "code",
      "metadata": {
        "colab": {
          "base_uri": "https://localhost:8080/"
        },
        "id": "CSPbYPY_iGQg",
        "outputId": "32388bc5-6877-4cfc-e035-602192310598"
      },
      "source": [
        "# tensorflow는 float만 받는다\n",
        "np.zeros(9)"
      ],
      "execution_count": 23,
      "outputs": [
        {
          "output_type": "execute_result",
          "data": {
            "text/plain": [
              "array([0., 0., 0., 0., 0., 0., 0., 0., 0.])"
            ]
          },
          "metadata": {
            "tags": []
          },
          "execution_count": 23
        }
      ]
    },
    {
      "cell_type": "code",
      "metadata": {
        "colab": {
          "base_uri": "https://localhost:8080/"
        },
        "id": "rdG8oNNrh2un",
        "outputId": "8ff63a2e-df90-4a16-aa5a-8fc4b3c59d72"
      },
      "source": [
        "np.ones(9)"
      ],
      "execution_count": 24,
      "outputs": [
        {
          "output_type": "execute_result",
          "data": {
            "text/plain": [
              "array([1., 1., 1., 1., 1., 1., 1., 1., 1.])"
            ]
          },
          "metadata": {
            "tags": []
          },
          "execution_count": 24
        }
      ]
    },
    {
      "cell_type": "code",
      "metadata": {
        "colab": {
          "base_uri": "https://localhost:8080/"
        },
        "id": "FvXVfm7YiPvi",
        "outputId": "02236290-3457-4cbf-daf2-fdd8303c8a3a"
      },
      "source": [
        "np.zeros([3, 4])"
      ],
      "execution_count": 25,
      "outputs": [
        {
          "output_type": "execute_result",
          "data": {
            "text/plain": [
              "array([[0., 0., 0., 0.],\n",
              "       [0., 0., 0., 0.],\n",
              "       [0., 0., 0., 0.]])"
            ]
          },
          "metadata": {
            "tags": []
          },
          "execution_count": 25
        }
      ]
    },
    {
      "cell_type": "code",
      "metadata": {
        "colab": {
          "base_uri": "https://localhost:8080/"
        },
        "id": "XgWSZLvCiR4I",
        "outputId": "e0afdf89-4d7e-4375-fd03-dbf51566c188"
      },
      "source": [
        "np.ones([4, 3])"
      ],
      "execution_count": 26,
      "outputs": [
        {
          "output_type": "execute_result",
          "data": {
            "text/plain": [
              "array([[1., 1., 1.],\n",
              "       [1., 1., 1.],\n",
              "       [1., 1., 1.],\n",
              "       [1., 1., 1.]])"
            ]
          },
          "metadata": {
            "tags": []
          },
          "execution_count": 26
        }
      ]
    },
    {
      "cell_type": "markdown",
      "metadata": {
        "id": "WIBUPv2miVVH"
      },
      "source": [
        "#### (2) 3 * 3 단위행렬"
      ]
    },
    {
      "cell_type": "code",
      "metadata": {
        "colab": {
          "base_uri": "https://localhost:8080/"
        },
        "id": "vnCDVkE1iXfA",
        "outputId": "da195991-6391-4e7f-ddf3-5ae00afbe1ee"
      },
      "source": [
        "np.eye(3)"
      ],
      "execution_count": 27,
      "outputs": [
        {
          "output_type": "execute_result",
          "data": {
            "text/plain": [
              "array([[1., 0., 0.],\n",
              "       [0., 1., 0.],\n",
              "       [0., 0., 1.]])"
            ]
          },
          "metadata": {
            "tags": []
          },
          "execution_count": 27
        }
      ]
    },
    {
      "cell_type": "markdown",
      "metadata": {
        "id": "EA_31mz6iZ4z"
      },
      "source": [
        "#### (3) 난수 Array 생성"
      ]
    },
    {
      "cell_type": "code",
      "metadata": {
        "colab": {
          "base_uri": "https://localhost:8080/"
        },
        "id": "HnwbMUi8icsq",
        "outputId": "4c0b551e-5ec5-4cd1-de9c-baea81767a87"
      },
      "source": [
        "# rand : 0~1 사이 무작위\n",
        "\n",
        "np.random.rand(3, 2, 2)"
      ],
      "execution_count": 28,
      "outputs": [
        {
          "output_type": "execute_result",
          "data": {
            "text/plain": [
              "array([[[0.97162993, 0.57382965],\n",
              "        [0.46193608, 0.93605699]],\n",
              "\n",
              "       [[0.4472054 , 0.58161014],\n",
              "        [0.7829851 , 0.91393195]],\n",
              "\n",
              "       [[0.96208667, 0.97533405],\n",
              "        [0.92426734, 0.0459116 ]]])"
            ]
          },
          "metadata": {
            "tags": []
          },
          "execution_count": 28
        }
      ]
    },
    {
      "cell_type": "code",
      "metadata": {
        "colab": {
          "base_uri": "https://localhost:8080/"
        },
        "id": "CwOdYc0Wie0h",
        "outputId": "9ecd10c5-23ac-4a75-b2a9-5ff72ab2ec17"
      },
      "source": [
        "# randint : 복원추출함(겹침)\n",
        "np.random.randint(1, 45, size = (5, 6))"
      ],
      "execution_count": 29,
      "outputs": [
        {
          "output_type": "execute_result",
          "data": {
            "text/plain": [
              "array([[40, 20, 18,  7,  3,  1],\n",
              "       [15,  3, 41, 24, 27, 31],\n",
              "       [31, 24, 43, 30, 34, 25],\n",
              "       [25, 43, 32, 10, 17, 14],\n",
              "       [17, 44, 31, 26, 34, 21]])"
            ]
          },
          "metadata": {
            "tags": []
          },
          "execution_count": 29
        }
      ]
    },
    {
      "cell_type": "code",
      "metadata": {
        "colab": {
          "base_uri": "https://localhost:8080/"
        },
        "id": "hBggCucPivO_",
        "outputId": "bc2ac14c-e220-45dd-bfdd-09d18bc2a301"
      },
      "source": [
        "np.random.seed(2045) # 실험의 복원\n",
        "\n",
        "# random.choice replace=False(비복원추출)를 사용하면 겹치지 않음\n",
        "\n",
        "np.random.choice(np.arange(1, 46), size = (5, 6), replace=False)"
      ],
      "execution_count": 30,
      "outputs": [
        {
          "output_type": "execute_result",
          "data": {
            "text/plain": [
              "array([[ 7, 32,  6, 41,  4, 34],\n",
              "       [30, 28, 16,  5, 38, 33],\n",
              "       [31, 13, 25, 23, 43, 12],\n",
              "       [45,  8, 29, 22, 18,  9],\n",
              "       [21, 20, 40,  2, 37, 39]])"
            ]
          },
          "metadata": {
            "tags": []
          },
          "execution_count": 30
        }
      ]
    },
    {
      "cell_type": "markdown",
      "metadata": {
        "id": "z6vfaOndi8ql"
      },
      "source": [
        "### 6) Array 연산"
      ]
    },
    {
      "cell_type": "code",
      "metadata": {
        "id": "Sno0vKlGi_tp"
      },
      "source": [
        "a1 = np.array([1, 3, 5, 7, 9])\n",
        "a2 = np.array([10, 30, 50, 70, 90])"
      ],
      "execution_count": 31,
      "outputs": []
    },
    {
      "cell_type": "markdown",
      "metadata": {
        "id": "Xyv34EtcjGRM"
      },
      "source": [
        "#### (1) 기본연산"
      ]
    },
    {
      "cell_type": "code",
      "metadata": {
        "colab": {
          "base_uri": "https://localhost:8080/"
        },
        "id": "YD4LpO3mjIWJ",
        "outputId": "b0e3d3ca-9b80-489c-b959-3f060b26b202"
      },
      "source": [
        "a1 + a2"
      ],
      "execution_count": 32,
      "outputs": [
        {
          "output_type": "execute_result",
          "data": {
            "text/plain": [
              "array([11, 33, 55, 77, 99])"
            ]
          },
          "metadata": {
            "tags": []
          },
          "execution_count": 32
        }
      ]
    },
    {
      "cell_type": "code",
      "metadata": {
        "colab": {
          "base_uri": "https://localhost:8080/"
        },
        "id": "5j_FLtO7jFVh",
        "outputId": "4c04a5fc-8af6-42c9-e9b2-76e6581dab9f"
      },
      "source": [
        "a2 - a1"
      ],
      "execution_count": 33,
      "outputs": [
        {
          "output_type": "execute_result",
          "data": {
            "text/plain": [
              "array([ 9, 27, 45, 63, 81])"
            ]
          },
          "metadata": {
            "tags": []
          },
          "execution_count": 33
        }
      ]
    },
    {
      "cell_type": "code",
      "metadata": {
        "colab": {
          "base_uri": "https://localhost:8080/"
        },
        "id": "6If2n5l8i7fT",
        "outputId": "79ea68db-a676-4d5e-bd2a-e05c6f1764e6"
      },
      "source": [
        "a1 * a2"
      ],
      "execution_count": 34,
      "outputs": [
        {
          "output_type": "execute_result",
          "data": {
            "text/plain": [
              "array([ 10,  90, 250, 490, 810])"
            ]
          },
          "metadata": {
            "tags": []
          },
          "execution_count": 34
        }
      ]
    },
    {
      "cell_type": "code",
      "metadata": {
        "colab": {
          "base_uri": "https://localhost:8080/"
        },
        "id": "pLWmKwHEiY36",
        "outputId": "5d7f3b27-74c8-4757-c164-d08da6b2e4a2"
      },
      "source": [
        "a2 / a1"
      ],
      "execution_count": 35,
      "outputs": [
        {
          "output_type": "execute_result",
          "data": {
            "text/plain": [
              "array([10., 10., 10., 10., 10.])"
            ]
          },
          "metadata": {
            "tags": []
          },
          "execution_count": 35
        }
      ]
    },
    {
      "cell_type": "code",
      "metadata": {
        "colab": {
          "base_uri": "https://localhost:8080/"
        },
        "id": "ztQ3WjQOjRcm",
        "outputId": "b55bd618-d25c-4e3f-8d24-9d792f82d9ce"
      },
      "source": [
        "a1 ** 2 # 브로드캐스트 연산"
      ],
      "execution_count": 36,
      "outputs": [
        {
          "output_type": "execute_result",
          "data": {
            "text/plain": [
              "array([ 1,  9, 25, 49, 81])"
            ]
          },
          "metadata": {
            "tags": []
          },
          "execution_count": 36
        }
      ]
    },
    {
      "cell_type": "markdown",
      "metadata": {
        "id": "6A-dmeqyjRD-"
      },
      "source": [
        "#### (2) 통계량 연산\n",
        "- 총합"
      ]
    },
    {
      "cell_type": "code",
      "metadata": {
        "colab": {
          "base_uri": "https://localhost:8080/"
        },
        "id": "y_IVnKKGjXaL",
        "outputId": "7ff0bccd-2769-4e4e-dbd5-136eda874b72"
      },
      "source": [
        "a1.sum()"
      ],
      "execution_count": 37,
      "outputs": [
        {
          "output_type": "execute_result",
          "data": {
            "text/plain": [
              "25"
            ]
          },
          "metadata": {
            "tags": []
          },
          "execution_count": 37
        }
      ]
    },
    {
      "cell_type": "markdown",
      "metadata": {
        "id": "lS0S6KtXjakG"
      },
      "source": [
        "- 평균"
      ]
    },
    {
      "cell_type": "code",
      "metadata": {
        "colab": {
          "base_uri": "https://localhost:8080/"
        },
        "id": "sAyR9Dj_jcE7",
        "outputId": "9a3453c3-3342-4939-eddc-aa0dbdfcd767"
      },
      "source": [
        "a2.mean()"
      ],
      "execution_count": 38,
      "outputs": [
        {
          "output_type": "execute_result",
          "data": {
            "text/plain": [
              "50.0"
            ]
          },
          "metadata": {
            "tags": []
          },
          "execution_count": 38
        }
      ]
    },
    {
      "cell_type": "markdown",
      "metadata": {
        "id": "k_qCc3EZjee4"
      },
      "source": [
        "- 표준편차"
      ]
    },
    {
      "cell_type": "code",
      "metadata": {
        "colab": {
          "base_uri": "https://localhost:8080/"
        },
        "id": "GlJ0zQzzjfxN",
        "outputId": "38d01963-4e5c-4a8e-bb0c-1a5486441c7d"
      },
      "source": [
        "a2.std()"
      ],
      "execution_count": 39,
      "outputs": [
        {
          "output_type": "execute_result",
          "data": {
            "text/plain": [
              "28.284271247461902"
            ]
          },
          "metadata": {
            "tags": []
          },
          "execution_count": 39
        }
      ]
    },
    {
      "cell_type": "markdown",
      "metadata": {
        "id": "5RG4huJejiNs"
      },
      "source": [
        "- 최소값"
      ]
    },
    {
      "cell_type": "code",
      "metadata": {
        "colab": {
          "base_uri": "https://localhost:8080/"
        },
        "id": "cC-SOlIYjj5P",
        "outputId": "a85daaab-5297-432c-fe41-d9bd2494fba9"
      },
      "source": [
        "a2.min()"
      ],
      "execution_count": 40,
      "outputs": [
        {
          "output_type": "execute_result",
          "data": {
            "text/plain": [
              "10"
            ]
          },
          "metadata": {
            "tags": []
          },
          "execution_count": 40
        }
      ]
    },
    {
      "cell_type": "markdown",
      "metadata": {
        "id": "o1qVRlnTjnbn"
      },
      "source": [
        "- 최대값"
      ]
    },
    {
      "cell_type": "code",
      "metadata": {
        "colab": {
          "base_uri": "https://localhost:8080/"
        },
        "id": "wj2I33QkjpCO",
        "outputId": "856186d7-360d-4a7b-fb79-bd9b363bb46b"
      },
      "source": [
        "a2.max()"
      ],
      "execution_count": 41,
      "outputs": [
        {
          "output_type": "execute_result",
          "data": {
            "text/plain": [
              "90"
            ]
          },
          "metadata": {
            "tags": []
          },
          "execution_count": 41
        }
      ]
    },
    {
      "cell_type": "markdown",
      "metadata": {
        "id": "daGArlN3jrWs"
      },
      "source": [
        "- 누적합(Cumulative)"
      ]
    },
    {
      "cell_type": "code",
      "metadata": {
        "colab": {
          "base_uri": "https://localhost:8080/"
        },
        "id": "pv56QOyQjmpT",
        "outputId": "18ff3b55-3166-4629-b675-a71e4c5b0082"
      },
      "source": [
        "a1.cumsum()"
      ],
      "execution_count": 42,
      "outputs": [
        {
          "output_type": "execute_result",
          "data": {
            "text/plain": [
              "array([ 1,  4,  9, 16, 25])"
            ]
          },
          "metadata": {
            "tags": []
          },
          "execution_count": 42
        }
      ]
    },
    {
      "cell_type": "markdown",
      "metadata": {
        "id": "Z0MwA9vvjwRP"
      },
      "source": [
        "- 누적곱(Cumulative)"
      ]
    },
    {
      "cell_type": "code",
      "metadata": {
        "colab": {
          "base_uri": "https://localhost:8080/"
        },
        "id": "UdkT3eZ4jhAw",
        "outputId": "dc605103-c191-4ecc-a4c2-fe09b4bd8d96"
      },
      "source": [
        "a1.cumprod()"
      ],
      "execution_count": 43,
      "outputs": [
        {
          "output_type": "execute_result",
          "data": {
            "text/plain": [
              "array([  1,   3,  15, 105, 945])"
            ]
          },
          "metadata": {
            "tags": []
          },
          "execution_count": 43
        }
      ]
    },
    {
      "cell_type": "markdown",
      "metadata": {
        "id": "yCHogwoqj3K2"
      },
      "source": [
        "### 7) Matrix 연산\n",
        "- A1, A2지정"
      ]
    },
    {
      "cell_type": "code",
      "metadata": {
        "colab": {
          "base_uri": "https://localhost:8080/"
        },
        "id": "yEfxEAscjdrC",
        "outputId": "ccb58de0-d9bb-40f7-e725-2dbdb29f848e"
      },
      "source": [
        "A1 = np.array([2,4,6,8]).reshape(2,2)\n",
        "print(A1)"
      ],
      "execution_count": 44,
      "outputs": [
        {
          "output_type": "stream",
          "text": [
            "[[2 4]\n",
            " [6 8]]\n"
          ],
          "name": "stdout"
        }
      ]
    },
    {
      "cell_type": "code",
      "metadata": {
        "colab": {
          "base_uri": "https://localhost:8080/"
        },
        "id": "exSAHGnXjZJ_",
        "outputId": "11a4bad1-15db-4089-f309-ce28dfade382"
      },
      "source": [
        "A2 = np.array([3,5,7,9]).reshape(2,2)\n",
        "print(A2)"
      ],
      "execution_count": 45,
      "outputs": [
        {
          "output_type": "stream",
          "text": [
            "[[3 5]\n",
            " [7 9]]\n"
          ],
          "name": "stdout"
        }
      ]
    },
    {
      "cell_type": "markdown",
      "metadata": {
        "id": "okZ2HvF_kWYG"
      },
      "source": [
        "#### (1) Matrix 곱 - A1 @ A2\n",
        "- A1 @ A2"
      ]
    },
    {
      "cell_type": "code",
      "metadata": {
        "colab": {
          "base_uri": "https://localhost:8080/"
        },
        "id": "1iXk3mu3kbs5",
        "outputId": "909f4270-c869-4330-899f-13d744c3f470"
      },
      "source": [
        "A1.dot(A2)"
      ],
      "execution_count": 46,
      "outputs": [
        {
          "output_type": "execute_result",
          "data": {
            "text/plain": [
              "array([[ 34,  46],\n",
              "       [ 74, 102]])"
            ]
          },
          "metadata": {
            "tags": []
          },
          "execution_count": 46
        }
      ]
    },
    {
      "cell_type": "markdown",
      "metadata": {
        "id": "Ma5nZJxSkfYe"
      },
      "source": [
        "- A2 @ A1"
      ]
    },
    {
      "cell_type": "code",
      "metadata": {
        "colab": {
          "base_uri": "https://localhost:8080/"
        },
        "id": "ybyxgWnQkhWB",
        "outputId": "11f37d19-b3ea-4c5e-8cd6-b4f6ef170772"
      },
      "source": [
        "np.dot(A2, A1)"
      ],
      "execution_count": 47,
      "outputs": [
        {
          "output_type": "execute_result",
          "data": {
            "text/plain": [
              "array([[ 36,  52],\n",
              "       [ 68, 100]])"
            ]
          },
          "metadata": {
            "tags": []
          },
          "execution_count": 47
        }
      ]
    },
    {
      "cell_type": "markdown",
      "metadata": {
        "id": "hHQKtCaWkkgB"
      },
      "source": [
        "- Warning: A1 * A2"
      ]
    },
    {
      "cell_type": "code",
      "metadata": {
        "colab": {
          "base_uri": "https://localhost:8080/"
        },
        "id": "5UpZ8gITkm5H",
        "outputId": "85511b23-bcaa-413e-bc31-ec38accba09c"
      },
      "source": [
        "A1 * A2"
      ],
      "execution_count": 48,
      "outputs": [
        {
          "output_type": "execute_result",
          "data": {
            "text/plain": [
              "array([[ 6, 20],\n",
              "       [42, 72]])"
            ]
          },
          "metadata": {
            "tags": []
          },
          "execution_count": 48
        }
      ]
    },
    {
      "cell_type": "markdown",
      "metadata": {
        "id": "Ai9oKjFbkpkn"
      },
      "source": [
        "#### (2) 전치행렬\n",
        "- A1의 전치행렬"
      ]
    },
    {
      "cell_type": "code",
      "metadata": {
        "colab": {
          "base_uri": "https://localhost:8080/"
        },
        "id": "n5Fqtg-PktZ0",
        "outputId": "7e0c4a71-ea55-42fb-8173-6e0929193f81"
      },
      "source": [
        "np.transpose(A1)"
      ],
      "execution_count": 49,
      "outputs": [
        {
          "output_type": "execute_result",
          "data": {
            "text/plain": [
              "array([[2, 6],\n",
              "       [4, 8]])"
            ]
          },
          "metadata": {
            "tags": []
          },
          "execution_count": 49
        }
      ]
    },
    {
      "cell_type": "markdown",
      "metadata": {
        "id": "2KBuRIxykxWZ"
      },
      "source": [
        "- A2의 전치행렬"
      ]
    },
    {
      "cell_type": "code",
      "metadata": {
        "colab": {
          "base_uri": "https://localhost:8080/"
        },
        "id": "vqEdxF1Xkz6W",
        "outputId": "cdd02f03-1669-4fd7-d2dd-bbdaa45d6899"
      },
      "source": [
        "A2.transpose()"
      ],
      "execution_count": 50,
      "outputs": [
        {
          "output_type": "execute_result",
          "data": {
            "text/plain": [
              "array([[3, 7],\n",
              "       [5, 9]])"
            ]
          },
          "metadata": {
            "tags": []
          },
          "execution_count": 50
        }
      ]
    },
    {
      "cell_type": "code",
      "metadata": {
        "id": "4s_8e_ikk1kg"
      },
      "source": [
        ""
      ],
      "execution_count": null,
      "outputs": []
    },
    {
      "cell_type": "code",
      "metadata": {
        "id": "vZTRL8k8kwJ0"
      },
      "source": [
        ""
      ],
      "execution_count": null,
      "outputs": []
    },
    {
      "cell_type": "code",
      "metadata": {
        "id": "a5yvlHOJkop_"
      },
      "source": [
        ""
      ],
      "execution_count": null,
      "outputs": []
    },
    {
      "cell_type": "code",
      "metadata": {
        "id": "tZ_Mdjfekjsu"
      },
      "source": [
        ""
      ],
      "execution_count": null,
      "outputs": []
    },
    {
      "cell_type": "code",
      "metadata": {
        "id": "4m8Kf9K5kdLp"
      },
      "source": [
        ""
      ],
      "execution_count": null,
      "outputs": []
    },
    {
      "cell_type": "code",
      "metadata": {
        "id": "iWn-Nl8Zhu8u"
      },
      "source": [
        ""
      ],
      "execution_count": null,
      "outputs": []
    },
    {
      "cell_type": "code",
      "metadata": {
        "id": "-Wt3NFnmXp2R"
      },
      "source": [
        ""
      ],
      "execution_count": null,
      "outputs": []
    },
    {
      "cell_type": "code",
      "metadata": {
        "id": "gP1iIErjb_X1"
      },
      "source": [
        ""
      ],
      "execution_count": null,
      "outputs": []
    }
  ]
}