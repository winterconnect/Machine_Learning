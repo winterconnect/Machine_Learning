{
  "nbformat": 4,
  "nbformat_minor": 0,
  "metadata": {
    "colab": {
      "name": "Python_Packages.ipynb",
      "provenance": [],
      "collapsed_sections": []
    },
    "kernelspec": {
      "name": "python3",
      "display_name": "Python 3"
    }
  },
  "cells": [
    {
      "cell_type": "markdown",
      "metadata": {
        "id": "e7x6QFCSfWar"
      },
      "source": [
        "# Python Packages"
      ]
    },
    {
      "cell_type": "code",
      "metadata": {
        "id": "vAyiRFQ7fZl6"
      },
      "source": [
        "import warnings\n",
        "warnings.filterwarnings('ignore')"
      ],
      "execution_count": 56,
      "outputs": []
    },
    {
      "cell_type": "markdown",
      "metadata": {
        "id": "r8XiJ1ZsfqD1"
      },
      "source": [
        "## 1. numpy\n",
        "- 수학 및 과학적 연산을 쉽고 빠르게 지원\n",
        "- 다차원 행열(Array)을 효과적으로 처리\n",
        "\n",
        "### 1) numpy Package import"
      ]
    },
    {
      "cell_type": "code",
      "metadata": {
        "id": "L_QGapK9fchd"
      },
      "source": [
        "import numpy as np"
      ],
      "execution_count": null,
      "outputs": []
    },
    {
      "cell_type": "markdown",
      "metadata": {
        "id": "ZBihiJakfsvq"
      },
      "source": [
        "### 2) Array 생성\n",
        "#### (1) Scalar - 0D Array - Rank0 Tensor\n",
        "- Rank:'축'을 의미"
      ]
    },
    {
      "cell_type": "code",
      "metadata": {
        "colab": {
          "base_uri": "https://localhost:8080/"
        },
        "id": "Cr_sYpHqfyfH",
        "outputId": "4a90ccba-4737-4a2a-8076-a35417ae991f"
      },
      "source": [
        "a0 = np.array(9)\n",
        "# 하나의 데이터(data point)\n",
        "print(a0)"
      ],
      "execution_count": null,
      "outputs": [
        {
          "output_type": "stream",
          "text": [
            "9\n"
          ],
          "name": "stdout"
        }
      ]
    },
    {
      "cell_type": "markdown",
      "metadata": {
        "id": "_6nGqV54f22V"
      },
      "source": [
        "#### (2) Vector - 1D Array - Rank1 Tensor\n",
        "\n",
        "- 파이썬의 리스트를 np의 array로 캐스팅"
      ]
    },
    {
      "cell_type": "code",
      "metadata": {
        "colab": {
          "base_uri": "https://localhost:8080/"
        },
        "id": "fXSRZK9Pfrtc",
        "outputId": "9979552f-8f07-4da7-e2f5-88b154a4facc"
      },
      "source": [
        "a1 = np.array([1, 3, 5, 7, 9])\n",
        "print(a1)\n",
        "\n"
      ],
      "execution_count": null,
      "outputs": [
        {
          "output_type": "stream",
          "text": [
            "[1 3 5 7 9]\n"
          ],
          "name": "stdout"
        }
      ]
    },
    {
      "cell_type": "code",
      "metadata": {
        "colab": {
          "base_uri": "https://localhost:8080/"
        },
        "id": "uMqXkTwNfo2n",
        "outputId": "96a4c278-f3b6-449c-8e87-5d5d7594b5d5"
      },
      "source": [
        "a1\n",
        "\n",
        "# print 를 지워보면, array 로 표시됨\n",
        "# array: 데이터를 설명하기 위한 추가 데이터 (메타데이터)\n",
        "# type이 list 가 아니라 np.array"
      ],
      "execution_count": null,
      "outputs": [
        {
          "output_type": "execute_result",
          "data": {
            "text/plain": [
              "array([1, 3, 5, 7, 9])"
            ]
          },
          "metadata": {
            "tags": []
          },
          "execution_count": 7
        }
      ]
    },
    {
      "cell_type": "markdown",
      "metadata": {
        "id": "9K50fb6hfU7R"
      },
      "source": [
        "#### (3) Matrix - 2D Array - Rank2 Tensor"
      ]
    },
    {
      "cell_type": "code",
      "metadata": {
        "colab": {
          "base_uri": "https://localhost:8080/"
        },
        "id": "6p1gIj0YgZ2z",
        "outputId": "0c34ec2f-c306-4892-f1e2-1c745d44d267"
      },
      "source": [
        "a2 = np.array([[1, 2, 3],\n",
        "               [4, 5, 6],\n",
        "               [7, 8, 9]])\n",
        "\n",
        "print(a2)"
      ],
      "execution_count": null,
      "outputs": [
        {
          "output_type": "stream",
          "text": [
            "[[1 2 3]\n",
            " [4 5 6]\n",
            " [7 8 9]]\n"
          ],
          "name": "stdout"
        }
      ]
    },
    {
      "cell_type": "markdown",
      "metadata": {
        "id": "TjpZjBJxgkYU"
      },
      "source": [
        "### (4) Array - 3D Array - Rank3 Tensor"
      ]
    },
    {
      "cell_type": "code",
      "metadata": {
        "colab": {
          "base_uri": "https://localhost:8080/"
        },
        "id": "uDxP9wY_goVc",
        "outputId": "36585d2a-2b25-42f9-ab44-1eb52ccacdfe"
      },
      "source": [
        "a3 = np.array([[[1, 2],\n",
        "                [3, 4]],\n",
        "               [[5, 6],\n",
        "                [7, 8]],\n",
        "               [[9, 10],\n",
        "                [11, 12]]])\n",
        "\n",
        "print(a3)"
      ],
      "execution_count": null,
      "outputs": [
        {
          "output_type": "stream",
          "text": [
            "[[[ 1  2]\n",
            "  [ 3  4]]\n",
            "\n",
            " [[ 5  6]\n",
            "  [ 7  8]]\n",
            "\n",
            " [[ 9 10]\n",
            "  [11 12]]]\n"
          ],
          "name": "stdout"
        }
      ]
    },
    {
      "cell_type": "markdown",
      "metadata": {
        "id": "F5U3nb_mhAOC"
      },
      "source": [
        "### 3) AR.shape and AR.reshape()"
      ]
    },
    {
      "cell_type": "code",
      "metadata": {
        "colab": {
          "base_uri": "https://localhost:8080/"
        },
        "id": "uuAzNnjWgzWE",
        "outputId": "656ba8a7-86fc-4472-890f-930bb60e06ef"
      },
      "source": [
        "AR = np.array([1, 2, 3, 4, 5, 6, 7, 8, 9, 10, 11, 12])\n",
        "print(AR)"
      ],
      "execution_count": null,
      "outputs": [
        {
          "output_type": "stream",
          "text": [
            "[ 1  2  3  4  5  6  7  8  9 10 11 12]\n"
          ],
          "name": "stdout"
        }
      ]
    },
    {
      "cell_type": "markdown",
      "metadata": {
        "id": "c7CuGXmvhKes"
      },
      "source": [
        "#### (1) .shape"
      ]
    },
    {
      "cell_type": "code",
      "metadata": {
        "colab": {
          "base_uri": "https://localhost:8080/"
        },
        "id": "kdyCVfQUhNla",
        "outputId": "d40ce6cc-aa15-4cb7-d92b-941619493efc"
      },
      "source": [
        "AR.shape"
      ],
      "execution_count": null,
      "outputs": [
        {
          "output_type": "execute_result",
          "data": {
            "text/plain": [
              "(12,)"
            ]
          },
          "metadata": {
            "tags": []
          },
          "execution_count": 14
        }
      ]
    },
    {
      "cell_type": "markdown",
      "metadata": {
        "id": "STiTNnTyhNGp"
      },
      "source": [
        "#### .reshape(행,열)"
      ]
    },
    {
      "cell_type": "code",
      "metadata": {
        "colab": {
          "base_uri": "https://localhost:8080/"
        },
        "id": "Qgouch-whVFJ",
        "outputId": "2036a4e0-db0d-4ffd-beff-201ed541618d"
      },
      "source": [
        "AR2 = AR.reshape(3,4)\n",
        "print(AR2)"
      ],
      "execution_count": null,
      "outputs": [
        {
          "output_type": "stream",
          "text": [
            "[[ 1  2  3  4]\n",
            " [ 5  6  7  8]\n",
            " [ 9 10 11 12]]\n"
          ],
          "name": "stdout"
        }
      ]
    },
    {
      "cell_type": "code",
      "metadata": {
        "colab": {
          "base_uri": "https://localhost:8080/"
        },
        "id": "m-6sIlO1hap1",
        "outputId": "3a17b544-dc4b-441c-dfb9-c7961ac95bbd"
      },
      "source": [
        "AR2.shape"
      ],
      "execution_count": null,
      "outputs": [
        {
          "output_type": "execute_result",
          "data": {
            "text/plain": [
              "(3, 4)"
            ]
          },
          "metadata": {
            "tags": []
          },
          "execution_count": 16
        }
      ]
    },
    {
      "cell_type": "markdown",
      "metadata": {
        "id": "NYHTuXjphdsW"
      },
      "source": [
        "#### (3) .reshape(축, 행, 열)"
      ]
    },
    {
      "cell_type": "code",
      "metadata": {
        "colab": {
          "base_uri": "https://localhost:8080/"
        },
        "id": "r1HbimCEhgt5",
        "outputId": "82cf352f-be99-4417-b903-480bf211905f"
      },
      "source": [
        "AR3 = AR.reshape(3, 2, 2)\n",
        "print(AR3)"
      ],
      "execution_count": null,
      "outputs": [
        {
          "output_type": "stream",
          "text": [
            "[[[ 1  2]\n",
            "  [ 3  4]]\n",
            "\n",
            " [[ 5  6]\n",
            "  [ 7  8]]\n",
            "\n",
            " [[ 9 10]\n",
            "  [11 12]]]\n"
          ],
          "name": "stdout"
        }
      ]
    },
    {
      "cell_type": "code",
      "metadata": {
        "colab": {
          "base_uri": "https://localhost:8080/"
        },
        "id": "kbvU-0eShkos",
        "outputId": "6e6e0b15-e123-479a-d317-1e1f3684eb3b"
      },
      "source": [
        "AR3.shape"
      ],
      "execution_count": null,
      "outputs": [
        {
          "output_type": "execute_result",
          "data": {
            "text/plain": [
              "(3, 2, 2)"
            ]
          },
          "metadata": {
            "tags": []
          },
          "execution_count": 18
        }
      ]
    },
    {
      "cell_type": "markdown",
      "metadata": {
        "id": "OniSWRfBhoaQ"
      },
      "source": [
        "### 4) 범위지정(arange) 함수 사용\n",
        "(1) 10개의 연속된 값 생성"
      ]
    },
    {
      "cell_type": "code",
      "metadata": {
        "colab": {
          "base_uri": "https://localhost:8080/"
        },
        "id": "FJhAXHf7htJ-",
        "outputId": "dd60fb06-4671-470b-ccaf-2174436d5e95"
      },
      "source": [
        "np.arange(10)"
      ],
      "execution_count": null,
      "outputs": [
        {
          "output_type": "execute_result",
          "data": {
            "text/plain": [
              "array([0, 1, 2, 3, 4, 5, 6, 7, 8, 9])"
            ]
          },
          "metadata": {
            "tags": []
          },
          "execution_count": 19
        }
      ]
    },
    {
      "cell_type": "markdown",
      "metadata": {
        "id": "mnx50nH_hxoL"
      },
      "source": [
        "(2) 1부터 9까지 1 간격으로 생성"
      ]
    },
    {
      "cell_type": "code",
      "metadata": {
        "colab": {
          "base_uri": "https://localhost:8080/"
        },
        "id": "tIxFyB-lh0g8",
        "outputId": "e7f2d1fe-6fce-4dbc-87fc-31547fea0a3a"
      },
      "source": [
        "np.arange(1, 10)"
      ],
      "execution_count": null,
      "outputs": [
        {
          "output_type": "execute_result",
          "data": {
            "text/plain": [
              "array([1, 2, 3, 4, 5, 6, 7, 8, 9])"
            ]
          },
          "metadata": {
            "tags": []
          },
          "execution_count": 20
        }
      ]
    },
    {
      "cell_type": "markdown",
      "metadata": {
        "id": "9kVDrss7h3uy"
      },
      "source": [
        "(3) 1부터 9까지 2 간격으로 생성"
      ]
    },
    {
      "cell_type": "code",
      "metadata": {
        "colab": {
          "base_uri": "https://localhost:8080/"
        },
        "id": "lArsT04ch6K5",
        "outputId": "bc21a9c0-93e0-4109-971d-8d0a5b539c9c"
      },
      "source": [
        "np.arange(1, 10, 2)"
      ],
      "execution_count": null,
      "outputs": [
        {
          "output_type": "execute_result",
          "data": {
            "text/plain": [
              "array([1, 3, 5, 7, 9])"
            ]
          },
          "metadata": {
            "tags": []
          },
          "execution_count": 21
        }
      ]
    },
    {
      "cell_type": "markdown",
      "metadata": {
        "id": "zBRIyPaLh9C2"
      },
      "source": [
        "(4) 생성된 Array에 .reshape() 적용"
      ]
    },
    {
      "cell_type": "code",
      "metadata": {
        "colab": {
          "base_uri": "https://localhost:8080/"
        },
        "id": "JQnBVGRTh79v",
        "outputId": "879210ad-602f-470c-d714-a52bca27b3ff"
      },
      "source": [
        "np.arange(1, 10).reshape(3, 3)"
      ],
      "execution_count": null,
      "outputs": [
        {
          "output_type": "execute_result",
          "data": {
            "text/plain": [
              "array([[1, 2, 3],\n",
              "       [4, 5, 6],\n",
              "       [7, 8, 9]])"
            ]
          },
          "metadata": {
            "tags": []
          },
          "execution_count": 22
        }
      ]
    },
    {
      "cell_type": "markdown",
      "metadata": {
        "id": "ikiBBJRjiDXh"
      },
      "source": [
        "### 5) 특별한 형태의 Array 생성\n",
        "#### (1) 0과 1로만 구성된 Array"
      ]
    },
    {
      "cell_type": "code",
      "metadata": {
        "colab": {
          "base_uri": "https://localhost:8080/"
        },
        "id": "CSPbYPY_iGQg",
        "outputId": "32388bc5-6877-4cfc-e035-602192310598"
      },
      "source": [
        "# tensorflow는 float만 받는다\n",
        "np.zeros(9)"
      ],
      "execution_count": null,
      "outputs": [
        {
          "output_type": "execute_result",
          "data": {
            "text/plain": [
              "array([0., 0., 0., 0., 0., 0., 0., 0., 0.])"
            ]
          },
          "metadata": {
            "tags": []
          },
          "execution_count": 23
        }
      ]
    },
    {
      "cell_type": "code",
      "metadata": {
        "colab": {
          "base_uri": "https://localhost:8080/"
        },
        "id": "rdG8oNNrh2un",
        "outputId": "8ff63a2e-df90-4a16-aa5a-8fc4b3c59d72"
      },
      "source": [
        "np.ones(9)"
      ],
      "execution_count": null,
      "outputs": [
        {
          "output_type": "execute_result",
          "data": {
            "text/plain": [
              "array([1., 1., 1., 1., 1., 1., 1., 1., 1.])"
            ]
          },
          "metadata": {
            "tags": []
          },
          "execution_count": 24
        }
      ]
    },
    {
      "cell_type": "code",
      "metadata": {
        "colab": {
          "base_uri": "https://localhost:8080/"
        },
        "id": "FvXVfm7YiPvi",
        "outputId": "02236290-3457-4cbf-daf2-fdd8303c8a3a"
      },
      "source": [
        "np.zeros([3, 4])"
      ],
      "execution_count": null,
      "outputs": [
        {
          "output_type": "execute_result",
          "data": {
            "text/plain": [
              "array([[0., 0., 0., 0.],\n",
              "       [0., 0., 0., 0.],\n",
              "       [0., 0., 0., 0.]])"
            ]
          },
          "metadata": {
            "tags": []
          },
          "execution_count": 25
        }
      ]
    },
    {
      "cell_type": "code",
      "metadata": {
        "colab": {
          "base_uri": "https://localhost:8080/"
        },
        "id": "XgWSZLvCiR4I",
        "outputId": "e0afdf89-4d7e-4375-fd03-dbf51566c188"
      },
      "source": [
        "np.ones([4, 3])"
      ],
      "execution_count": null,
      "outputs": [
        {
          "output_type": "execute_result",
          "data": {
            "text/plain": [
              "array([[1., 1., 1.],\n",
              "       [1., 1., 1.],\n",
              "       [1., 1., 1.],\n",
              "       [1., 1., 1.]])"
            ]
          },
          "metadata": {
            "tags": []
          },
          "execution_count": 26
        }
      ]
    },
    {
      "cell_type": "markdown",
      "metadata": {
        "id": "WIBUPv2miVVH"
      },
      "source": [
        "#### (2) 3 * 3 단위행렬"
      ]
    },
    {
      "cell_type": "code",
      "metadata": {
        "colab": {
          "base_uri": "https://localhost:8080/"
        },
        "id": "vnCDVkE1iXfA",
        "outputId": "da195991-6391-4e7f-ddf3-5ae00afbe1ee"
      },
      "source": [
        "np.eye(3)"
      ],
      "execution_count": null,
      "outputs": [
        {
          "output_type": "execute_result",
          "data": {
            "text/plain": [
              "array([[1., 0., 0.],\n",
              "       [0., 1., 0.],\n",
              "       [0., 0., 1.]])"
            ]
          },
          "metadata": {
            "tags": []
          },
          "execution_count": 27
        }
      ]
    },
    {
      "cell_type": "markdown",
      "metadata": {
        "id": "EA_31mz6iZ4z"
      },
      "source": [
        "#### (3) 난수 Array 생성"
      ]
    },
    {
      "cell_type": "code",
      "metadata": {
        "colab": {
          "base_uri": "https://localhost:8080/"
        },
        "id": "HnwbMUi8icsq",
        "outputId": "4c0b551e-5ec5-4cd1-de9c-baea81767a87"
      },
      "source": [
        "# rand : 0~1 사이 무작위\n",
        "\n",
        "np.random.rand(3, 2, 2)"
      ],
      "execution_count": null,
      "outputs": [
        {
          "output_type": "execute_result",
          "data": {
            "text/plain": [
              "array([[[0.97162993, 0.57382965],\n",
              "        [0.46193608, 0.93605699]],\n",
              "\n",
              "       [[0.4472054 , 0.58161014],\n",
              "        [0.7829851 , 0.91393195]],\n",
              "\n",
              "       [[0.96208667, 0.97533405],\n",
              "        [0.92426734, 0.0459116 ]]])"
            ]
          },
          "metadata": {
            "tags": []
          },
          "execution_count": 28
        }
      ]
    },
    {
      "cell_type": "code",
      "metadata": {
        "colab": {
          "base_uri": "https://localhost:8080/"
        },
        "id": "CwOdYc0Wie0h",
        "outputId": "9ecd10c5-23ac-4a75-b2a9-5ff72ab2ec17"
      },
      "source": [
        "# randint : 복원추출함(겹침)\n",
        "np.random.randint(1, 45, size = (5, 6))"
      ],
      "execution_count": null,
      "outputs": [
        {
          "output_type": "execute_result",
          "data": {
            "text/plain": [
              "array([[40, 20, 18,  7,  3,  1],\n",
              "       [15,  3, 41, 24, 27, 31],\n",
              "       [31, 24, 43, 30, 34, 25],\n",
              "       [25, 43, 32, 10, 17, 14],\n",
              "       [17, 44, 31, 26, 34, 21]])"
            ]
          },
          "metadata": {
            "tags": []
          },
          "execution_count": 29
        }
      ]
    },
    {
      "cell_type": "code",
      "metadata": {
        "colab": {
          "base_uri": "https://localhost:8080/"
        },
        "id": "hBggCucPivO_",
        "outputId": "bc2ac14c-e220-45dd-bfdd-09d18bc2a301"
      },
      "source": [
        "np.random.seed(2045) # 실험의 복원\n",
        "\n",
        "# random.choice replace=False(비복원추출)를 사용하면 겹치지 않음\n",
        "\n",
        "np.random.choice(np.arange(1, 46), size = (5, 6), replace=False)"
      ],
      "execution_count": null,
      "outputs": [
        {
          "output_type": "execute_result",
          "data": {
            "text/plain": [
              "array([[ 7, 32,  6, 41,  4, 34],\n",
              "       [30, 28, 16,  5, 38, 33],\n",
              "       [31, 13, 25, 23, 43, 12],\n",
              "       [45,  8, 29, 22, 18,  9],\n",
              "       [21, 20, 40,  2, 37, 39]])"
            ]
          },
          "metadata": {
            "tags": []
          },
          "execution_count": 30
        }
      ]
    },
    {
      "cell_type": "markdown",
      "metadata": {
        "id": "z6vfaOndi8ql"
      },
      "source": [
        "### 6) Array 연산"
      ]
    },
    {
      "cell_type": "code",
      "metadata": {
        "id": "Sno0vKlGi_tp"
      },
      "source": [
        "a1 = np.array([1, 3, 5, 7, 9])\n",
        "a2 = np.array([10, 30, 50, 70, 90])"
      ],
      "execution_count": null,
      "outputs": []
    },
    {
      "cell_type": "markdown",
      "metadata": {
        "id": "Xyv34EtcjGRM"
      },
      "source": [
        "#### (1) 기본연산"
      ]
    },
    {
      "cell_type": "code",
      "metadata": {
        "colab": {
          "base_uri": "https://localhost:8080/"
        },
        "id": "YD4LpO3mjIWJ",
        "outputId": "b0e3d3ca-9b80-489c-b959-3f060b26b202"
      },
      "source": [
        "a1 + a2"
      ],
      "execution_count": null,
      "outputs": [
        {
          "output_type": "execute_result",
          "data": {
            "text/plain": [
              "array([11, 33, 55, 77, 99])"
            ]
          },
          "metadata": {
            "tags": []
          },
          "execution_count": 32
        }
      ]
    },
    {
      "cell_type": "code",
      "metadata": {
        "colab": {
          "base_uri": "https://localhost:8080/"
        },
        "id": "5j_FLtO7jFVh",
        "outputId": "4c04a5fc-8af6-42c9-e9b2-76e6581dab9f"
      },
      "source": [
        "a2 - a1"
      ],
      "execution_count": null,
      "outputs": [
        {
          "output_type": "execute_result",
          "data": {
            "text/plain": [
              "array([ 9, 27, 45, 63, 81])"
            ]
          },
          "metadata": {
            "tags": []
          },
          "execution_count": 33
        }
      ]
    },
    {
      "cell_type": "code",
      "metadata": {
        "colab": {
          "base_uri": "https://localhost:8080/"
        },
        "id": "6If2n5l8i7fT",
        "outputId": "79ea68db-a676-4d5e-bd2a-e05c6f1764e6"
      },
      "source": [
        "a1 * a2"
      ],
      "execution_count": null,
      "outputs": [
        {
          "output_type": "execute_result",
          "data": {
            "text/plain": [
              "array([ 10,  90, 250, 490, 810])"
            ]
          },
          "metadata": {
            "tags": []
          },
          "execution_count": 34
        }
      ]
    },
    {
      "cell_type": "code",
      "metadata": {
        "colab": {
          "base_uri": "https://localhost:8080/"
        },
        "id": "pLWmKwHEiY36",
        "outputId": "5d7f3b27-74c8-4757-c164-d08da6b2e4a2"
      },
      "source": [
        "a2 / a1"
      ],
      "execution_count": null,
      "outputs": [
        {
          "output_type": "execute_result",
          "data": {
            "text/plain": [
              "array([10., 10., 10., 10., 10.])"
            ]
          },
          "metadata": {
            "tags": []
          },
          "execution_count": 35
        }
      ]
    },
    {
      "cell_type": "code",
      "metadata": {
        "colab": {
          "base_uri": "https://localhost:8080/"
        },
        "id": "ztQ3WjQOjRcm",
        "outputId": "b55bd618-d25c-4e3f-8d24-9d792f82d9ce"
      },
      "source": [
        "a1 ** 2 # 브로드캐스트 연산"
      ],
      "execution_count": null,
      "outputs": [
        {
          "output_type": "execute_result",
          "data": {
            "text/plain": [
              "array([ 1,  9, 25, 49, 81])"
            ]
          },
          "metadata": {
            "tags": []
          },
          "execution_count": 36
        }
      ]
    },
    {
      "cell_type": "markdown",
      "metadata": {
        "id": "6A-dmeqyjRD-"
      },
      "source": [
        "#### (2) 통계량 연산\n",
        "- 총합"
      ]
    },
    {
      "cell_type": "code",
      "metadata": {
        "colab": {
          "base_uri": "https://localhost:8080/"
        },
        "id": "y_IVnKKGjXaL",
        "outputId": "7ff0bccd-2769-4e4e-dbd5-136eda874b72"
      },
      "source": [
        "a1.sum()"
      ],
      "execution_count": null,
      "outputs": [
        {
          "output_type": "execute_result",
          "data": {
            "text/plain": [
              "25"
            ]
          },
          "metadata": {
            "tags": []
          },
          "execution_count": 37
        }
      ]
    },
    {
      "cell_type": "markdown",
      "metadata": {
        "id": "lS0S6KtXjakG"
      },
      "source": [
        "- 평균"
      ]
    },
    {
      "cell_type": "code",
      "metadata": {
        "colab": {
          "base_uri": "https://localhost:8080/"
        },
        "id": "sAyR9Dj_jcE7",
        "outputId": "9a3453c3-3342-4939-eddc-aa0dbdfcd767"
      },
      "source": [
        "a2.mean()"
      ],
      "execution_count": null,
      "outputs": [
        {
          "output_type": "execute_result",
          "data": {
            "text/plain": [
              "50.0"
            ]
          },
          "metadata": {
            "tags": []
          },
          "execution_count": 38
        }
      ]
    },
    {
      "cell_type": "markdown",
      "metadata": {
        "id": "k_qCc3EZjee4"
      },
      "source": [
        "- 표준편차"
      ]
    },
    {
      "cell_type": "code",
      "metadata": {
        "colab": {
          "base_uri": "https://localhost:8080/"
        },
        "id": "GlJ0zQzzjfxN",
        "outputId": "38d01963-4e5c-4a8e-bb0c-1a5486441c7d"
      },
      "source": [
        "a2.std()"
      ],
      "execution_count": null,
      "outputs": [
        {
          "output_type": "execute_result",
          "data": {
            "text/plain": [
              "28.284271247461902"
            ]
          },
          "metadata": {
            "tags": []
          },
          "execution_count": 39
        }
      ]
    },
    {
      "cell_type": "markdown",
      "metadata": {
        "id": "5RG4huJejiNs"
      },
      "source": [
        "- 최소값"
      ]
    },
    {
      "cell_type": "code",
      "metadata": {
        "colab": {
          "base_uri": "https://localhost:8080/"
        },
        "id": "cC-SOlIYjj5P",
        "outputId": "a85daaab-5297-432c-fe41-d9bd2494fba9"
      },
      "source": [
        "a2.min()"
      ],
      "execution_count": null,
      "outputs": [
        {
          "output_type": "execute_result",
          "data": {
            "text/plain": [
              "10"
            ]
          },
          "metadata": {
            "tags": []
          },
          "execution_count": 40
        }
      ]
    },
    {
      "cell_type": "markdown",
      "metadata": {
        "id": "o1qVRlnTjnbn"
      },
      "source": [
        "- 최대값"
      ]
    },
    {
      "cell_type": "code",
      "metadata": {
        "colab": {
          "base_uri": "https://localhost:8080/"
        },
        "id": "wj2I33QkjpCO",
        "outputId": "856186d7-360d-4a7b-fb79-bd9b363bb46b"
      },
      "source": [
        "a2.max()"
      ],
      "execution_count": null,
      "outputs": [
        {
          "output_type": "execute_result",
          "data": {
            "text/plain": [
              "90"
            ]
          },
          "metadata": {
            "tags": []
          },
          "execution_count": 41
        }
      ]
    },
    {
      "cell_type": "markdown",
      "metadata": {
        "id": "daGArlN3jrWs"
      },
      "source": [
        "- 누적합(Cumulative)"
      ]
    },
    {
      "cell_type": "code",
      "metadata": {
        "colab": {
          "base_uri": "https://localhost:8080/"
        },
        "id": "pv56QOyQjmpT",
        "outputId": "18ff3b55-3166-4629-b675-a71e4c5b0082"
      },
      "source": [
        "a1.cumsum()"
      ],
      "execution_count": null,
      "outputs": [
        {
          "output_type": "execute_result",
          "data": {
            "text/plain": [
              "array([ 1,  4,  9, 16, 25])"
            ]
          },
          "metadata": {
            "tags": []
          },
          "execution_count": 42
        }
      ]
    },
    {
      "cell_type": "markdown",
      "metadata": {
        "id": "Z0MwA9vvjwRP"
      },
      "source": [
        "- 누적곱(Cumulative)"
      ]
    },
    {
      "cell_type": "code",
      "metadata": {
        "colab": {
          "base_uri": "https://localhost:8080/"
        },
        "id": "UdkT3eZ4jhAw",
        "outputId": "dc605103-c191-4ecc-a4c2-fe09b4bd8d96"
      },
      "source": [
        "a1.cumprod()"
      ],
      "execution_count": null,
      "outputs": [
        {
          "output_type": "execute_result",
          "data": {
            "text/plain": [
              "array([  1,   3,  15, 105, 945])"
            ]
          },
          "metadata": {
            "tags": []
          },
          "execution_count": 43
        }
      ]
    },
    {
      "cell_type": "markdown",
      "metadata": {
        "id": "yCHogwoqj3K2"
      },
      "source": [
        "### 7) Matrix 연산\n",
        "- A1, A2지정"
      ]
    },
    {
      "cell_type": "code",
      "metadata": {
        "colab": {
          "base_uri": "https://localhost:8080/"
        },
        "id": "yEfxEAscjdrC",
        "outputId": "ccb58de0-d9bb-40f7-e725-2dbdb29f848e"
      },
      "source": [
        "A1 = np.array([2,4,6,8]).reshape(2,2)\n",
        "print(A1)"
      ],
      "execution_count": null,
      "outputs": [
        {
          "output_type": "stream",
          "text": [
            "[[2 4]\n",
            " [6 8]]\n"
          ],
          "name": "stdout"
        }
      ]
    },
    {
      "cell_type": "code",
      "metadata": {
        "colab": {
          "base_uri": "https://localhost:8080/"
        },
        "id": "exSAHGnXjZJ_",
        "outputId": "11a4bad1-15db-4089-f309-ce28dfade382"
      },
      "source": [
        "A2 = np.array([3,5,7,9]).reshape(2,2)\n",
        "print(A2)"
      ],
      "execution_count": null,
      "outputs": [
        {
          "output_type": "stream",
          "text": [
            "[[3 5]\n",
            " [7 9]]\n"
          ],
          "name": "stdout"
        }
      ]
    },
    {
      "cell_type": "markdown",
      "metadata": {
        "id": "okZ2HvF_kWYG"
      },
      "source": [
        "#### (1) Matrix 곱 - A1 @ A2\n",
        "- A1 @ A2"
      ]
    },
    {
      "cell_type": "code",
      "metadata": {
        "colab": {
          "base_uri": "https://localhost:8080/"
        },
        "id": "1iXk3mu3kbs5",
        "outputId": "909f4270-c869-4330-899f-13d744c3f470"
      },
      "source": [
        "A1.dot(A2)"
      ],
      "execution_count": null,
      "outputs": [
        {
          "output_type": "execute_result",
          "data": {
            "text/plain": [
              "array([[ 34,  46],\n",
              "       [ 74, 102]])"
            ]
          },
          "metadata": {
            "tags": []
          },
          "execution_count": 46
        }
      ]
    },
    {
      "cell_type": "markdown",
      "metadata": {
        "id": "Ma5nZJxSkfYe"
      },
      "source": [
        "- A2 @ A1"
      ]
    },
    {
      "cell_type": "code",
      "metadata": {
        "colab": {
          "base_uri": "https://localhost:8080/"
        },
        "id": "ybyxgWnQkhWB",
        "outputId": "11f37d19-b3ea-4c5e-8cd6-b4f6ef170772"
      },
      "source": [
        "np.dot(A2, A1)"
      ],
      "execution_count": null,
      "outputs": [
        {
          "output_type": "execute_result",
          "data": {
            "text/plain": [
              "array([[ 36,  52],\n",
              "       [ 68, 100]])"
            ]
          },
          "metadata": {
            "tags": []
          },
          "execution_count": 47
        }
      ]
    },
    {
      "cell_type": "markdown",
      "metadata": {
        "id": "hHQKtCaWkkgB"
      },
      "source": [
        "- Warning: A1 * A2"
      ]
    },
    {
      "cell_type": "code",
      "metadata": {
        "colab": {
          "base_uri": "https://localhost:8080/"
        },
        "id": "5UpZ8gITkm5H",
        "outputId": "85511b23-bcaa-413e-bc31-ec38accba09c"
      },
      "source": [
        "A1 * A2"
      ],
      "execution_count": null,
      "outputs": [
        {
          "output_type": "execute_result",
          "data": {
            "text/plain": [
              "array([[ 6, 20],\n",
              "       [42, 72]])"
            ]
          },
          "metadata": {
            "tags": []
          },
          "execution_count": 48
        }
      ]
    },
    {
      "cell_type": "markdown",
      "metadata": {
        "id": "Ai9oKjFbkpkn"
      },
      "source": [
        "#### (2) 전치행렬\n",
        "- A1의 전치행렬"
      ]
    },
    {
      "cell_type": "code",
      "metadata": {
        "colab": {
          "base_uri": "https://localhost:8080/"
        },
        "id": "n5Fqtg-PktZ0",
        "outputId": "7e0c4a71-ea55-42fb-8173-6e0929193f81"
      },
      "source": [
        "np.transpose(A1)"
      ],
      "execution_count": null,
      "outputs": [
        {
          "output_type": "execute_result",
          "data": {
            "text/plain": [
              "array([[2, 6],\n",
              "       [4, 8]])"
            ]
          },
          "metadata": {
            "tags": []
          },
          "execution_count": 49
        }
      ]
    },
    {
      "cell_type": "markdown",
      "metadata": {
        "id": "2KBuRIxykxWZ"
      },
      "source": [
        "- A2의 전치행렬"
      ]
    },
    {
      "cell_type": "code",
      "metadata": {
        "colab": {
          "base_uri": "https://localhost:8080/"
        },
        "id": "vqEdxF1Xkz6W",
        "outputId": "cdd02f03-1669-4fd7-d2dd-bbdaa45d6899"
      },
      "source": [
        "A2.transpose()"
      ],
      "execution_count": null,
      "outputs": [
        {
          "output_type": "execute_result",
          "data": {
            "text/plain": [
              "array([[3, 7],\n",
              "       [5, 9]])"
            ]
          },
          "metadata": {
            "tags": []
          },
          "execution_count": 50
        }
      ]
    },
    {
      "cell_type": "markdown",
      "metadata": {
        "id": "mIcbARFwhIff"
      },
      "source": [
        "### 2. pandas\n",
        "#### 1) File Upload to Colab\n",
        "- Colab 가상환경에 파일 올리기\n",
        "- Colab 종료시 파일은 삭제\n",
        "- Local_Disk to Colab_Linux_File_System\n",
        "- PII.csv & PII.xlsx\n",
        "- 업로드된 파일 확인"
      ]
    },
    {
      "cell_type": "code",
      "metadata": {
        "id": "4s_8e_ikk1kg",
        "colab": {
          "base_uri": "https://localhost:8080/"
        },
        "outputId": "b15b76ce-1ec1-4720-d2ef-f2f5b3552620"
      },
      "source": [
        "!ls -l"
      ],
      "execution_count": 1,
      "outputs": [
        {
          "output_type": "stream",
          "text": [
            "total 20\n",
            "-rw-r--r-- 1 root root   723 Feb 23 01:34 PII.csv\n",
            "-rw-r--r-- 1 root root 11370 Feb 23 01:34 PII.xlsx\n",
            "drwxr-xr-x 1 root root  4096 Feb 16 16:35 sample_data\n"
          ],
          "name": "stdout"
        }
      ]
    },
    {
      "cell_type": "markdown",
      "metadata": {
        "id": "1AbEUWqlhsnw"
      },
      "source": [
        "### 2) pandas - DataFrame\n",
        "#### (1) with PII.csv"
      ]
    },
    {
      "cell_type": "code",
      "metadata": {
        "id": "vZTRL8k8kwJ0"
      },
      "source": [
        "import pandas as pd"
      ],
      "execution_count": 2,
      "outputs": []
    },
    {
      "cell_type": "code",
      "metadata": {
        "id": "Iz8_WFBnh4L4"
      },
      "source": [
        "DF1 = pd.read_csv('PII.csv')"
      ],
      "execution_count": 3,
      "outputs": []
    },
    {
      "cell_type": "code",
      "metadata": {
        "colab": {
          "base_uri": "https://localhost:8080/",
          "height": 576
        },
        "id": "RSYlQ3V5h8OG",
        "outputId": "2a380ec3-ab65-40f8-fb50-889b4423f315"
      },
      "source": [
        "DF1"
      ],
      "execution_count": 4,
      "outputs": [
        {
          "output_type": "execute_result",
          "data": {
            "text/html": [
              "<div>\n",
              "<style scoped>\n",
              "    .dataframe tbody tr th:only-of-type {\n",
              "        vertical-align: middle;\n",
              "    }\n",
              "\n",
              "    .dataframe tbody tr th {\n",
              "        vertical-align: top;\n",
              "    }\n",
              "\n",
              "    .dataframe thead th {\n",
              "        text-align: right;\n",
              "    }\n",
              "</style>\n",
              "<table border=\"1\" class=\"dataframe\">\n",
              "  <thead>\n",
              "    <tr style=\"text-align: right;\">\n",
              "      <th></th>\n",
              "      <th>Name</th>\n",
              "      <th>Gender</th>\n",
              "      <th>Age</th>\n",
              "      <th>Grade</th>\n",
              "      <th>Picture</th>\n",
              "      <th>BloodType</th>\n",
              "      <th>Height</th>\n",
              "      <th>Weight</th>\n",
              "    </tr>\n",
              "  </thead>\n",
              "  <tbody>\n",
              "    <tr>\n",
              "      <th>0</th>\n",
              "      <td>송태섭</td>\n",
              "      <td>남자</td>\n",
              "      <td>21</td>\n",
              "      <td>3</td>\n",
              "      <td>무</td>\n",
              "      <td>B</td>\n",
              "      <td>179.1</td>\n",
              "      <td>63.9</td>\n",
              "    </tr>\n",
              "    <tr>\n",
              "      <th>1</th>\n",
              "      <td>최유정</td>\n",
              "      <td>여자</td>\n",
              "      <td>23</td>\n",
              "      <td>1</td>\n",
              "      <td>유</td>\n",
              "      <td>A</td>\n",
              "      <td>177.1</td>\n",
              "      <td>54.9</td>\n",
              "    </tr>\n",
              "    <tr>\n",
              "      <th>2</th>\n",
              "      <td>이한나</td>\n",
              "      <td>여자</td>\n",
              "      <td>20</td>\n",
              "      <td>1</td>\n",
              "      <td>무</td>\n",
              "      <td>A</td>\n",
              "      <td>167.9</td>\n",
              "      <td>50.2</td>\n",
              "    </tr>\n",
              "    <tr>\n",
              "      <th>3</th>\n",
              "      <td>김소혜</td>\n",
              "      <td>여자</td>\n",
              "      <td>23</td>\n",
              "      <td>3</td>\n",
              "      <td>무</td>\n",
              "      <td>O</td>\n",
              "      <td>176.1</td>\n",
              "      <td>53.5</td>\n",
              "    </tr>\n",
              "    <tr>\n",
              "      <th>4</th>\n",
              "      <td>서태웅</td>\n",
              "      <td>남자</td>\n",
              "      <td>24</td>\n",
              "      <td>4</td>\n",
              "      <td>무</td>\n",
              "      <td>B</td>\n",
              "      <td>176.1</td>\n",
              "      <td>79.8</td>\n",
              "    </tr>\n",
              "    <tr>\n",
              "      <th>5</th>\n",
              "      <td>정대만</td>\n",
              "      <td>남자</td>\n",
              "      <td>24</td>\n",
              "      <td>2</td>\n",
              "      <td>유</td>\n",
              "      <td>B</td>\n",
              "      <td>175.2</td>\n",
              "      <td>61.7</td>\n",
              "    </tr>\n",
              "    <tr>\n",
              "      <th>6</th>\n",
              "      <td>이정환</td>\n",
              "      <td>남자</td>\n",
              "      <td>22</td>\n",
              "      <td>4</td>\n",
              "      <td>무</td>\n",
              "      <td>B</td>\n",
              "      <td>169.1</td>\n",
              "      <td>69.8</td>\n",
              "    </tr>\n",
              "    <tr>\n",
              "      <th>7</th>\n",
              "      <td>채소연</td>\n",
              "      <td>여자</td>\n",
              "      <td>22</td>\n",
              "      <td>2</td>\n",
              "      <td>유</td>\n",
              "      <td>AB</td>\n",
              "      <td>169.9</td>\n",
              "      <td>52.7</td>\n",
              "    </tr>\n",
              "    <tr>\n",
              "      <th>8</th>\n",
              "      <td>강백호</td>\n",
              "      <td>남자</td>\n",
              "      <td>23</td>\n",
              "      <td>3</td>\n",
              "      <td>무</td>\n",
              "      <td>O</td>\n",
              "      <td>165.5</td>\n",
              "      <td>68.5</td>\n",
              "    </tr>\n",
              "    <tr>\n",
              "      <th>9</th>\n",
              "      <td>전소미</td>\n",
              "      <td>여자</td>\n",
              "      <td>22</td>\n",
              "      <td>2</td>\n",
              "      <td>유</td>\n",
              "      <td>O</td>\n",
              "      <td>161.9</td>\n",
              "      <td>52.3</td>\n",
              "    </tr>\n",
              "    <tr>\n",
              "      <th>10</th>\n",
              "      <td>변덕규</td>\n",
              "      <td>남자</td>\n",
              "      <td>21</td>\n",
              "      <td>1</td>\n",
              "      <td>무</td>\n",
              "      <td>A</td>\n",
              "      <td>163.2</td>\n",
              "      <td>55.5</td>\n",
              "    </tr>\n",
              "    <tr>\n",
              "      <th>11</th>\n",
              "      <td>정채연</td>\n",
              "      <td>여자</td>\n",
              "      <td>22</td>\n",
              "      <td>2</td>\n",
              "      <td>무</td>\n",
              "      <td>B</td>\n",
              "      <td>157.8</td>\n",
              "      <td>44.9</td>\n",
              "    </tr>\n",
              "    <tr>\n",
              "      <th>12</th>\n",
              "      <td>권준호</td>\n",
              "      <td>남자</td>\n",
              "      <td>24</td>\n",
              "      <td>4</td>\n",
              "      <td>유</td>\n",
              "      <td>O</td>\n",
              "      <td>166.9</td>\n",
              "      <td>61.7</td>\n",
              "    </tr>\n",
              "    <tr>\n",
              "      <th>13</th>\n",
              "      <td>채치수</td>\n",
              "      <td>남자</td>\n",
              "      <td>23</td>\n",
              "      <td>3</td>\n",
              "      <td>무</td>\n",
              "      <td>AB</td>\n",
              "      <td>181.8</td>\n",
              "      <td>85.9</td>\n",
              "    </tr>\n",
              "    <tr>\n",
              "      <th>14</th>\n",
              "      <td>윤대협</td>\n",
              "      <td>남자</td>\n",
              "      <td>22</td>\n",
              "      <td>2</td>\n",
              "      <td>유</td>\n",
              "      <td>AB</td>\n",
              "      <td>180.3</td>\n",
              "      <td>76.2</td>\n",
              "    </tr>\n",
              "    <tr>\n",
              "      <th>15</th>\n",
              "      <td>김세정</td>\n",
              "      <td>여자</td>\n",
              "      <td>21</td>\n",
              "      <td>1</td>\n",
              "      <td>무</td>\n",
              "      <td>O</td>\n",
              "      <td>155.5</td>\n",
              "      <td>44.9</td>\n",
              "    </tr>\n",
              "    <tr>\n",
              "      <th>16</th>\n",
              "      <td>신준섭</td>\n",
              "      <td>남자</td>\n",
              "      <td>23</td>\n",
              "      <td>1</td>\n",
              "      <td>무</td>\n",
              "      <td>A</td>\n",
              "      <td>168.9</td>\n",
              "      <td>62.7</td>\n",
              "    </tr>\n",
              "  </tbody>\n",
              "</table>\n",
              "</div>"
            ],
            "text/plain": [
              "   Name Gender  Age  Grade Picture BloodType  Height  Weight\n",
              "0   송태섭     남자   21      3       무         B   179.1    63.9\n",
              "1   최유정     여자   23      1       유         A   177.1    54.9\n",
              "2   이한나     여자   20      1       무         A   167.9    50.2\n",
              "3   김소혜     여자   23      3       무         O   176.1    53.5\n",
              "4   서태웅     남자   24      4       무         B   176.1    79.8\n",
              "5   정대만     남자   24      2       유         B   175.2    61.7\n",
              "6   이정환     남자   22      4       무         B   169.1    69.8\n",
              "7   채소연     여자   22      2       유        AB   169.9    52.7\n",
              "8   강백호     남자   23      3       무         O   165.5    68.5\n",
              "9   전소미     여자   22      2       유         O   161.9    52.3\n",
              "10  변덕규     남자   21      1       무         A   163.2    55.5\n",
              "11  정채연     여자   22      2       무         B   157.8    44.9\n",
              "12  권준호     남자   24      4       유         O   166.9    61.7\n",
              "13  채치수     남자   23      3       무        AB   181.8    85.9\n",
              "14  윤대협     남자   22      2       유        AB   180.3    76.2\n",
              "15  김세정     여자   21      1       무         O   155.5    44.9\n",
              "16  신준섭     남자   23      1       무         A   168.9    62.7"
            ]
          },
          "metadata": {
            "tags": []
          },
          "execution_count": 4
        }
      ]
    },
    {
      "cell_type": "markdown",
      "metadata": {
        "id": "Q1UjkzsNh-1H"
      },
      "source": [
        "#### (2) with PII.xlsx"
      ]
    },
    {
      "cell_type": "code",
      "metadata": {
        "id": "GwJk-0uIiBed"
      },
      "source": [
        "DF2 = pd.read_excel('PII.xlsx')"
      ],
      "execution_count": 5,
      "outputs": []
    },
    {
      "cell_type": "code",
      "metadata": {
        "colab": {
          "base_uri": "https://localhost:8080/",
          "height": 576
        },
        "id": "cOUGkvaiiEcv",
        "outputId": "28533eb8-ed22-4ef5-ee8f-e103fd43654c"
      },
      "source": [
        "DF2"
      ],
      "execution_count": 6,
      "outputs": [
        {
          "output_type": "execute_result",
          "data": {
            "text/html": [
              "<div>\n",
              "<style scoped>\n",
              "    .dataframe tbody tr th:only-of-type {\n",
              "        vertical-align: middle;\n",
              "    }\n",
              "\n",
              "    .dataframe tbody tr th {\n",
              "        vertical-align: top;\n",
              "    }\n",
              "\n",
              "    .dataframe thead th {\n",
              "        text-align: right;\n",
              "    }\n",
              "</style>\n",
              "<table border=\"1\" class=\"dataframe\">\n",
              "  <thead>\n",
              "    <tr style=\"text-align: right;\">\n",
              "      <th></th>\n",
              "      <th>Name</th>\n",
              "      <th>Gender</th>\n",
              "      <th>Age</th>\n",
              "      <th>Grade</th>\n",
              "      <th>Picture</th>\n",
              "      <th>BloodType</th>\n",
              "      <th>Height</th>\n",
              "      <th>Weight</th>\n",
              "    </tr>\n",
              "  </thead>\n",
              "  <tbody>\n",
              "    <tr>\n",
              "      <th>0</th>\n",
              "      <td>송태섭</td>\n",
              "      <td>남자</td>\n",
              "      <td>21</td>\n",
              "      <td>3</td>\n",
              "      <td>무</td>\n",
              "      <td>B</td>\n",
              "      <td>179.1</td>\n",
              "      <td>63.9</td>\n",
              "    </tr>\n",
              "    <tr>\n",
              "      <th>1</th>\n",
              "      <td>최유정</td>\n",
              "      <td>여자</td>\n",
              "      <td>23</td>\n",
              "      <td>1</td>\n",
              "      <td>유</td>\n",
              "      <td>A</td>\n",
              "      <td>177.1</td>\n",
              "      <td>54.9</td>\n",
              "    </tr>\n",
              "    <tr>\n",
              "      <th>2</th>\n",
              "      <td>이한나</td>\n",
              "      <td>여자</td>\n",
              "      <td>20</td>\n",
              "      <td>1</td>\n",
              "      <td>무</td>\n",
              "      <td>A</td>\n",
              "      <td>167.9</td>\n",
              "      <td>50.2</td>\n",
              "    </tr>\n",
              "    <tr>\n",
              "      <th>3</th>\n",
              "      <td>김소혜</td>\n",
              "      <td>여자</td>\n",
              "      <td>23</td>\n",
              "      <td>3</td>\n",
              "      <td>무</td>\n",
              "      <td>O</td>\n",
              "      <td>176.1</td>\n",
              "      <td>53.5</td>\n",
              "    </tr>\n",
              "    <tr>\n",
              "      <th>4</th>\n",
              "      <td>서태웅</td>\n",
              "      <td>남자</td>\n",
              "      <td>24</td>\n",
              "      <td>4</td>\n",
              "      <td>무</td>\n",
              "      <td>B</td>\n",
              "      <td>176.1</td>\n",
              "      <td>79.8</td>\n",
              "    </tr>\n",
              "    <tr>\n",
              "      <th>5</th>\n",
              "      <td>정대만</td>\n",
              "      <td>남자</td>\n",
              "      <td>24</td>\n",
              "      <td>2</td>\n",
              "      <td>유</td>\n",
              "      <td>B</td>\n",
              "      <td>175.2</td>\n",
              "      <td>61.7</td>\n",
              "    </tr>\n",
              "    <tr>\n",
              "      <th>6</th>\n",
              "      <td>이정환</td>\n",
              "      <td>남자</td>\n",
              "      <td>22</td>\n",
              "      <td>4</td>\n",
              "      <td>무</td>\n",
              "      <td>B</td>\n",
              "      <td>169.1</td>\n",
              "      <td>69.8</td>\n",
              "    </tr>\n",
              "    <tr>\n",
              "      <th>7</th>\n",
              "      <td>채소연</td>\n",
              "      <td>여자</td>\n",
              "      <td>22</td>\n",
              "      <td>2</td>\n",
              "      <td>유</td>\n",
              "      <td>AB</td>\n",
              "      <td>169.9</td>\n",
              "      <td>52.7</td>\n",
              "    </tr>\n",
              "    <tr>\n",
              "      <th>8</th>\n",
              "      <td>강백호</td>\n",
              "      <td>남자</td>\n",
              "      <td>23</td>\n",
              "      <td>3</td>\n",
              "      <td>무</td>\n",
              "      <td>O</td>\n",
              "      <td>165.5</td>\n",
              "      <td>68.5</td>\n",
              "    </tr>\n",
              "    <tr>\n",
              "      <th>9</th>\n",
              "      <td>전소미</td>\n",
              "      <td>여자</td>\n",
              "      <td>22</td>\n",
              "      <td>2</td>\n",
              "      <td>유</td>\n",
              "      <td>O</td>\n",
              "      <td>161.9</td>\n",
              "      <td>52.3</td>\n",
              "    </tr>\n",
              "    <tr>\n",
              "      <th>10</th>\n",
              "      <td>변덕규</td>\n",
              "      <td>남자</td>\n",
              "      <td>21</td>\n",
              "      <td>1</td>\n",
              "      <td>무</td>\n",
              "      <td>A</td>\n",
              "      <td>163.2</td>\n",
              "      <td>55.5</td>\n",
              "    </tr>\n",
              "    <tr>\n",
              "      <th>11</th>\n",
              "      <td>정채연</td>\n",
              "      <td>여자</td>\n",
              "      <td>22</td>\n",
              "      <td>2</td>\n",
              "      <td>무</td>\n",
              "      <td>B</td>\n",
              "      <td>157.8</td>\n",
              "      <td>44.9</td>\n",
              "    </tr>\n",
              "    <tr>\n",
              "      <th>12</th>\n",
              "      <td>권준호</td>\n",
              "      <td>남자</td>\n",
              "      <td>24</td>\n",
              "      <td>4</td>\n",
              "      <td>유</td>\n",
              "      <td>O</td>\n",
              "      <td>166.9</td>\n",
              "      <td>61.7</td>\n",
              "    </tr>\n",
              "    <tr>\n",
              "      <th>13</th>\n",
              "      <td>채치수</td>\n",
              "      <td>남자</td>\n",
              "      <td>23</td>\n",
              "      <td>3</td>\n",
              "      <td>무</td>\n",
              "      <td>AB</td>\n",
              "      <td>181.8</td>\n",
              "      <td>85.9</td>\n",
              "    </tr>\n",
              "    <tr>\n",
              "      <th>14</th>\n",
              "      <td>윤대협</td>\n",
              "      <td>남자</td>\n",
              "      <td>22</td>\n",
              "      <td>2</td>\n",
              "      <td>유</td>\n",
              "      <td>AB</td>\n",
              "      <td>180.3</td>\n",
              "      <td>76.2</td>\n",
              "    </tr>\n",
              "    <tr>\n",
              "      <th>15</th>\n",
              "      <td>김세정</td>\n",
              "      <td>여자</td>\n",
              "      <td>21</td>\n",
              "      <td>1</td>\n",
              "      <td>무</td>\n",
              "      <td>O</td>\n",
              "      <td>155.5</td>\n",
              "      <td>44.9</td>\n",
              "    </tr>\n",
              "    <tr>\n",
              "      <th>16</th>\n",
              "      <td>신준섭</td>\n",
              "      <td>남자</td>\n",
              "      <td>23</td>\n",
              "      <td>1</td>\n",
              "      <td>무</td>\n",
              "      <td>A</td>\n",
              "      <td>168.9</td>\n",
              "      <td>62.7</td>\n",
              "    </tr>\n",
              "  </tbody>\n",
              "</table>\n",
              "</div>"
            ],
            "text/plain": [
              "   Name Gender  Age  Grade Picture BloodType  Height  Weight\n",
              "0   송태섭     남자   21      3       무         B   179.1    63.9\n",
              "1   최유정     여자   23      1       유         A   177.1    54.9\n",
              "2   이한나     여자   20      1       무         A   167.9    50.2\n",
              "3   김소혜     여자   23      3       무         O   176.1    53.5\n",
              "4   서태웅     남자   24      4       무         B   176.1    79.8\n",
              "5   정대만     남자   24      2       유         B   175.2    61.7\n",
              "6   이정환     남자   22      4       무         B   169.1    69.8\n",
              "7   채소연     여자   22      2       유        AB   169.9    52.7\n",
              "8   강백호     남자   23      3       무         O   165.5    68.5\n",
              "9   전소미     여자   22      2       유         O   161.9    52.3\n",
              "10  변덕규     남자   21      1       무         A   163.2    55.5\n",
              "11  정채연     여자   22      2       무         B   157.8    44.9\n",
              "12  권준호     남자   24      4       유         O   166.9    61.7\n",
              "13  채치수     남자   23      3       무        AB   181.8    85.9\n",
              "14  윤대협     남자   22      2       유        AB   180.3    76.2\n",
              "15  김세정     여자   21      1       무         O   155.5    44.9\n",
              "16  신준섭     남자   23      1       무         A   168.9    62.7"
            ]
          },
          "metadata": {
            "tags": []
          },
          "execution_count": 6
        }
      ]
    },
    {
      "cell_type": "markdown",
      "metadata": {
        "id": "BzLDAO3_iGwQ"
      },
      "source": [
        "#### (3) Information"
      ]
    },
    {
      "cell_type": "code",
      "metadata": {
        "colab": {
          "base_uri": "https://localhost:8080/"
        },
        "id": "ZQ8L584yiIpd",
        "outputId": "78cb15b9-06f4-4b9f-9cf7-de1859865f51"
      },
      "source": [
        "type(DF1)"
      ],
      "execution_count": 7,
      "outputs": [
        {
          "output_type": "execute_result",
          "data": {
            "text/plain": [
              "pandas.core.frame.DataFrame"
            ]
          },
          "metadata": {
            "tags": []
          },
          "execution_count": 7
        }
      ]
    },
    {
      "cell_type": "code",
      "metadata": {
        "colab": {
          "base_uri": "https://localhost:8080/"
        },
        "id": "_pwd4Z-iiJ-r",
        "outputId": "f2fdb8c1-0d25-453d-cc9f-0aad30271e80"
      },
      "source": [
        "DF1.index"
      ],
      "execution_count": 8,
      "outputs": [
        {
          "output_type": "execute_result",
          "data": {
            "text/plain": [
              "RangeIndex(start=0, stop=17, step=1)"
            ]
          },
          "metadata": {
            "tags": []
          },
          "execution_count": 8
        }
      ]
    },
    {
      "cell_type": "code",
      "metadata": {
        "colab": {
          "base_uri": "https://localhost:8080/"
        },
        "id": "-oMjXk1siMLr",
        "outputId": "54b767c9-0b18-4a80-cb49-ca9017a1224c"
      },
      "source": [
        "DF1.columns"
      ],
      "execution_count": 11,
      "outputs": [
        {
          "output_type": "execute_result",
          "data": {
            "text/plain": [
              "Index(['Name', 'Gender', 'Age', 'Grade', 'Picture', 'BloodType', 'Height',\n",
              "       'Weight'],\n",
              "      dtype='object')"
            ]
          },
          "metadata": {
            "tags": []
          },
          "execution_count": 11
        }
      ]
    },
    {
      "cell_type": "code",
      "metadata": {
        "colab": {
          "base_uri": "https://localhost:8080/"
        },
        "id": "U03-8LbfiRCF",
        "outputId": "c125abe1-8ed5-46f7-d6c9-f008fcbec62d"
      },
      "source": [
        "DF1.values"
      ],
      "execution_count": 12,
      "outputs": [
        {
          "output_type": "execute_result",
          "data": {
            "text/plain": [
              "array([['송태섭', '남자', 21, 3, '무', 'B', 179.1, 63.9],\n",
              "       ['최유정', '여자', 23, 1, '유', 'A', 177.1, 54.9],\n",
              "       ['이한나', '여자', 20, 1, '무', 'A', 167.9, 50.2],\n",
              "       ['김소혜', '여자', 23, 3, '무', 'O', 176.1, 53.5],\n",
              "       ['서태웅', '남자', 24, 4, '무', 'B', 176.1, 79.8],\n",
              "       ['정대만', '남자', 24, 2, '유', 'B', 175.2, 61.7],\n",
              "       ['이정환', '남자', 22, 4, '무', 'B', 169.1, 69.8],\n",
              "       ['채소연', '여자', 22, 2, '유', 'AB', 169.9, 52.7],\n",
              "       ['강백호', '남자', 23, 3, '무', 'O', 165.5, 68.5],\n",
              "       ['전소미', '여자', 22, 2, '유', 'O', 161.9, 52.3],\n",
              "       ['변덕규', '남자', 21, 1, '무', 'A', 163.2, 55.5],\n",
              "       ['정채연', '여자', 22, 2, '무', 'B', 157.8, 44.9],\n",
              "       ['권준호', '남자', 24, 4, '유', 'O', 166.9, 61.7],\n",
              "       ['채치수', '남자', 23, 3, '무', 'AB', 181.8, 85.9],\n",
              "       ['윤대협', '남자', 22, 2, '유', 'AB', 180.3, 76.2],\n",
              "       ['김세정', '여자', 21, 1, '무', 'O', 155.5, 44.9],\n",
              "       ['신준섭', '남자', 23, 1, '무', 'A', 168.9, 62.7]], dtype=object)"
            ]
          },
          "metadata": {
            "tags": []
          },
          "execution_count": 12
        }
      ]
    },
    {
      "cell_type": "code",
      "metadata": {
        "colab": {
          "base_uri": "https://localhost:8080/"
        },
        "id": "NnHbHd9WiTPq",
        "outputId": "9cdae1f4-fa97-4b48-8e92-06f6ac1dc76f"
      },
      "source": [
        "DF1.info()"
      ],
      "execution_count": 13,
      "outputs": [
        {
          "output_type": "stream",
          "text": [
            "<class 'pandas.core.frame.DataFrame'>\n",
            "RangeIndex: 17 entries, 0 to 16\n",
            "Data columns (total 8 columns):\n",
            " #   Column     Non-Null Count  Dtype  \n",
            "---  ------     --------------  -----  \n",
            " 0   Name       17 non-null     object \n",
            " 1   Gender     17 non-null     object \n",
            " 2   Age        17 non-null     int64  \n",
            " 3   Grade      17 non-null     int64  \n",
            " 4   Picture    17 non-null     object \n",
            " 5   BloodType  17 non-null     object \n",
            " 6   Height     17 non-null     float64\n",
            " 7   Weight     17 non-null     float64\n",
            "dtypes: float64(2), int64(2), object(4)\n",
            "memory usage: 1.2+ KB\n"
          ],
          "name": "stdout"
        }
      ]
    },
    {
      "cell_type": "markdown",
      "metadata": {
        "id": "-5VJa2B_iXdG"
      },
      "source": [
        "#### (4) Function"
      ]
    },
    {
      "cell_type": "code",
      "metadata": {
        "colab": {
          "base_uri": "https://localhost:8080/",
          "height": 204
        },
        "id": "2Hphk7-8iY6N",
        "outputId": "9f0f288a-3547-46e2-a4a8-32f6eeceb709"
      },
      "source": [
        "DF1.head()"
      ],
      "execution_count": 14,
      "outputs": [
        {
          "output_type": "execute_result",
          "data": {
            "text/html": [
              "<div>\n",
              "<style scoped>\n",
              "    .dataframe tbody tr th:only-of-type {\n",
              "        vertical-align: middle;\n",
              "    }\n",
              "\n",
              "    .dataframe tbody tr th {\n",
              "        vertical-align: top;\n",
              "    }\n",
              "\n",
              "    .dataframe thead th {\n",
              "        text-align: right;\n",
              "    }\n",
              "</style>\n",
              "<table border=\"1\" class=\"dataframe\">\n",
              "  <thead>\n",
              "    <tr style=\"text-align: right;\">\n",
              "      <th></th>\n",
              "      <th>Name</th>\n",
              "      <th>Gender</th>\n",
              "      <th>Age</th>\n",
              "      <th>Grade</th>\n",
              "      <th>Picture</th>\n",
              "      <th>BloodType</th>\n",
              "      <th>Height</th>\n",
              "      <th>Weight</th>\n",
              "    </tr>\n",
              "  </thead>\n",
              "  <tbody>\n",
              "    <tr>\n",
              "      <th>0</th>\n",
              "      <td>송태섭</td>\n",
              "      <td>남자</td>\n",
              "      <td>21</td>\n",
              "      <td>3</td>\n",
              "      <td>무</td>\n",
              "      <td>B</td>\n",
              "      <td>179.1</td>\n",
              "      <td>63.9</td>\n",
              "    </tr>\n",
              "    <tr>\n",
              "      <th>1</th>\n",
              "      <td>최유정</td>\n",
              "      <td>여자</td>\n",
              "      <td>23</td>\n",
              "      <td>1</td>\n",
              "      <td>유</td>\n",
              "      <td>A</td>\n",
              "      <td>177.1</td>\n",
              "      <td>54.9</td>\n",
              "    </tr>\n",
              "    <tr>\n",
              "      <th>2</th>\n",
              "      <td>이한나</td>\n",
              "      <td>여자</td>\n",
              "      <td>20</td>\n",
              "      <td>1</td>\n",
              "      <td>무</td>\n",
              "      <td>A</td>\n",
              "      <td>167.9</td>\n",
              "      <td>50.2</td>\n",
              "    </tr>\n",
              "    <tr>\n",
              "      <th>3</th>\n",
              "      <td>김소혜</td>\n",
              "      <td>여자</td>\n",
              "      <td>23</td>\n",
              "      <td>3</td>\n",
              "      <td>무</td>\n",
              "      <td>O</td>\n",
              "      <td>176.1</td>\n",
              "      <td>53.5</td>\n",
              "    </tr>\n",
              "    <tr>\n",
              "      <th>4</th>\n",
              "      <td>서태웅</td>\n",
              "      <td>남자</td>\n",
              "      <td>24</td>\n",
              "      <td>4</td>\n",
              "      <td>무</td>\n",
              "      <td>B</td>\n",
              "      <td>176.1</td>\n",
              "      <td>79.8</td>\n",
              "    </tr>\n",
              "  </tbody>\n",
              "</table>\n",
              "</div>"
            ],
            "text/plain": [
              "  Name Gender  Age  Grade Picture BloodType  Height  Weight\n",
              "0  송태섭     남자   21      3       무         B   179.1    63.9\n",
              "1  최유정     여자   23      1       유         A   177.1    54.9\n",
              "2  이한나     여자   20      1       무         A   167.9    50.2\n",
              "3  김소혜     여자   23      3       무         O   176.1    53.5\n",
              "4  서태웅     남자   24      4       무         B   176.1    79.8"
            ]
          },
          "metadata": {
            "tags": []
          },
          "execution_count": 14
        }
      ]
    },
    {
      "cell_type": "code",
      "metadata": {
        "colab": {
          "base_uri": "https://localhost:8080/",
          "height": 204
        },
        "id": "qvfePtQliaGL",
        "outputId": "608dc1bf-f855-49bd-96c6-58b714340aa6"
      },
      "source": [
        "DF1[0:5]"
      ],
      "execution_count": 15,
      "outputs": [
        {
          "output_type": "execute_result",
          "data": {
            "text/html": [
              "<div>\n",
              "<style scoped>\n",
              "    .dataframe tbody tr th:only-of-type {\n",
              "        vertical-align: middle;\n",
              "    }\n",
              "\n",
              "    .dataframe tbody tr th {\n",
              "        vertical-align: top;\n",
              "    }\n",
              "\n",
              "    .dataframe thead th {\n",
              "        text-align: right;\n",
              "    }\n",
              "</style>\n",
              "<table border=\"1\" class=\"dataframe\">\n",
              "  <thead>\n",
              "    <tr style=\"text-align: right;\">\n",
              "      <th></th>\n",
              "      <th>Name</th>\n",
              "      <th>Gender</th>\n",
              "      <th>Age</th>\n",
              "      <th>Grade</th>\n",
              "      <th>Picture</th>\n",
              "      <th>BloodType</th>\n",
              "      <th>Height</th>\n",
              "      <th>Weight</th>\n",
              "    </tr>\n",
              "  </thead>\n",
              "  <tbody>\n",
              "    <tr>\n",
              "      <th>0</th>\n",
              "      <td>송태섭</td>\n",
              "      <td>남자</td>\n",
              "      <td>21</td>\n",
              "      <td>3</td>\n",
              "      <td>무</td>\n",
              "      <td>B</td>\n",
              "      <td>179.1</td>\n",
              "      <td>63.9</td>\n",
              "    </tr>\n",
              "    <tr>\n",
              "      <th>1</th>\n",
              "      <td>최유정</td>\n",
              "      <td>여자</td>\n",
              "      <td>23</td>\n",
              "      <td>1</td>\n",
              "      <td>유</td>\n",
              "      <td>A</td>\n",
              "      <td>177.1</td>\n",
              "      <td>54.9</td>\n",
              "    </tr>\n",
              "    <tr>\n",
              "      <th>2</th>\n",
              "      <td>이한나</td>\n",
              "      <td>여자</td>\n",
              "      <td>20</td>\n",
              "      <td>1</td>\n",
              "      <td>무</td>\n",
              "      <td>A</td>\n",
              "      <td>167.9</td>\n",
              "      <td>50.2</td>\n",
              "    </tr>\n",
              "    <tr>\n",
              "      <th>3</th>\n",
              "      <td>김소혜</td>\n",
              "      <td>여자</td>\n",
              "      <td>23</td>\n",
              "      <td>3</td>\n",
              "      <td>무</td>\n",
              "      <td>O</td>\n",
              "      <td>176.1</td>\n",
              "      <td>53.5</td>\n",
              "    </tr>\n",
              "    <tr>\n",
              "      <th>4</th>\n",
              "      <td>서태웅</td>\n",
              "      <td>남자</td>\n",
              "      <td>24</td>\n",
              "      <td>4</td>\n",
              "      <td>무</td>\n",
              "      <td>B</td>\n",
              "      <td>176.1</td>\n",
              "      <td>79.8</td>\n",
              "    </tr>\n",
              "  </tbody>\n",
              "</table>\n",
              "</div>"
            ],
            "text/plain": [
              "  Name Gender  Age  Grade Picture BloodType  Height  Weight\n",
              "0  송태섭     남자   21      3       무         B   179.1    63.9\n",
              "1  최유정     여자   23      1       유         A   177.1    54.9\n",
              "2  이한나     여자   20      1       무         A   167.9    50.2\n",
              "3  김소혜     여자   23      3       무         O   176.1    53.5\n",
              "4  서태웅     남자   24      4       무         B   176.1    79.8"
            ]
          },
          "metadata": {
            "tags": []
          },
          "execution_count": 15
        }
      ]
    },
    {
      "cell_type": "code",
      "metadata": {
        "colab": {
          "base_uri": "https://localhost:8080/",
          "height": 142
        },
        "id": "lKQu20mkicVy",
        "outputId": "ef33bc4a-a422-44cd-897d-2da591744359"
      },
      "source": [
        "DF1.tail(3)"
      ],
      "execution_count": 16,
      "outputs": [
        {
          "output_type": "execute_result",
          "data": {
            "text/html": [
              "<div>\n",
              "<style scoped>\n",
              "    .dataframe tbody tr th:only-of-type {\n",
              "        vertical-align: middle;\n",
              "    }\n",
              "\n",
              "    .dataframe tbody tr th {\n",
              "        vertical-align: top;\n",
              "    }\n",
              "\n",
              "    .dataframe thead th {\n",
              "        text-align: right;\n",
              "    }\n",
              "</style>\n",
              "<table border=\"1\" class=\"dataframe\">\n",
              "  <thead>\n",
              "    <tr style=\"text-align: right;\">\n",
              "      <th></th>\n",
              "      <th>Name</th>\n",
              "      <th>Gender</th>\n",
              "      <th>Age</th>\n",
              "      <th>Grade</th>\n",
              "      <th>Picture</th>\n",
              "      <th>BloodType</th>\n",
              "      <th>Height</th>\n",
              "      <th>Weight</th>\n",
              "    </tr>\n",
              "  </thead>\n",
              "  <tbody>\n",
              "    <tr>\n",
              "      <th>14</th>\n",
              "      <td>윤대협</td>\n",
              "      <td>남자</td>\n",
              "      <td>22</td>\n",
              "      <td>2</td>\n",
              "      <td>유</td>\n",
              "      <td>AB</td>\n",
              "      <td>180.3</td>\n",
              "      <td>76.2</td>\n",
              "    </tr>\n",
              "    <tr>\n",
              "      <th>15</th>\n",
              "      <td>김세정</td>\n",
              "      <td>여자</td>\n",
              "      <td>21</td>\n",
              "      <td>1</td>\n",
              "      <td>무</td>\n",
              "      <td>O</td>\n",
              "      <td>155.5</td>\n",
              "      <td>44.9</td>\n",
              "    </tr>\n",
              "    <tr>\n",
              "      <th>16</th>\n",
              "      <td>신준섭</td>\n",
              "      <td>남자</td>\n",
              "      <td>23</td>\n",
              "      <td>1</td>\n",
              "      <td>무</td>\n",
              "      <td>A</td>\n",
              "      <td>168.9</td>\n",
              "      <td>62.7</td>\n",
              "    </tr>\n",
              "  </tbody>\n",
              "</table>\n",
              "</div>"
            ],
            "text/plain": [
              "   Name Gender  Age  Grade Picture BloodType  Height  Weight\n",
              "14  윤대협     남자   22      2       유        AB   180.3    76.2\n",
              "15  김세정     여자   21      1       무         O   155.5    44.9\n",
              "16  신준섭     남자   23      1       무         A   168.9    62.7"
            ]
          },
          "metadata": {
            "tags": []
          },
          "execution_count": 16
        }
      ]
    },
    {
      "cell_type": "code",
      "metadata": {
        "colab": {
          "base_uri": "https://localhost:8080/",
          "height": 142
        },
        "id": "rVCl3fJIiesN",
        "outputId": "5726783f-aab9-4aa2-86f3-2cab97d0ad13"
      },
      "source": [
        "DF1[-3:]"
      ],
      "execution_count": 17,
      "outputs": [
        {
          "output_type": "execute_result",
          "data": {
            "text/html": [
              "<div>\n",
              "<style scoped>\n",
              "    .dataframe tbody tr th:only-of-type {\n",
              "        vertical-align: middle;\n",
              "    }\n",
              "\n",
              "    .dataframe tbody tr th {\n",
              "        vertical-align: top;\n",
              "    }\n",
              "\n",
              "    .dataframe thead th {\n",
              "        text-align: right;\n",
              "    }\n",
              "</style>\n",
              "<table border=\"1\" class=\"dataframe\">\n",
              "  <thead>\n",
              "    <tr style=\"text-align: right;\">\n",
              "      <th></th>\n",
              "      <th>Name</th>\n",
              "      <th>Gender</th>\n",
              "      <th>Age</th>\n",
              "      <th>Grade</th>\n",
              "      <th>Picture</th>\n",
              "      <th>BloodType</th>\n",
              "      <th>Height</th>\n",
              "      <th>Weight</th>\n",
              "    </tr>\n",
              "  </thead>\n",
              "  <tbody>\n",
              "    <tr>\n",
              "      <th>14</th>\n",
              "      <td>윤대협</td>\n",
              "      <td>남자</td>\n",
              "      <td>22</td>\n",
              "      <td>2</td>\n",
              "      <td>유</td>\n",
              "      <td>AB</td>\n",
              "      <td>180.3</td>\n",
              "      <td>76.2</td>\n",
              "    </tr>\n",
              "    <tr>\n",
              "      <th>15</th>\n",
              "      <td>김세정</td>\n",
              "      <td>여자</td>\n",
              "      <td>21</td>\n",
              "      <td>1</td>\n",
              "      <td>무</td>\n",
              "      <td>O</td>\n",
              "      <td>155.5</td>\n",
              "      <td>44.9</td>\n",
              "    </tr>\n",
              "    <tr>\n",
              "      <th>16</th>\n",
              "      <td>신준섭</td>\n",
              "      <td>남자</td>\n",
              "      <td>23</td>\n",
              "      <td>1</td>\n",
              "      <td>무</td>\n",
              "      <td>A</td>\n",
              "      <td>168.9</td>\n",
              "      <td>62.7</td>\n",
              "    </tr>\n",
              "  </tbody>\n",
              "</table>\n",
              "</div>"
            ],
            "text/plain": [
              "   Name Gender  Age  Grade Picture BloodType  Height  Weight\n",
              "14  윤대협     남자   22      2       유        AB   180.3    76.2\n",
              "15  김세정     여자   21      1       무         O   155.5    44.9\n",
              "16  신준섭     남자   23      1       무         A   168.9    62.7"
            ]
          },
          "metadata": {
            "tags": []
          },
          "execution_count": 17
        }
      ]
    },
    {
      "cell_type": "code",
      "metadata": {
        "colab": {
          "base_uri": "https://localhost:8080/",
          "height": 297
        },
        "id": "67Z44jgKihEF",
        "outputId": "d79ecdd6-74ce-4990-f80f-4e3e26e6cc91"
      },
      "source": [
        "DF1.describe()"
      ],
      "execution_count": 18,
      "outputs": [
        {
          "output_type": "execute_result",
          "data": {
            "text/html": [
              "<div>\n",
              "<style scoped>\n",
              "    .dataframe tbody tr th:only-of-type {\n",
              "        vertical-align: middle;\n",
              "    }\n",
              "\n",
              "    .dataframe tbody tr th {\n",
              "        vertical-align: top;\n",
              "    }\n",
              "\n",
              "    .dataframe thead th {\n",
              "        text-align: right;\n",
              "    }\n",
              "</style>\n",
              "<table border=\"1\" class=\"dataframe\">\n",
              "  <thead>\n",
              "    <tr style=\"text-align: right;\">\n",
              "      <th></th>\n",
              "      <th>Age</th>\n",
              "      <th>Grade</th>\n",
              "      <th>Height</th>\n",
              "      <th>Weight</th>\n",
              "    </tr>\n",
              "  </thead>\n",
              "  <tbody>\n",
              "    <tr>\n",
              "      <th>count</th>\n",
              "      <td>17.000000</td>\n",
              "      <td>17.000000</td>\n",
              "      <td>17.000000</td>\n",
              "      <td>17.000000</td>\n",
              "    </tr>\n",
              "    <tr>\n",
              "      <th>mean</th>\n",
              "      <td>22.352941</td>\n",
              "      <td>2.294118</td>\n",
              "      <td>170.135294</td>\n",
              "      <td>61.123529</td>\n",
              "    </tr>\n",
              "    <tr>\n",
              "      <th>std</th>\n",
              "      <td>1.169464</td>\n",
              "      <td>1.104802</td>\n",
              "      <td>7.853896</td>\n",
              "      <td>11.867894</td>\n",
              "    </tr>\n",
              "    <tr>\n",
              "      <th>min</th>\n",
              "      <td>20.000000</td>\n",
              "      <td>1.000000</td>\n",
              "      <td>155.500000</td>\n",
              "      <td>44.900000</td>\n",
              "    </tr>\n",
              "    <tr>\n",
              "      <th>25%</th>\n",
              "      <td>22.000000</td>\n",
              "      <td>1.000000</td>\n",
              "      <td>165.500000</td>\n",
              "      <td>52.700000</td>\n",
              "    </tr>\n",
              "    <tr>\n",
              "      <th>50%</th>\n",
              "      <td>22.000000</td>\n",
              "      <td>2.000000</td>\n",
              "      <td>169.100000</td>\n",
              "      <td>61.700000</td>\n",
              "    </tr>\n",
              "    <tr>\n",
              "      <th>75%</th>\n",
              "      <td>23.000000</td>\n",
              "      <td>3.000000</td>\n",
              "      <td>176.100000</td>\n",
              "      <td>68.500000</td>\n",
              "    </tr>\n",
              "    <tr>\n",
              "      <th>max</th>\n",
              "      <td>24.000000</td>\n",
              "      <td>4.000000</td>\n",
              "      <td>181.800000</td>\n",
              "      <td>85.900000</td>\n",
              "    </tr>\n",
              "  </tbody>\n",
              "</table>\n",
              "</div>"
            ],
            "text/plain": [
              "             Age      Grade      Height     Weight\n",
              "count  17.000000  17.000000   17.000000  17.000000\n",
              "mean   22.352941   2.294118  170.135294  61.123529\n",
              "std     1.169464   1.104802    7.853896  11.867894\n",
              "min    20.000000   1.000000  155.500000  44.900000\n",
              "25%    22.000000   1.000000  165.500000  52.700000\n",
              "50%    22.000000   2.000000  169.100000  61.700000\n",
              "75%    23.000000   3.000000  176.100000  68.500000\n",
              "max    24.000000   4.000000  181.800000  85.900000"
            ]
          },
          "metadata": {
            "tags": []
          },
          "execution_count": 18
        }
      ]
    },
    {
      "cell_type": "code",
      "metadata": {
        "colab": {
          "base_uri": "https://localhost:8080/"
        },
        "id": "Fz5WqZaTii0D",
        "outputId": "cbd0d41e-3f88-430e-805d-f27f7458518b"
      },
      "source": [
        "DF1.mean()"
      ],
      "execution_count": 19,
      "outputs": [
        {
          "output_type": "execute_result",
          "data": {
            "text/plain": [
              "Age        22.352941\n",
              "Grade       2.294118\n",
              "Height    170.135294\n",
              "Weight     61.123529\n",
              "dtype: float64"
            ]
          },
          "metadata": {
            "tags": []
          },
          "execution_count": 19
        }
      ]
    },
    {
      "cell_type": "markdown",
      "metadata": {
        "id": "mBUsb0x3inS6"
      },
      "source": [
        "### 3) pandas - Series\n",
        "#### (1) Information"
      ]
    },
    {
      "cell_type": "code",
      "metadata": {
        "colab": {
          "base_uri": "https://localhost:8080/"
        },
        "id": "-PEWw54Viuf3",
        "outputId": "95f45138-754b-4443-bc0b-6739eb9dc6ab"
      },
      "source": [
        "type(DF1['Height'])"
      ],
      "execution_count": 20,
      "outputs": [
        {
          "output_type": "execute_result",
          "data": {
            "text/plain": [
              "pandas.core.series.Series"
            ]
          },
          "metadata": {
            "tags": []
          },
          "execution_count": 20
        }
      ]
    },
    {
      "cell_type": "code",
      "metadata": {
        "colab": {
          "base_uri": "https://localhost:8080/",
          "height": 576
        },
        "id": "A19stQkhiwpE",
        "outputId": "97b0ca50-ebd6-4a5c-d9a7-17c397c041f7"
      },
      "source": [
        "DF1[['Height' , 'Age']]\n",
        "# 두개를 뽑을 때는 리스트에 넣어서 뽑는다\n",
        "# 시리즈 두개를 뽑아서 만들면 - 다시 데이터프레임"
      ],
      "execution_count": 21,
      "outputs": [
        {
          "output_type": "execute_result",
          "data": {
            "text/html": [
              "<div>\n",
              "<style scoped>\n",
              "    .dataframe tbody tr th:only-of-type {\n",
              "        vertical-align: middle;\n",
              "    }\n",
              "\n",
              "    .dataframe tbody tr th {\n",
              "        vertical-align: top;\n",
              "    }\n",
              "\n",
              "    .dataframe thead th {\n",
              "        text-align: right;\n",
              "    }\n",
              "</style>\n",
              "<table border=\"1\" class=\"dataframe\">\n",
              "  <thead>\n",
              "    <tr style=\"text-align: right;\">\n",
              "      <th></th>\n",
              "      <th>Height</th>\n",
              "      <th>Age</th>\n",
              "    </tr>\n",
              "  </thead>\n",
              "  <tbody>\n",
              "    <tr>\n",
              "      <th>0</th>\n",
              "      <td>179.1</td>\n",
              "      <td>21</td>\n",
              "    </tr>\n",
              "    <tr>\n",
              "      <th>1</th>\n",
              "      <td>177.1</td>\n",
              "      <td>23</td>\n",
              "    </tr>\n",
              "    <tr>\n",
              "      <th>2</th>\n",
              "      <td>167.9</td>\n",
              "      <td>20</td>\n",
              "    </tr>\n",
              "    <tr>\n",
              "      <th>3</th>\n",
              "      <td>176.1</td>\n",
              "      <td>23</td>\n",
              "    </tr>\n",
              "    <tr>\n",
              "      <th>4</th>\n",
              "      <td>176.1</td>\n",
              "      <td>24</td>\n",
              "    </tr>\n",
              "    <tr>\n",
              "      <th>5</th>\n",
              "      <td>175.2</td>\n",
              "      <td>24</td>\n",
              "    </tr>\n",
              "    <tr>\n",
              "      <th>6</th>\n",
              "      <td>169.1</td>\n",
              "      <td>22</td>\n",
              "    </tr>\n",
              "    <tr>\n",
              "      <th>7</th>\n",
              "      <td>169.9</td>\n",
              "      <td>22</td>\n",
              "    </tr>\n",
              "    <tr>\n",
              "      <th>8</th>\n",
              "      <td>165.5</td>\n",
              "      <td>23</td>\n",
              "    </tr>\n",
              "    <tr>\n",
              "      <th>9</th>\n",
              "      <td>161.9</td>\n",
              "      <td>22</td>\n",
              "    </tr>\n",
              "    <tr>\n",
              "      <th>10</th>\n",
              "      <td>163.2</td>\n",
              "      <td>21</td>\n",
              "    </tr>\n",
              "    <tr>\n",
              "      <th>11</th>\n",
              "      <td>157.8</td>\n",
              "      <td>22</td>\n",
              "    </tr>\n",
              "    <tr>\n",
              "      <th>12</th>\n",
              "      <td>166.9</td>\n",
              "      <td>24</td>\n",
              "    </tr>\n",
              "    <tr>\n",
              "      <th>13</th>\n",
              "      <td>181.8</td>\n",
              "      <td>23</td>\n",
              "    </tr>\n",
              "    <tr>\n",
              "      <th>14</th>\n",
              "      <td>180.3</td>\n",
              "      <td>22</td>\n",
              "    </tr>\n",
              "    <tr>\n",
              "      <th>15</th>\n",
              "      <td>155.5</td>\n",
              "      <td>21</td>\n",
              "    </tr>\n",
              "    <tr>\n",
              "      <th>16</th>\n",
              "      <td>168.9</td>\n",
              "      <td>23</td>\n",
              "    </tr>\n",
              "  </tbody>\n",
              "</table>\n",
              "</div>"
            ],
            "text/plain": [
              "    Height  Age\n",
              "0    179.1   21\n",
              "1    177.1   23\n",
              "2    167.9   20\n",
              "3    176.1   23\n",
              "4    176.1   24\n",
              "5    175.2   24\n",
              "6    169.1   22\n",
              "7    169.9   22\n",
              "8    165.5   23\n",
              "9    161.9   22\n",
              "10   163.2   21\n",
              "11   157.8   22\n",
              "12   166.9   24\n",
              "13   181.8   23\n",
              "14   180.3   22\n",
              "15   155.5   21\n",
              "16   168.9   23"
            ]
          },
          "metadata": {
            "tags": []
          },
          "execution_count": 21
        }
      ]
    },
    {
      "cell_type": "code",
      "metadata": {
        "colab": {
          "base_uri": "https://localhost:8080/"
        },
        "id": "1oEX8B7xi1nq",
        "outputId": "a5537e2d-c56d-4db1-e209-06546067367d"
      },
      "source": [
        "DF1.Height"
      ],
      "execution_count": 22,
      "outputs": [
        {
          "output_type": "execute_result",
          "data": {
            "text/plain": [
              "0     179.1\n",
              "1     177.1\n",
              "2     167.9\n",
              "3     176.1\n",
              "4     176.1\n",
              "5     175.2\n",
              "6     169.1\n",
              "7     169.9\n",
              "8     165.5\n",
              "9     161.9\n",
              "10    163.2\n",
              "11    157.8\n",
              "12    166.9\n",
              "13    181.8\n",
              "14    180.3\n",
              "15    155.5\n",
              "16    168.9\n",
              "Name: Height, dtype: float64"
            ]
          },
          "metadata": {
            "tags": []
          },
          "execution_count": 22
        }
      ]
    },
    {
      "cell_type": "markdown",
      "metadata": {
        "id": "LFLmN_xIi51C"
      },
      "source": [
        "####(2) Function"
      ]
    },
    {
      "cell_type": "code",
      "metadata": {
        "colab": {
          "base_uri": "https://localhost:8080/"
        },
        "id": "dsfydbogi7HV",
        "outputId": "3ae8705b-8614-4e36-b5d3-9e6b3296e12e"
      },
      "source": [
        "DF1['Height'].sum()"
      ],
      "execution_count": 23,
      "outputs": [
        {
          "output_type": "execute_result",
          "data": {
            "text/plain": [
              "2892.2999999999997"
            ]
          },
          "metadata": {
            "tags": []
          },
          "execution_count": 23
        }
      ]
    },
    {
      "cell_type": "code",
      "metadata": {
        "colab": {
          "base_uri": "https://localhost:8080/"
        },
        "id": "_z0tCc5Pi9I_",
        "outputId": "3462335e-cb5b-47d8-b1f1-87b6d5beab66"
      },
      "source": [
        "DF1['Height'].mean()"
      ],
      "execution_count": 24,
      "outputs": [
        {
          "output_type": "execute_result",
          "data": {
            "text/plain": [
              "170.1352941176471"
            ]
          },
          "metadata": {
            "tags": []
          },
          "execution_count": 24
        }
      ]
    },
    {
      "cell_type": "code",
      "metadata": {
        "colab": {
          "base_uri": "https://localhost:8080/"
        },
        "id": "q3xc2rz4i_LT",
        "outputId": "97292e8f-71b0-4abf-e620-911f5ce15e7e"
      },
      "source": [
        "DF1['Height'].var()"
      ],
      "execution_count": 25,
      "outputs": [
        {
          "output_type": "execute_result",
          "data": {
            "text/plain": [
              "61.683676470588225"
            ]
          },
          "metadata": {
            "tags": []
          },
          "execution_count": 25
        }
      ]
    },
    {
      "cell_type": "code",
      "metadata": {
        "colab": {
          "base_uri": "https://localhost:8080/"
        },
        "id": "3yhnt6v4jBdy",
        "outputId": "b5540bc9-28aa-47ff-f7fa-6fa28fb85afb"
      },
      "source": [
        "DF1['Height'].std()"
      ],
      "execution_count": 26,
      "outputs": [
        {
          "output_type": "execute_result",
          "data": {
            "text/plain": [
              "7.8538956238664275"
            ]
          },
          "metadata": {
            "tags": []
          },
          "execution_count": 26
        }
      ]
    },
    {
      "cell_type": "code",
      "metadata": {
        "colab": {
          "base_uri": "https://localhost:8080/"
        },
        "id": "kOnqbjM4jHZw",
        "outputId": "bc3fe663-e62e-4146-e0a4-93ebff2513c1"
      },
      "source": [
        "DF1['Height'].min()"
      ],
      "execution_count": 27,
      "outputs": [
        {
          "output_type": "execute_result",
          "data": {
            "text/plain": [
              "155.5"
            ]
          },
          "metadata": {
            "tags": []
          },
          "execution_count": 27
        }
      ]
    },
    {
      "cell_type": "code",
      "metadata": {
        "colab": {
          "base_uri": "https://localhost:8080/"
        },
        "id": "shtXEhPejLDz",
        "outputId": "1a5ff9dd-36f3-4659-d9d9-a3920c79bda3"
      },
      "source": [
        "DF1['Height'].max()"
      ],
      "execution_count": 28,
      "outputs": [
        {
          "output_type": "execute_result",
          "data": {
            "text/plain": [
              "181.8"
            ]
          },
          "metadata": {
            "tags": []
          },
          "execution_count": 28
        }
      ]
    },
    {
      "cell_type": "code",
      "metadata": {
        "colab": {
          "base_uri": "https://localhost:8080/",
          "height": 204
        },
        "id": "hyGLSniki4A6",
        "outputId": "c473a4c4-10ab-465e-f663-5992b35c6ba0"
      },
      "source": [
        "DF1.groupby(['BloodType']).mean()"
      ],
      "execution_count": 29,
      "outputs": [
        {
          "output_type": "execute_result",
          "data": {
            "text/html": [
              "<div>\n",
              "<style scoped>\n",
              "    .dataframe tbody tr th:only-of-type {\n",
              "        vertical-align: middle;\n",
              "    }\n",
              "\n",
              "    .dataframe tbody tr th {\n",
              "        vertical-align: top;\n",
              "    }\n",
              "\n",
              "    .dataframe thead th {\n",
              "        text-align: right;\n",
              "    }\n",
              "</style>\n",
              "<table border=\"1\" class=\"dataframe\">\n",
              "  <thead>\n",
              "    <tr style=\"text-align: right;\">\n",
              "      <th></th>\n",
              "      <th>Age</th>\n",
              "      <th>Grade</th>\n",
              "      <th>Height</th>\n",
              "      <th>Weight</th>\n",
              "    </tr>\n",
              "    <tr>\n",
              "      <th>BloodType</th>\n",
              "      <th></th>\n",
              "      <th></th>\n",
              "      <th></th>\n",
              "      <th></th>\n",
              "    </tr>\n",
              "  </thead>\n",
              "  <tbody>\n",
              "    <tr>\n",
              "      <th>A</th>\n",
              "      <td>21.750000</td>\n",
              "      <td>1.000000</td>\n",
              "      <td>169.275000</td>\n",
              "      <td>55.825</td>\n",
              "    </tr>\n",
              "    <tr>\n",
              "      <th>AB</th>\n",
              "      <td>22.333333</td>\n",
              "      <td>2.333333</td>\n",
              "      <td>177.333333</td>\n",
              "      <td>71.600</td>\n",
              "    </tr>\n",
              "    <tr>\n",
              "      <th>B</th>\n",
              "      <td>22.600000</td>\n",
              "      <td>3.000000</td>\n",
              "      <td>171.460000</td>\n",
              "      <td>64.020</td>\n",
              "    </tr>\n",
              "    <tr>\n",
              "      <th>O</th>\n",
              "      <td>22.600000</td>\n",
              "      <td>2.600000</td>\n",
              "      <td>165.180000</td>\n",
              "      <td>56.180</td>\n",
              "    </tr>\n",
              "  </tbody>\n",
              "</table>\n",
              "</div>"
            ],
            "text/plain": [
              "                 Age     Grade      Height  Weight\n",
              "BloodType                                         \n",
              "A          21.750000  1.000000  169.275000  55.825\n",
              "AB         22.333333  2.333333  177.333333  71.600\n",
              "B          22.600000  3.000000  171.460000  64.020\n",
              "O          22.600000  2.600000  165.180000  56.180"
            ]
          },
          "metadata": {
            "tags": []
          },
          "execution_count": 29
        }
      ]
    },
    {
      "cell_type": "code",
      "metadata": {
        "colab": {
          "base_uri": "https://localhost:8080/"
        },
        "id": "JTa4-NrTjUdu",
        "outputId": "bd0ec1a5-aa1f-4f4d-ca41-1b0f92cabc89"
      },
      "source": [
        "DF1.groupby(['BloodType'])['Height'].mean()"
      ],
      "execution_count": 32,
      "outputs": [
        {
          "output_type": "execute_result",
          "data": {
            "text/plain": [
              "BloodType\n",
              "A     169.275000\n",
              "AB    177.333333\n",
              "B     171.460000\n",
              "O     165.180000\n",
              "Name: Height, dtype: float64"
            ]
          },
          "metadata": {
            "tags": []
          },
          "execution_count": 32
        }
      ]
    },
    {
      "cell_type": "markdown",
      "metadata": {
        "id": "FO92CObOjiDc"
      },
      "source": [
        "#### (3) Indexing & Slicing"
      ]
    },
    {
      "cell_type": "code",
      "metadata": {
        "colab": {
          "base_uri": "https://localhost:8080/"
        },
        "id": "Gx4gRWXqjbHf",
        "outputId": "15bed6b6-4c8c-4c28-f715-eddcdb378b6f"
      },
      "source": [
        "DF1['Height'][16]"
      ],
      "execution_count": 33,
      "outputs": [
        {
          "output_type": "execute_result",
          "data": {
            "text/plain": [
              "168.9"
            ]
          },
          "metadata": {
            "tags": []
          },
          "execution_count": 33
        }
      ]
    },
    {
      "cell_type": "code",
      "metadata": {
        "colab": {
          "base_uri": "https://localhost:8080/"
        },
        "id": "iq63yhRWikie",
        "outputId": "c544b20d-d211-439e-c56b-3ee75e8ccb58"
      },
      "source": [
        "DF1['Height'][0:5]"
      ],
      "execution_count": 34,
      "outputs": [
        {
          "output_type": "execute_result",
          "data": {
            "text/plain": [
              "0    179.1\n",
              "1    177.1\n",
              "2    167.9\n",
              "3    176.1\n",
              "4    176.1\n",
              "Name: Height, dtype: float64"
            ]
          },
          "metadata": {
            "tags": []
          },
          "execution_count": 34
        }
      ]
    },
    {
      "cell_type": "markdown",
      "metadata": {
        "id": "gFJytVEajqhy"
      },
      "source": [
        "### 4) pandas - Visualization\n",
        "#### (1) 선그래프"
      ]
    },
    {
      "cell_type": "code",
      "metadata": {
        "colab": {
          "base_uri": "https://localhost:8080/",
          "height": 282
        },
        "id": "ijTj7tVYiVfR",
        "outputId": "ff776490-8713-433b-910a-3c172539ce7a"
      },
      "source": [
        "DF1['Height'].plot(kind='line' , grid = True)"
      ],
      "execution_count": 35,
      "outputs": [
        {
          "output_type": "execute_result",
          "data": {
            "text/plain": [
              "<matplotlib.axes._subplots.AxesSubplot at 0x7fc0d9622208>"
            ]
          },
          "metadata": {
            "tags": []
          },
          "execution_count": 35
        },
        {
          "output_type": "display_data",
          "data": {
            "image/png": "[encoded data removed]",
            "text/plain": [
              "<Figure size 432x288 with 1 Axes>"
            ]
          },
          "metadata": {
            "tags": [],
            "needs_background": "light"
          }
        }
      ]
    },
    {
      "cell_type": "markdown",
      "metadata": {
        "id": "AAU8m950j5ju"
      },
      "source": [
        "#### (2) 막대 그래프"
      ]
    },
    {
      "cell_type": "code",
      "metadata": {
        "colab": {
          "base_uri": "https://localhost:8080/",
          "height": 285
        },
        "id": "1rdV6guQiPma",
        "outputId": "64266d0a-a334-4ac1-b1e8-94b38a5af5c0"
      },
      "source": [
        "DF1[['Height' , 'Weight']].plot(kind = 'bar')"
      ],
      "execution_count": 36,
      "outputs": [
        {
          "output_type": "execute_result",
          "data": {
            "text/plain": [
              "<matplotlib.axes._subplots.AxesSubplot at 0x7fc0d95c9ac8>"
            ]
          },
          "metadata": {
            "tags": []
          },
          "execution_count": 36
        },
        {
          "output_type": "display_data",
          "data": {
            "image/png": "[encoded data removed]",
            "text/plain": [
              "<Figure size 432x288 with 1 Axes>"
            ]
          },
          "metadata": {
            "tags": [],
            "needs_background": "light"
          }
        }
      ]
    },
    {
      "cell_type": "markdown",
      "metadata": {
        "id": "s5PjM42YkDeP"
      },
      "source": [
        "#### (3) 히스토그램"
      ]
    },
    {
      "cell_type": "code",
      "metadata": {
        "colab": {
          "base_uri": "https://localhost:8080/",
          "height": 282
        },
        "id": "3KWYLC0hiOeu",
        "outputId": "77afe2c1-24c2-47a4-a23d-8bee70a56166"
      },
      "source": [
        "DF1['Height'].plot(kind = 'hist' , bins = 5 , alpha = 0.5)"
      ],
      "execution_count": 37,
      "outputs": [
        {
          "output_type": "execute_result",
          "data": {
            "text/plain": [
              "<matplotlib.axes._subplots.AxesSubplot at 0x7fc0d9023e10>"
            ]
          },
          "metadata": {
            "tags": []
          },
          "execution_count": 37
        },
        {
          "output_type": "display_data",
          "data": {
            "image/png": "[encoded data removed]",
            "text/plain": [
              "<Figure size 432x288 with 1 Axes>"
            ]
          },
          "metadata": {
            "tags": [],
            "needs_background": "light"
          }
        }
      ]
    },
    {
      "cell_type": "markdown",
      "metadata": {
        "id": "WtFpymsKkNkA"
      },
      "source": [
        "#### (4) 상자그래프"
      ]
    },
    {
      "cell_type": "code",
      "metadata": {
        "colab": {
          "base_uri": "https://localhost:8080/",
          "height": 282
        },
        "id": "zaXfkpIhiFK-",
        "outputId": "318e1f3e-30de-41f2-fe15-3e776f90ae3d"
      },
      "source": [
        "DF1['Height'].plot(kind = 'box')"
      ],
      "execution_count": 38,
      "outputs": [
        {
          "output_type": "execute_result",
          "data": {
            "text/plain": [
              "<matplotlib.axes._subplots.AxesSubplot at 0x7fc0d8f95d68>"
            ]
          },
          "metadata": {
            "tags": []
          },
          "execution_count": 38
        },
        {
          "output_type": "display_data",
          "data": {
            "image/png": "[encoded data removed]",
            "text/plain": [
              "<Figure size 432x288 with 1 Axes>"
            ]
          },
          "metadata": {
            "tags": [],
            "needs_background": "light"
          }
        }
      ]
    },
    {
      "cell_type": "markdown",
      "metadata": {
        "id": "oXClny5UkS7Y"
      },
      "source": [
        "#### (5) 산점도"
      ]
    },
    {
      "cell_type": "code",
      "metadata": {
        "colab": {
          "base_uri": "https://localhost:8080/",
          "height": 296
        },
        "id": "WqW0zqsLh9RU",
        "outputId": "a2d396c3-f2cc-4504-964d-1278e9d2eb34"
      },
      "source": [
        "DF1[['Height' , 'Weight']].plot(kind = 'scatter' ,\n",
        "                                x = 'Height' , y = 'Weight' ,\n",
        "                                s = 50)"
      ],
      "execution_count": 39,
      "outputs": [
        {
          "output_type": "execute_result",
          "data": {
            "text/plain": [
              "<matplotlib.axes._subplots.AxesSubplot at 0x7fc0d8f95588>"
            ]
          },
          "metadata": {
            "tags": []
          },
          "execution_count": 39
        },
        {
          "output_type": "display_data",
          "data": {
            "image/png": "[encoded data removed]",
            "text/plain": [
              "<Figure size 432x288 with 1 Axes>"
            ]
          },
          "metadata": {
            "tags": [],
            "needs_background": "light"
          }
        }
      ]
    },
    {
      "cell_type": "markdown",
      "metadata": {
        "id": "2muqd0bTkuQH"
      },
      "source": [
        "#### (6) 파이그래프"
      ]
    },
    {
      "cell_type": "code",
      "metadata": {
        "colab": {
          "base_uri": "https://localhost:8080/",
          "height": 265
        },
        "id": "neqABsNtk00-",
        "outputId": "c469bb7f-cadf-4e63-f6e1-23a495f8e505"
      },
      "source": [
        "DF1['BloodType'].value_counts().plot(kind = 'pie')"
      ],
      "execution_count": 40,
      "outputs": [
        {
          "output_type": "execute_result",
          "data": {
            "text/plain": [
              "<matplotlib.axes._subplots.AxesSubplot at 0x7fc0d8f7d5f8>"
            ]
          },
          "metadata": {
            "tags": []
          },
          "execution_count": 40
        },
        {
          "output_type": "display_data",
          "data": {
            "image/png": "[encoded data removed]",
            "text/plain": [
              "<Figure size 432x288 with 1 Axes>"
            ]
          },
          "metadata": {
            "tags": []
          }
        }
      ]
    },
    {
      "cell_type": "markdown",
      "metadata": {
        "id": "Ol9zPGsOk8cm"
      },
      "source": [
        "## 3. matplotlib"
      ]
    },
    {
      "cell_type": "code",
      "metadata": {
        "id": "x6QxgrRdk-0v"
      },
      "source": [
        "import pandas as pd\n",
        "import matplotlib.pyplot as plt"
      ],
      "execution_count": 41,
      "outputs": []
    },
    {
      "cell_type": "code",
      "metadata": {
        "id": "IJgNPdn4k6WA"
      },
      "source": [
        "DF1 = pd.read_csv('PII.csv')"
      ],
      "execution_count": 42,
      "outputs": []
    },
    {
      "cell_type": "markdown",
      "metadata": {
        "id": "pq_AJ6x3lHEu"
      },
      "source": [
        "### 1) 선그래프"
      ]
    },
    {
      "cell_type": "code",
      "metadata": {
        "colab": {
          "base_uri": "https://localhost:8080/",
          "height": 374
        },
        "id": "yx34eS2Zlg7q",
        "outputId": "0ee87bec-b645-41e8-d0d0-c8fae705cc51"
      },
      "source": [
        "plt.figure(figsize = (9,6))\n",
        "plt.plot(DF1.Height)\n",
        "plt.grid(True)\n",
        "plt.show()"
      ],
      "execution_count": 44,
      "outputs": [
        {
          "output_type": "display_data",
          "data": {
            "image/png": "[encoded data removed]",
            "text/plain": [
              "<Figure size 648x432 with 1 Axes>"
            ]
          },
          "metadata": {
            "tags": [],
            "needs_background": "light"
          }
        }
      ]
    },
    {
      "cell_type": "markdown",
      "metadata": {
        "id": "Zizhq_bXl7V1"
      },
      "source": [
        "### 2) 막대그래프"
      ]
    },
    {
      "cell_type": "code",
      "metadata": {
        "colab": {
          "base_uri": "https://localhost:8080/",
          "height": 265
        },
        "id": "28NAREjil98W",
        "outputId": "b7a8a196-721d-473e-f393-aa07d8d85f2f"
      },
      "source": [
        "plt.bar(DF1.index, DF1.Height, width = 0.3 , color = 'g')\n",
        "plt.show()"
      ],
      "execution_count": 45,
      "outputs": [
        {
          "output_type": "display_data",
          "data": {
            "image/png": "[encoded data removed]",
            "text/plain": [
              "<Figure size 432x288 with 1 Axes>"
            ]
          },
          "metadata": {
            "tags": [],
            "needs_background": "light"
          }
        }
      ]
    },
    {
      "cell_type": "markdown",
      "metadata": {
        "id": "I1NsKBD0mGex"
      },
      "source": [
        "### 3) 히스토그램"
      ]
    },
    {
      "cell_type": "code",
      "metadata": {
        "colab": {
          "base_uri": "https://localhost:8080/",
          "height": 265
        },
        "id": "g5XIxhv6mE6s",
        "outputId": "0334c0a7-0e47-432b-e61e-fa4dfc5259e9"
      },
      "source": [
        "plt.hist(DF1.Height, bins = 5, alpha = 0.5)\n",
        "plt.show()"
      ],
      "execution_count": 47,
      "outputs": [
        {
          "output_type": "display_data",
          "data": {
            "image/png": "[encoded data removed]",
            "text/plain": [
              "<Figure size 432x288 with 1 Axes>"
            ]
          },
          "metadata": {
            "tags": [],
            "needs_background": "light"
          }
        }
      ]
    },
    {
      "cell_type": "markdown",
      "metadata": {
        "id": "KrYFg_Y1mQOn"
      },
      "source": [
        "### 4) 상자그래프"
      ]
    },
    {
      "cell_type": "code",
      "metadata": {
        "colab": {
          "base_uri": "https://localhost:8080/",
          "height": 265
        },
        "id": "MWcU7IzTmOtf",
        "outputId": "d4b6c4f3-9922-45d1-8e00-1ed48329ebd6"
      },
      "source": [
        "plt.boxplot(DF1.Height)\n",
        "plt.show()"
      ],
      "execution_count": 48,
      "outputs": [
        {
          "output_type": "display_data",
          "data": {
            "image/png": "[encoded data removed]",
            "text/plain": [
              "<Figure size 432x288 with 1 Axes>"
            ]
          },
          "metadata": {
            "tags": [],
            "needs_background": "light"
          }
        }
      ]
    },
    {
      "cell_type": "markdown",
      "metadata": {
        "id": "7caqSgzhmV7t"
      },
      "source": [
        "### 5) 산점도"
      ]
    },
    {
      "cell_type": "code",
      "metadata": {
        "colab": {
          "base_uri": "https://localhost:8080/",
          "height": 265
        },
        "id": "WvXX3iDTmM-S",
        "outputId": "0f3a19ce-08f9-42a9-e00a-a6a489597b64"
      },
      "source": [
        "plt.scatter(DF1.Height, DF1.Weight, s = 50)\n",
        "plt.show()"
      ],
      "execution_count": 49,
      "outputs": [
        {
          "output_type": "display_data",
          "data": {
            "image/png": "[encoded data removed]",
            "text/plain": [
              "<Figure size 432x288 with 1 Axes>"
            ]
          },
          "metadata": {
            "tags": [],
            "needs_background": "light"
          }
        }
      ]
    },
    {
      "cell_type": "markdown",
      "metadata": {
        "id": "PgnruPaxmc0X"
      },
      "source": [
        "### 6) 파이그래프"
      ]
    },
    {
      "cell_type": "code",
      "metadata": {
        "colab": {
          "base_uri": "https://localhost:8080/",
          "height": 248
        },
        "id": "rtJ6zEqxlvPK",
        "outputId": "98b2e56c-a74c-454a-bb9a-6ef3c6c11c64"
      },
      "source": [
        "plt.pie(DF1.BloodType.value_counts(),\n",
        "        labels = DF1.BloodType.unique(),\n",
        "        autopct = '%.1f%%')\n",
        "plt.show()"
      ],
      "execution_count": 52,
      "outputs": [
        {
          "output_type": "display_data",
          "data": {
            "image/png": "[encoded data removed]",
            "text/plain": [
              "<Figure size 432x288 with 1 Axes>"
            ]
          },
          "metadata": {
            "tags": []
          }
        }
      ]
    },
    {
      "cell_type": "markdown",
      "metadata": {
        "id": "p5tuJWycmxf9"
      },
      "source": [
        "## 5. seaborn\n",
        "### 1) 회귀선 그리기"
      ]
    },
    {
      "cell_type": "code",
      "metadata": {
        "id": "hiwaun4slGWV"
      },
      "source": [
        "import matplotlib.pyplot as plt\n",
        "import seaborn as sns"
      ],
      "execution_count": 53,
      "outputs": []
    },
    {
      "cell_type": "code",
      "metadata": {
        "colab": {
          "base_uri": "https://localhost:8080/",
          "height": 279
        },
        "id": "Nql6vVxlh4RJ",
        "outputId": "0f72e496-12f4-4923-aa66-80e4910fc15b"
      },
      "source": [
        "sns.regplot(DF1.Height, DF1.Weight)\n",
        "plt.show()"
      ],
      "execution_count": 57,
      "outputs": [
        {
          "output_type": "display_data",
          "data": {
            "image/png": "[encoded data removed]",
            "text/plain": [
              "<Figure size 432x288 with 1 Axes>"
            ]
          },
          "metadata": {
            "tags": [],
            "needs_background": "light"
          }
        }
      ]
    },
    {
      "cell_type": "markdown",
      "metadata": {
        "id": "_2dVZ1oEm_xO"
      },
      "source": [
        "### 2) 선 그래프"
      ]
    },
    {
      "cell_type": "code",
      "metadata": {
        "id": "a5yvlHOJkop_",
        "colab": {
          "base_uri": "https://localhost:8080/",
          "height": 265
        },
        "outputId": "ed5ca819-fde8-4488-a27d-a269f049b9f8"
      },
      "source": [
        "sns.lineplot(DF1.index, DF1.Height)\n",
        "plt.show()"
      ],
      "execution_count": 58,
      "outputs": [
        {
          "output_type": "display_data",
          "data": {
            "image/png": "[encoded data removed]",
            "text/plain": [
              "<Figure size 432x288 with 1 Axes>"
            ]
          },
          "metadata": {
            "tags": [],
            "needs_background": "light"
          }
        }
      ]
    },
    {
      "cell_type": "markdown",
      "metadata": {
        "id": "bPewF4E8nIkg"
      },
      "source": [
        "### 3) 막대그래프 - 연속형"
      ]
    },
    {
      "cell_type": "code",
      "metadata": {
        "colab": {
          "base_uri": "https://localhost:8080/",
          "height": 265
        },
        "id": "ornzpd_8nPbF",
        "outputId": "64038176-ddce-46e1-c624-62eff6fae897"
      },
      "source": [
        "sns.barplot(x = DF1.index, y = DF1.Height)\n",
        "plt.show()"
      ],
      "execution_count": 59,
      "outputs": [
        {
          "output_type": "display_data",
          "data": {
            "image/png": "[encoded data removed]",
            "text/plain": [
              "<Figure size 432x288 with 1 Axes>"
            ]
          },
          "metadata": {
            "tags": [],
            "needs_background": "light"
          }
        }
      ]
    },
    {
      "cell_type": "markdown",
      "metadata": {
        "id": "XNuRh0ILnHr5"
      },
      "source": [
        "### 4) 막대그래프 - 명목형"
      ]
    },
    {
      "cell_type": "code",
      "metadata": {
        "id": "tZ_Mdjfekjsu",
        "colab": {
          "base_uri": "https://localhost:8080/",
          "height": 279
        },
        "outputId": "56182552-e7d5-463e-e304-bb49b87bda0d"
      },
      "source": [
        "sns.countplot(DF1.BloodType)\n",
        "plt.show()"
      ],
      "execution_count": 60,
      "outputs": [
        {
          "output_type": "display_data",
          "data": {
            "image/png": "[encoded data removed]",
            "text/plain": [
              "<Figure size 432x288 with 1 Axes>"
            ]
          },
          "metadata": {
            "tags": [],
            "needs_background": "light"
          }
        }
      ]
    },
    {
      "cell_type": "markdown",
      "metadata": {
        "id": "LitSZGcJnuT4"
      },
      "source": [
        "### 5) 히스토그램"
      ]
    },
    {
      "cell_type": "code",
      "metadata": {
        "id": "4m8Kf9K5kdLp",
        "colab": {
          "base_uri": "https://localhost:8080/",
          "height": 369
        },
        "outputId": "570e171a-7e42-49e3-ade2-6df8aa9d3f3d"
      },
      "source": [
        "sns.displot(DF1.Height)\n",
        "plt.show()"
      ],
      "execution_count": 61,
      "outputs": [
        {
          "output_type": "display_data",
          "data": {
            "image/png": "[encoded data removed]",
            "text/plain": [
              "<Figure size 360x360 with 1 Axes>"
            ]
          },
          "metadata": {
            "tags": [],
            "needs_background": "light"
          }
        }
      ]
    },
    {
      "cell_type": "markdown",
      "metadata": {
        "id": "i_RONah_n5na"
      },
      "source": [
        "### 6) 상자그래프"
      ]
    },
    {
      "cell_type": "code",
      "metadata": {
        "id": "iWn-Nl8Zhu8u",
        "colab": {
          "base_uri": "https://localhost:8080/",
          "height": 279
        },
        "outputId": "53896711-e02d-4ab7-add3-464d478240b6"
      },
      "source": [
        "sns.boxplot(y = DF1.Height, x = DF1.Grade)\n",
        "plt.show()"
      ],
      "execution_count": 62,
      "outputs": [
        {
          "output_type": "display_data",
          "data": {
            "image/png": "[encoded data removed]",
            "text/plain": [
              "<Figure size 432x288 with 1 Axes>"
            ]
          },
          "metadata": {
            "tags": [],
            "needs_background": "light"
          }
        }
      ]
    },
    {
      "cell_type": "markdown",
      "metadata": {
        "id": "xRyjdlbCoAgv"
      },
      "source": [
        "### 7) 산점도"
      ]
    },
    {
      "cell_type": "code",
      "metadata": {
        "id": "-Wt3NFnmXp2R",
        "colab": {
          "base_uri": "https://localhost:8080/",
          "height": 279
        },
        "outputId": "2e007caf-0816-4350-cb57-8f5e5648c1b8"
      },
      "source": [
        "sns.scatterplot(DF1.Height, DF1.Weight, s = 50)\n",
        "plt.show()"
      ],
      "execution_count": 63,
      "outputs": [
        {
          "output_type": "display_data",
          "data": {
            "image/png": "[encoded data removed]",
            "text/plain": [
              "<Figure size 432x288 with 1 Axes>"
            ]
          },
          "metadata": {
            "tags": [],
            "needs_background": "light"
          }
        }
      ]
    }
  ]
}